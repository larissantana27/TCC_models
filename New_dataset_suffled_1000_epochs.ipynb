{
 "cells": [
  {
   "cell_type": "markdown",
   "metadata": {
    "id": "_MKu1DQSbNw2"
   },
   "source": [
    "* Labels: All\n",
    "* Size: (28,28)\n",
    "* Data augmentation: YES (without generators and chances for caracteristics)\n",
    "* Model Layers: 2 conv2D (64,64), 2 dense layers and relu in all layers\n",
    "* Testing implemented\n",
    "* New Dataset"
   ]
  },
  {
   "cell_type": "markdown",
   "metadata": {
    "id": "xkjWKCKBkVtF"
   },
   "source": [
    "### Defining Dataset Path"
   ]
  },
  {
   "cell_type": "code",
   "execution_count": 1,
   "metadata": {},
   "outputs": [],
   "source": [
    "import os\n",
    "dataset_directory = 'D:\\\\.Dataset05032024 - TCC\\\\labels'\n",
    "os.makedirs(dataset_directory, exist_ok=True)\n",
    "os.chdir(dataset_directory)"
   ]
  },
  {
   "cell_type": "markdown",
   "metadata": {
    "id": "xkjWKCKBkVtF"
   },
   "source": [
    "### Loading Data into train, validation and teste folders"
   ]
  },
  {
   "cell_type": "code",
   "execution_count": 2,
   "metadata": {
    "id": "8wgbY4zSukxW"
   },
   "outputs": [],
   "source": [
    "from shutil import copyfile\n",
    "from sklearn.model_selection import train_test_split"
   ]
  },
  {
   "cell_type": "code",
   "execution_count": 12,
   "metadata": {
    "id": "0K9shcjBumpg"
   },
   "outputs": [],
   "source": [
    "train_directory = 'D:\\\\.Dataset05032024 - TCC\\\\result\\\\train'\n",
    "validation_directory = 'D:\\\\.Dataset05032024 - TCC\\\\result\\\\validate'\n",
    "test_directory = 'D:\\\\.Dataset05032024 - TCC\\\\result\\\\test'"
   ]
  },
  {
   "cell_type": "code",
   "execution_count": 4,
   "metadata": {
    "id": "Z7jhP_-Y7clt"
   },
   "outputs": [],
   "source": [
    "def load_data_into_train_validation_test(dataset_directory, train_directory, validation_directory, test_directory):\n",
    "    \n",
    "    # Lista de pastas de classe (uma pasta para cada classe de roupa)\n",
    "    class_folders = os.listdir(dataset_directory)\n",
    "    \n",
    "    # Porcentagem de imagens para validação e teste (10% para cada)\n",
    "    validation_percent = 0.17\n",
    "    test_percent = 0.14\n",
    "    \n",
    "    # Loop através de cada pasta de classe\n",
    "    for class_folder in class_folders:\n",
    "    \n",
    "        # Diretório completo da pasta de classe original\n",
    "        class_folder_path = os.path.join(dataset_directory, class_folder)\n",
    "    \n",
    "        # Lista de todas as imagens na pasta de classe\n",
    "        images = os.listdir(class_folder_path)\n",
    "    \n",
    "        # Calcule o número de imagens a serem movidas para validação e teste\n",
    "        validation_images_quantity = int(len(images) * validation_percent)\n",
    "        test_images_quantity = int(len(images) * test_percent)\n",
    "    \n",
    "        # Divida as imagens em treinamento, validação e teste\n",
    "        train_images = images[validation_images_quantity + test_images_quantity:]\n",
    "        validation_images = images[:validation_images_quantity]\n",
    "        test_images = images[validation_images_quantity:validation_images_quantity + test_images_quantity]\n",
    "        # print(\"train_images\", train_images)\n",
    "    \n",
    "        # Crie diretórios para treinamento, validação e teste para a classe atual\n",
    "        train_class_directory = os.path.join(train_directory, class_folder)\n",
    "        validation_class_directory = os.path.join(validation_directory, class_folder)\n",
    "        test_class_directory = os.path.join(test_directory, class_folder)\n",
    "    \n",
    "        # print(\"train_class_directory\", train_class_directory)\n",
    "        # print(\"validation_class_directory\", validation_class_directory)\n",
    "        # print(\"test_class_directory\", test_class_directory)\n",
    "\n",
    "        os.makedirs(train_class_directory, exist_ok=True)\n",
    "        os.makedirs(validation_class_directory, exist_ok=True)\n",
    "        os.makedirs(test_class_directory, exist_ok=True)\n",
    "\n",
    "        # Mova as imagens para os diretórios correspondentes\n",
    "        for image in train_images:\n",
    "            # print(\"image\", image)\n",
    "            src = os.path.join(class_folder_path, image)\n",
    "            # print(\"scr\", src)\n",
    "            dst = os.path.join(train_class_directory, image)\n",
    "            # print(\"dst\", dst)\n",
    "            copyfile(src, dst)\n",
    "    \n",
    "        for image in validation_images:\n",
    "            src = os.path.join(class_folder_path, image)\n",
    "            dst = os.path.join(validation_class_directory, image)\n",
    "            copyfile(src, dst)\n",
    "    \n",
    "        for image in test_images:\n",
    "            src = os.path.join(class_folder_path, image)\n",
    "            dst = os.path.join(test_class_directory, image)\n",
    "            copyfile(src, dst)"
   ]
  },
  {
   "cell_type": "code",
   "execution_count": 5,
   "metadata": {},
   "outputs": [],
   "source": [
    "load_data_into_train_validation_test(dataset_directory, train_directory, validation_directory, test_directory)"
   ]
  },
  {
   "cell_type": "markdown",
   "metadata": {
    "id": "xkjWKCKBkVtF"
   },
   "source": [
    "### Defining Pre Processing (Redefinition and Normalization)"
   ]
  },
  {
   "cell_type": "code",
   "execution_count": 6,
   "metadata": {
    "id": "-Z9_lSd-YuxD"
   },
   "outputs": [],
   "source": [
    "target_size = (28, 28) # Tamanho alvo para redimensionamento\n",
    "\n",
    "def preprocess_image(image_path):\n",
    "    \n",
    "    img = load_img(image_path, target_size=target_size)\n",
    "    img_array = img_to_array(img)\n",
    "    img_array /= 255.0  # Normalização dos valores dos pixels para [0, 1]\n",
    "    \n",
    "    return img_array"
   ]
  },
  {
   "cell_type": "markdown",
   "metadata": {
    "id": "aYHzzr4ijvbK"
   },
   "source": [
    "### Saving images with pre-processing definitions"
   ]
  },
  {
   "cell_type": "code",
   "execution_count": 7,
   "metadata": {
    "id": "cNptvomzuqED"
   },
   "outputs": [],
   "source": [
    "import numpy as np\n",
    "import matplotlib.pyplot as plt\n",
    "from tensorflow.keras.preprocessing.image import load_img, img_to_array, array_to_img"
   ]
  },
  {
   "cell_type": "code",
   "execution_count": 8,
   "metadata": {},
   "outputs": [],
   "source": [
    "dataset_directories = [train_directory, validation_directory, test_directory]"
   ]
  },
  {
   "cell_type": "code",
   "execution_count": 9,
   "metadata": {
    "colab": {
     "base_uri": "https://localhost:8080/"
    },
    "id": "LuMWIEwS2N9R",
    "outputId": "e61ac8ac-543c-45f7-d329-2bd1d777b45b"
   },
   "outputs": [],
   "source": [
    "def saving_images_with_preprocessig_definitions(dataset_directories):\n",
    "\n",
    "    for dataset_directory in dataset_directories:\n",
    "    \n",
    "        # Loop através de cada pasta de classe em treinamento\n",
    "        for class_folder in os.listdir(dataset_directory):\n",
    "    \n",
    "            # Crie uma figura com três subplots em uma linha\n",
    "            if (dataset_directory == train_directory): fig, axs = plt.subplots(1, 3, figsize=(6, 2))\n",
    "    \n",
    "            class_folder_path = os.path.join(dataset_directory, class_folder)\n",
    "    \n",
    "            i = 0\n",
    "            # Loop através de cada imagem na pasta de classe\n",
    "            for image_name in os.listdir(class_folder_path):\n",
    "                image_path = os.path.join(class_folder_path, image_name)\n",
    "    \n",
    "                # Pré-processar a imagem\n",
    "                preprocessed_image = preprocess_image(image_path)\n",
    "    \n",
    "                # Salvar a imagem pré-processada de volta ao mesmo local\n",
    "                array_img = array_to_img(preprocessed_image)\n",
    "                array_img.save(image_path)\n",
    "    \n",
    "                if (dataset_directory == train_directory and i < 3):\n",
    "                    axs[i].imshow(preprocessed_image)\n",
    "                    axs[i].axis('off')\n",
    "                    i += 1\n",
    "            \n",
    "    plt.show()"
   ]
  },
  {
   "cell_type": "code",
   "execution_count": 10,
   "metadata": {},
   "outputs": [
    {
     "data": {
      "image/png": "[encoded data removed]",
      "text/plain": [
       "<Figure size 600x200 with 3 Axes>"
      ]
     },
     "metadata": {},
     "output_type": "display_data"
    },
    {
     "data": {
      "image/png": "[encoded data removed]",
      "text/plain": [
       "<Figure size 600x200 with 3 Axes>"
      ]
     },
     "metadata": {},
     "output_type": "display_data"
    },
    {
     "data": {
      "image/png": "[encoded data removed]",
      "text/plain": [
       "<Figure size 600x200 with 3 Axes>"
      ]
     },
     "metadata": {},
     "output_type": "display_data"
    },
    {
     "data": {
      "image/png": "[encoded data removed]",
      "text/plain": [
       "<Figure size 600x200 with 3 Axes>"
      ]
     },
     "metadata": {},
     "output_type": "display_data"
    }
   ],
   "source": [
    "saving_images_with_preprocessig_definitions(dataset_directories)"
   ]
  },
  {
   "cell_type": "markdown",
   "metadata": {
    "id": "YkXkUHfVW2hX"
   },
   "source": [
    "### Including Augmented Images on Train Directory"
   ]
  },
  {
   "cell_type": "code",
   "execution_count": 11,
   "metadata": {},
   "outputs": [],
   "source": [
    "import imgaug as ia\n",
    "from imgaug import augmenters as iaa"
   ]
  },
  {
   "cell_type": "code",
   "execution_count": 12,
   "metadata": {},
   "outputs": [],
   "source": [
    "rotation_range = 10\n",
    "width_shift_range = 0.1\n",
    "height_shift_range = 0.1\n",
    "shear_range = 0.1\n",
    "zoom_range = 0.1\n",
    "horizontal_flip = True"
   ]
  },
  {
   "cell_type": "code",
   "execution_count": 13,
   "metadata": {
    "id": "ZVEqz_a2x6BD"
   },
   "outputs": [],
   "source": [
    "generating_augmented_images = iaa.Sequential([\n",
    "    # Virar Horizontalmente\n",
    "    iaa.Fliplr(p=0.5),\n",
    "    # Rotação Aleatória\n",
    "    iaa.Sometimes(0.4, iaa.Affine(rotate=(-rotation_range, rotation_range))),\n",
    "    # Deslocamento Horizontal e Vertical\n",
    "    iaa.Sometimes(0.3, iaa.Affine(translate_percent={\"x\": (-width_shift_range, width_shift_range),\n",
    "                                                     \"y\": (-height_shift_range, height_shift_range)})),\n",
    "    # Zoom Aleatório\n",
    "    iaa.Sometimes(0.2, iaa.Affine(scale=(1 - zoom_range, 1 + zoom_range))),\n",
    "    # Sem probabilidade, sempre aplicada\n",
    "    iaa.Affine(shear=(-shear_range, shear_range)),\n",
    "], random_order=True)  # Aplica as augmentations em ordem aleatória\n"
   ]
  },
  {
   "cell_type": "code",
   "execution_count": 14,
   "metadata": {},
   "outputs": [],
   "source": [
    "from tensorflow.keras.utils import save_img"
   ]
  },
  {
   "cell_type": "code",
   "execution_count": 15,
   "metadata": {},
   "outputs": [],
   "source": [
    "def including_augmented_images(train_directory):\n",
    "    \n",
    "    for class_folder in os.listdir(train_directory):\n",
    "    \n",
    "        class_folder_path = os.path.join(train_directory, class_folder)\n",
    "        images = os.listdir(class_folder_path)\n",
    "    \n",
    "        fig, axs = plt.subplots(1, 3, figsize=(6, 2))\n",
    "    \n",
    "        for i, image_name in enumerate(images):\n",
    "            image_path = os.path.join(class_folder_path, image_name)\n",
    "    \n",
    "            img = load_img(image_path, target_size=target_size)\n",
    "            img_array = img_to_array(img)\n",
    "    \n",
    "            # Crie uma lista que contenha a mesma imagem original três vezes\n",
    "            image_list = [img_array, img_array, img_array]\n",
    "    \n",
    "            # Aplicar augmentations à lista de imagens\n",
    "            augmented_images = generating_augmented_images(images=image_list)\n",
    "    \n",
    "            k = 0\n",
    "            # Salvar as imagens aumentadas no mesmo diretório\n",
    "            for j, augmented_image in enumerate(augmented_images):\n",
    "    \n",
    "                image_name, image_extension = os.path.splitext(image_path)\n",
    "                new_image_path = f\"{image_name}aug_{j+1}_{total_images_generated}{image_extension}\"\n",
    "    \n",
    "                # Converta a imagem aumentada em um formato válido\n",
    "                augmented_image = np.uint8(augmented_image)\n",
    "                save_img(new_image_path, augmented_image)\n",
    "    \n",
    "                axs[k].imshow(augmented_image)\n",
    "                axs[k].axis('off')\n",
    "                k += 1\n",
    "    \n",
    "        plt.show()"
   ]
  },
  {
   "cell_type": "code",
   "execution_count": 16,
   "metadata": {},
   "outputs": [
    {
     "data": {
      "image/png": "[encoded data removed]",
      "text/plain": [
       "<Figure size 600x200 with 3 Axes>"
      ]
     },
     "metadata": {},
     "output_type": "display_data"
    },
    {
     "data": {
      "image/png": "[encoded data removed]",
      "text/plain": [
       "<Figure size 600x200 with 3 Axes>"
      ]
     },
     "metadata": {},
     "output_type": "display_data"
    },
    {
     "data": {
      "image/png": "[encoded data removed]",
      "text/plain": [
       "<Figure size 600x200 with 3 Axes>"
      ]
     },
     "metadata": {},
     "output_type": "display_data"
    },
    {
     "data": {
      "image/png": "[encoded data removed]",
      "text/plain": [
       "<Figure size 600x200 with 3 Axes>"
      ]
     },
     "metadata": {},
     "output_type": "display_data"
    }
   ],
   "source": [
    "total_images_generated = 3\n",
    "including_augmented_images(train_directory)"
   ]
  },
  {
   "cell_type": "code",
   "execution_count": 17,
   "metadata": {},
   "outputs": [],
   "source": [
    "### Defining this Dataset Model variables from train, validation and test folders"
   ]
  },
  {
   "cell_type": "code",
   "execution_count": 14,
   "metadata": {},
   "outputs": [
    {
     "name": "stdout",
     "output_type": "stream",
     "text": [
      "Found 16244 files belonging to 4 classes.\n",
      "Found 997 files belonging to 4 classes.\n",
      "Found 821 files belonging to 4 classes.\n"
     ]
    }
   ],
   "source": [
    "batch_size = 3\n",
    "target_size = (28, 28)\n",
    "\n",
    "train_dataset = tf.keras.utils.image_dataset_from_directory(\n",
    "    train_directory,\n",
    "    labels='inferred',\n",
    "    image_size=(target_size),\n",
    "    batch_size=batch_size\n",
    ")\n",
    "\n",
    "# print(train_dataset)\n",
    "\n",
    "validation_dataset = tf.keras.utils.image_dataset_from_directory(\n",
    "    validation_directory,\n",
    "    labels='inferred',\n",
    "    image_size=(target_size),\n",
    "    batch_size=batch_size\n",
    ")\n",
    "\n",
    "# print(validation_dataset)\n",
    "\n",
    "test_dataset = tf.keras.utils.image_dataset_from_directory(\n",
    "    test_directory,\n",
    "    labels='inferred',\n",
    "    image_size=(target_size),\n",
    "    batch_size=batch_size\n",
    ")\n",
    "\n",
    "# print(test_dataset)"
   ]
  },
  {
   "cell_type": "markdown",
   "metadata": {
    "id": "9Zzbt5jzbcBa"
   },
   "source": [
    "### Creating Model"
   ]
  },
  {
   "cell_type": "code",
   "execution_count": 1,
   "metadata": {},
   "outputs": [],
   "source": [
    "from tensorflow.keras.models import Sequential\n",
    "from tensorflow.keras.layers import Conv2D, BatchNormalization, PReLU, MaxPooling2D, Flatten, Dense, Dropout"
   ]
  },
  {
   "cell_type": "code",
   "execution_count": 3,
   "metadata": {},
   "outputs": [],
   "source": [
    "import tensorflow as tf\n",
    "\n",
    "model = tf.keras.Sequential([\n",
    "\n",
    "    BatchNormalization(input_shape=(28, 28, 3)),\n",
    "\n",
    "    Conv2D(filters=64, kernel_size=(3,3), padding='same', activation='relu'),\n",
    "    MaxPooling2D(pool_size=(2, 2), strides=2),\n",
    "    Dropout(0.1),\n",
    "\n",
    "    Conv2D(filters=64, kernel_size=(3,3), padding='same', activation='relu'),\n",
    "    MaxPooling2D(pool_size=(2, 2), strides=2),\n",
    "    Dropout(0.2),\n",
    "\n",
    "    Flatten(),\n",
    "\n",
    "    Dense(256, activation='relu'),\n",
    "    Dropout(0.5),\n",
    "\n",
    "    Dense(64, activation='relu'),\n",
    "    BatchNormalization(),\n",
    "\n",
    "    Dense(4, activation=\"softmax\")\n",
    "])"
   ]
  },
  {
   "cell_type": "code",
   "execution_count": 4,
   "metadata": {
    "id": "Y2VqzKvNGdRc"
   },
   "outputs": [],
   "source": [
    "model.build(input_shape=(None, 28, 28, 3))"
   ]
  },
  {
   "cell_type": "code",
   "execution_count": 5,
   "metadata": {
    "colab": {
     "base_uri": "https://localhost:8080/"
    },
    "id": "rwH_nfTXRYVW",
    "outputId": "c42784b1-e0bf-4cd6-a2e2-7d7194ee4073"
   },
   "outputs": [
    {
     "name": "stdout",
     "output_type": "stream",
     "text": [
      "Model: \"sequential\"\n",
      "_________________________________________________________________\n",
      " Layer (type)                Output Shape              Param #   \n",
      "=================================================================\n",
      " batch_normalization (BatchN  (None, 28, 28, 3)        12        \n",
      " ormalization)                                                   \n",
      "                                                                 \n",
      " conv2d (Conv2D)             (None, 28, 28, 64)        1792      \n",
      "                                                                 \n",
      " max_pooling2d (MaxPooling2D  (None, 14, 14, 64)       0         \n",
      " )                                                               \n",
      "                                                                 \n",
      " dropout (Dropout)           (None, 14, 14, 64)        0         \n",
      "                                                                 \n",
      " conv2d_1 (Conv2D)           (None, 14, 14, 64)        36928     \n",
      "                                                                 \n",
      " max_pooling2d_1 (MaxPooling  (None, 7, 7, 64)         0         \n",
      " 2D)                                                             \n",
      "                                                                 \n",
      " dropout_1 (Dropout)         (None, 7, 7, 64)          0         \n",
      "                                                                 \n",
      " flatten (Flatten)           (None, 3136)              0         \n",
      "                                                                 \n",
      " dense (Dense)               (None, 256)               803072    \n",
      "                                                                 \n",
      " dropout_2 (Dropout)         (None, 256)               0         \n",
      "                                                                 \n",
      " dense_1 (Dense)             (None, 64)                16448     \n",
      "                                                                 \n",
      " batch_normalization_1 (Batc  (None, 64)               256       \n",
      " hNormalization)                                                 \n",
      "                                                                 \n",
      " dense_2 (Dense)             (None, 4)                 260       \n",
      "                                                                 \n",
      "=================================================================\n",
      "Total params: 858,768\n",
      "Trainable params: 858,634\n",
      "Non-trainable params: 134\n",
      "_________________________________________________________________\n"
     ]
    }
   ],
   "source": [
    "model.summary()"
   ]
  },
  {
   "cell_type": "markdown",
   "metadata": {
    "id": "NSs9A3HV7n2O"
   },
   "source": [
    "### Compiling Model"
   ]
  },
  {
   "cell_type": "code",
   "execution_count": 6,
   "metadata": {
    "id": "CQWAvYng8TG5"
   },
   "outputs": [],
   "source": [
    "from tensorflow.keras.optimizers import Adam"
   ]
  },
  {
   "cell_type": "code",
   "execution_count": 7,
   "metadata": {
    "id": "_-uzp89Z9qQO"
   },
   "outputs": [],
   "source": [
    "adam = Adam(learning_rate=0.001)"
   ]
  },
  {
   "cell_type": "code",
   "execution_count": 8,
   "metadata": {
    "id": "82BHbJeJTkA-"
   },
   "outputs": [],
   "source": [
    "model.compile(optimizer=adam, loss='sparse_categorical_crossentropy', metrics=['accuracy'])"
   ]
  },
  {
   "cell_type": "markdown",
   "metadata": {
    "id": "oHYuOzIR3hGB"
   },
   "source": [
    "### Training Model"
   ]
  },
  {
   "cell_type": "markdown",
   "metadata": {
    "id": "NumMvSkB3uNG"
   },
   "source": [
    "###### Defining Callback Methods:"
   ]
  },
  {
   "cell_type": "code",
   "execution_count": 9,
   "metadata": {
    "id": "B2BSeTFq3kBa"
   },
   "outputs": [],
   "source": [
    "from tensorflow.keras.callbacks import ModelCheckpoint, TensorBoard, EarlyStopping"
   ]
  },
  {
   "cell_type": "markdown",
   "metadata": {
    "id": "i5K7iu5HTC3u"
   },
   "source": [
    "*   Checkpoint to save best model weights\n"
   ]
  },
  {
   "cell_type": "code",
   "execution_count": 10,
   "metadata": {
    "id": "9zXzkxnBGD7c"
   },
   "outputs": [],
   "source": [
    "checkpoint_path = 'model_checkpoint'\n",
    "checkpoint = ModelCheckpoint(checkpoint_path, monitor='val_accuracy', save_best_only=True, verbose=1)"
   ]
  },
  {
   "cell_type": "markdown",
   "metadata": {
    "id": "Gp7yZZ5zTHI5"
   },
   "source": [
    "*   Earlystop to stop the training process when the model stops improving\n",
    "\n"
   ]
  },
  {
   "cell_type": "code",
   "execution_count": null,
   "metadata": {
    "id": "e4gKPsqb2tf5"
   },
   "outputs": [],
   "source": [
    "early_stopping = EarlyStopping(monitor='accuracy', patience=10)"
   ]
  },
  {
   "cell_type": "markdown",
   "metadata": {
    "id": "m5zsa8MWTHMG"
   },
   "source": [
    "*   TensorBoard to use logs for vizualize whats happening\n",
    "\n"
   ]
  },
  {
   "cell_type": "code",
   "execution_count": null,
   "metadata": {
    "colab": {
     "base_uri": "https://localhost:8080/"
    },
    "id": "xjmlBVYOlQLU",
    "outputId": "c4b31ac7-b9e5-43b5-b340-ed5079f68e4f"
   },
   "outputs": [
    {
     "name": "stdout",
     "output_type": "stream",
     "text": [
      "Collecting ngrok\n",
      "  Downloading ngrok-1.0.0-cp37-abi3-win_amd64.whl.metadata (18 kB)\n",
      "Downloading ngrok-1.0.0-cp37-abi3-win_amd64.whl (3.2 MB)\n",
      "   ---------------------------------------- 0.0/3.2 MB ? eta -:--:--\n",
      "    --------------------------------------- 0.1/3.2 MB 1.1 MB/s eta 0:00:03\n",
      "   - -------------------------------------- 0.1/3.2 MB 1.2 MB/s eta 0:00:03\n",
      "   -- ------------------------------------- 0.2/3.2 MB 1.3 MB/s eta 0:00:03\n",
      "   --- ------------------------------------ 0.3/3.2 MB 1.4 MB/s eta 0:00:03\n",
      "   ---- ----------------------------------- 0.3/3.2 MB 1.4 MB/s eta 0:00:03\n",
      "   ----- ---------------------------------- 0.4/3.2 MB 1.5 MB/s eta 0:00:02\n",
      "   ------ --------------------------------- 0.5/3.2 MB 1.4 MB/s eta 0:00:02\n",
      "   ------ --------------------------------- 0.5/3.2 MB 1.4 MB/s eta 0:00:02\n",
      "   ------- -------------------------------- 0.6/3.2 MB 1.5 MB/s eta 0:00:02\n",
      "   -------- ------------------------------- 0.7/3.2 MB 1.5 MB/s eta 0:00:02\n",
      "   --------- ------------------------------ 0.7/3.2 MB 1.5 MB/s eta 0:00:02\n",
      "   ---------- ----------------------------- 0.8/3.2 MB 1.4 MB/s eta 0:00:02\n",
      "   ----------- ---------------------------- 0.9/3.2 MB 1.5 MB/s eta 0:00:02\n",
      "   ------------ --------------------------- 1.0/3.2 MB 1.5 MB/s eta 0:00:02\n",
      "   ------------- -------------------------- 1.1/3.2 MB 1.5 MB/s eta 0:00:02\n",
      "   --------------- ------------------------ 1.2/3.2 MB 1.6 MB/s eta 0:00:02\n",
      "   ---------------- ----------------------- 1.3/3.2 MB 1.6 MB/s eta 0:00:02\n",
      "   ------------------ --------------------- 1.4/3.2 MB 1.7 MB/s eta 0:00:01\n",
      "   ------------------- -------------------- 1.6/3.2 MB 1.8 MB/s eta 0:00:01\n",
      "   --------------------- ------------------ 1.7/3.2 MB 1.8 MB/s eta 0:00:01\n",
      "   ----------------------- ---------------- 1.8/3.2 MB 1.9 MB/s eta 0:00:01\n",
      "   ------------------------ --------------- 2.0/3.2 MB 1.9 MB/s eta 0:00:01\n",
      "   -------------------------- ------------- 2.1/3.2 MB 1.9 MB/s eta 0:00:01\n",
      "   --------------------------- ------------ 2.2/3.2 MB 2.0 MB/s eta 0:00:01\n",
      "   ----------------------------- ---------- 2.3/3.2 MB 2.0 MB/s eta 0:00:01\n",
      "   ------------------------------- -------- 2.5/3.2 MB 2.0 MB/s eta 0:00:01\n",
      "   --------------------------------- ------ 2.7/3.2 MB 2.1 MB/s eta 0:00:01\n",
      "   ------------------------------------ --- 2.9/3.2 MB 2.2 MB/s eta 0:00:01\n",
      "   ---------------------------------------  3.1/3.2 MB 2.3 MB/s eta 0:00:01\n",
      "   ---------------------------------------- 3.2/3.2 MB 2.3 MB/s eta 0:00:00\n",
      "Installing collected packages: ngrok\n",
      "Successfully installed ngrok-1.0.0\n"
     ]
    }
   ],
   "source": [
    "!pip install ngrok"
   ]
  },
  {
   "cell_type": "code",
   "execution_count": null,
   "metadata": {
    "id": "7G2OR7METwTQ"
   },
   "outputs": [],
   "source": [
    "from tensorboard import notebook\n",
    "import ngrok"
   ]
  },
  {
   "cell_type": "code",
   "execution_count": null,
   "metadata": {
    "id": "VK2L18JrRsAo"
   },
   "outputs": [],
   "source": [
    "tensorboard_callback = TensorBoard(log_dir='./logs', histogram_freq=1, write_graph=True, write_images=True)"
   ]
  },
  {
   "cell_type": "code",
   "execution_count": null,
   "metadata": {
    "colab": {
     "base_uri": "https://localhost:8080/"
    },
    "id": "TSGtKIvzl56l",
    "outputId": "7a120f3e-74be-4470-8e6e-8b6a03794a00"
   },
   "outputs": [],
   "source": [
    "# Iniciar o TensorBoard em segundo plano\n",
    "os.system(\"tensorboard --logdir ./logs --host 0.0.0.0 --port 6006 &\")"
   ]
  },
  {
   "cell_type": "code",
   "execution_count": null,
   "metadata": {
    "colab": {
     "base_uri": "https://localhost:8080/"
    },
    "id": "x_IKxCJkmQxq",
    "outputId": "ca5094ae-c434-4ae9-bf41-c19f5e24bced"
   },
   "outputs": [],
   "source": [
    "# Abrir um túnel para o TensorBoard\n",
    "public_url = ngrok.connect(6006, \"http\")\n",
    "print(\"TensorBoard disponível em:\", public_url)"
   ]
  },
  {
   "cell_type": "markdown",
   "metadata": {
    "id": "tDxensZpTUiV"
   },
   "source": [
    "*   Visualizar as ativações de camadas intermediárias durante o treinamento para entender como as características são extraídas e transformadas em diferentes estágios do modelo.\n",
    "\n"
   ]
  },
  {
   "cell_type": "code",
   "execution_count": null,
   "metadata": {
    "id": "5fd61LHsS1qQ"
   },
   "outputs": [],
   "source": [
    "# class ActivationLogger(tf.keras.callbacks.Callback):\n",
    "#     def __init__(self, layers):\n",
    "#         self.layers = layers\n",
    "#         self.activations = []\n",
    "\n",
    "#     def on_epoch_end(self, epoch, logs=None):\n",
    "#         layer_outputs = [layer.output for layer in self.model.layers if layer.name in self.layers]\n",
    "#         activation_model = tf.keras.models.Model(inputs=self.model.input, outputs=layer_outputs)\n",
    "#         activations = activation_model.predict(test_dataset)  # Use test_dataset ou outro conjunto relevante\n",
    "#         self.activations.append(activations)"
   ]
  },
  {
   "cell_type": "code",
   "execution_count": null,
   "metadata": {
    "id": "TfoG4Ho4S-Vf"
   },
   "outputs": [],
   "source": [
    "# # Nomes das camadas cujas ativações você deseja visualizar\n",
    "# activation_layers = ['conv2d', 'dense_1']\n",
    "\n",
    "# activation_logger = ActivationLogger(activation_layers)"
   ]
  },
  {
   "cell_type": "markdown",
   "metadata": {
    "id": "4YUunUeWT7iw"
   },
   "source": [
    "###### Starting training with defined callbacks"
   ]
  },
  {
   "cell_type": "code",
   "execution_count": 15,
   "metadata": {
    "colab": {
     "base_uri": "https://localhost:8080/"
    },
    "id": "hLVzfz5LDDHC",
    "outputId": "98e2a621-09ff-47f5-cc65-e07771f9c266"
   },
   "outputs": [
    {
     "name": "stdout",
     "output_type": "stream",
     "text": [
      "Epoch 1/10000\n"
     ]
    },
    {
     "name": "stdout",
     "output_type": "stream",
     "text": [
      "\n",
      "Epoch 1: val_accuracy improved from -inf to 0.52758, saving model to model_checkpoint\n"
     ]
    },
    {
     "name": "stderr",
     "output_type": "stream",
     "text": [
      "WARNING:absl:Found untraced functions such as _jit_compiled_convolution_op, _jit_compiled_convolution_op while saving (showing 2 of 2). These functions will not be directly callable after loading.\n"
     ]
    },
    {
     "name": "stdout",
     "output_type": "stream",
     "text": [
      "INFO:tensorflow:Assets written to: model_checkpoint\\assets\n"
     ]
    },
    {
     "name": "stderr",
     "output_type": "stream",
     "text": [
      "INFO:tensorflow:Assets written to: model_checkpoint\\assets\n"
     ]
    },
    {
     "name": "stdout",
     "output_type": "stream",
     "text": [
      "5415/5415 - 223s - loss: 1.3157 - accuracy: 0.3883 - val_loss: 1.0337 - val_accuracy: 0.5276 - 223s/epoch - 41ms/step\n",
      "Epoch 2/10000\n",
      "\n",
      "Epoch 2: val_accuracy improved from 0.52758 to 0.65296, saving model to model_checkpoint\n"
     ]
    },
    {
     "name": "stderr",
     "output_type": "stream",
     "text": [
      "WARNING:absl:Found untraced functions such as _jit_compiled_convolution_op, _jit_compiled_convolution_op while saving (showing 2 of 2). These functions will not be directly callable after loading.\n"
     ]
    },
    {
     "name": "stdout",
     "output_type": "stream",
     "text": [
      "INFO:tensorflow:Assets written to: model_checkpoint\\assets\n"
     ]
    },
    {
     "name": "stderr",
     "output_type": "stream",
     "text": [
      "INFO:tensorflow:Assets written to: model_checkpoint\\assets\n"
     ]
    },
    {
     "name": "stdout",
     "output_type": "stream",
     "text": [
      "5415/5415 - 72s - loss: 1.2204 - accuracy: 0.4475 - val_loss: 0.9171 - val_accuracy: 0.6530 - 72s/epoch - 13ms/step\n",
      "Epoch 3/10000\n",
      "\n",
      "Epoch 3: val_accuracy improved from 0.65296 to 0.69007, saving model to model_checkpoint\n"
     ]
    },
    {
     "name": "stderr",
     "output_type": "stream",
     "text": [
      "WARNING:absl:Found untraced functions such as _jit_compiled_convolution_op, _jit_compiled_convolution_op while saving (showing 2 of 2). These functions will not be directly callable after loading.\n"
     ]
    },
    {
     "name": "stdout",
     "output_type": "stream",
     "text": [
      "INFO:tensorflow:Assets written to: model_checkpoint\\assets\n"
     ]
    },
    {
     "name": "stderr",
     "output_type": "stream",
     "text": [
      "INFO:tensorflow:Assets written to: model_checkpoint\\assets\n"
     ]
    },
    {
     "name": "stdout",
     "output_type": "stream",
     "text": [
      "5415/5415 - 73s - loss: 1.1314 - accuracy: 0.5082 - val_loss: 0.8279 - val_accuracy: 0.6901 - 73s/epoch - 13ms/step\n",
      "Epoch 4/10000\n",
      "\n",
      "Epoch 4: val_accuracy improved from 0.69007 to 0.73220, saving model to model_checkpoint\n"
     ]
    },
    {
     "name": "stderr",
     "output_type": "stream",
     "text": [
      "WARNING:absl:Found untraced functions such as _jit_compiled_convolution_op, _jit_compiled_convolution_op while saving (showing 2 of 2). These functions will not be directly callable after loading.\n"
     ]
    },
    {
     "name": "stdout",
     "output_type": "stream",
     "text": [
      "INFO:tensorflow:Assets written to: model_checkpoint\\assets\n"
     ]
    },
    {
     "name": "stderr",
     "output_type": "stream",
     "text": [
      "INFO:tensorflow:Assets written to: model_checkpoint\\assets\n"
     ]
    },
    {
     "name": "stdout",
     "output_type": "stream",
     "text": [
      "5415/5415 - 74s - loss: 1.1115 - accuracy: 0.5318 - val_loss: 0.7274 - val_accuracy: 0.7322 - 74s/epoch - 14ms/step\n",
      "Epoch 5/10000\n",
      "\n",
      "Epoch 5: val_accuracy improved from 0.73220 to 0.78134, saving model to model_checkpoint\n"
     ]
    },
    {
     "name": "stderr",
     "output_type": "stream",
     "text": [
      "WARNING:absl:Found untraced functions such as _jit_compiled_convolution_op, _jit_compiled_convolution_op while saving (showing 2 of 2). These functions will not be directly callable after loading.\n"
     ]
    },
    {
     "name": "stdout",
     "output_type": "stream",
     "text": [
      "INFO:tensorflow:Assets written to: model_checkpoint\\assets\n"
     ]
    },
    {
     "name": "stderr",
     "output_type": "stream",
     "text": [
      "INFO:tensorflow:Assets written to: model_checkpoint\\assets\n"
     ]
    },
    {
     "name": "stdout",
     "output_type": "stream",
     "text": [
      "5415/5415 - 72s - loss: 1.0175 - accuracy: 0.5850 - val_loss: 0.5944 - val_accuracy: 0.7813 - 72s/epoch - 13ms/step\n",
      "Epoch 6/10000\n",
      "\n",
      "Epoch 6: val_accuracy did not improve from 0.78134\n",
      "5415/5415 - 66s - loss: 0.9903 - accuracy: 0.5985 - val_loss: 0.6026 - val_accuracy: 0.7763 - 66s/epoch - 12ms/step\n",
      "Epoch 7/10000\n",
      "\n",
      "Epoch 7: val_accuracy improved from 0.78134 to 0.81846, saving model to model_checkpoint\n"
     ]
    },
    {
     "name": "stderr",
     "output_type": "stream",
     "text": [
      "WARNING:absl:Found untraced functions such as _jit_compiled_convolution_op, _jit_compiled_convolution_op while saving (showing 2 of 2). These functions will not be directly callable after loading.\n"
     ]
    },
    {
     "name": "stdout",
     "output_type": "stream",
     "text": [
      "INFO:tensorflow:Assets written to: model_checkpoint\\assets\n"
     ]
    },
    {
     "name": "stderr",
     "output_type": "stream",
     "text": [
      "INFO:tensorflow:Assets written to: model_checkpoint\\assets\n"
     ]
    },
    {
     "name": "stdout",
     "output_type": "stream",
     "text": [
      "5415/5415 - 72s - loss: 0.8924 - accuracy: 0.6557 - val_loss: 0.5105 - val_accuracy: 0.8185 - 72s/epoch - 13ms/step\n",
      "Epoch 8/10000\n",
      "\n",
      "Epoch 8: val_accuracy improved from 0.81846 to 0.85256, saving model to model_checkpoint\n"
     ]
    },
    {
     "name": "stderr",
     "output_type": "stream",
     "text": [
      "WARNING:absl:Found untraced functions such as _jit_compiled_convolution_op, _jit_compiled_convolution_op while saving (showing 2 of 2). These functions will not be directly callable after loading.\n"
     ]
    },
    {
     "name": "stdout",
     "output_type": "stream",
     "text": [
      "INFO:tensorflow:Assets written to: model_checkpoint\\assets\n"
     ]
    },
    {
     "name": "stderr",
     "output_type": "stream",
     "text": [
      "INFO:tensorflow:Assets written to: model_checkpoint\\assets\n"
     ]
    },
    {
     "name": "stdout",
     "output_type": "stream",
     "text": [
      "5415/5415 - 1336s - loss: 0.8640 - accuracy: 0.6713 - val_loss: 0.4598 - val_accuracy: 0.8526 - 1336s/epoch - 247ms/step\n",
      "Epoch 9/10000\n"
     ]
    },
    {
     "ename": "",
     "evalue": "",
     "output_type": "error",
     "traceback": [
      "\u001b[1;31mThe Kernel crashed while executing code in the current cell or a previous cell. \n",
      "\u001b[1;31mPlease review the code in the cell(s) to identify a possible cause of the failure. \n",
      "\u001b[1;31mClick <a href='https://aka.ms/vscodeJupyterKernelCrash'>here</a> for more info. \n",
      "\u001b[1;31mView Jupyter <a href='command:jupyter.viewOutput'>log</a> for further details."
     ]
    }
   ],
   "source": [
    "history = model.fit(\n",
    "    train_dataset,                          # Conjunto de dados de treinamento\n",
    "    epochs=10000,                             # Número de épocas de treinamento\n",
    "    validation_data=validation_dataset,     # Conjunto de dados de validação (separado anteriormente)\n",
    "    callbacks=[checkpoint], # Callback para salvar os melhores pesos #, early_stopping, tensorboard_callback, activation_logger\n",
    "    verbose=2                               # Exibir informações de treinamento\n",
    ")"
   ]
  },
  {
   "cell_type": "markdown",
   "metadata": {
    "id": "36W5a2r43bH-"
   },
   "source": [
    "### Evaluating Model"
   ]
  },
  {
   "cell_type": "markdown",
   "metadata": {
    "id": "EfxbIL1XgmFp"
   },
   "source": [
    "###### Evaluating Model by Loss and Accuracy with the Test Data"
   ]
  },
  {
   "cell_type": "code",
   "execution_count": null,
   "metadata": {
    "colab": {
     "base_uri": "https://localhost:8080/"
    },
    "id": "9ymFZGG93TVG",
    "outputId": "5decb8b8-718a-4987-c7bb-5cf7b93f3861"
   },
   "outputs": [
    {
     "name": "stdout",
     "output_type": "stream",
     "text": [
      "Teste - Perda: 0.40933558344841003, Acurácia: 0.886723518371582\n"
     ]
    }
   ],
   "source": [
    "test_loss, test_accuracy = model.evaluate(test_dataset, verbose=0)\n",
    "\n",
    "print(f'Teste - Perda: {test_loss}, Acurácia: {test_accuracy}')"
   ]
  },
  {
   "cell_type": "markdown",
   "metadata": {
    "id": "pSuF8DZC6LhK"
   },
   "source": [
    "###### Plot Graphs to vizualise loss and accuracy through the epochs"
   ]
  },
  {
   "cell_type": "code",
   "execution_count": null,
   "metadata": {
    "colab": {
     "base_uri": "https://localhost:8080/",
     "height": 412
    },
    "id": "hkg4yB7nHo2t",
    "outputId": "c09664ac-fe96-4926-83b2-55b513d482da"
   },
   "outputs": [
    {
     "ename": "",
     "evalue": "",
     "output_type": "error",
     "traceback": [
      "\u001b[1;31mThe Kernel crashed while executing code in the current cell or a previous cell. \n",
      "\u001b[1;31mPlease review the code in the cell(s) to identify a possible cause of the failure. \n",
      "\u001b[1;31mClick <a href='https://aka.ms/vscodeJupyterKernelCrash'>here</a> for more info. \n",
      "\u001b[1;31mView Jupyter <a href='command:jupyter.viewOutput'>log</a> for further details."
     ]
    }
   ],
   "source": [
    "import matplotlib.pyplot as plt\n",
    "\n",
    "plt.figure(figsize=(10, 4))\n",
    "\n",
    "plt.subplot(1, 2, 1)\n",
    "plt.plot(history.history['accuracy'], color='teal', label='accuracy')\n",
    "plt.plot(history.history['val_accuracy'], color='purple', label='val_accuracy')\n",
    "plt.title('Curva de Precisão')\n",
    "plt.xlabel('Época')\n",
    "plt.ylabel('Precisão')\n",
    "plt.legend()\n",
    "\n",
    "plt.subplot(1, 2, 2)\n",
    "plt.plot(history.history['loss'], color='teal', label='loss')\n",
    "plt.plot(history.history['val_loss'], color='purple', label='val_loss')\n",
    "plt.title('Curva de Perda')\n",
    "plt.xlabel('Época')\n",
    "plt.ylabel('Perda')\n",
    "plt.legend()\n",
    "\n",
    "plt.show()"
   ]
  },
  {
   "cell_type": "markdown",
   "metadata": {
    "id": "f-W4euBwRQVb"
   },
   "source": [
    "###### Plot Confusion Matrix"
   ]
  },
  {
   "cell_type": "markdown",
   "metadata": {
    "id": "FB8i1P5fYlSo"
   },
   "source": [
    "A matriz de confusão é uma tabela que mostra as contagens de verdadeiros positivos, verdadeiros negativos, falsos positivos e falsos negativos. É especialmente útil em problemas de classificação com várias classes.\n"
   ]
  },
  {
   "cell_type": "code",
   "execution_count": null,
   "metadata": {
    "colab": {
     "base_uri": "https://localhost:8080/",
     "height": 581
    },
    "id": "Ml2tk8xqRPIq",
    "outputId": "df5998fc-3060-40c9-9945-8bf943e09b1b"
   },
   "outputs": [
    {
     "name": "stdout",
     "output_type": "stream",
     "text": [
      "16/16 [==============================] - 0s 10ms/step\n"
     ]
    },
    {
     "data": {
      "image/png": "[encoded data removed]",
      "text/plain": [
       "<Figure size 800x600 with 2 Axes>"
      ]
     },
     "metadata": {},
     "output_type": "display_data"
    }
   ],
   "source": [
    "from sklearn.metrics import confusion_matrix\n",
    "import seaborn as sns\n",
    "\n",
    "# Obter previsões do conjunto de teste\n",
    "predictions = model.predict(test_dataset)\n",
    "predicted_labels = np.argmax(predictions, axis=1)  # Use argmax para obter a classe prevista\n",
    "\n",
    "# Obter rótulos verdadeiros do conjunto de teste\n",
    "true_labels = [label for _, label in test_dataset.unbatch()]\n",
    "\n",
    "# Calcular a matriz de confusão\n",
    "conf_matrix = confusion_matrix(true_labels, predicted_labels)\n",
    "\n",
    "# Definir rótulos das classes\n",
    "class_labels = [\"German\", \"Indian\", \"Japanese\", \"Spanish\"]\n",
    "\n",
    "# Visualizar a matriz de confusão\n",
    "plt.figure(figsize=(8, 6))\n",
    "sns.heatmap(conf_matrix, annot=True, fmt=\"d\", cmap=\"PuRd\", xticklabels=class_labels, yticklabels=class_labels)\n",
    "plt.xlabel(\"Previsões\")\n",
    "plt.ylabel(\"Rótulos Verdadeiros\")\n",
    "plt.title(\"Matriz de Confusão\")\n",
    "plt.show()"
   ]
  },
  {
   "cell_type": "markdown",
   "metadata": {
    "id": "fisksp8oSJ1Y",
    "jp-MarkdownHeadingCollapsed": true
   },
   "source": [
    "###### Plot Heatmap Error"
   ]
  },
  {
   "cell_type": "markdown",
   "metadata": {
    "id": "7UzDwJD2YikN"
   },
   "source": [
    "Criar heatmaps que destacam onde o modelo está cometendo erros pode ajudar a identificar padrões específicos que podem ser melhorados."
   ]
  },
  {
   "cell_type": "code",
   "execution_count": null,
   "metadata": {
    "colab": {
     "base_uri": "https://localhost:8080/"
    },
    "id": "N3v0oVe9SRDm",
    "outputId": "bb000acf-1a01-4cfe-84c7-abfbfb426ab5"
   },
   "outputs": [
    {
     "data": {
      "image/png": "[encoded data removed]",
      "text/plain": [
       "<Figure size 800x600 with 2 Axes>"
      ]
     },
     "metadata": {},
     "output_type": "display_data"
    }
   ],
   "source": [
    "# Obter rótulos verdadeiros do conjunto de teste\n",
    "true_labels = [label for _, label in test_dataset.unbatch()]\n",
    "\n",
    "# Calcular a matriz de confusão\n",
    "conf_matrix = confusion_matrix(true_labels, predicted_labels)\n",
    "\n",
    "# Calcular o heatmap de erros\n",
    "error_matrix = conf_matrix - np.eye(conf_matrix.shape[0], dtype=int)  # Subtrair a diagonal para obter os erros\n",
    "\n",
    "# Definir rótulos das classes\n",
    "class_labels = [\"German\", \"Indian\", \"Japanese\", \"Spanish\"]\n",
    "\n",
    "# Visualizar o heatmap de erros\n",
    "plt.figure(figsize=(8, 6))\n",
    "sns.heatmap(error_matrix, annot=True, fmt=\"d\", cmap=\"PuBu\", xticklabels=class_labels, yticklabels=class_labels)\n",
    "plt.xlabel(\"Previsões\")\n",
    "plt.ylabel(\"Rótulos Verdadeiros\")\n",
    "plt.title(\"Heatmap de Erros\")\n",
    "plt.show()"
   ]
  },
  {
   "cell_type": "markdown",
   "metadata": {
    "id": "sN1Wfz9UUhZ6",
    "jp-MarkdownHeadingCollapsed": true
   },
   "source": [
    "### Evaluating HeatMap"
   ]
  },
  {
   "cell_type": "code",
   "execution_count": null,
   "metadata": {
    "colab": {
     "base_uri": "https://localhost:8080/"
    },
    "id": "4FptD921YZbt",
    "outputId": "93ae4da4-0d9a-45ad-c27a-c6f6244055bf"
   },
   "outputs": [
    {
     "name": "stdout",
     "output_type": "stream",
     "text": [
      "Requirement already satisfied: tf-keras-vis in /usr/local/lib/python3.10/dist-packages (0.8.6)\n",
      "Requirement already satisfied: scipy in /usr/local/lib/python3.10/dist-packages (from tf-keras-vis) (1.11.4)\n",
      "Requirement already satisfied: pillow in /usr/local/lib/python3.10/dist-packages (from tf-keras-vis) (9.4.0)\n",
      "Requirement already satisfied: deprecated in /usr/local/lib/python3.10/dist-packages (from tf-keras-vis) (1.2.14)\n",
      "Requirement already satisfied: imageio in /usr/local/lib/python3.10/dist-packages (from tf-keras-vis) (2.31.6)\n",
      "Requirement already satisfied: packaging in /usr/local/lib/python3.10/dist-packages (from tf-keras-vis) (23.2)\n",
      "Requirement already satisfied: wrapt<2,>=1.10 in /usr/local/lib/python3.10/dist-packages (from deprecated->tf-keras-vis) (1.14.1)\n",
      "Requirement already satisfied: numpy in /usr/local/lib/python3.10/dist-packages (from imageio->tf-keras-vis) (1.23.5)\n"
     ]
    }
   ],
   "source": [
    "pip install tf-keras-vis"
   ]
  },
  {
   "cell_type": "code",
   "execution_count": null,
   "metadata": {
    "id": "gVcqK4zeUtAd"
   },
   "outputs": [],
   "source": [
    "from tensorflow.keras.models import load_model\n",
    "from tensorflow.keras.preprocessing import image\n",
    "from tf_keras_vis.utils import normalize\n",
    "import cv2"
   ]
  },
  {
   "cell_type": "code",
   "execution_count": null,
   "metadata": {
    "colab": {
     "base_uri": "https://localhost:8080/"
    },
    "id": "KG-BukO3H5_4",
    "outputId": "b5757735-1618-4fb5-9cd6-7066c4d90c63"
   },
   "outputs": [
    {
     "data": {
      "image/png": "[encoded data removed]",
      "text/plain": [
       "<Figure size 2000x400 with 5 Axes>"
      ]
     },
     "metadata": {},
     "output_type": "display_data"
    }
   ],
   "source": [
    "# Caminho para o diretório de teste\n",
    "test_dir_german = 'D:\\\\.Dataset28022024 - TCC\\\\result\\\\test\\\\german'\n",
    "\n",
    "# Carregar 5 imagens do diretório de teste\n",
    "image_list = os.listdir(test_dir_german)[:5]\n",
    "\n",
    "# Configurar subplots\n",
    "fig, axs = plt.subplots(1, 5, figsize=(20, 4))\n",
    "fig.subplots_adjust(wspace=0.5)\n",
    "\n",
    "for i, img_name in enumerate(image_list):\n",
    "    # Carregar a imagem\n",
    "    img_path = os.path.join(test_dir_german, img_name)\n",
    "    img = image.load_img(img_path, target_size=(28, 28))\n",
    "    img_array = image.img_to_array(img)\n",
    "    img_array = np.expand_dims(img_array, axis=0)\n",
    "\n",
    "    # Simular o mapa de calor (substitua esta parte pelo seu código real)\n",
    "    heatmap_expanded = np.random.rand(1, 16, 16, 3)\n",
    "\n",
    "    # Redimensionar o mapa de calor para o tamanho original da imagem\n",
    "    heatmap_resized = cv2.resize(heatmap_expanded[0], (img_array.shape[2], img_array.shape[1]))\n",
    "\n",
    "    # Converter para um intervalo de 0 a 255\n",
    "    heatmap_resized *= 255\n",
    "\n",
    "    # Converter para inteiro\n",
    "    heatmap_resized = heatmap_resized.astype(np.uint8)\n",
    "\n",
    "    # Converter a imagem para escala de cinza\n",
    "    gray_img = cv2.cvtColor(img_array[0].astype(np.uint8), cv2.COLOR_BGR2GRAY)\n",
    "\n",
    "    # Sobrepôr o mapa de calor na imagem em escala de cinza\n",
    "    heatmap_colored = cv2.applyColorMap(gray_img, cv2.COLORMAP_JET)\n",
    "    superimposed_img = cv2.addWeighted(heatmap_colored, 0.4, heatmap_resized, 0.6, 0)\n",
    "\n",
    "    # Exibir a imagem e o Grad-CAM no subplot correspondente\n",
    "    axs[i].imshow(superimposed_img)\n",
    "    axs[i].set_title(f'Image {i+1}')\n",
    "    axs[i].axis('off')\n",
    "\n",
    "plt.show()"
   ]
  },
  {
   "cell_type": "code",
   "execution_count": null,
   "metadata": {
    "colab": {
     "base_uri": "https://localhost:8080/"
    },
    "id": "_5TxTpVAIBSe",
    "outputId": "85e0c396-3ca7-47a2-cb25-2dc9a2639d64"
   },
   "outputs": [
    {
     "data": {
      "image/png": "[encoded data removed]",
      "text/plain": [
       "<Figure size 2000x400 with 5 Axes>"
      ]
     },
     "metadata": {},
     "output_type": "display_data"
    }
   ],
   "source": [
    "# Caminho para o diretório de teste\n",
    "test_dir_indian = 'D:\\\\.Dataset28022024 - TCC\\\\result\\\\test\\\\indian'\n",
    "\n",
    "# Carregar 5 imagens do diretório de teste\n",
    "image_list = os.listdir(test_dir_indian)[:5]\n",
    "\n",
    "# Configurar subplots\n",
    "fig, axs = plt.subplots(1, 5, figsize=(20, 4))\n",
    "fig.subplots_adjust(wspace=0.5)\n",
    "\n",
    "for i, img_name in enumerate(image_list):\n",
    "    # Carregar a imagem\n",
    "    img_path = os.path.join(test_dir_indian, img_name)\n",
    "    img = image.load_img(img_path, target_size=(28, 28))\n",
    "    img_array = image.img_to_array(img)\n",
    "    img_array = np.expand_dims(img_array, axis=0)\n",
    "\n",
    "    # Simular o mapa de calor (substitua esta parte pelo seu código real)\n",
    "    heatmap_expanded = np.random.rand(1, 16, 16, 3)\n",
    "\n",
    "    # Redimensionar o mapa de calor para o tamanho original da imagem\n",
    "    heatmap_resized = cv2.resize(heatmap_expanded[0], (img_array.shape[2], img_array.shape[1]))\n",
    "\n",
    "    # Converter para um intervalo de 0 a 255\n",
    "    heatmap_resized *= 255\n",
    "\n",
    "    # Converter para inteiro\n",
    "    heatmap_resized = heatmap_resized.astype(np.uint8)\n",
    "\n",
    "    # Converter a imagem para escala de cinza\n",
    "    gray_img = cv2.cvtColor(img_array[0].astype(np.uint8), cv2.COLOR_BGR2GRAY)\n",
    "\n",
    "    # Sobrepôr o mapa de calor na imagem em escala de cinza\n",
    "    heatmap_colored = cv2.applyColorMap(gray_img, cv2.COLORMAP_JET)\n",
    "    superimposed_img = cv2.addWeighted(heatmap_colored, 0.4, heatmap_resized, 0.6, 0)\n",
    "\n",
    "    # Exibir a imagem e o Grad-CAM no subplot correspondente\n",
    "    axs[i].imshow(superimposed_img)\n",
    "    axs[i].set_title(f'Image {i+1}')\n",
    "    axs[i].axis('off')\n",
    "\n",
    "plt.show()"
   ]
  },
  {
   "cell_type": "code",
   "execution_count": null,
   "metadata": {
    "colab": {
     "base_uri": "https://localhost:8080/"
    },
    "id": "Z8yPEuQhgJhO",
    "outputId": "8c76d07d-fe92-4b56-c06c-24fdb2692cc8"
   },
   "outputs": [
    {
     "data": {
      "image/png": "[encoded data removed]",
      "text/plain": [
       "<Figure size 2000x400 with 5 Axes>"
      ]
     },
     "metadata": {},
     "output_type": "display_data"
    }
   ],
   "source": [
    "# Caminho para o diretório de teste\n",
    "test_dir_japanese = 'D:\\\\.Dataset28022024 - TCC\\\\result\\\\test\\\\japanese'\n",
    "\n",
    "# Carregar 5 imagens do diretório de teste\n",
    "image_list = os.listdir(test_dir_japanese)[:5]\n",
    "\n",
    "# Configurar subplots\n",
    "fig, axs = plt.subplots(1, 5, figsize=(20, 4))\n",
    "fig.subplots_adjust(wspace=0.5)\n",
    "\n",
    "for i, img_name in enumerate(image_list):\n",
    "    # Carregar a imagem\n",
    "    img_path = os.path.join(test_dir_japanese, img_name)\n",
    "    img = image.load_img(img_path, target_size=(28, 28))\n",
    "    img_array = image.img_to_array(img)\n",
    "    img_array = np.expand_dims(img_array, axis=0)\n",
    "\n",
    "    # Simular o mapa de calor (substitua esta parte pelo seu código real)\n",
    "    heatmap_expanded = np.random.rand(1, 16, 16, 3)\n",
    "\n",
    "    # Redimensionar o mapa de calor para o tamanho original da imagem\n",
    "    heatmap_resized = cv2.resize(heatmap_expanded[0], (img_array.shape[2], img_array.shape[1]))\n",
    "\n",
    "    # Converter para um intervalo de 0 a 255\n",
    "    heatmap_resized *= 255\n",
    "\n",
    "    # Converter para inteiro\n",
    "    heatmap_resized = heatmap_resized.astype(np.uint8)\n",
    "\n",
    "    # Converter a imagem para escala de cinza\n",
    "    gray_img = cv2.cvtColor(img_array[0].astype(np.uint8), cv2.COLOR_BGR2GRAY)\n",
    "\n",
    "    # Sobrepôr o mapa de calor na imagem em escala de cinza\n",
    "    heatmap_colored = cv2.applyColorMap(gray_img, cv2.COLORMAP_JET)\n",
    "    superimposed_img = cv2.addWeighted(heatmap_colored, 0.4, heatmap_resized, 0.6, 0)\n",
    "\n",
    "    # Exibir a imagem e o Grad-CAM no subplot correspondente\n",
    "    axs[i].imshow(superimposed_img)\n",
    "    axs[i].set_title(f'Image {i+1}')\n",
    "    axs[i].axis('off')\n",
    "\n",
    "plt.show()"
   ]
  },
  {
   "cell_type": "code",
   "execution_count": null,
   "metadata": {
    "colab": {
     "base_uri": "https://localhost:8080/"
    },
    "id": "uGAiB2wwfYbM",
    "outputId": "4887e269-9114-412f-93ef-cfe93954b4ec"
   },
   "outputs": [
    {
     "data": {
      "image/png": "[encoded data removed]",
      "text/plain": [
       "<Figure size 2000x400 with 5 Axes>"
      ]
     },
     "metadata": {},
     "output_type": "display_data"
    }
   ],
   "source": [
    "# Caminho para o diretório de teste\n",
    "test_dir_spanish = 'D:\\\\.Dataset28022024 - TCC\\\\result\\\\test\\\\spanish'\n",
    "\n",
    "# Carregar 5 imagens do diretório de teste\n",
    "image_list = os.listdir(test_dir_spanish)[:5]\n",
    "\n",
    "# Configurar subplots\n",
    "fig, axs = plt.subplots(1, 5, figsize=(20, 4))\n",
    "fig.subplots_adjust(wspace=0.5)\n",
    "\n",
    "for i, img_name in enumerate(image_list):\n",
    "    # Carregar a imagem\n",
    "    img_path = os.path.join(test_dir_spanish, img_name)\n",
    "    img = image.load_img(img_path, target_size=(28, 28))\n",
    "    img_array = image.img_to_array(img)\n",
    "    img_array = np.expand_dims(img_array, axis=0)\n",
    "\n",
    "    # Simular o mapa de calor (substitua esta parte pelo seu código real)\n",
    "    heatmap_expanded = np.random.rand(1, 16, 16, 3)\n",
    "\n",
    "    # Redimensionar o mapa de calor para o tamanho original da imagem\n",
    "    heatmap_resized = cv2.resize(heatmap_expanded[0], (img_array.shape[2], img_array.shape[1]))\n",
    "\n",
    "    # Converter para um intervalo de 0 a 255\n",
    "    heatmap_resized *= 255\n",
    "\n",
    "    # Converter para inteiro\n",
    "    heatmap_resized = heatmap_resized.astype(np.uint8)\n",
    "\n",
    "    # Converter a imagem para escala de cinza\n",
    "    gray_img = cv2.cvtColor(img_array[0].astype(np.uint8), cv2.COLOR_BGR2GRAY)\n",
    "\n",
    "    # Sobrepôr o mapa de calor na imagem em escala de cinza\n",
    "    heatmap_colored = cv2.applyColorMap(gray_img, cv2.COLORMAP_JET)\n",
    "    superimposed_img = cv2.addWeighted(heatmap_colored, 0.4, heatmap_resized, 0.6, 0)\n",
    "\n",
    "    # Exibir a imagem e o Grad-CAM no subplot correspondente\n",
    "    axs[i].imshow(superimposed_img)\n",
    "    axs[i].set_title(f'Image {i+1}')\n",
    "    axs[i].axis('off')\n",
    "\n",
    "plt.show()"
   ]
  },
  {
   "cell_type": "markdown",
   "metadata": {
    "id": "1iUOm0GQ7yXl",
    "jp-MarkdownHeadingCollapsed": true
   },
   "source": [
    "### Testing Model with other images"
   ]
  },
  {
   "cell_type": "code",
   "execution_count": null,
   "metadata": {
    "id": "ZCIHtvrY8No2"
   },
   "outputs": [],
   "source": [
    "import cv2"
   ]
  },
  {
   "cell_type": "code",
   "execution_count": null,
   "metadata": {
    "id": "8tupf3cT7xlr"
   },
   "outputs": [],
   "source": [
    "german_path = 'C:\\\\Users\\\\Larissa Santana\\\\Documents\\\\UFAL\\\\TCC\\\\test_image_labels\\\\german.jpg'\n",
    "indian_path = 'C:\\\\Users\\\\Larissa Santana\\\\Documents\\\\UFAL\\\\TCC\\\\test_image_labels\\\\indian.jpg'\n",
    "japanese_path = 'C:\\\\Users\\\\Larissa Santana\\\\Documents\\\\UFAL\\\\TCC\\\\test_image_labels\\\\japanese.jpg'\n",
    "spanish_path = 'C:\\\\Users\\\\Larissa Santana\\\\Documents\\\\UFAL\\\\TCC\\\\test_image_labels\\\\spanish.jpg'"
   ]
  },
  {
   "cell_type": "code",
   "execution_count": null,
   "metadata": {
    "colab": {
     "base_uri": "https://localhost:8080/"
    },
    "id": "DnxaWaT373Jp",
    "outputId": "051d61e2-c834-4a31-eda3-a49317ea631e"
   },
   "outputs": [
    {
     "data": {
      "image/png": "[encoded data removed]",
      "text/plain": [
       "<Figure size 600x200 with 4 Axes>"
      ]
     },
     "metadata": {},
     "output_type": "display_data"
    }
   ],
   "source": [
    "german = preprocess_image(german_path)\n",
    "indian = preprocess_image(indian_path)\n",
    "japanese = preprocess_image(japanese_path)\n",
    "spanish = preprocess_image(spanish_path)\n",
    "\n",
    "plt.figure(figsize=(6, 2))\n",
    "\n",
    "plt.subplot(1, 4, 1)\n",
    "plt.imshow(german)\n",
    "plt.axis('off')\n",
    "\n",
    "plt.subplot(1, 4, 2)\n",
    "plt.imshow(indian)\n",
    "plt.axis('off')\n",
    "\n",
    "plt.subplot(1, 4, 3)\n",
    "plt.imshow(japanese)\n",
    "plt.axis('off')\n",
    "\n",
    "plt.subplot(1, 4, 4)\n",
    "plt.imshow(spanish)\n",
    "plt.axis('off')\n",
    "\n",
    "plt.show()"
   ]
  },
  {
   "cell_type": "code",
   "execution_count": null,
   "metadata": {
    "colab": {
     "base_uri": "https://localhost:8080/"
    },
    "id": "ta446RLtJ0P5",
    "outputId": "c67b2a2e-9e6b-4e37-fda0-d5a08fcc44fb"
   },
   "outputs": [
    {
     "name": "stdout",
     "output_type": "stream",
     "text": [
      "1/1 [==============================] - 0s 32ms/step\n",
      "Predicted class for sample 1 is Spanish with confidence 0.515505850315094\n",
      "Predicted class for sample 2 is Spanish with confidence 0.5155078768730164\n",
      "Predicted class for sample 3 is Spanish with confidence 0.5155181288719177\n",
      "Predicted class for sample 4 is Spanish with confidence 0.5155434608459473\n"
     ]
    }
   ],
   "source": [
    "german_normalized = german / 255.0\n",
    "indian_normalized = indian / 255.0\n",
    "japanese_normalized = japanese / 255.0\n",
    "spanish_normalized = spanish / 255.0\n",
    "\n",
    "# Suponha que você tenha um conjunto de dados com todas as imagens\n",
    "all_images = np.array([german_normalized, indian_normalized, japanese_normalized, spanish_normalized])\n",
    "\n",
    "# Use a função predict diretamente no conjunto de dados\n",
    "all_predictions = model.predict(all_images)\n",
    "\n",
    "threshold = 0.5  # Escolha um valor de limiar adequado\n",
    "\n",
    "# Lista de nomes de labels correspondentes aos índices previstos\n",
    "label_names = ['German', 'Indian', 'Japanese', 'Spanish']\n",
    "\n",
    "# Iterar sobre as previsões para cada classe\n",
    "for i, predictions in enumerate(all_predictions):\n",
    "    predicted_class = np.argmax(predictions)\n",
    "    confidence = predictions[predicted_class]\n",
    "    predicted_label = label_names[predicted_class]\n",
    "\n",
    "    if confidence > threshold:\n",
    "        print(f'Predicted class for sample {i + 1} is {predicted_label} with confidence {confidence}')\n",
    "    else:\n",
    "        print(f'Sample {i + 1} is None of the above')"
   ]
  }
 ],
 "metadata": {
  "accelerator": "GPU",
  "colab": {
   "collapsed_sections": [
    "qnrp1Wu3ZFK_",
    "9Zzbt5jzbcBa",
    "xkjWKCKBkVtF",
    "aYHzzr4ijvbK",
    "YkXkUHfVW2hX",
    "hVqlj_J8XEXc",
    "NSs9A3HV7n2O"
   ],
   "gpuType": "T4",
   "provenance": []
  },
  "kernelspec": {
   "display_name": "Python 3 (ipykernel)",
   "language": "python",
   "name": "python3"
  },
  "language_info": {
   "codemirror_mode": {
    "name": "ipython",
    "version": 3
   },
   "file_extension": ".py",
   "mimetype": "text/x-python",
   "name": "python",
   "nbconvert_exporter": "python",
   "pygments_lexer": "ipython3",
   "version": "3.9.18"
  }
 },
 "nbformat": 4,
 "nbformat_minor": 4
}
