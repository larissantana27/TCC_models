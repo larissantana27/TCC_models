{
 "cells": [
  {
   "cell_type": "markdown",
   "metadata": {
    "id": "_MKu1DQSbNw2"
   },
   "source": [
    "* Labels: All\n",
    "* Size: (28,28)\n",
    "* Data augmentation: YES (without generators and chances for caracteristics)\n",
    "* Model Layers: 2 conv2D (64,64), 2 dense layers and relu in all layers\n",
    "* Testing implemented\n",
    "* New Dataset"
   ]
  },
  {
   "cell_type": "markdown",
   "metadata": {
    "id": "xkjWKCKBkVtF"
   },
   "source": [
    "### Defining Dataset Path"
   ]
  },
  {
   "cell_type": "code",
   "execution_count": 1,
   "metadata": {},
   "outputs": [],
   "source": [
    "import os\n",
    "dataset_directory = 'D:\\\\.Dataset28022024 - TCC\\\\labels'\n",
    "os.makedirs(dataset_directory, exist_ok=True)\n",
    "os.chdir(dataset_directory)"
   ]
  },
  {
   "cell_type": "markdown",
   "metadata": {
    "id": "xkjWKCKBkVtF"
   },
   "source": [
    "### Loading Data into train, validation and teste folders"
   ]
  },
  {
   "cell_type": "code",
   "execution_count": 2,
   "metadata": {
    "id": "8wgbY4zSukxW"
   },
   "outputs": [],
   "source": [
    "from shutil import copyfile\n",
    "# from sklearn.model_selection import train_test_split"
   ]
  },
  {
   "cell_type": "code",
   "execution_count": 3,
   "metadata": {
    "id": "0K9shcjBumpg"
   },
   "outputs": [],
   "source": [
    "train_directory = 'D:\\\\.Dataset28022024 - TCC\\\\result\\\\train'\n",
    "validation_directory = 'D:\\\\.Dataset28022024 - TCC\\\\result\\\\validate'\n",
    "test_directory = 'D:\\\\.Dataset28022024 - TCC\\\\result\\\\test'"
   ]
  },
  {
   "cell_type": "code",
   "execution_count": 101,
   "metadata": {
    "id": "Z7jhP_-Y7clt"
   },
   "outputs": [],
   "source": [
    "def load_data_into_train_validation_test(dataset_directory, train_directory, validation_directory, test_directory):\n",
    "    \n",
    "    # Lista de pastas de classe (uma pasta para cada classe de roupa)\n",
    "    class_folders = os.listdir(dataset_directory)\n",
    "    \n",
    "    # Porcentagem de imagens para validação e teste (10% para cada)\n",
    "    validation_percent = 0.17\n",
    "    test_percent = 0.14\n",
    "    \n",
    "    # Loop através de cada pasta de classe\n",
    "    for class_folder in class_folders:\n",
    "    \n",
    "        # Diretório completo da pasta de classe original\n",
    "        class_folder_path = os.path.join(dataset_directory, class_folder)\n",
    "    \n",
    "        # Lista de todas as imagens na pasta de classe\n",
    "        images = os.listdir(class_folder_path)\n",
    "    \n",
    "        # Calcule o número de imagens a serem movidas para validação e teste\n",
    "        validation_images_quantity = int(len(images) * validation_percent)\n",
    "        test_images_quantity = int(len(images) * test_percent)\n",
    "    \n",
    "        # Divida as imagens em treinamento, validação e teste\n",
    "        train_images = images[validation_images_quantity + test_images_quantity:]\n",
    "        validation_images = images[:validation_images_quantity]\n",
    "        test_images = images[validation_images_quantity:validation_images_quantity + test_images_quantity]\n",
    "        print(\"train_images\", train_images)\n",
    "    \n",
    "        # Crie diretórios para treinamento, validação e teste para a classe atual\n",
    "        train_class_directory = os.path.join(train_directory, class_folder)\n",
    "        validation_class_directory = os.path.join(validation_directory, class_folder)\n",
    "        test_class_directory = os.path.join(test_directory, class_folder)\n",
    "    \n",
    "        # print(\"train_class_directory\", train_class_directory)\n",
    "        # print(\"validation_class_directory\", validation_class_directory)\n",
    "        # print(\"test_class_directory\", test_class_directory)\n",
    "\n",
    "        os.makedirs(train_class_directory, exist_ok=True)\n",
    "        os.makedirs(validation_class_directory, exist_ok=True)\n",
    "        os.makedirs(test_class_directory, exist_ok=True)\n",
    "\n",
    "        # Mova as imagens para os diretórios correspondentes\n",
    "        for image in train_images:\n",
    "            # print(\"image\", image)\n",
    "            src = os.path.join(class_folder_path, image)\n",
    "            # print(\"scr\", src)\n",
    "            dst = os.path.join(train_class_directory, image)\n",
    "            # print(\"dst\", dst)\n",
    "            copyfile(src, dst)\n",
    "    \n",
    "        for image in validation_images:\n",
    "            src = os.path.join(class_folder_path, image)\n",
    "            dst = os.path.join(validation_class_directory, image)\n",
    "            copyfile(src, dst)\n",
    "    \n",
    "        for image in test_images:\n",
    "            src = os.path.join(class_folder_path, image)\n",
    "            dst = os.path.join(test_class_directory, image)\n",
    "            copyfile(src, dst)"
   ]
  },
  {
   "cell_type": "code",
   "execution_count": 102,
   "metadata": {},
   "outputs": [
    {
     "name": "stdout",
     "output_type": "stream",
     "text": [
      "train_images ['img-230.jpg', 'img-231.jpg', 'img-233.jpg', 'img-235.jpg', 'img-236.jpg', 'img-238.jpg', 'img-239.jpg', 'img-24.jpg', 'img-240.jpg', 'img-241.jpg', 'img-242.jpg', 'img-243.jpg', 'img-244.jpg', 'img-245.jpg', 'img-246.jpg', 'img-247.jpg', 'img-248.jpg', 'img-249.jpg', 'img-25.jpg', 'img-250.jpg', 'img-251.jpg', 'img-252.jpg', 'img-253.jpg', 'img-254.jpg', 'img-2543.jpg', 'img-2544.jpg', 'img-2545.jpg', 'img-2546.jpg', 'img-2547.jpg', 'img-255.jpg', 'img-2551.jpg', 'img-2552.jpg', 'img-2553.jpg', 'img-2554.jpg', 'img-2555.jpg', 'img-2556.jpg', 'img-2557.jpg', 'img-2558.jpg', 'img-2559.jpg', 'img-256.jpg', 'img-2560.jpg', 'img-257.jpg', 'img-258.jpg', 'img-2581.jpg', 'img-2582.jpg', 'img-2583.jpg', 'img-2584.jpg', 'img-2585.jpg', 'img-2586.jpg', 'img-2587.jpg', 'img-2588.jpg', 'img-2589.jpg', 'img-259.jpg', 'img-2590.jpg', 'img-2591.jpg', 'img-2592.jpg', 'img-2593.jpg', 'img-2594.jpg', 'img-2595.jpg', 'img-2596.jpg', 'img-2598.jpg', 'img-2599.jpg', 'img-26.jpg', 'img-260.jpg', 'img-2600.jpg', 'img-2604.jpg', 'img-2605.jpg', 'img-2606.jpg', 'img-2607.jpg', 'img-2608.jpg', 'img-2609.jpg', 'img-261.jpg', 'img-2610.jpg', 'img-2611.jpg', 'img-2612.jpg', 'img-2613.jpg', 'img-2614.jpg', 'img-2615.jpg', 'img-2616.jpg', 'img-2617.jpg', 'img-2618.jpg', 'img-2619.jpg', 'img-262.jpg', 'img-2620.jpg', 'img-2621.jpg', 'img-2622.jpg', 'img-2623.jpg', 'img-2624.jpg', 'img-2625.jpg', 'img-2626.jpg', 'img-2627.jpg', 'img-2628.jpg', 'img-2629.jpg', 'img-263.jpg', 'img-2630.jpg', 'img-2631.jpg', 'img-2632.jpg', 'img-2633.jpg', 'img-2634.jpg', 'img-2635.jpg', 'img-2636.jpg', 'img-2637.jpg', 'img-2638.jpg', 'img-2639.jpg', 'img-264.jpg', 'img-2640.jpg', 'img-2641.jpg', 'img-2642.jpg', 'img-2643.jpg', 'img-2644.jpg', 'img-2645.jpg', 'img-2647.jpg', 'img-2648.jpg', 'img-2649.jpg', 'img-265.jpg', 'img-2650.jpg', 'img-2651.jpg', 'img-2652.jpg', 'img-2653.jpg', 'img-2654.jpg', 'img-2655.jpg', 'img-2656.jpg', 'img-2657.jpg', 'img-2658.jpg', 'img-2659.jpg', 'img-266.jpg', 'img-2660.jpg', 'img-2661.jpg', 'img-2662.jpg', 'img-2663.jpg', 'img-2664.jpg', 'img-2665.jpg', 'img-2666.jpg', 'img-2667.jpg', 'img-2668.jpg', 'img-2669.jpg', 'img-267.jpg', 'img-2670.jpg', 'img-2671.jpg', 'img-2672.jpg', 'img-2673.jpg', 'img-2674.jpg', 'img-2675.jpg', 'img-2678.jpg', 'img-268.jpg', 'img-2683.jpg', 'img-2684.jpg', 'img-2685.jpg', 'img-2686.jpg', 'img-2687.jpg', 'img-2688.jpg', 'img-2689.jpg', 'img-269.jpg', 'img-2690.jpg', 'img-2693.jpg', 'img-2694.jpg', 'img-2695.jpg', 'img-2696.jpg', 'img-2697.jpg', 'img-2698.jpg', 'img-2699.jpg', 'img-27.jpg', 'img-270.jpg', 'img-2700.jpg', 'img-2701.jpg', 'img-2703.jpg', 'img-2704.jpg', 'img-2705.jpg', 'img-2706.jpg', 'img-2707.jpg', 'img-2708.jpg', 'img-2709.jpg', 'img-271.jpg', 'img-2712.jpg', 'img-2716.jpg', 'img-2717.jpg', 'img-272.jpg', 'img-2720.jpg', 'img-2725.jpg', 'img-273.jpg', 'img-274.jpg', 'img-275.jpg', 'img-2755.jpg', 'img-276.jpg', 'img-2760.jpg', 'img-2761.jpg', 'img-2762.jpg', 'img-2763.jpg', 'img-2766.jpg', 'img-2769.jpg', 'img-277.jpg', 'img-2770.jpg', 'img-2771.jpg', 'img-2777.jpg', 'img-2778.jpg', 'img-2779.jpg', 'img-278.jpg', 'img-2780.jpg', 'img-2781.jpg', 'img-2782.jpg', 'img-2783.jpg', 'img-2784.jpg', 'img-2785.jpg', 'img-2786.jpg', 'img-2787.jpg', 'img-2788.jpg', 'img-2789.jpg', 'img-279.jpg', 'img-2790.jpg', 'img-2791.jpg', 'img-2792.jpg', 'img-2793.jpg', 'img-2794.jpg', 'img-2795.jpg', 'img-2796.jpg', 'img-2797.jpg', 'img-2798.jpg', 'img-2799.jpg', 'img-28.jpg', 'img-280.jpg', 'img-2800.jpg', 'img-2801.jpg', 'img-2802.jpg', 'img-2803.jpg', 'img-2804.jpg', 'img-2805.jpg', 'img-2806.jpg', 'img-2807.jpg', 'img-2808.jpg', 'img-2809.jpg', 'img-281.jpg', 'img-2810.jpg', 'img-2811.jpg', 'img-2812.jpg', 'img-2813.jpg', 'img-2814.jpg', 'img-2815.jpg', 'img-2816.jpg', 'img-2817.jpg', 'img-2818.jpg', 'img-2819.jpg', 'img-282.jpg', 'img-2820.jpg', 'img-2821.jpg', 'img-2822.jpg', 'img-2823.jpg', 'img-2824.jpg', 'img-2825.jpg', 'img-2826.jpg', 'img-2827.jpg', 'img-2828.jpg', 'img-2829.jpg', 'img-283.jpg', 'img-2830.jpg', 'img-2831.jpg', 'img-2832.jpg', 'img-2833.jpg', 'img-2834.jpg', 'img-2835.jpg', 'img-2836.jpg', 'img-2837.jpg', 'img-2838.jpg', 'img-2839.jpg', 'img-284.jpg', 'img-2840.jpg', 'img-2841.jpg', 'img-2842.jpg', 'img-2843.jpg', 'img-2844.jpg', 'img-2845.jpg', 'img-2846.jpg', 'img-2847.jpg', 'img-2848.jpg', 'img-2849.jpg', 'img-285.jpg', 'img-2850.jpg', 'img-2851.jpg', 'img-2852.jpg', 'img-2853.jpg', 'img-2856.jpg', 'img-2857.jpg', 'img-2858.jpg', 'img-2859.jpg', 'img-286.jpg', 'img-2861.jpg', 'img-2862.jpg', 'img-2863.jpg', 'img-2864.jpg', 'img-2865.jpg', 'img-2866.jpg', 'img-2867.jpg', 'img-2868.jpg', 'img-2869.jpg', 'img-287.jpg', 'img-2870.jpg', 'img-2871.jpg', 'img-2872.jpg', 'img-2873.jpg', 'img-2874.jpg', 'img-2875.jpg', 'img-2876.jpg', 'img-2877.jpg', 'img-2879.jpg', 'img-288.jpg', 'img-2880.jpg', 'img-2881.jpg', 'img-2882.jpg', 'img-2883.jpg', 'img-2884.jpg', 'img-2885.jpg', 'img-2886.jpg', 'img-2887.jpg', 'img-2888.jpg', 'img-2889.jpg', 'img-289.jpg', 'img-2890.jpg', 'img-2891.jpg', 'img-2892.jpg', 'img-2893.jpg', 'img-2894.jpg', 'img-2896.jpg', 'img-2899.jpg', 'img-29.jpg', 'img-290.jpg', 'img-2900.jpg', 'img-2901.jpg', 'img-2902.jpg', 'img-2903.jpg', 'img-2904.jpg', 'img-2905.jpg', 'img-2906.jpg', 'img-2907.jpg', 'img-2908.jpg', 'img-2909.jpg', 'img-291.jpg', 'img-2910.jpg', 'img-2911.jpg', 'img-2912.jpg', 'img-2913.jpg', 'img-2914.jpg', 'img-2915.jpg', 'img-2916.jpg', 'img-2917.jpg', 'img-2918.jpg', 'img-2919.jpg', 'img-292.jpg', 'img-2920.jpg', 'img-2921.jpg', 'img-2922.jpg', 'img-2923.jpg', 'img-2924.jpg', 'img-2925.jpg', 'img-2926.jpg', 'img-2927.jpg', 'img-2928.jpg', 'img-2929.jpg', 'img-293.jpg', 'img-2930.jpg', 'img-2931.jpg', 'img-2932.jpg', 'img-2933.jpg', 'img-2934.jpg', 'img-2935.jpg', 'img-2936.jpg', 'img-2937.jpg', 'img-2938.jpg', 'img-2939.jpg', 'img-294.jpg', 'img-2940.jpg', 'img-2941.jpg', 'img-2942.jpg', 'img-2943.jpg', 'img-2944.jpg', 'img-2945.jpg', 'img-2948.jpg', 'img-2949.jpg', 'img-295.jpg', 'img-2950.jpg', 'img-2951.jpg', 'img-2952.jpg', 'img-2953.jpg', 'img-2954.jpg', 'img-2955.jpg', 'img-2956.jpg', 'img-2957.jpg', 'img-2958.jpg', 'img-2959.jpg', 'img-296.jpg', 'img-2960.jpg', 'img-2961.jpg', 'img-2962.jpg', 'img-2963.jpg', 'img-2964.jpg', 'img-2965.jpg', 'img-2966.jpg', 'img-2967.jpg', 'img-2968.jpg', 'img-2969.jpg', 'img-297.jpg', 'img-2970.jpg', 'img-2971.jpg', 'img-2972.jpg', 'img-2973.jpg', 'img-2974.jpg', 'img-2975.jpg', 'img-2976.jpg', 'img-2977.jpg', 'img-2978.jpg', 'img-2979.jpg', 'img-298.jpg', 'img-2980.jpg', 'img-2981.jpg', 'img-2982.jpg', 'img-2983.jpg', 'img-2984.jpg', 'img-2985.jpg', 'img-2986.jpg', 'img-2987.jpg', 'img-2988.jpg', 'img-299.jpg', 'img-2994.jpg', 'img-2995.jpg', 'img-2996.jpg', 'img-2997.jpg', 'img-2998.jpg', 'img-2999.jpg', 'img-3.jpg', 'img-30.jpg', 'img-300.jpg', 'img-3000.jpg', 'img-3001.jpg', 'img-3002.jpg', 'img-3006.jpg', 'img-3007.jpg', 'img-3008.jpg', 'img-301.jpg', 'img-3011.jpg', 'img-3012.jpg', 'img-3014.jpg', 'img-3015.jpg', 'img-3016.jpg', 'img-3017.jpg', 'img-3018.jpg', 'img-3019.jpg', 'img-302.jpg', 'img-3020.jpg', 'img-3021.jpg', 'img-3022.jpg', 'img-3023.jpg', 'img-3024.jpg', 'img-303.jpg', 'img-305.jpg', 'img-306.jpg', 'img-307.jpg', 'img-308.jpg', 'img-309.jpg', 'img-31.jpg', 'img-310.jpg', 'img-311.jpg', 'img-312.jpg', 'img-313.jpg', 'img-314.jpg', 'img-316.jpg', 'img-317.jpg', 'img-318.jpg', 'img-319.jpg', 'img-32.jpg', 'img-320.jpg', 'img-321.jpg', 'img-323.jpg', 'img-324.jpg', 'img-325.jpg', 'img-326.jpg', 'img-327.jpg', 'img-328.jpg', 'img-329.jpg', 'img-33.jpg', 'img-330.jpg', 'img-331.jpg', 'img-332.jpg', 'img-333.jpg', 'img-334.jpg', 'img-335.jpg', 'img-336.jpg', 'img-337.jpg', 'img-338.jpg', 'img-339.jpg', 'img-34.jpg', 'img-340.jpg', 'img-341.jpg', 'img-342.jpg', 'img-343.jpg', 'img-344.jpg', 'img-345.jpg', 'img-346.jpg', 'img-347.jpg', 'img-348.jpg', 'img-349.jpg', 'img-35.jpg', 'img-350.jpg', 'img-351.jpg', 'img-352.jpg', 'img-353.jpg', 'img-354.jpg', 'img-355.jpg', 'img-356.jpg', 'img-357.jpg', 'img-358.jpg', 'img-359.jpg', 'img-36.jpg', 'img-360.jpg', 'img-361.jpg', 'img-362.jpg', 'img-364.jpg', 'img-365.jpg', 'img-366.jpg', 'img-367.jpg', 'img-368.jpg', 'img-369.jpg', 'img-37.jpg', 'img-370.jpg', 'img-371.jpg', 'img-372.jpg', 'img-373.jpg', 'img-374.jpg', 'img-375.jpg', 'img-376.jpg', 'img-377.jpg', 'img-378.jpg', 'img-379.jpg', 'img-38.jpg', 'img-380.jpg', 'img-381.jpg', 'img-382.jpg', 'img-384.jpg', 'img-385.jpg', 'img-386.jpg', 'img-387.jpg', 'img-388.jpg', 'img-389.jpg', 'img-39.jpg', 'img-390.jpg', 'img-391.jpg', 'img-392.jpg', 'img-393.jpg', 'img-394.jpg', 'img-395.jpg', 'img-396.jpg', 'img-397.jpg', 'img-398.jpg', 'img-4.jpg', 'img-40.jpg', 'img-400.jpg', 'img-401.jpg', 'img-402.jpg', 'img-403.jpg', 'img-404.jpg', 'img-405.jpg', 'img-406.jpg', 'img-407.jpg', 'img-408.jpg', 'img-409.jpg', 'img-41.jpg', 'img-410.jpg', 'img-411.jpg', 'img-412.jpg', 'img-413.jpg', 'img-414.jpg', 'img-415.jpg', 'img-416.jpg', 'img-417.jpg', 'img-418.jpg', 'img-419.jpg', 'img-42.jpg', 'img-420.jpg', 'img-421.jpg', 'img-422.jpg', 'img-423.jpg', 'img-424.jpg', 'img-425.jpg', 'img-426.jpg', 'img-427.jpg', 'img-428.jpg', 'img-429.jpg', 'img-43.jpg', 'img-430.jpg', 'img-431.jpg', 'img-432.jpg', 'img-433.jpg', 'img-434.jpg', 'img-435.jpg', 'img-436.jpg', 'img-437.jpg', 'img-438.jpg', 'img-439.jpg', 'img-440.jpg', 'img-441.jpg', 'img-442.jpg', 'img-443.jpg', 'img-444.jpg', 'img-445.jpg', 'img-446.jpg', 'img-447.jpg', 'img-448.jpg', 'img-449.jpg', 'img-45.jpg', 'img-450.jpg', 'img-451.jpg', 'img-452.jpg', 'img-453.jpg', 'img-454.jpg', 'img-455.jpg', 'img-456.jpg', 'img-457.jpg', 'img-458.jpg', 'img-459.jpg', 'img-46.jpg', 'img-460.jpg', 'img-461.jpg', 'img-462.jpg', 'img-463.jpg', 'img-464.jpg', 'img-465.jpg', 'img-466.jpg', 'img-467.jpg', 'img-468.jpg', 'img-469.jpg', 'img-47.jpg', 'img-470.jpg', 'img-471.jpg', 'img-472.jpg', 'img-473.jpg', 'img-474.jpg', 'img-475.jpg', 'img-476.jpg', 'img-477.jpg', 'img-478.jpg', 'img-479.jpg', 'img-48.jpg', 'img-480.jpg', 'img-481.jpg', 'img-482.jpg', 'img-483.jpg', 'img-484.jpg', 'img-485.jpg', 'img-486.jpg', 'img-487.jpg', 'img-488.jpg', 'img-489.jpg', 'img-49.jpg', 'img-490.jpg', 'img-491.jpg', 'img-492.jpg', 'img-493.jpg', 'img-494.jpg', 'img-495.jpg', 'img-496.jpg', 'img-497.jpg', 'img-5.jpg', 'img-50.jpg', 'img-500.jpg', 'img-501.jpg', 'img-502.jpg', 'img-508.jpg', 'img-51.jpg', 'img-510.jpg', 'img-512.jpg', 'img-514.jpg', 'img-516.jpg', 'img-518.jpg', 'img-52.jpg', 'img-520.jpg', 'img-522.jpg', 'img-524.jpg', 'img-526.jpg', 'img-528.jpg', 'img-53.jpg', 'img-530.jpg', 'img-532.jpg', 'img-533.jpg', 'img-535.jpg', 'img-537.jpg', 'img-539.jpg', 'img-54.jpg', 'img-541.jpg', 'img-543.jpg', 'img-545.jpg', 'img-547.jpg', 'img-549.jpg', 'img-55.jpg', 'img-551.jpg', 'img-553.jpg', 'img-555.jpg', 'img-557.jpg', 'img-559.jpg', 'img-56.jpg', 'img-561.jpg', 'img-563.jpg', 'img-565.jpg', 'img-567.jpg', 'img-569.jpg', 'img-57.jpg', 'img-571.jpg', 'img-573.jpg', 'img-575.jpg', 'img-577.jpg', 'img-579.jpg', 'img-58.jpg', 'img-581.jpg', 'img-583.jpg', 'img-585.jpg', 'img-587.jpg', 'img-589.jpg', 'img-59.jpg', 'img-591.jpg', 'img-595.jpg', 'img-597.jpg', 'img-599.jpg', 'img-6.jpg', 'img-60.jpg', 'img-601.jpg', 'img-603.jpg', 'img-605.jpg', 'img-607.jpg', 'img-61.jpg', 'img-611.jpg', 'img-613.jpg', 'img-615.jpg', 'img-617.jpg', 'img-619.jpg', 'img-62.jpg', 'img-621.jpg', 'img-623.jpg', 'img-625.jpg', 'img-628.jpg', 'img-629.jpg', 'img-63.jpg', 'img-631.jpg', 'img-634.jpg', 'img-635.jpg', 'img-637.jpg', 'img-639.jpg', 'img-64.jpg', 'img-641.jpg', 'img-643.jpg', 'img-645.jpg', 'img-647.jpg', 'img-649.jpg', 'img-65.jpg', 'img-651.jpg', 'img-653.jpg', 'img-655.jpg', 'img-657.jpg', 'img-66.jpg', 'img-660.jpg', 'img-662.jpg', 'img-665.jpg', 'img-667.jpg', 'img-669.jpg', 'img-67.jpg', 'img-671.jpg', 'img-673.jpg', 'img-675.jpg', 'img-677.jpg', 'img-68.jpg', 'img-683.jpg', 'img-685.jpg', 'img-687.jpg', 'img-689.jpg', 'img-69.jpg', 'img-691.jpg', 'img-692.jpg', 'img-693.jpg', 'img-694.jpg', 'img-695.jpg', 'img-697.jpg', 'img-699.jpg', 'img-7.jpg', 'img-70.jpg', 'img-701.jpg', 'img-703.jpg', 'img-705.jpg', 'img-708.jpg', 'img-709.jpg', 'img-71.jpg', 'img-711.jpg', 'img-713.jpg', 'img-715.jpg', 'img-717.jpg', 'img-719.jpg', 'img-72.jpg', 'img-721.jpg', 'img-723.jpg', 'img-725.jpg', 'img-727.jpg', 'img-729.jpg', 'img-73.jpg', 'img-731.jpg', 'img-733.jpg', 'img-735.jpg', 'img-737.jpg', 'img-739.jpg', 'img-74.jpg', 'img-741.jpg', 'img-743.jpg', 'img-745.jpg', 'img-747.jpg', 'img-749.jpg', 'img-75.jpg', 'img-751.jpg', 'img-753.jpg', 'img-755.jpg', 'img-757.jpg', 'img-759.jpg', 'img-76.jpg', 'img-761.jpg', 'img-763.jpg', 'img-765.jpg', 'img-767.jpg', 'img-769.jpg', 'img-77.jpg', 'img-771.jpg', 'img-773.jpg', 'img-775.jpg', 'img-777.jpg', 'img-779.jpg', 'img-78.jpg', 'img-781.jpg', 'img-783.jpg', 'img-785.jpg', 'img-787.jpg', 'img-789.jpg', 'img-79.jpg', 'img-791.jpg', 'img-793.jpg', 'img-795.jpg', 'img-797.jpg', 'img-799.jpg', 'img-8.jpg', 'img-80.jpg', 'img-801.jpg', 'img-805.jpg', 'img-806.jpg', 'img-807.jpg', 'img-808.jpg', 'img-809.jpg', 'img-81.jpg', 'img-811.jpg', 'img-817.jpg', 'img-819.jpg', 'img-82.jpg', 'img-821.jpg', 'img-825.jpg', 'img-826.jpg', 'img-829.jpg', 'img-83.jpg', 'img-831.jpg', 'img-833.jpg', 'img-835.jpg', 'img-837.jpg', 'img-839.jpg', 'img-84.jpg', 'img-842.jpg', 'img-844.jpg', 'img-846.jpg', 'img-848.jpg', 'img-85.jpg', 'img-850.jpg', 'img-852.jpg', 'img-854.jpg', 'img-856.jpg', 'img-858.jpg', 'img-86.jpg', 'img-860.jpg', 'img-862.jpg', 'img-864.jpg', 'img-866.jpg', 'img-868.jpg', 'img-87.jpg', 'img-870.jpg', 'img-872.jpg', 'img-874.jpg', 'img-876.jpg', 'img-878.jpg', 'img-88.jpg', 'img-880.jpg', 'img-882.jpg', 'img-884.jpg', 'img-886.jpg', 'img-888.jpg', 'img-89.jpg', 'img-890.jpg', 'img-891.jpg', 'img-892.jpg', 'img-894.jpg', 'img-896.jpg', 'img-897.jpg', 'img-898.jpg', 'img-9.jpg', 'img-90.jpg', 'img-900.jpg', 'img-902.jpg', 'img-904.jpg', 'img-906.jpg', 'img-908.jpg', 'img-91.jpg', 'img-910.jpg', 'img-912.jpg', 'img-914.jpg', 'img-916.jpg', 'img-918.jpg', 'img-92.jpg', 'img-924.jpg', 'img-926.jpg', 'img-928.jpg', 'img-93.jpg', 'img-930.jpg', 'img-938.jpg', 'img-939.jpg', 'img-94.jpg', 'img-940.jpg', 'img-941.jpg', 'img-942.jpg', 'img-943.jpg', 'img-944.jpg', 'img-945.jpg', 'img-946.jpg', 'img-947.jpg', 'img-948.jpg', 'img-949.jpg', 'img-95.jpg', 'img-950.jpg', 'img-951.jpg', 'img-952.jpg', 'img-953.jpg', 'img-954.jpg', 'img-955.jpg', 'img-956.jpg', 'img-957.jpg', 'img-958.jpg', 'img-959.jpg', 'img-96.jpg', 'img-960.jpg', 'img-961.jpg', 'img-962.jpg', 'img-963.jpg', 'img-964.jpg', 'img-965.jpg', 'img-966.jpg', 'img-969.jpg', 'img-97.jpg', 'img-970.jpg', 'img-973.jpg', 'img-977.jpg', 'img-979.jpg', 'img-98.jpg', 'img-981.jpg', 'img-984.jpg', 'img-99.jpg']\n"
     ]
    },
    {
     "name": "stdout",
     "output_type": "stream",
     "text": [
      "train_images ['img-1485.jpg', 'img-1486.jpg', 'img-1487.jpg', 'img-1488.jpg', 'img-1489.jpg', 'img-149.jpg', 'img-1490.jpg', 'img-1491.jpg', 'img-1492.jpg', 'img-1493.jpg', 'img-1494.jpg', 'img-1495.jpg', 'img-1496.jpg', 'img-1497.jpg', 'img-1498.jpg', 'img-1499.jpg', 'img-15.jpg', 'img-150.jpg', 'img-1500.jpg', 'img-1501.jpg', 'img-1502.jpg', 'img-1503.jpg', 'img-1504.jpg', 'img-1505.jpg', 'img-1506.jpg', 'img-1507.jpg', 'img-1508.jpg', 'img-1509.jpg', 'img-151.jpg', 'img-1510.jpg', 'img-1511.jpg', 'img-1512.jpg', 'img-1513.jpg', 'img-1514.jpg', 'img-1515.jpg', 'img-1516.jpg', 'img-1517.jpg', 'img-1518.jpg', 'img-1519.jpg', 'img-152.jpg', 'img-1520.jpg', 'img-1521.jpg', 'img-1522.jpg', 'img-1523.jpg', 'img-1524.jpg', 'img-1525.jpg', 'img-1526.jpg', 'img-1527.jpg', 'img-1528.jpg', 'img-1529.jpg', 'img-153.jpg', 'img-1530.jpg', 'img-1531.jpg', 'img-1532.jpg', 'img-1533.jpg', 'img-1534.jpg', 'img-1535.jpg', 'img-1536.jpg', 'img-1537.jpg', 'img-1538.jpg', 'img-1539.jpg', 'img-154.jpg', 'img-1540.jpg', 'img-1541.jpg', 'img-1542.jpg', 'img-1543.jpg', 'img-1544.jpg', 'img-1545.jpg', 'img-1546.jpg', 'img-1547.jpg', 'img-1548.jpg', 'img-1549.jpg', 'img-155.jpg', 'img-1550.jpg', 'img-1551.jpg', 'img-1552.jpg', 'img-1553.jpg', 'img-1554.jpg', 'img-1555.jpg', 'img-1556.jpg', 'img-1557.jpg', 'img-1558.jpg', 'img-1559.jpg', 'img-156.jpg', 'img-1560.jpg', 'img-1561.jpg', 'img-1562.jpg', 'img-1563.jpg', 'img-1564.jpg', 'img-1565.jpg', 'img-1566.jpg', 'img-1567.jpg', 'img-1568.jpg', 'img-1569.jpg', 'img-157.jpg', 'img-1570.jpg', 'img-1571.jpg', 'img-1572.jpg', 'img-1573.jpg', 'img-1574.jpg', 'img-1575.jpg', 'img-1576.jpg', 'img-1577.jpg', 'img-1578.jpg', 'img-1579.jpg', 'img-158.jpg', 'img-1580.jpg', 'img-1581.jpg', 'img-1582.jpg', 'img-1583.jpg', 'img-1584.jpg', 'img-1585.jpg', 'img-1586.jpg', 'img-1587.jpg', 'img-1588.jpg', 'img-1589.jpg', 'img-159.jpg', 'img-1590.jpg', 'img-1591.jpg', 'img-1592.jpg', 'img-1593.jpg', 'img-1594.jpg', 'img-1595.jpg', 'img-1596.jpg', 'img-1597.jpg', 'img-1598.jpg', 'img-1599.jpg', 'img-16.jpg', 'img-160.jpg', 'img-1600.jpg', 'img-1601.jpg', 'img-1602.jpg', 'img-1603.jpg', 'img-1604.jpg', 'img-1605.jpg', 'img-1606.jpg', 'img-1607.jpg', 'img-1608.jpg', 'img-1609.jpg', 'img-161.jpg', 'img-1610.jpg', 'img-1611.jpg', 'img-1612.jpg', 'img-1613.jpg', 'img-1615.jpg', 'img-1616.jpg', 'img-1617.jpg', 'img-1618.jpg', 'img-1619.jpg', 'img-162.jpg', 'img-1620.jpg', 'img-1621.jpg', 'img-1622.jpg', 'img-1623.jpg', 'img-1624.jpg', 'img-1626.jpg', 'img-1627.jpg', 'img-1628.jpg', 'img-163.jpg', 'img-1630.jpg', 'img-1631.jpg', 'img-1632.jpg', 'img-1633.jpg', 'img-1634.jpg', 'img-1635.jpg', 'img-1636.jpg', 'img-1637.jpg', 'img-1638.jpg', 'img-164.jpg', 'img-1640.jpg', 'img-1642.jpg', 'img-1644.jpg', 'img-1645.jpg', 'img-1647.jpg', 'img-1649.jpg', 'img-165.jpg', 'img-1650.jpg', 'img-1651.jpg', 'img-1653.jpg', 'img-1656.jpg', 'img-1657.jpg', 'img-1658.jpg', 'img-1659.jpg', 'img-166.jpg', 'img-1661.jpg', 'img-1662.jpg', 'img-1663.jpg', 'img-1664.jpg', 'img-1666.jpg', 'img-1667.jpg', 'img-1668.jpg', 'img-1669.jpg', 'img-167.jpg', 'img-1670.jpg', 'img-1671.jpg', 'img-1672.jpg', 'img-1673.jpg', 'img-1674.jpg', 'img-1675.jpg', 'img-1678.jpg', 'img-168.jpg', 'img-1680.jpg', 'img-1681.jpg', 'img-1682.jpg', 'img-1683.jpg', 'img-1684.jpg', 'img-1685.jpg', 'img-1686.jpg', 'img-169.jpg', 'img-1690.jpg', 'img-1691.jpg', 'img-1694.jpg', 'img-1695.jpg', 'img-1696.jpg', 'img-1697.jpg', 'img-1698.jpg', 'img-1699.jpg', 'img-17.jpg', 'img-170.jpg', 'img-1701.jpg', 'img-1702.jpg', 'img-1703.jpg', 'img-1704.jpg', 'img-1705.jpg', 'img-1706.jpg', 'img-1707.jpg', 'img-1708.jpg', 'img-171.jpg', 'img-1710.jpg', 'img-1711.jpg', 'img-1712.jpg', 'img-1713.jpg', 'img-1714.jpg', 'img-1715.jpg', 'img-1716.jpg', 'img-1717.jpg', 'img-1718.jpg', 'img-1719.jpg', 'img-172.jpg', 'img-1721.jpg', 'img-1722.jpg', 'img-1724.jpg', 'img-1725.jpg', 'img-1726.jpg', 'img-1727.jpg', 'img-1728.jpg', 'img-1729.jpg', 'img-173.jpg', 'img-1730.jpg', 'img-1731.jpg', 'img-1732.jpg', 'img-1733.jpg', 'img-1734.jpg', 'img-1735.jpg', 'img-1736.jpg', 'img-1737.jpg', 'img-1738.jpg', 'img-174.jpg', 'img-1740.jpg', 'img-1741.jpg', 'img-1742.jpg', 'img-1743.jpg', 'img-1744.jpg', 'img-1746.jpg', 'img-1747.jpg', 'img-1749.jpg', 'img-175.jpg', 'img-1750.jpg', 'img-1751.jpg', 'img-1752.jpg', 'img-1753.jpg', 'img-1754.jpg', 'img-1755.jpg', 'img-1756.jpg', 'img-1757.jpg', 'img-1758.jpg', 'img-1759.jpg', 'img-176.jpg', 'img-1760.jpg', 'img-1761.jpg', 'img-1762.jpg', 'img-1763.jpg', 'img-1765.jpg', 'img-1767.jpg', 'img-1769.jpg', 'img-177.jpg', 'img-1771.jpg', 'img-1775.jpg', 'img-1776.jpg', 'img-1777.jpg', 'img-1779.jpg', 'img-178.jpg', 'img-1780.jpg', 'img-179.jpg', 'img-18.jpg', 'img-180.jpg', 'img-181.jpg', 'img-182.jpg', 'img-183.jpg', 'img-184.jpg', 'img-185.jpg', 'img-186.jpg', 'img-187.jpg', 'img-188.jpg', 'img-189.jpg', 'img-19.jpg', 'img-190.jpg', 'img-191.jpg', 'img-192.jpg', 'img-193.jpg', 'img-194.jpg', 'img-195.jpg', 'img-196.jpg', 'img-197.jpg', 'img-198.jpg', 'img-199.jpg', 'img-2.jpg', 'img-20.jpg', 'img-200.jpg', 'img-201.jpg', 'img-202.jpg', 'img-203.jpg', 'img-204.jpg', 'img-205.jpg', 'img-206.jpg', 'img-207.jpg', 'img-208.jpg', 'img-209.jpg', 'img-21.jpg', 'img-210.jpg', 'img-211.jpg', 'img-212.jpg', 'img-213.jpg', 'img-214.jpg', 'img-215.jpg', 'img-216.jpg', 'img-217.jpg', 'img-218.jpg', 'img-219.jpg', 'img-22.jpg', 'img-220.jpg', 'img-221.jpg', 'img-222.jpg', 'img-223.jpg', 'img-224.jpg', 'img-225.jpg', 'img-226.jpg', 'img-227.jpg', 'img-228.jpg', 'img-229.jpg', 'img-23.jpg', 'img-230.jpg', 'img-231.jpg', 'img-232.jpg', 'img-233.jpg', 'img-234.jpg', 'img-235.jpg', 'img-236.jpg', 'img-237.jpg', 'img-238.jpg', 'img-239.jpg', 'img-24.jpg', 'img-240.jpg', 'img-241.jpg', 'img-242.jpg', 'img-243.jpg', 'img-244.jpg', 'img-245.jpg', 'img-246.jpg', 'img-247.jpg', 'img-248.jpg', 'img-249.jpg', 'img-25.jpg', 'img-250.jpg', 'img-251.jpg', 'img-252.jpg', 'img-253.jpg', 'img-254.jpg', 'img-255.jpg', 'img-256.jpg', 'img-257.jpg', 'img-258.jpg', 'img-259.jpg', 'img-26.jpg', 'img-260.jpg', 'img-261.jpg', 'img-262.jpg', 'img-263.jpg', 'img-264.jpg', 'img-265.jpg', 'img-266.jpg', 'img-267.jpg', 'img-268.jpg', 'img-269.jpg', 'img-27.jpg', 'img-270.jpg', 'img-271.jpg', 'img-272.jpg', 'img-273.jpg', 'img-274.jpg', 'img-275.jpg', 'img-276.jpg', 'img-277.jpg', 'img-278.jpg', 'img-279.jpg', 'img-28.jpg', 'img-280.jpg', 'img-281.jpg', 'img-282.jpg', 'img-283.jpg', 'img-284.jpg', 'img-285.jpg', 'img-286.jpg', 'img-287.jpg', 'img-288.jpg', 'img-289.jpg', 'img-29.jpg', 'img-290.jpg', 'img-291.jpg', 'img-292.jpg', 'img-293.jpg', 'img-294.jpg', 'img-295.jpg', 'img-296.jpg', 'img-297.jpg', 'img-298.jpg', 'img-299.jpg', 'img-3.jpg', 'img-30.jpg', 'img-300.jpg', 'img-301.jpg', 'img-302.jpg', 'img-303.jpg', 'img-304.jpg', 'img-305.jpg', 'img-306.jpg', 'img-307.jpg', 'img-308.jpg', 'img-309.jpg', 'img-31.jpg', 'img-310.jpg', 'img-311.jpg', 'img-312.jpg', 'img-313.jpg', 'img-314.jpg', 'img-315.jpg', 'img-316.jpg', 'img-317.jpg', 'img-318.jpg', 'img-319.jpg', 'img-32.jpg', 'img-320.jpg', 'img-321.jpg', 'img-322.jpg', 'img-323.jpg', 'img-324.jpg', 'img-325.jpg', 'img-326.jpg', 'img-327.jpg', 'img-328.jpg', 'img-329.jpg', 'img-33.jpg', 'img-330.jpg', 'img-331.jpg', 'img-332.jpg', 'img-333.jpg', 'img-334.jpg', 'img-335.jpg', 'img-336.jpg', 'img-337.jpg', 'img-338.jpg', 'img-339.jpg', 'img-34.jpg', 'img-340.jpg', 'img-341.jpg', 'img-342.jpg', 'img-343.jpg', 'img-344.jpg', 'img-345.jpg', 'img-346.jpg', 'img-347.jpg', 'img-348.jpg', 'img-349.jpg', 'img-35.jpg', 'img-350.jpg', 'img-351.jpg', 'img-352.jpg', 'img-353.jpg', 'img-354.jpg', 'img-355.jpg', 'img-356.jpg', 'img-357.jpg', 'img-358.jpg', 'img-359.jpg', 'img-36.jpg', 'img-360.jpg', 'img-361.jpg', 'img-362.jpg', 'img-363.jpg', 'img-364.jpg', 'img-365.jpg', 'img-366.jpg', 'img-367.jpg', 'img-368.jpg', 'img-369.jpg', 'img-37.jpg', 'img-370.jpg', 'img-371.jpg', 'img-372.jpg', 'img-373.jpg', 'img-374.jpg', 'img-375.jpg', 'img-376.jpg', 'img-377.jpg', 'img-378.jpg', 'img-379.jpg', 'img-38.jpg', 'img-380.jpg', 'img-381.jpg', 'img-382.jpg', 'img-383.jpg', 'img-384.jpg', 'img-385.jpg', 'img-386.jpg', 'img-387.jpg', 'img-388.jpg', 'img-389.jpg', 'img-39.jpg', 'img-390.jpg', 'img-391.jpg', 'img-392.jpg', 'img-393.jpg', 'img-394.jpg', 'img-395.jpg', 'img-396.jpg', 'img-397.jpg', 'img-398.jpg', 'img-399.jpg', 'img-4.jpg', 'img-40.jpg', 'img-400.jpg', 'img-401.jpg', 'img-402.jpg', 'img-403.jpg', 'img-404.jpg', 'img-405.jpg', 'img-406.jpg', 'img-407.jpg', 'img-408.jpg', 'img-409.jpg', 'img-41.jpg', 'img-410.jpg', 'img-411.jpg', 'img-412.jpg', 'img-413.jpg', 'img-414.jpg', 'img-415.jpg', 'img-416.jpg', 'img-417.jpg', 'img-418.jpg', 'img-419.jpg', 'img-42.jpg', 'img-420.jpg', 'img-421.jpg', 'img-422.jpg', 'img-423.jpg', 'img-424.jpg', 'img-425.jpg', 'img-426.jpg', 'img-427.jpg', 'img-428.jpg', 'img-429.jpg', 'img-43.jpg', 'img-430.jpg', 'img-431.jpg', 'img-432.jpg', 'img-433.jpg', 'img-434.jpg', 'img-435.jpg', 'img-436.jpg', 'img-437.jpg', 'img-438.jpg', 'img-439.jpg', 'img-44.jpg', 'img-440.jpg', 'img-441.jpg', 'img-442.jpg', 'img-443.jpg', 'img-444.jpg', 'img-445.jpg', 'img-446.jpg', 'img-447.jpg', 'img-448.jpg', 'img-449.jpg', 'img-45.jpg', 'img-450.jpg', 'img-451.jpg', 'img-452.jpg', 'img-453.jpg', 'img-454.jpg', 'img-455.jpg', 'img-456.jpg', 'img-457.jpg', 'img-458.jpg', 'img-459.jpg', 'img-46.jpg', 'img-460.jpg', 'img-461.jpg', 'img-462.jpg', 'img-463.jpg', 'img-464.jpg', 'img-465.jpg', 'img-466.jpg', 'img-467.jpg', 'img-468.jpg', 'img-469.jpg', 'img-47.jpg', 'img-470.jpg', 'img-471.jpg', 'img-472.jpg', 'img-473.jpg', 'img-474.jpg', 'img-475.jpg', 'img-476.jpg', 'img-477.jpg', 'img-478.jpg', 'img-479.jpg', 'img-48.jpg', 'img-480.jpg', 'img-481.jpg', 'img-482.jpg', 'img-483.jpg', 'img-484.jpg', 'img-485.jpg', 'img-486.jpg', 'img-487.jpg', 'img-488.jpg', 'img-489.jpg', 'img-49.jpg', 'img-490.jpg', 'img-491.jpg', 'img-492.jpg', 'img-493.jpg', 'img-494.jpg', 'img-495.jpg', 'img-496.jpg', 'img-497.jpg', 'img-498.jpg', 'img-499.jpg', 'img-5.jpg', 'img-50.jpg', 'img-500.jpg', 'img-501.jpg', 'img-502.jpg', 'img-503.jpg', 'img-504.jpg', 'img-505.jpg', 'img-506.jpg', 'img-507.jpg', 'img-508.jpg', 'img-509.jpg', 'img-51.jpg', 'img-510.jpg', 'img-511.jpg', 'img-512.jpg', 'img-513.jpg', 'img-514.jpg', 'img-515.jpg', 'img-516.jpg', 'img-517.jpg', 'img-518.jpg', 'img-519.jpg', 'img-52.jpg', 'img-520.jpg', 'img-521.jpg', 'img-522.jpg', 'img-523.jpg', 'img-524.jpg', 'img-525.jpg', 'img-526.jpg', 'img-527.jpg', 'img-528.jpg', 'img-529.jpg', 'img-53.jpg', 'img-530.jpg', 'img-531.jpg', 'img-532.jpg', 'img-533.jpg', 'img-534.jpg', 'img-535.jpg', 'img-536.jpg', 'img-537.jpg', 'img-538.jpg', 'img-539.jpg', 'img-54.jpg', 'img-540.jpg', 'img-541.jpg', 'img-542.jpg', 'img-543.jpg', 'img-544.jpg', 'img-545.jpg', 'img-546.jpg', 'img-547.jpg', 'img-548.jpg', 'img-549.jpg', 'img-55.jpg', 'img-550.jpg', 'img-551.jpg', 'img-552.jpg', 'img-553.jpg', 'img-554.jpg', 'img-555.jpg', 'img-556.jpg', 'img-557.jpg', 'img-558.jpg', 'img-559.jpg', 'img-56.jpg', 'img-560.jpg', 'img-561.jpg', 'img-562.jpg', 'img-563.jpg', 'img-564.jpg', 'img-565.jpg', 'img-566.jpg', 'img-567.jpg', 'img-568.jpg', 'img-569.jpg', 'img-57.jpg', 'img-570.jpg', 'img-571.jpg', 'img-572.jpg', 'img-573.jpg', 'img-574.jpg', 'img-575.jpg', 'img-576.jpg', 'img-577.jpg', 'img-578.jpg', 'img-579.jpg', 'img-58.jpg', 'img-580.jpg', 'img-581.jpg', 'img-582.jpg', 'img-583.jpg', 'img-584.jpg', 'img-585.jpg', 'img-586.jpg', 'img-587.jpg', 'img-588.jpg', 'img-589.jpg', 'img-59.jpg', 'img-590.jpg', 'img-591.jpg', 'img-592.jpg', 'img-593.jpg', 'img-594.jpg', 'img-595.jpg', 'img-596.jpg', 'img-597.jpg', 'img-598.jpg', 'img-599.jpg', 'img-6.jpg', 'img-60.jpg', 'img-600.jpg', 'img-601.jpg', 'img-602.jpg', 'img-603.jpg', 'img-604.jpg', 'img-605.jpg', 'img-606.jpg', 'img-607.jpg', 'img-608.jpg', 'img-609.jpg', 'img-61.jpg', 'img-610.jpg', 'img-611.jpg', 'img-612.jpg', 'img-613.jpg', 'img-614.jpg', 'img-615.jpg', 'img-616.jpg', 'img-617.jpg', 'img-618.jpg', 'img-619.jpg', 'img-62.jpg', 'img-620.jpg', 'img-621.jpg', 'img-622.jpg', 'img-623.jpg', 'img-624.jpg', 'img-625.jpg', 'img-626.jpg', 'img-627.jpg', 'img-628.jpg', 'img-629.jpg', 'img-63.jpg', 'img-630.jpg', 'img-631.jpg', 'img-632.jpg', 'img-633.jpg', 'img-634.jpg', 'img-635.jpg', 'img-636.jpg', 'img-637.jpg', 'img-638.jpg', 'img-639.jpg', 'img-64.jpg', 'img-640.jpg', 'img-641.jpg', 'img-642.jpg', 'img-643.jpg', 'img-644.jpg', 'img-645.jpg', 'img-646.jpg', 'img-647.jpg', 'img-648.jpg', 'img-649.jpg', 'img-65.jpg', 'img-650.jpg', 'img-651.jpg', 'img-652.jpg', 'img-653.jpg', 'img-654.jpg', 'img-655.jpg', 'img-656.jpg', 'img-657.jpg', 'img-658.jpg', 'img-659.jpg', 'img-66.jpg', 'img-660.jpg', 'img-661.jpg', 'img-662.jpg', 'img-663.jpg', 'img-664.jpg', 'img-665.jpg', 'img-666.jpg', 'img-667.jpg', 'img-668.jpg', 'img-669.jpg', 'img-67.jpg', 'img-670.jpg', 'img-671.jpg', 'img-672.jpg', 'img-673.jpg', 'img-674.jpg', 'img-675.jpg', 'img-676.jpg', 'img-677.jpg', 'img-678.jpg', 'img-679.jpg', 'img-68.jpg', 'img-680.jpg', 'img-681.jpg', 'img-682.jpg', 'img-683.jpg', 'img-684.jpg', 'img-685.jpg', 'img-686.jpg', 'img-687.jpg', 'img-688.jpg', 'img-689.jpg', 'img-69.jpg', 'img-690.jpg', 'img-691.jpg', 'img-692.jpg', 'img-693.jpg', 'img-694.jpg', 'img-695.jpg', 'img-696.jpg', 'img-697.jpg', 'img-698.jpg', 'img-699.jpg', 'img-7.jpg', 'img-70.jpg', 'img-700.jpg', 'img-701.jpg', 'img-702.jpg', 'img-703.jpg', 'img-704.jpg', 'img-705.jpg', 'img-706.jpg', 'img-707.jpg', 'img-708.jpg', 'img-709.jpg', 'img-71.jpg', 'img-710.jpg', 'img-711.jpg', 'img-712.jpg', 'img-713.jpg', 'img-714.jpg', 'img-715.jpg', 'img-716.jpg', 'img-717.jpg', 'img-718.jpg', 'img-719.jpg', 'img-72.jpg', 'img-720.jpg', 'img-721.jpg', 'img-722.jpg', 'img-723.jpg', 'img-724.jpg', 'img-725.jpg', 'img-726.jpg', 'img-727.jpg', 'img-728.jpg', 'img-729.jpg', 'img-73.jpg', 'img-730.jpg', 'img-731.jpg', 'img-732.jpg', 'img-733.jpg', 'img-734.jpg', 'img-735.jpg', 'img-736.jpg', 'img-737.jpg', 'img-738.jpg', 'img-739.jpg', 'img-74.jpg', 'img-740.jpg', 'img-741.jpg', 'img-742.jpg', 'img-743.jpg', 'img-744.jpg', 'img-745.jpg', 'img-746.jpg', 'img-747.jpg', 'img-748.jpg', 'img-749.jpg', 'img-75.jpg', 'img-750.jpg', 'img-751.jpg', 'img-752.jpg', 'img-753.jpg', 'img-754.jpg', 'img-755.jpg', 'img-756.jpg', 'img-757.jpg', 'img-758.jpg', 'img-759.jpg', 'img-76.jpg', 'img-760.jpg', 'img-761.jpg', 'img-762.jpg', 'img-763.jpg', 'img-764.jpg', 'img-765.jpg', 'img-766.jpg', 'img-767.jpg', 'img-768.jpg', 'img-769.jpg', 'img-77.jpg', 'img-770.jpg', 'img-771.jpg', 'img-772.jpg', 'img-773.jpg', 'img-774.jpg', 'img-775.jpg', 'img-776.jpg', 'img-777.jpg', 'img-778.jpg', 'img-779.jpg', 'img-78.jpg', 'img-780.jpg', 'img-781.jpg', 'img-782.jpg', 'img-783.jpg', 'img-784.jpg', 'img-785.jpg', 'img-786.jpg', 'img-787.jpg', 'img-788.jpg', 'img-789.jpg', 'img-79.jpg', 'img-790.jpg', 'img-791.jpg', 'img-792.jpg', 'img-793.jpg', 'img-794.jpg', 'img-795.jpg', 'img-796.jpg', 'img-797.jpg', 'img-798.jpg', 'img-799.jpg', 'img-8.jpg', 'img-80.jpg', 'img-800.jpg', 'img-801.jpg', 'img-802.jpg', 'img-803.jpg', 'img-804.jpg', 'img-805.jpg', 'img-806.jpg', 'img-807.jpg', 'img-808.jpg', 'img-809.jpg', 'img-81.jpg', 'img-810.jpg', 'img-811.jpg', 'img-812.jpg', 'img-813.jpg', 'img-814.jpg', 'img-815.jpg', 'img-816.jpg', 'img-817.jpg', 'img-818.jpg', 'img-819.jpg', 'img-82.jpg', 'img-820.jpg', 'img-821.jpg', 'img-822.jpg', 'img-823.jpg', 'img-824.jpg', 'img-825.jpg', 'img-826.jpg', 'img-827.jpg', 'img-828.jpg', 'img-829.jpg', 'img-83.jpg', 'img-830.jpg', 'img-831.jpg', 'img-832.jpg', 'img-833.jpg', 'img-834.jpg', 'img-835.jpg', 'img-836.jpg', 'img-837.jpg', 'img-838.jpg', 'img-839.jpg', 'img-84.jpg', 'img-840.jpg', 'img-841.jpg', 'img-842.jpg', 'img-843.jpg', 'img-844.jpg', 'img-845.jpg', 'img-846.jpg', 'img-847.jpg', 'img-848.jpg', 'img-849.jpg', 'img-85.jpg', 'img-850.jpg', 'img-851.jpg', 'img-852.jpg', 'img-853.jpg', 'img-854.jpg', 'img-855.jpg', 'img-856.jpg', 'img-857.jpg', 'img-858.jpg', 'img-859.jpg', 'img-86.jpg', 'img-860.jpg', 'img-861.jpg', 'img-862.jpg', 'img-863.jpg', 'img-864.jpg', 'img-865.jpg', 'img-866.jpg', 'img-867.jpg', 'img-868.jpg', 'img-869.jpg', 'img-87.jpg', 'img-870.jpg', 'img-871.jpg', 'img-872.jpg', 'img-873.jpg', 'img-874.jpg', 'img-875.jpg', 'img-876.jpg', 'img-877.jpg', 'img-878.jpg', 'img-879.jpg', 'img-88.jpg', 'img-880.jpg', 'img-881.jpg', 'img-882.jpg', 'img-883.jpg', 'img-884.jpg', 'img-885.jpg', 'img-886.jpg', 'img-887.jpg', 'img-888.jpg', 'img-889.jpg', 'img-89.jpg', 'img-890.jpg', 'img-891.jpg', 'img-892.jpg', 'img-893.jpg', 'img-894.jpg', 'img-895.jpg', 'img-896.jpg', 'img-897.jpg', 'img-898.jpg', 'img-899.jpg', 'img-9.jpg', 'img-90.jpg', 'img-900.jpg', 'img-901.jpg', 'img-902.jpg', 'img-903.jpg', 'img-904.jpg', 'img-905.jpg', 'img-906.jpg', 'img-907.jpg', 'img-908.jpg', 'img-909.jpg', 'img-91.jpg', 'img-910.jpg', 'img-911.jpg', 'img-912.jpg', 'img-913.jpg', 'img-914.jpg', 'img-915.jpg', 'img-916.jpg', 'img-917.jpg', 'img-918.jpg', 'img-919.jpg', 'img-92.jpg', 'img-920.jpg', 'img-921.jpg', 'img-922.jpg', 'img-923.jpg', 'img-924.jpg', 'img-925.jpg', 'img-926.jpg', 'img-927.jpg', 'img-928.jpg', 'img-929.jpg', 'img-93.jpg', 'img-930.jpg', 'img-931.jpg', 'img-932.jpg', 'img-933.jpg', 'img-934.jpg', 'img-935.jpg', 'img-936.jpg', 'img-937.jpg', 'img-938.jpg', 'img-939.jpg', 'img-94.jpg', 'img-940.jpg', 'img-941.jpg', 'img-942.jpg', 'img-943.jpg', 'img-944.jpg', 'img-945.jpg', 'img-946.jpg', 'img-947.jpg', 'img-948.jpg', 'img-949.jpg', 'img-95.jpg', 'img-950.jpg', 'img-951.jpg', 'img-952.jpg', 'img-953.jpg', 'img-954.jpg', 'img-955.jpg', 'img-956.jpg', 'img-957.jpg', 'img-958.jpg', 'img-959.jpg', 'img-96.jpg', 'img-960.jpg', 'img-961.jpg', 'img-962.jpg', 'img-963.jpg', 'img-964.jpg', 'img-965.jpg', 'img-966.jpg', 'img-967.jpg', 'img-968.jpg', 'img-969.jpg', 'img-97.jpg', 'img-970.jpg', 'img-971.jpg', 'img-972.jpg', 'img-973.jpg', 'img-974.jpg', 'img-975.jpg', 'img-976.jpg', 'img-977.jpg', 'img-978.jpg', 'img-979.jpg', 'img-98.jpg', 'img-980.jpg', 'img-981.jpg', 'img-982.jpg', 'img-983.jpg', 'img-984.jpg', 'img-985.jpg', 'img-986.jpg', 'img-987.jpg', 'img-988.jpg', 'img-989.jpg', 'img-99.jpg', 'img-990.jpg', 'img-991.jpg', 'img-992.jpg', 'img-993.jpg', 'img-994.jpg', 'img-995.jpg', 'img-996.jpg', 'img-997.jpg', 'img-998.jpg', 'img-999.jpg']\n",
      "train_images ['img-2418.jpg', 'img-2419.jpg', 'img-242.jpg', 'img-2420.jpg', 'img-2421.jpg', 'img-2422.jpg', 'img-2423.jpg', 'img-243.jpg', 'img-244.jpg', 'img-245.jpg', 'img-2455.jpg', 'img-246.jpg', 'img-247.jpg', 'img-2474.jpg', 'img-2475.jpg', 'img-2476.jpg', 'img-2479.jpg', 'img-248.jpg', 'img-2480.jpg', 'img-2482.jpg', 'img-2483.jpg', 'img-2484.jpg', 'img-2485.jpg', 'img-2488.jpg', 'img-2489.jpg', 'img-249.jpg', 'img-2490.jpg', 'img-2491.jpg', 'img-2492.jpg', 'img-2493.jpg', 'img-2494.jpg', 'img-2495.jpg', 'img-2496.jpg', 'img-2497.jpg', 'img-2498.jpg', 'img-2499.jpg', 'img-250.jpg', 'img-2500.jpg', 'img-2501.jpg', 'img-2502.jpg', 'img-2503.jpg', 'img-2504.jpg', 'img-2505.jpg', 'img-2509.jpg', 'img-251.jpg', 'img-2510.jpg', 'img-2514.jpg', 'img-2515.jpg', 'img-2516.jpg', 'img-2517.jpg', 'img-2518.jpg', 'img-252.jpg', 'img-2521.jpg', 'img-2522.jpg', 'img-2523.jpg', 'img-2524.jpg', 'img-2525.jpg', 'img-2526.jpg', 'img-2527.jpg', 'img-2528.jpg', 'img-2529.jpg', 'img-253.jpg', 'img-2530.jpg', 'img-2535.jpg', 'img-254.jpg', 'img-256.jpg', 'img-2566.jpg', 'img-257.jpg', 'img-2570.jpg', 'img-2571.jpg', 'img-2573.jpg', 'img-2574.jpg', 'img-2575.jpg', 'img-2576.jpg', 'img-2577.jpg', 'img-2578.jpg', 'img-258.jpg', 'img-2580.jpg', 'img-2582.jpg', 'img-2583.jpg', 'img-2584.jpg', 'img-2585.jpg', 'img-2588.jpg', 'img-2589.jpg', 'img-259.jpg', 'img-2590.jpg', 'img-2592.jpg', 'img-2593.jpg', 'img-2594.jpg', 'img-2595.jpg', 'img-2597.jpg', 'img-2598.jpg', 'img-2599.jpg', 'img-26.jpg', 'img-260.jpg', 'img-2600.jpg', 'img-2601.jpg', 'img-2602.jpg', 'img-2603.jpg', 'img-2604.jpg', 'img-2605.jpg', 'img-2606.jpg', 'img-2607.jpg', 'img-2608.jpg', 'img-2609.jpg', 'img-261.jpg', 'img-2610.jpg', 'img-2611.jpg', 'img-2614.jpg', 'img-2615.jpg', 'img-2616.jpg', 'img-2617.jpg', 'img-2618.jpg', 'img-2619.jpg', 'img-262.jpg', 'img-2620.jpg', 'img-2621.jpg', 'img-2622.jpg', 'img-2623.jpg', 'img-2624.jpg', 'img-2625.jpg', 'img-2626.jpg', 'img-2627.jpg', 'img-2628.jpg', 'img-2629.jpg', 'img-263.jpg', 'img-2630.jpg', 'img-2631.jpg', 'img-2632.jpg', 'img-2633.jpg', 'img-2634.jpg', 'img-2635.jpg', 'img-2636.jpg', 'img-2637.jpg', 'img-264.jpg', 'img-2649.jpg', 'img-265.jpg', 'img-2650.jpg', 'img-2651.jpg', 'img-2652.jpg', 'img-2653.jpg', 'img-2654.jpg', 'img-2655.jpg', 'img-2656.jpg', 'img-266.jpg', 'img-2668.jpg', 'img-2669.jpg', 'img-267.jpg', 'img-2670.jpg', 'img-2671.jpg', 'img-2672.jpg', 'img-2673.jpg', 'img-2674.jpg', 'img-2675.jpg', 'img-2676.jpg', 'img-2677.jpg', 'img-2678.jpg', 'img-2679.jpg', 'img-268.jpg', 'img-2681.jpg', 'img-2682.jpg', 'img-2683.jpg', 'img-2689.jpg', 'img-269.jpg', 'img-27.jpg', 'img-270.jpg', 'img-271.jpg', 'img-272.jpg', 'img-2728.jpg', 'img-2729.jpg', 'img-273.jpg', 'img-2735.jpg', 'img-2736.jpg', 'img-2737.jpg', 'img-2738.jpg', 'img-2739.jpg', 'img-274.jpg', 'img-2740.jpg', 'img-2741.jpg', 'img-2742.jpg', 'img-2743.jpg', 'img-2744.jpg', 'img-2745.jpg', 'img-2746.jpg', 'img-2747.jpg', 'img-2748.jpg', 'img-2749.jpg', 'img-275.jpg', 'img-2758.jpg', 'img-276.jpg', 'img-2760.jpg', 'img-2761.jpg', 'img-2762.jpg', 'img-2763.jpg', 'img-2764.jpg', 'img-2765.jpg', 'img-2766.jpg', 'img-2767.jpg', 'img-2768.jpg', 'img-2769.jpg', 'img-277.jpg', 'img-2770.jpg', 'img-2771.jpg', 'img-2772.jpg', 'img-2773.jpg', 'img-2774.jpg', 'img-2775.jpg', 'img-2776.jpg', 'img-2777.jpg', 'img-2778.jpg', 'img-2779.jpg', 'img-278.jpg', 'img-2780.jpg', 'img-2781.jpg', 'img-2782.jpg', 'img-2783.jpg', 'img-2784.jpg', 'img-2787.jpg', 'img-2788.jpg', 'img-2789.jpg', 'img-279.jpg', 'img-2790.jpg', 'img-2792.jpg', 'img-2795.jpg', 'img-2796.jpg', 'img-2797.jpg', 'img-2798.jpg', 'img-2799.jpg', 'img-280.jpg', 'img-2800.jpg', 'img-2801.jpg', 'img-2802.jpg', 'img-2803.jpg', 'img-2804.jpg', 'img-2805.jpg', 'img-2806.jpg', 'img-2807.jpg', 'img-2808.jpg', 'img-281.jpg', 'img-2811.jpg', 'img-2812.jpg', 'img-2813.jpg', 'img-2814.jpg', 'img-2815.jpg', 'img-2816.jpg', 'img-2817.jpg', 'img-2821.jpg', 'img-2822.jpg', 'img-2823.jpg', 'img-2824.jpg', 'img-2825.jpg', 'img-2826.jpg', 'img-2827.jpg', 'img-2828.jpg', 'img-2829.jpg', 'img-2830.jpg', 'img-2831.jpg', 'img-2832.jpg', 'img-2833.jpg', 'img-2834.jpg', 'img-2835.jpg', 'img-2836.jpg', 'img-2837.jpg', 'img-2838.jpg', 'img-2839.jpg', 'img-284.jpg', 'img-2840.jpg', 'img-2841.jpg', 'img-2842.jpg', 'img-2843.jpg', 'img-2844.jpg', 'img-2845.jpg', 'img-2846.jpg', 'img-2849.jpg', 'img-2850.jpg', 'img-2851.jpg', 'img-2852.jpg', 'img-2853.jpg', 'img-2856.jpg', 'img-2857.jpg', 'img-2858.jpg', 'img-2859.jpg', 'img-2861.jpg', 'img-2864.jpg', 'img-2865.jpg', 'img-2866.jpg', 'img-2867.jpg', 'img-2868.jpg', 'img-2869.jpg', 'img-287.jpg', 'img-2870.jpg', 'img-2871.jpg', 'img-2872.jpg', 'img-2873.jpg', 'img-2874.jpg', 'img-2875.jpg', 'img-2876.jpg', 'img-2877.jpg', 'img-2878.jpg', 'img-2879.jpg', 'img-2880.jpg', 'img-2881.jpg', 'img-2882.jpg', 'img-2883.jpg', 'img-2884.jpg', 'img-2885.jpg', 'img-2886.jpg', 'img-2887.jpg', 'img-2888.jpg', 'img-289.jpg', 'img-2891.jpg', 'img-2893.jpg', 'img-2894.jpg', 'img-2895.jpg', 'img-2896.jpg', 'img-2897.jpg', 'img-2898.jpg', 'img-29.jpg', 'img-290.jpg', 'img-2902.jpg', 'img-2903.jpg', 'img-2904.jpg', 'img-2905.jpg', 'img-2906.jpg', 'img-2907.jpg', 'img-2909.jpg', 'img-291.jpg', 'img-2911.jpg', 'img-2912.jpg', 'img-2913.jpg', 'img-2914.jpg', 'img-2915.jpg', 'img-2916.jpg', 'img-2917.jpg', 'img-2918.jpg', 'img-2919.jpg', 'img-292.jpg', 'img-2920.jpg', 'img-2921.jpg', 'img-2922.jpg', 'img-2925.jpg', 'img-2926.jpg', 'img-293.jpg', 'img-294.jpg', 'img-2943.jpg', 'img-2944.jpg', 'img-2945.jpg', 'img-2946.jpg', 'img-2947.jpg', 'img-2948.jpg', 'img-2949.jpg', 'img-295.jpg', 'img-2950.jpg', 'img-2952.jpg', 'img-2953.jpg', 'img-2954.jpg', 'img-2955.jpg', 'img-2956.jpg', 'img-296.jpg', 'img-2965.jpg', 'img-2966.jpg', 'img-2967.jpg', 'img-2969.jpg', 'img-2970.jpg', 'img-2971.jpg', 'img-2972.jpg', 'img-2973.jpg', 'img-2974.jpg', 'img-2975.jpg', 'img-2976.jpg', 'img-2977.jpg', 'img-2978.jpg', 'img-2979.jpg', 'img-298.jpg', 'img-2980.jpg', 'img-2981.jpg', 'img-2983.jpg', 'img-2984.jpg', 'img-2985.jpg', 'img-2986.jpg', 'img-2987.jpg', 'img-2988.jpg', 'img-2989.jpg', 'img-299.jpg', 'img-2990.jpg', 'img-2993.jpg', 'img-2994.jpg', 'img-2995.jpg', 'img-2996.jpg', 'img-2997.jpg', 'img-2998.jpg', 'img-2999.jpg', 'img-300.jpg', 'img-3000.jpg', 'img-3001.jpg', 'img-301.jpg', 'img-3017.jpg', 'img-3018.jpg', 'img-3019.jpg', 'img-302.jpg', 'img-3020.jpg', 'img-3021.jpg', 'img-3022.jpg', 'img-3023.jpg', 'img-3024.jpg', 'img-303.jpg', 'img-304.jpg', 'img-3045.jpg', 'img-3046.jpg', 'img-3047.jpg', 'img-305.jpg', 'img-306.jpg', 'img-3060.jpg', 'img-3061.jpg', 'img-3062.jpg', 'img-3063.jpg', 'img-3064.jpg', 'img-3065.jpg', 'img-3066.jpg', 'img-3067.jpg', 'img-3068.jpg', 'img-3069.jpg', 'img-307.jpg', 'img-3070.jpg', 'img-3071.jpg', 'img-308.jpg', 'img-3080.jpg', 'img-309.jpg', 'img-31.jpg', 'img-310.jpg', 'img-311.jpg', 'img-312.jpg', 'img-313.jpg', 'img-314.jpg', 'img-315.jpg', 'img-316.jpg', 'img-3168.jpg', 'img-3169.jpg', 'img-317.jpg', 'img-3177.jpg', 'img-3178.jpg', 'img-3179.jpg', 'img-318.jpg', 'img-3180.jpg', 'img-3181.jpg', 'img-3182.jpg', 'img-3183.jpg', 'img-3184.jpg', 'img-3185.jpg', 'img-3186.jpg', 'img-3187.jpg', 'img-3188.jpg', 'img-3189.jpg', 'img-319.jpg', 'img-3190.jpg', 'img-3191.jpg', 'img-320.jpg', 'img-3200.jpg', 'img-3202.jpg', 'img-3203.jpg', 'img-3204.jpg', 'img-3205.jpg', 'img-3206.jpg', 'img-3207.jpg', 'img-3208.jpg', 'img-3209.jpg', 'img-321.jpg', 'img-3210.jpg', 'img-3211.jpg', 'img-3212.jpg', 'img-3213.jpg', 'img-3214.jpg', 'img-3215.jpg', 'img-3216.jpg', 'img-3217.jpg', 'img-3218.jpg', 'img-3219.jpg', 'img-322.jpg', 'img-3220.jpg', 'img-3221.jpg', 'img-3222.jpg', 'img-3223.jpg', 'img-3224.jpg', 'img-3225.jpg', 'img-3226.jpg', 'img-3227.jpg', 'img-3228.jpg', 'img-3229.jpg', 'img-323.jpg', 'img-3230.jpg', 'img-3231.jpg', 'img-3232.jpg', 'img-3233.jpg', 'img-3234.jpg', 'img-3235.jpg', 'img-3236.jpg', 'img-3237.jpg', 'img-3238.jpg', 'img-3239.jpg', 'img-324.jpg', 'img-3240.jpg', 'img-3241.jpg', 'img-3242.jpg', 'img-3244.jpg', 'img-3245.jpg', 'img-3246.jpg', 'img-3247.jpg', 'img-3248.jpg', 'img-3249.jpg', 'img-325.jpg', 'img-3250.jpg', 'img-3251.jpg', 'img-3252.jpg', 'img-3253.jpg', 'img-3255.jpg', 'img-3256.jpg', 'img-3257.jpg', 'img-3258.jpg', 'img-3259.jpg', 'img-326.jpg', 'img-3260.jpg', 'img-3261.jpg', 'img-3262.jpg', 'img-3263.jpg', 'img-3264.jpg', 'img-3265.jpg', 'img-3266.jpg', 'img-3267.jpg', 'img-327.jpg', 'img-3272.jpg', 'img-3273.jpg', 'img-3275.jpg', 'img-3276.jpg', 'img-3277.jpg', 'img-3278.jpg', 'img-3279.jpg', 'img-3280.jpg', 'img-3286.jpg', 'img-3289.jpg', 'img-329.jpg', 'img-3295.jpg', 'img-33.jpg', 'img-330.jpg', 'img-3303.jpg', 'img-3304.jpg', 'img-3305.jpg', 'img-3306.jpg', 'img-3307.jpg', 'img-3308.jpg', 'img-331.jpg', 'img-3310.jpg', 'img-3311.jpg', 'img-3312.jpg', 'img-3313.jpg', 'img-3314.jpg', 'img-332.jpg', 'img-333.jpg', 'img-334.jpg', 'img-335.jpg', 'img-336.jpg', 'img-337.jpg', 'img-338.jpg', 'img-339.jpg', 'img-34.jpg', 'img-340.jpg', 'img-341.jpg', 'img-342.jpg', 'img-3429.jpg', 'img-343.jpg', 'img-3430.jpg', 'img-3431.jpg', 'img-3435.jpg', 'img-3436.jpg', 'img-3438.jpg', 'img-3439.jpg', 'img-344.jpg', 'img-3440.jpg', 'img-3441.jpg', 'img-3445.jpg', 'img-3446.jpg', 'img-3447.jpg', 'img-345.jpg', 'img-3451.jpg', 'img-3452.jpg', 'img-3453.jpg', 'img-3454.jpg', 'img-3456.jpg', 'img-3457.jpg', 'img-3458.jpg', 'img-3459.jpg', 'img-346.jpg', 'img-3460.jpg', 'img-3461.jpg', 'img-3462.jpg', 'img-3463.jpg', 'img-3464.jpg', 'img-3465.jpg', 'img-3466.jpg', 'img-3467.jpg', 'img-347.jpg', 'img-3473.jpg', 'img-3474.jpg', 'img-3475.jpg', 'img-3476.jpg', 'img-3477.jpg', 'img-3478.jpg', 'img-3479.jpg', 'img-348.jpg', 'img-3480.jpg', 'img-3481.jpg', 'img-3482.jpg', 'img-3483.jpg', 'img-349.jpg', 'img-35.jpg', 'img-350.jpg', 'img-351.jpg', 'img-352.jpg', 'img-353.jpg', 'img-354.jpg', 'img-355.jpg', 'img-3559.jpg', 'img-3560.jpg', 'img-3561.jpg', 'img-3562.jpg', 'img-3565.jpg', 'img-3566.jpg', 'img-3567.jpg', 'img-3574.jpg', 'img-3575.jpg', 'img-3576.jpg', 'img-3577.jpg', 'img-3578.jpg', 'img-3579.jpg', 'img-3597.jpg', 'img-36.jpg', 'img-368.jpg', 'img-37.jpg', 'img-371.jpg', 'img-372.jpg', 'img-373.jpg', 'img-374.jpg', 'img-375.jpg', 'img-376.jpg', 'img-377.jpg', 'img-378.jpg', 'img-379.jpg', 'img-380.jpg', 'img-381.jpg', 'img-382.jpg', 'img-383.jpg', 'img-385.jpg', 'img-386.jpg', 'img-387.jpg', 'img-388.jpg', 'img-389.jpg', 'img-39.jpg', 'img-390.jpg', 'img-391.jpg', 'img-392.jpg', 'img-393.jpg', 'img-394.jpg', 'img-395.jpg', 'img-396.jpg', 'img-397.jpg', 'img-398.jpg', 'img-399.jpg', 'img-400.jpg', 'img-401.jpg', 'img-402.jpg', 'img-403.jpg', 'img-404.jpg', 'img-405.jpg', 'img-406.jpg', 'img-407.jpg', 'img-41.jpg', 'img-419.jpg', 'img-42.jpg', 'img-420.jpg', 'img-421.jpg', 'img-422.jpg', 'img-423.jpg', 'img-424.jpg', 'img-425.jpg', 'img-426.jpg', 'img-427.jpg', 'img-428.jpg', 'img-429.jpg', 'img-430.jpg', 'img-431.jpg', 'img-432.jpg', 'img-433.jpg', 'img-434.jpg', 'img-435.jpg', 'img-436.jpg', 'img-437.jpg', 'img-439.jpg', 'img-440.jpg', 'img-441.jpg', 'img-442.jpg', 'img-443.jpg', 'img-444.jpg', 'img-445.jpg', 'img-446.jpg', 'img-448.jpg', 'img-449.jpg', 'img-45.jpg', 'img-450.jpg', 'img-451.jpg', 'img-452.jpg', 'img-453.jpg', 'img-454.jpg', 'img-455.jpg', 'img-456.jpg', 'img-457.jpg', 'img-458.jpg', 'img-459.jpg', 'img-46.jpg', 'img-460.jpg', 'img-461.jpg', 'img-462.jpg', 'img-463.jpg', 'img-464.jpg', 'img-465.jpg', 'img-466.jpg', 'img-467.jpg', 'img-468.jpg', 'img-469.jpg', 'img-470.jpg', 'img-471.jpg', 'img-472.jpg', 'img-473.jpg', 'img-476.jpg', 'img-477.jpg', 'img-482.jpg', 'img-484.jpg', 'img-494.jpg', 'img-495.jpg', 'img-496.jpg', 'img-498.jpg', 'img-499.jpg', 'img-506.jpg', 'img-507.jpg', 'img-509.jpg', 'img-51.jpg', 'img-510.jpg', 'img-511.jpg', 'img-512.jpg', 'img-513.jpg', 'img-514.jpg', 'img-515.jpg', 'img-516.jpg', 'img-517.jpg', 'img-518.jpg', 'img-519.jpg', 'img-52.jpg', 'img-520.jpg', 'img-521.jpg', 'img-522.jpg', 'img-523.jpg', 'img-53.jpg', 'img-54.jpg', 'img-543.jpg', 'img-544.jpg', 'img-545.jpg', 'img-546.jpg', 'img-547.jpg', 'img-548.jpg', 'img-551.jpg', 'img-552.jpg', 'img-553.jpg', 'img-554.jpg', 'img-555.jpg', 'img-556.jpg', 'img-557.jpg', 'img-558.jpg', 'img-559.jpg', 'img-560.jpg', 'img-561.jpg', 'img-562.jpg', 'img-563.jpg', 'img-564.jpg', 'img-565.jpg', 'img-566.jpg', 'img-567.jpg', 'img-568.jpg', 'img-569.jpg', 'img-57.jpg', 'img-570.jpg', 'img-571.jpg', 'img-572.jpg', 'img-573.jpg', 'img-574.jpg', 'img-575.jpg', 'img-576.jpg', 'img-577.jpg', 'img-578.jpg', 'img-579.jpg', 'img-58.jpg', 'img-580.jpg', 'img-581.jpg', 'img-582.jpg', 'img-583.jpg', 'img-584.jpg', 'img-585.jpg', 'img-586.jpg', 'img-587.jpg', 'img-588.jpg', 'img-589.jpg', 'img-59.jpg', 'img-590.jpg', 'img-591.jpg', 'img-592.jpg', 'img-593.jpg', 'img-594.jpg', 'img-595.jpg', 'img-596.jpg', 'img-597.jpg', 'img-598.jpg', 'img-599.jpg', 'img-6.jpg', 'img-60.jpg', 'img-600.jpg', 'img-601.jpg', 'img-602.jpg', 'img-603.jpg', 'img-604.jpg', 'img-605.jpg', 'img-606.jpg', 'img-607.jpg', 'img-608.jpg', 'img-609.jpg', 'img-61.jpg', 'img-610.jpg', 'img-611.jpg', 'img-612.jpg', 'img-613.jpg', 'img-614.jpg', 'img-615.jpg', 'img-616.jpg', 'img-617.jpg', 'img-618.jpg', 'img-619.jpg', 'img-62.jpg', 'img-620.jpg', 'img-621.jpg', 'img-622.jpg', 'img-623.jpg', 'img-624.jpg', 'img-625.jpg', 'img-626.jpg', 'img-627.jpg', 'img-628.jpg', 'img-629.jpg', 'img-63.jpg', 'img-630.jpg', 'img-631.jpg', 'img-632.jpg', 'img-633.jpg', 'img-634.jpg', 'img-635.jpg', 'img-636.jpg', 'img-637.jpg', 'img-638.jpg', 'img-639.jpg', 'img-640.jpg', 'img-641.jpg', 'img-642.jpg', 'img-643.jpg', 'img-644.jpg', 'img-645.jpg', 'img-646.jpg', 'img-647.jpg', 'img-648.jpg', 'img-649.jpg', 'img-65.jpg', 'img-650.jpg', 'img-651.jpg', 'img-652.jpg', 'img-653.jpg', 'img-655.jpg', 'img-656.jpg', 'img-657.jpg', 'img-658.jpg', 'img-659.jpg', 'img-66.jpg', 'img-660.jpg', 'img-661.jpg', 'img-662.jpg', 'img-663.jpg', 'img-664.jpg', 'img-665.jpg', 'img-666.jpg', 'img-667.jpg', 'img-668.jpg', 'img-669.jpg', 'img-67.jpg', 'img-670.jpg', 'img-671.jpg', 'img-672.jpg', 'img-673.jpg', 'img-674.jpg', 'img-675.jpg', 'img-676.jpg', 'img-677.jpg', 'img-678.jpg', 'img-679.jpg', 'img-68.jpg', 'img-680.jpg', 'img-681.jpg', 'img-682.jpg', 'img-683.jpg', 'img-684.jpg', 'img-685.jpg', 'img-686.jpg', 'img-687.jpg', 'img-688.jpg', 'img-689.jpg', 'img-69.jpg', 'img-690.jpg', 'img-694.jpg', 'img-696.jpg', 'img-697.jpg', 'img-698.jpg', 'img-699.jpg', 'img-7.jpg', 'img-70.jpg', 'img-700.jpg', 'img-701.jpg', 'img-702.jpg', 'img-703.jpg', 'img-704.jpg', 'img-705.jpg', 'img-706.jpg', 'img-707.jpg', 'img-708.jpg', 'img-709.jpg', 'img-71.jpg', 'img-710.jpg', 'img-711.jpg', 'img-712.jpg', 'img-713.jpg', 'img-714.jpg', 'img-715.jpg', 'img-716.jpg', 'img-717.jpg', 'img-718.jpg', 'img-719.jpg', 'img-72.jpg', 'img-720.jpg', 'img-721.jpg', 'img-722.jpg', 'img-723.jpg', 'img-724.jpg', 'img-725.jpg', 'img-726.jpg', 'img-727.jpg', 'img-728.jpg', 'img-729.jpg', 'img-73.jpg', 'img-730.jpg', 'img-731.jpg', 'img-732.jpg', 'img-733.jpg', 'img-734.jpg', 'img-735.jpg', 'img-736.jpg', 'img-737.jpg', 'img-738.jpg', 'img-739.jpg', 'img-74.jpg', 'img-740.jpg', 'img-741.jpg', 'img-742.jpg', 'img-743.jpg', 'img-744.jpg', 'img-745.jpg', 'img-746.jpg', 'img-747.jpg', 'img-748.jpg', 'img-749.jpg', 'img-75.jpg', 'img-750.jpg', 'img-751.jpg', 'img-752.jpg', 'img-753.jpg', 'img-754.jpg', 'img-755.jpg', 'img-756.jpg', 'img-757.jpg', 'img-758.jpg', 'img-759.jpg', 'img-76.jpg', 'img-760.jpg', 'img-761.jpg', 'img-762.jpg', 'img-763.jpg', 'img-764.jpg', 'img-765.jpg', 'img-766.jpg', 'img-767.jpg', 'img-768.jpg', 'img-769.jpg', 'img-77.jpg', 'img-770.jpg', 'img-771.jpg', 'img-772.jpg', 'img-774.jpg', 'img-775.jpg', 'img-776.jpg', 'img-777.jpg', 'img-778.jpg', 'img-779.jpg', 'img-78.jpg', 'img-780.jpg', 'img-781.jpg', 'img-782.jpg', 'img-783.jpg', 'img-785.jpg', 'img-786.jpg', 'img-787.jpg', 'img-789.jpg', 'img-79.jpg', 'img-790.jpg', 'img-791.jpg', 'img-792.jpg', 'img-793.jpg', 'img-794.jpg', 'img-795.jpg', 'img-796.jpg', 'img-798.jpg', 'img-799.jpg', 'img-800.jpg', 'img-801.jpg', 'img-803.jpg', 'img-804.jpg', 'img-805.jpg', 'img-806.jpg', 'img-807.jpg', 'img-808.jpg', 'img-809.jpg', 'img-81.jpg', 'img-810.jpg', 'img-811.jpg', 'img-812.jpg', 'img-813.jpg', 'img-814.jpg', 'img-815.jpg', 'img-816.jpg', 'img-817.jpg', 'img-818.jpg', 'img-819.jpg', 'img-82.jpg', 'img-820.jpg', 'img-821.jpg', 'img-822.jpg', 'img-83.jpg', 'img-84.jpg', 'img-85.jpg', 'img-86.jpg', 'img-87.jpg', 'img-88.jpg', 'img-89.jpg', 'img-90.jpg', 'img-94.jpg', 'img-95.jpg', 'img-96.jpg', 'img-97.jpg', 'img-98.jpg', 'img-99.jpg']\n",
      "train_images ['img-1181.jpg', 'img-1182.jpg', 'img-1183.jpg', 'img-1184.jpg', 'img-1187.jpg', 'img-1188.jpg', 'img-1189.jpg', 'img-119.jpg', 'img-1191.jpg', 'img-1192.jpg', 'img-1193.jpg', 'img-1194.jpg', 'img-1197.jpg', 'img-1198.jpg', 'img-1199.jpg', 'img-120.jpg', 'img-1200.jpg', 'img-1203.jpg', 'img-1204.jpg', 'img-1205.jpg', 'img-1207.jpg', 'img-1211.jpg', 'img-1212.jpg', 'img-1215.jpg', 'img-1219.jpg', 'img-1239.jpg', 'img-1240.jpg', 'img-1247.jpg', 'img-1252.jpg', 'img-1254.jpg', 'img-1258.jpg', 'img-1259.jpg', 'img-1262.jpg', 'img-1269.jpg', 'img-1270.jpg', 'img-1272.jpg', 'img-1273.jpg', 'img-1274.jpg', 'img-1275.jpg', 'img-1276.jpg', 'img-1277.jpg', 'img-1278.jpg', 'img-1279.jpg', 'img-1280.jpg', 'img-1281.jpg', 'img-1282.jpg', 'img-1283.jpg', 'img-1284.jpg', 'img-1285.jpg', 'img-1286.jpg', 'img-1287.jpg', 'img-1288.jpg', 'img-1289.jpg', 'img-1290.jpg', 'img-1291.jpg', 'img-1292.jpg', 'img-1293.jpg', 'img-1294.jpg', 'img-1295.jpg', 'img-1296.jpg', 'img-1297.jpg', 'img-1298.jpg', 'img-1299.jpg', 'img-13.jpg', 'img-1300.jpg', 'img-1301.jpg', 'img-1302.jpg', 'img-1303.jpg', 'img-1304.jpg', 'img-1328.jpg', 'img-1329.jpg', 'img-1330.jpg', 'img-1332.jpg', 'img-1333.jpg', 'img-1334.jpg', 'img-1335.jpg', 'img-1336.jpg', 'img-1337.jpg', 'img-1338.jpg', 'img-1357.jpg', 'img-1358.jpg', 'img-136.jpg', 'img-1361.jpg', 'img-1362.jpg', 'img-1363.jpg', 'img-1364.jpg', 'img-1365.jpg', 'img-1366.jpg', 'img-1367.jpg', 'img-1368.jpg', 'img-1369.jpg', 'img-137.jpg', 'img-1370.jpg', 'img-1371.jpg', 'img-1373.jpg', 'img-1374.jpg', 'img-1375.jpg', 'img-1376.jpg', 'img-1377.jpg', 'img-1378.jpg', 'img-1379.jpg', 'img-138.jpg', 'img-1380.jpg', 'img-1381.jpg', 'img-1382.jpg', 'img-1383.jpg', 'img-1384.jpg', 'img-1385.jpg', 'img-1386.jpg', 'img-1387.jpg', 'img-1388.jpg', 'img-1389.jpg', 'img-139.jpg', 'img-1390.jpg', 'img-1391.jpg', 'img-1392.jpg', 'img-1393.jpg', 'img-1394.jpg', 'img-1395.jpg', 'img-1396.jpg', 'img-1397.jpg', 'img-1398.jpg', 'img-1399.jpg', 'img-14.jpg', 'img-140.jpg', 'img-1400.jpg', 'img-1401.jpg', 'img-1402.jpg', 'img-1403.jpg', 'img-1404.jpg', 'img-1405.jpg', 'img-1408.jpg', 'img-1409.jpg', 'img-141.jpg', 'img-1410.jpg', 'img-1411.jpg', 'img-1412.jpg', 'img-1415.jpg', 'img-1417.jpg', 'img-142.jpg', 'img-1421.jpg', 'img-1429.jpg', 'img-143.jpg', 'img-1431.jpg', 'img-1433.jpg', 'img-1435.jpg', 'img-1437.jpg', 'img-144.jpg', 'img-1441.jpg', 'img-1445.jpg', 'img-1449.jpg', 'img-145.jpg', 'img-1451.jpg', 'img-1455.jpg', 'img-1457.jpg', 'img-146.jpg', 'img-1463.jpg', 'img-1465.jpg', 'img-147.jpg', 'img-1471.jpg', 'img-1473.jpg', 'img-1477.jpg', 'img-1481.jpg', 'img-1483.jpg', 'img-1485.jpg', 'img-1487.jpg', 'img-1489.jpg', 'img-1491.jpg', 'img-1495.jpg', 'img-1497.jpg', 'img-15.jpg', 'img-1501.jpg', 'img-1503.jpg', 'img-1505.jpg', 'img-1507.jpg', 'img-1509.jpg', 'img-1511.jpg', 'img-1517.jpg', 'img-1521.jpg', 'img-1523.jpg', 'img-1531.jpg', 'img-1537.jpg', 'img-1539.jpg', 'img-1545.jpg', 'img-1547.jpg', 'img-1549.jpg', 'img-1551.jpg', 'img-1555.jpg', 'img-1559.jpg', 'img-1561.jpg', 'img-1565.jpg', 'img-1567.jpg', 'img-1571.jpg', 'img-1573.jpg', 'img-1575.jpg', 'img-1577.jpg', 'img-1579.jpg', 'img-1581.jpg', 'img-1583.jpg', 'img-1585.jpg', 'img-1587.jpg', 'img-1589.jpg', 'img-1591.jpg', 'img-1593.jpg', 'img-1595.jpg', 'img-1597.jpg', 'img-1601.jpg', 'img-1603.jpg', 'img-1605.jpg', 'img-1607.jpg', 'img-1609.jpg', 'img-1611.jpg', 'img-1613.jpg', 'img-1616.jpg', 'img-1620.jpg', 'img-1622.jpg', 'img-1624.jpg', 'img-1628.jpg', 'img-163.jpg', 'img-1631.jpg', 'img-1634.jpg', 'img-1636.jpg', 'img-1638.jpg', 'img-164.jpg', 'img-1640.jpg', 'img-1642.jpg', 'img-1644.jpg', 'img-1646.jpg', 'img-1648.jpg', 'img-165.jpg', 'img-1650.jpg', 'img-1652.jpg', 'img-1654.jpg', 'img-1658.jpg', 'img-166.jpg', 'img-1660.jpg', 'img-1662.jpg', 'img-1664.jpg', 'img-1666.jpg', 'img-1668.jpg', 'img-167.jpg', 'img-1670.jpg', 'img-1672.jpg', 'img-1674.jpg', 'img-1676.jpg', 'img-1678.jpg', 'img-168.jpg', 'img-1680.jpg', 'img-1682.jpg', 'img-1684.jpg', 'img-1686.jpg', 'img-1688.jpg', 'img-169.jpg', 'img-1690.jpg', 'img-1692.jpg', 'img-1694.jpg', 'img-1695.jpg', 'img-1696.jpg', 'img-1697.jpg', 'img-1698.jpg', 'img-1699.jpg', 'img-17.jpg', 'img-170.jpg', 'img-1700.jpg', 'img-1701.jpg', 'img-1702.jpg', 'img-1703.jpg', 'img-1704.jpg', 'img-1705.jpg', 'img-1706.jpg', 'img-1707.jpg', 'img-1708.jpg', 'img-1709.jpg', 'img-171.jpg', 'img-1710.jpg', 'img-1711.jpg', 'img-1712.jpg', 'img-1713.jpg', 'img-1714.jpg', 'img-1715.jpg', 'img-1716.jpg', 'img-1717.jpg', 'img-1718.jpg', 'img-1719.jpg', 'img-172.jpg', 'img-1720.jpg', 'img-1721.jpg', 'img-1722.jpg', 'img-1723.jpg', 'img-1724.jpg', 'img-1725.jpg', 'img-1726.jpg', 'img-1727.jpg', 'img-1728.jpg', 'img-1729.jpg', 'img-173.jpg', 'img-1730.jpg', 'img-1731.jpg', 'img-1732.jpg', 'img-1733.jpg', 'img-1734.jpg', 'img-1735.jpg', 'img-1736.jpg', 'img-1737.jpg', 'img-1738.jpg', 'img-1739.jpg', 'img-174.jpg', 'img-1740.jpg', 'img-1741.jpg', 'img-1742.jpg', 'img-1743.jpg', 'img-1744.jpg', 'img-1745.jpg', 'img-1746.jpg', 'img-1747.jpg', 'img-1748.jpg', 'img-1749.jpg', 'img-175.jpg', 'img-1751.jpg', 'img-1752.jpg', 'img-1753.jpg', 'img-1754.jpg', 'img-1756.jpg', 'img-1758.jpg', 'img-1759.jpg', 'img-1760.jpg', 'img-1765.jpg', 'img-1768.jpg', 'img-1769.jpg', 'img-1772.jpg', 'img-1773.jpg', 'img-1774.jpg', 'img-1776.jpg', 'img-1778.jpg', 'img-1781.jpg', 'img-1783.jpg', 'img-1784.jpg', 'img-1788.jpg', 'img-1789.jpg', 'img-1790.jpg', 'img-1791.jpg', 'img-1792.jpg', 'img-1793.jpg', 'img-1794.jpg', 'img-1796.jpg', 'img-1799.jpg', 'img-1800.jpg', 'img-1801.jpg', 'img-1803.jpg', 'img-1804.jpg', 'img-1806.jpg', 'img-1807.jpg', 'img-1808.jpg', 'img-1809.jpg', 'img-1811.jpg', 'img-1812.jpg', 'img-1813.jpg', 'img-1815.jpg', 'img-1817.jpg', 'img-1818.jpg', 'img-1820.jpg', 'img-1821.jpg', 'img-1823.jpg', 'img-1825.jpg', 'img-1826.jpg', 'img-1828.jpg', 'img-1830.jpg', 'img-1831.jpg', 'img-1835.jpg', 'img-1865.jpg', 'img-1866.jpg', 'img-1867.jpg', 'img-1868.jpg', 'img-1869.jpg', 'img-1870.jpg', 'img-1871.jpg', 'img-1872.jpg', 'img-1873.jpg', 'img-1874.jpg', 'img-1875.jpg', 'img-1876.jpg', 'img-1877.jpg', 'img-1878.jpg', 'img-1879.jpg', 'img-1882.jpg', 'img-1883.jpg', 'img-1885.jpg', 'img-1886.jpg', 'img-1887.jpg', 'img-1890.jpg', 'img-1891.jpg', 'img-1893.jpg', 'img-1894.jpg', 'img-1895.jpg', 'img-1897.jpg', 'img-1898.jpg', 'img-19.jpg', 'img-1906.jpg', 'img-1909.jpg', 'img-191.jpg', 'img-1910.jpg', 'img-1911.jpg', 'img-1912.jpg', 'img-1913.jpg', 'img-1915.jpg', 'img-1918.jpg', 'img-1919.jpg', 'img-192.jpg', 'img-1920.jpg', 'img-1921.jpg', 'img-1922.jpg', 'img-1923.jpg', 'img-1924.jpg', 'img-1925.jpg', 'img-1927.jpg', 'img-193.jpg', 'img-1930.jpg', 'img-1931.jpg', 'img-1932.jpg', 'img-1933.jpg', 'img-1934.jpg', 'img-1935.jpg', 'img-1936.jpg', 'img-1937.jpg', 'img-1938.jpg', 'img-1939.jpg', 'img-194.jpg', 'img-1940.jpg', 'img-1941.jpg', 'img-1942.jpg', 'img-1943.jpg', 'img-1944.jpg', 'img-1945.jpg', 'img-1946.jpg', 'img-1948.jpg', 'img-195.jpg', 'img-1950.jpg', 'img-1952.jpg', 'img-1954.jpg', 'img-1956.jpg', 'img-1958.jpg', 'img-196.jpg', 'img-1960.jpg', 'img-1962.jpg', 'img-1963.jpg', 'img-1964.jpg', 'img-1965.jpg', 'img-1967.jpg', 'img-1968.jpg', 'img-1969.jpg', 'img-197.jpg', 'img-1971.jpg', 'img-1973.jpg', 'img-1977.jpg', 'img-1978.jpg', 'img-1979.jpg', 'img-1980.jpg', 'img-1981.jpg', 'img-1983.jpg', 'img-1985.jpg', 'img-1987.jpg', 'img-199.jpg', 'img-1991.jpg', 'img-1993.jpg', 'img-1995.jpg', 'img-1996.jpg', 'img-1997.jpg', 'img-1999.jpg', 'img-2001.jpg', 'img-2003.jpg', 'img-2005.jpg', 'img-2006.jpg', 'img-2010.jpg', 'img-2011.jpg', 'img-2013.jpg', 'img-202.jpg', 'img-2021.jpg', 'img-2026.jpg', 'img-2028.jpg', 'img-203.jpg', 'img-2037.jpg', 'img-2041.jpg', 'img-2056.jpg', 'img-2069.jpg', 'img-2082.jpg', 'img-2088.jpg', 'img-21.jpg', 'img-2135.jpg', 'img-2151.jpg', 'img-2175.jpg', 'img-219.jpg', 'img-22.jpg', 'img-220.jpg', 'img-221.jpg', 'img-222.jpg', 'img-223.jpg', 'img-224.jpg', 'img-225.jpg', 'img-226.jpg', 'img-227.jpg', 'img-228.jpg', 'img-229.jpg', 'img-230.jpg', 'img-231.jpg', 'img-247.jpg', 'img-248.jpg', 'img-249.jpg', 'img-25.jpg', 'img-250.jpg', 'img-251.jpg', 'img-252.jpg', 'img-253.jpg', 'img-254.jpg', 'img-255.jpg', 'img-256.jpg', 'img-257.jpg', 'img-258.jpg', 'img-26.jpg', 'img-27.jpg', 'img-274.jpg', 'img-275.jpg', 'img-276.jpg', 'img-277.jpg', 'img-278.jpg', 'img-279.jpg', 'img-28.jpg', 'img-280.jpg', 'img-281.jpg', 'img-282.jpg', 'img-283.jpg', 'img-284.jpg', 'img-285.jpg', 'img-286.jpg', 'img-29.jpg', 'img-30.jpg', 'img-302.jpg', 'img-303.jpg', 'img-304.jpg', 'img-305.jpg', 'img-306.jpg', 'img-307.jpg', 'img-308.jpg', 'img-309.jpg', 'img-31.jpg', 'img-310.jpg', 'img-311.jpg', 'img-312.jpg', 'img-313.jpg', 'img-32.jpg', 'img-329.jpg', 'img-33.jpg', 'img-330.jpg', 'img-331.jpg', 'img-332.jpg', 'img-333.jpg', 'img-334.jpg', 'img-335.jpg', 'img-336.jpg', 'img-337.jpg', 'img-338.jpg', 'img-339.jpg', 'img-34.jpg', 'img-340.jpg', 'img-35.jpg', 'img-356.jpg', 'img-357.jpg', 'img-358.jpg', 'img-359.jpg', 'img-36.jpg', 'img-360.jpg', 'img-361.jpg', 'img-362.jpg', 'img-363.jpg', 'img-364.jpg', 'img-365.jpg', 'img-366.jpg', 'img-367.jpg', 'img-38.jpg', 'img-383.jpg', 'img-384.jpg', 'img-385.jpg', 'img-386.jpg', 'img-387.jpg', 'img-388.jpg', 'img-389.jpg', 'img-390.jpg', 'img-391.jpg', 'img-392.jpg', 'img-393.jpg', 'img-394.jpg', 'img-41.jpg', 'img-410.jpg', 'img-411.jpg', 'img-412.jpg', 'img-413.jpg', 'img-414.jpg', 'img-415.jpg', 'img-416.jpg', 'img-417.jpg', 'img-418.jpg', 'img-419.jpg', 'img-42.jpg', 'img-420.jpg', 'img-421.jpg', 'img-437.jpg', 'img-438.jpg', 'img-439.jpg', 'img-44.jpg', 'img-440.jpg', 'img-441.jpg', 'img-442.jpg', 'img-443.jpg', 'img-444.jpg', 'img-445.jpg', 'img-446.jpg', 'img-447.jpg', 'img-448.jpg', 'img-449.jpg', 'img-46.jpg', 'img-465.jpg', 'img-466.jpg', 'img-467.jpg', 'img-468.jpg', 'img-469.jpg', 'img-470.jpg', 'img-471.jpg', 'img-472.jpg', 'img-473.jpg', 'img-474.jpg', 'img-475.jpg', 'img-476.jpg', 'img-477.jpg', 'img-48.jpg', 'img-493.jpg', 'img-494.jpg', 'img-495.jpg', 'img-496.jpg', 'img-497.jpg', 'img-498.jpg', 'img-499.jpg', 'img-500.jpg', 'img-501.jpg', 'img-502.jpg', 'img-503.jpg', 'img-504.jpg', 'img-52.jpg', 'img-520.jpg', 'img-521.jpg', 'img-522.jpg', 'img-523.jpg', 'img-524.jpg', 'img-525.jpg', 'img-526.jpg', 'img-527.jpg', 'img-528.jpg', 'img-529.jpg', 'img-530.jpg', 'img-531.jpg', 'img-532.jpg', 'img-54.jpg', 'img-548.jpg', 'img-549.jpg', 'img-55.jpg', 'img-550.jpg', 'img-551.jpg', 'img-552.jpg', 'img-553.jpg', 'img-554.jpg', 'img-555.jpg', 'img-556.jpg', 'img-557.jpg', 'img-558.jpg', 'img-559.jpg', 'img-56.jpg', 'img-560.jpg', 'img-57.jpg', 'img-576.jpg', 'img-577.jpg', 'img-578.jpg', 'img-579.jpg', 'img-58.jpg', 'img-580.jpg', 'img-581.jpg', 'img-582.jpg', 'img-583.jpg', 'img-584.jpg', 'img-585.jpg', 'img-586.jpg', 'img-587.jpg', 'img-588.jpg', 'img-59.jpg', 'img-60.jpg', 'img-604.jpg', 'img-605.jpg', 'img-606.jpg', 'img-607.jpg', 'img-608.jpg', 'img-609.jpg', 'img-61.jpg', 'img-610.jpg', 'img-611.jpg', 'img-612.jpg', 'img-613.jpg', 'img-614.jpg', 'img-615.jpg', 'img-62.jpg', 'img-63.jpg', 'img-631.jpg', 'img-632.jpg', 'img-633.jpg', 'img-634.jpg', 'img-635.jpg', 'img-636.jpg', 'img-637.jpg', 'img-638.jpg', 'img-639.jpg', 'img-640.jpg', 'img-641.jpg', 'img-642.jpg', 'img-643.jpg', 'img-659.jpg', 'img-660.jpg', 'img-661.jpg', 'img-662.jpg', 'img-663.jpg', 'img-664.jpg', 'img-665.jpg', 'img-666.jpg', 'img-667.jpg', 'img-668.jpg', 'img-669.jpg', 'img-670.jpg', 'img-686.jpg', 'img-687.jpg', 'img-688.jpg', 'img-689.jpg', 'img-691.jpg', 'img-692.jpg', 'img-693.jpg', 'img-694.jpg', 'img-695.jpg', 'img-696.jpg', 'img-698.jpg', 'img-79.jpg', 'img-80.jpg', 'img-82.jpg', 'img-83.jpg', 'img-84.jpg', 'img-85.jpg', 'img-86.jpg', 'img-88.jpg', 'img-89.jpg', 'img-90.jpg', 'img-918.jpg', 'img-919.jpg', 'img-920.jpg', 'img-921.jpg', 'img-922.jpg', 'img-924.jpg', 'img-926.jpg', 'img-927.jpg', 'img-928.jpg', 'img-929.jpg', 'img-930.jpg', 'img-931.jpg', 'img-932.jpg', 'img-933.jpg', 'img-934.jpg', 'img-936.jpg', 'img-937.jpg', 'img-938.jpg', 'img-939.jpg', 'img-940.jpg', 'img-941.jpg', 'img-942.jpg', 'img-943.jpg', 'img-944.jpg', 'img-945.jpg', 'img-946.jpg', 'img-947.jpg', 'img-948.jpg', 'img-949.jpg', 'img-950.jpg', 'img-951.jpg', 'img-952.jpg', 'img-953.jpg', 'img-954.jpg', 'img-955.jpg', 'img-956.jpg', 'img-957.jpg', 'img-958.jpg', 'img-959.jpg', 'img-960.jpg', 'img-961.jpg', 'img-962.jpg', 'img-963.jpg', 'img-965.jpg', 'img-966.jpg', 'img-967.jpg', 'img-968.jpg', 'img-969.jpg', 'img-970.jpg', 'img-971.jpg', 'img-972.jpg', 'img-973.jpg', 'img-974.jpg', 'img-975.jpg', 'img-976.jpg', 'img-977.jpg', 'img-980.jpg', 'img-981.jpg', 'img-982.jpg', 'img-983.jpg', 'img-984.jpg', 'img-985.jpg', 'img-987.jpg', 'img-988.jpg', 'img-989.jpg', 'img-990.jpg', 'img-992.jpg', 'img-993.jpg', 'img-994.jpg', 'img-995.jpg', 'img-996.jpg', 'img-997.jpg', 'img-998.jpg', 'img-999.jpg', 'img699.jpg', 'img700.jpg']\n"
     ]
    }
   ],
   "source": [
    "load_data_into_train_validation_test(dataset_directory, train_directory, validation_directory, test_directory)"
   ]
  },
  {
   "cell_type": "markdown",
   "metadata": {
    "id": "xkjWKCKBkVtF"
   },
   "source": [
    "### Defining Pre Processing (Redefinition and Normalization)"
   ]
  },
  {
   "cell_type": "code",
   "execution_count": 4,
   "metadata": {
    "id": "-Z9_lSd-YuxD"
   },
   "outputs": [],
   "source": [
    "target_size = (28, 28) # Tamanho alvo para redimensionamento\n",
    "\n",
    "def preprocess_image(image_path):\n",
    "    \n",
    "    img = load_img(image_path, target_size=target_size)\n",
    "    img_array = img_to_array(img)\n",
    "    img_array /= 255.0  # Normalização dos valores dos pixels para [0, 1]\n",
    "    \n",
    "    return img_array"
   ]
  },
  {
   "cell_type": "markdown",
   "metadata": {
    "id": "aYHzzr4ijvbK"
   },
   "source": [
    "### Saving images with pre-processing definitions"
   ]
  },
  {
   "cell_type": "code",
   "execution_count": 104,
   "metadata": {},
   "outputs": [
    {
     "name": "stdout",
     "output_type": "stream",
     "text": [
      "Python 3.9.18\n"
     ]
    }
   ],
   "source": [
    "!python --version"
   ]
  },
  {
   "cell_type": "code",
   "execution_count": 6,
   "metadata": {},
   "outputs": [
    {
     "name": "stdout",
     "output_type": "stream",
     "text": [
      "File: c:\\Users\\Larissa Santana\\anaconda3\\lib\\site-packages\\tensorflow\\__init__.py\n",
      "Version: 2.9.1\n"
     ]
    }
   ],
   "source": [
    "import tensorflow as tf\n",
    "\n",
    "print(\"File:\", tf.__file__)\n",
    "print(\"Version:\", tf.__version__)"
   ]
  },
  {
   "cell_type": "code",
   "execution_count": 106,
   "metadata": {},
   "outputs": [
    {
     "name": "stdout",
     "output_type": "stream",
     "text": [
      "Executable: c:\\Users\\Larissa Santana\\anaconda3\\python.exe\n"
     ]
    }
   ],
   "source": [
    "import sys\n",
    "\n",
    "print(\"Executable:\", sys.executable)"
   ]
  },
  {
   "cell_type": "code",
   "execution_count": 5,
   "metadata": {
    "id": "cNptvomzuqED"
   },
   "outputs": [],
   "source": [
    "import numpy as np\n",
    "import matplotlib.pyplot as plt\n",
    "from tensorflow.keras.preprocessing.image import load_img, img_to_array, array_to_img"
   ]
  },
  {
   "cell_type": "code",
   "execution_count": 108,
   "metadata": {},
   "outputs": [],
   "source": [
    "dataset_directories = [train_directory, validation_directory, test_directory]"
   ]
  },
  {
   "cell_type": "code",
   "execution_count": 109,
   "metadata": {
    "colab": {
     "base_uri": "https://localhost:8080/"
    },
    "id": "LuMWIEwS2N9R",
    "outputId": "e61ac8ac-543c-45f7-d329-2bd1d777b45b"
   },
   "outputs": [],
   "source": [
    "def saving_images_with_preprocessig_definitions(dataset_directories):\n",
    "\n",
    "    for dataset_directory in dataset_directories:\n",
    "    \n",
    "        # Loop através de cada pasta de classe em treinamento\n",
    "        for class_folder in os.listdir(dataset_directory):\n",
    "    \n",
    "            # Crie uma figura com três subplots em uma linha\n",
    "            if (dataset_directory == train_directory): fig, axs = plt.subplots(1, 3, figsize=(6, 2))\n",
    "    \n",
    "            class_folder_path = os.path.join(dataset_directory, class_folder)\n",
    "    \n",
    "            i = 0\n",
    "            # Loop através de cada imagem na pasta de classe\n",
    "            for image_name in os.listdir(class_folder_path):\n",
    "                image_path = os.path.join(class_folder_path, image_name)\n",
    "    \n",
    "                # Pré-processar a imagem\n",
    "                preprocessed_image = preprocess_image(image_path)\n",
    "    \n",
    "                # Salvar a imagem pré-processada de volta ao mesmo local\n",
    "                array_img = array_to_img(preprocessed_image)\n",
    "                array_img.save(image_path)\n",
    "    \n",
    "                if (dataset_directory == train_directory and i < 3):\n",
    "                    axs[i].imshow(preprocessed_image)\n",
    "                    axs[i].axis('off')\n",
    "                    i += 1\n",
    "            \n",
    "    plt.show()"
   ]
  },
  {
   "cell_type": "code",
   "execution_count": 110,
   "metadata": {},
   "outputs": [
    {
     "data": {
      "image/png": "[encoded data removed]",
      "text/plain": [
       "<Figure size 600x200 with 3 Axes>"
      ]
     },
     "metadata": {},
     "output_type": "display_data"
    },
    {
     "data": {
      "image/png": "[encoded data removed]",
      "text/plain": [
       "<Figure size 600x200 with 3 Axes>"
      ]
     },
     "metadata": {},
     "output_type": "display_data"
    },
    {
     "data": {
      "image/png": "[encoded data removed]",
      "text/plain": [
       "<Figure size 600x200 with 3 Axes>"
      ]
     },
     "metadata": {},
     "output_type": "display_data"
    },
    {
     "data": {
      "image/png": "[encoded data removed]",
      "text/plain": [
       "<Figure size 600x200 with 3 Axes>"
      ]
     },
     "metadata": {},
     "output_type": "display_data"
    }
   ],
   "source": [
    "saving_images_with_preprocessig_definitions(dataset_directories)"
   ]
  },
  {
   "cell_type": "markdown",
   "metadata": {
    "id": "YkXkUHfVW2hX"
   },
   "source": [
    "### Including Augmented Images on Train Directory"
   ]
  },
  {
   "cell_type": "code",
   "execution_count": 111,
   "metadata": {},
   "outputs": [
    {
     "name": "stdout",
     "output_type": "stream",
     "text": [
      "c:\\Users\\Larissa Santana\\anaconda3\\lib\\site-packages\\cv2\\__init__.py\n"
     ]
    }
   ],
   "source": [
    "import cv2\n",
    "\n",
    "print(cv2.__file__)"
   ]
  },
  {
   "cell_type": "code",
   "execution_count": 112,
   "metadata": {},
   "outputs": [],
   "source": [
    "import imgaug as ia\n",
    "from imgaug import augmenters as iaa"
   ]
  },
  {
   "cell_type": "code",
   "execution_count": 113,
   "metadata": {},
   "outputs": [],
   "source": [
    "rotation_range = 10\n",
    "width_shift_range = 0.1\n",
    "height_shift_range = 0.1\n",
    "shear_range = 0.1\n",
    "zoom_range = 0.1\n",
    "horizontal_flip = True"
   ]
  },
  {
   "cell_type": "code",
   "execution_count": 114,
   "metadata": {
    "id": "ZVEqz_a2x6BD"
   },
   "outputs": [],
   "source": [
    "generating_augmented_images = iaa.Sequential([\n",
    "    # Virar Horizontalmente\n",
    "    iaa.Fliplr(p=0.5),\n",
    "    # Rotação Aleatória\n",
    "    iaa.Sometimes(0.4, iaa.Affine(rotate=(-rotation_range, rotation_range))),\n",
    "    # Deslocamento Horizontal e Vertical\n",
    "    iaa.Sometimes(0.3, iaa.Affine(translate_percent={\"x\": (-width_shift_range, width_shift_range),\n",
    "                                                     \"y\": (-height_shift_range, height_shift_range)})),\n",
    "    # Zoom Aleatório\n",
    "    iaa.Sometimes(0.2, iaa.Affine(scale=(1 - zoom_range, 1 + zoom_range))),\n",
    "    # Sem probabilidade, sempre aplicada\n",
    "    iaa.Affine(shear=(-shear_range, shear_range)),\n",
    "], random_order=True)  # Aplica as augmentations em ordem aleatória\n"
   ]
  },
  {
   "cell_type": "code",
   "execution_count": 116,
   "metadata": {},
   "outputs": [],
   "source": [
    "from tensorflow.keras.utils import save_img"
   ]
  },
  {
   "cell_type": "code",
   "execution_count": 117,
   "metadata": {},
   "outputs": [],
   "source": [
    "def including_augmented_images(train_directory):\n",
    "    \n",
    "    for class_folder in os.listdir(train_directory):\n",
    "    \n",
    "        class_folder_path = os.path.join(train_directory, class_folder)\n",
    "        images = os.listdir(class_folder_path)\n",
    "    \n",
    "        fig, axs = plt.subplots(1, 3, figsize=(6, 2))\n",
    "    \n",
    "        for i, image_name in enumerate(images):\n",
    "            image_path = os.path.join(class_folder_path, image_name)\n",
    "    \n",
    "            img = load_img(image_path, target_size=target_size)\n",
    "            img_array = img_to_array(img)\n",
    "    \n",
    "            # Crie uma lista que contenha a mesma imagem original três vezes\n",
    "            image_list = [img_array, img_array, img_array]\n",
    "    \n",
    "            # Aplicar augmentations à lista de imagens\n",
    "            augmented_images = generating_augmented_images(images=image_list)\n",
    "    \n",
    "            k = 0\n",
    "            # Salvar as imagens aumentadas no mesmo diretório\n",
    "            for j, augmented_image in enumerate(augmented_images):\n",
    "    \n",
    "                image_name, image_extension = os.path.splitext(image_path)\n",
    "                new_image_path = f\"{image_name}aug_{j+1}_{total_images_generated}{image_extension}\"\n",
    "    \n",
    "                # Converta a imagem aumentada em um formato válido\n",
    "                augmented_image = np.uint8(augmented_image)\n",
    "                save_img(new_image_path, augmented_image)\n",
    "    \n",
    "                axs[k].imshow(augmented_image)\n",
    "                axs[k].axis('off')\n",
    "                k += 1\n",
    "    \n",
    "        plt.show()"
   ]
  },
  {
   "cell_type": "code",
   "execution_count": 118,
   "metadata": {},
   "outputs": [
    {
     "data": {
      "image/png": "[encoded data removed]",
      "text/plain": [
       "<Figure size 600x200 with 3 Axes>"
      ]
     },
     "metadata": {},
     "output_type": "display_data"
    },
    {
     "data": {
      "image/png": "[encoded data removed]",
      "text/plain": [
       "<Figure size 600x200 with 3 Axes>"
      ]
     },
     "metadata": {},
     "output_type": "display_data"
    },
    {
     "data": {
      "image/png": "[encoded data removed]",
      "text/plain": [
       "<Figure size 600x200 with 3 Axes>"
      ]
     },
     "metadata": {},
     "output_type": "display_data"
    },
    {
     "data": {
      "image/png": "[encoded data removed]",
      "text/plain": [
       "<Figure size 600x200 with 3 Axes>"
      ]
     },
     "metadata": {},
     "output_type": "display_data"
    }
   ],
   "source": [
    "total_images_generated = 3\n",
    "including_augmented_images(train_directory)"
   ]
  },
  {
   "cell_type": "markdown",
   "metadata": {},
   "source": [
    "### Defining this Dataset Model variables from train, validation and test folders"
   ]
  },
  {
   "cell_type": "code",
   "execution_count": 6,
   "metadata": {},
   "outputs": [
    {
     "name": "stdout",
     "output_type": "stream",
     "text": [
      "Found 16244 files belonging to 4 classes.\n",
      "Found 997 files belonging to 4 classes.\n",
      "Found 821 files belonging to 4 classes.\n"
     ]
    }
   ],
   "source": [
    "import tensorflow as tf\n",
    "\n",
    "batch_size = 3\n",
    "target_size = (28, 28)\n",
    "\n",
    "train_dataset = tf.keras.utils.image_dataset_from_directory(\n",
    "    train_directory,\n",
    "    labels='inferred',\n",
    "    image_size=(target_size),\n",
    "    batch_size=batch_size\n",
    ")\n",
    "\n",
    "# print(train_dataset)\n",
    "\n",
    "validation_dataset = tf.keras.utils.image_dataset_from_directory(\n",
    "    validation_directory,\n",
    "    labels='inferred',\n",
    "    image_size=(target_size),\n",
    "    batch_size=batch_size\n",
    ")\n",
    "\n",
    "# print(validation_dataset)\n",
    "\n",
    "test_dataset = tf.keras.utils.image_dataset_from_directory(\n",
    "    test_directory,\n",
    "    labels='inferred',\n",
    "    image_size=(target_size),\n",
    "    batch_size=batch_size\n",
    ")\n",
    "\n",
    "# print(test_dataset)"
   ]
  },
  {
   "cell_type": "markdown",
   "metadata": {
    "id": "9Zzbt5jzbcBa"
   },
   "source": [
    "### Creating Model"
   ]
  },
  {
   "cell_type": "code",
   "execution_count": 7,
   "metadata": {},
   "outputs": [],
   "source": [
    "# from tensorflow.keras.models import Sequential\n",
    "from tensorflow.keras.layers import Conv2D, BatchNormalization, PReLU, MaxPooling2D, Flatten, Dense, Dropout"
   ]
  },
  {
   "cell_type": "code",
   "execution_count": 8,
   "metadata": {},
   "outputs": [],
   "source": [
    "model = tf.keras.Sequential([\n",
    "\n",
    "    BatchNormalization(input_shape=(28, 28, 3)),\n",
    "\n",
    "    Conv2D(filters=64, kernel_size=(3,3), padding='same', activation='relu'),\n",
    "    MaxPooling2D(pool_size=(2, 2), strides=2),\n",
    "    Dropout(0.1),\n",
    "\n",
    "    Conv2D(filters=64, kernel_size=(3,3), padding='same', activation='relu'),\n",
    "    MaxPooling2D(pool_size=(2, 2), strides=2),\n",
    "    Dropout(0.2),\n",
    "\n",
    "    Flatten(),\n",
    "\n",
    "    Dense(256, activation='relu'),\n",
    "    Dropout(0.5),\n",
    "\n",
    "    Dense(64, activation='relu'),\n",
    "    BatchNormalization(),\n",
    "\n",
    "    Dense(4, activation=\"softmax\")\n",
    "])"
   ]
  },
  {
   "cell_type": "code",
   "execution_count": 9,
   "metadata": {
    "id": "Y2VqzKvNGdRc"
   },
   "outputs": [],
   "source": [
    "model.build(input_shape=(None, 28, 28, 3))"
   ]
  },
  {
   "cell_type": "code",
   "execution_count": 10,
   "metadata": {
    "colab": {
     "base_uri": "https://localhost:8080/"
    },
    "id": "rwH_nfTXRYVW",
    "outputId": "c42784b1-e0bf-4cd6-a2e2-7d7194ee4073"
   },
   "outputs": [
    {
     "name": "stdout",
     "output_type": "stream",
     "text": [
      "Model: \"sequential\"\n",
      "_________________________________________________________________\n",
      " Layer (type)                Output Shape              Param #   \n",
      "=================================================================\n",
      " batch_normalization (BatchN  (None, 28, 28, 3)        12        \n",
      " ormalization)                                                   \n",
      "                                                                 \n",
      " conv2d (Conv2D)             (None, 28, 28, 64)        1792      \n",
      "                                                                 \n",
      " max_pooling2d (MaxPooling2D  (None, 14, 14, 64)       0         \n",
      " )                                                               \n",
      "                                                                 \n",
      " dropout (Dropout)           (None, 14, 14, 64)        0         \n",
      "                                                                 \n",
      " conv2d_1 (Conv2D)           (None, 14, 14, 64)        36928     \n",
      "                                                                 \n",
      " max_pooling2d_1 (MaxPooling  (None, 7, 7, 64)         0         \n",
      " 2D)                                                             \n",
      "                                                                 \n",
      " dropout_1 (Dropout)         (None, 7, 7, 64)          0         \n",
      "                                                                 \n",
      " flatten (Flatten)           (None, 3136)              0         \n",
      "                                                                 \n",
      " dense (Dense)               (None, 256)               803072    \n",
      "                                                                 \n",
      " dropout_2 (Dropout)         (None, 256)               0         \n",
      "                                                                 \n",
      " dense_1 (Dense)             (None, 64)                16448     \n",
      "                                                                 \n",
      " batch_normalization_1 (Batc  (None, 64)               256       \n",
      " hNormalization)                                                 \n",
      "                                                                 \n",
      " dense_2 (Dense)             (None, 4)                 260       \n",
      "                                                                 \n",
      "=================================================================\n",
      "Total params: 858,768\n",
      "Trainable params: 858,634\n",
      "Non-trainable params: 134\n",
      "_________________________________________________________________\n"
     ]
    }
   ],
   "source": [
    "model.summary()"
   ]
  },
  {
   "cell_type": "markdown",
   "metadata": {
    "id": "NSs9A3HV7n2O"
   },
   "source": [
    "### Compiling Model"
   ]
  },
  {
   "cell_type": "code",
   "execution_count": 11,
   "metadata": {
    "id": "CQWAvYng8TG5"
   },
   "outputs": [],
   "source": [
    "from tensorflow.keras.optimizers import Adam"
   ]
  },
  {
   "cell_type": "code",
   "execution_count": 12,
   "metadata": {
    "id": "_-uzp89Z9qQO"
   },
   "outputs": [],
   "source": [
    "adam = Adam(learning_rate=0.001)"
   ]
  },
  {
   "cell_type": "code",
   "execution_count": 13,
   "metadata": {
    "id": "82BHbJeJTkA-"
   },
   "outputs": [],
   "source": [
    "model.compile(optimizer=adam, loss='sparse_categorical_crossentropy', metrics=['accuracy'])"
   ]
  },
  {
   "cell_type": "markdown",
   "metadata": {
    "id": "oHYuOzIR3hGB"
   },
   "source": [
    "### Training Model"
   ]
  },
  {
   "cell_type": "markdown",
   "metadata": {
    "id": "NumMvSkB3uNG"
   },
   "source": [
    "###### Defining Callback Methods:"
   ]
  },
  {
   "cell_type": "code",
   "execution_count": 14,
   "metadata": {
    "id": "B2BSeTFq3kBa"
   },
   "outputs": [],
   "source": [
    "from tensorflow.keras.callbacks import ModelCheckpoint, TensorBoard, EarlyStopping"
   ]
  },
  {
   "cell_type": "markdown",
   "metadata": {
    "id": "i5K7iu5HTC3u"
   },
   "source": [
    "*   Checkpoint to save best model weights\n"
   ]
  },
  {
   "cell_type": "code",
   "execution_count": 15,
   "metadata": {
    "id": "9zXzkxnBGD7c"
   },
   "outputs": [],
   "source": [
    "checkpoint_path = 'D:\\\\.Dataset28022024 - TCC\\\\model_checkpoint'\n",
    "checkpoint = ModelCheckpoint(checkpoint_path, monitor='val_accuracy', save_best_only=True, verbose=1)"
   ]
  },
  {
   "cell_type": "markdown",
   "metadata": {
    "id": "Gp7yZZ5zTHI5"
   },
   "source": [
    "*   Earlystop to stop the training process when the model stops improving\n",
    "\n"
   ]
  },
  {
   "cell_type": "code",
   "execution_count": 130,
   "metadata": {
    "id": "e4gKPsqb2tf5"
   },
   "outputs": [],
   "source": [
    "early_stopping = EarlyStopping(monitor='accuracy', patience=10)"
   ]
  },
  {
   "cell_type": "markdown",
   "metadata": {
    "id": "m5zsa8MWTHMG"
   },
   "source": [
    "*   TensorBoard to use logs for vizualize whats happening\n",
    "\n"
   ]
  },
  {
   "cell_type": "code",
   "execution_count": 131,
   "metadata": {
    "colab": {
     "base_uri": "https://localhost:8080/"
    },
    "id": "xjmlBVYOlQLU",
    "outputId": "c4b31ac7-b9e5-43b5-b340-ed5079f68e4f"
   },
   "outputs": [
    {
     "name": "stdout",
     "output_type": "stream",
     "text": [
      "Collecting ngrok\n",
      "  Downloading ngrok-1.0.0-cp37-abi3-win_amd64.whl.metadata (18 kB)\n",
      "Downloading ngrok-1.0.0-cp37-abi3-win_amd64.whl (3.2 MB)\n",
      "   ---------------------------------------- 0.0/3.2 MB ? eta -:--:--\n",
      "    --------------------------------------- 0.1/3.2 MB 1.1 MB/s eta 0:00:03\n",
      "   - -------------------------------------- 0.1/3.2 MB 1.2 MB/s eta 0:00:03\n",
      "   -- ------------------------------------- 0.2/3.2 MB 1.3 MB/s eta 0:00:03\n",
      "   --- ------------------------------------ 0.3/3.2 MB 1.4 MB/s eta 0:00:03\n",
      "   ---- ----------------------------------- 0.3/3.2 MB 1.4 MB/s eta 0:00:03\n",
      "   ----- ---------------------------------- 0.4/3.2 MB 1.5 MB/s eta 0:00:02\n",
      "   ------ --------------------------------- 0.5/3.2 MB 1.4 MB/s eta 0:00:02\n",
      "   ------ --------------------------------- 0.5/3.2 MB 1.4 MB/s eta 0:00:02\n",
      "   ------- -------------------------------- 0.6/3.2 MB 1.5 MB/s eta 0:00:02\n",
      "   -------- ------------------------------- 0.7/3.2 MB 1.5 MB/s eta 0:00:02\n",
      "   --------- ------------------------------ 0.7/3.2 MB 1.5 MB/s eta 0:00:02\n",
      "   ---------- ----------------------------- 0.8/3.2 MB 1.4 MB/s eta 0:00:02\n",
      "   ----------- ---------------------------- 0.9/3.2 MB 1.5 MB/s eta 0:00:02\n",
      "   ------------ --------------------------- 1.0/3.2 MB 1.5 MB/s eta 0:00:02\n",
      "   ------------- -------------------------- 1.1/3.2 MB 1.5 MB/s eta 0:00:02\n",
      "   --------------- ------------------------ 1.2/3.2 MB 1.6 MB/s eta 0:00:02\n",
      "   ---------------- ----------------------- 1.3/3.2 MB 1.6 MB/s eta 0:00:02\n",
      "   ------------------ --------------------- 1.4/3.2 MB 1.7 MB/s eta 0:00:01\n",
      "   ------------------- -------------------- 1.6/3.2 MB 1.8 MB/s eta 0:00:01\n",
      "   --------------------- ------------------ 1.7/3.2 MB 1.8 MB/s eta 0:00:01\n",
      "   ----------------------- ---------------- 1.8/3.2 MB 1.9 MB/s eta 0:00:01\n",
      "   ------------------------ --------------- 2.0/3.2 MB 1.9 MB/s eta 0:00:01\n",
      "   -------------------------- ------------- 2.1/3.2 MB 1.9 MB/s eta 0:00:01\n",
      "   --------------------------- ------------ 2.2/3.2 MB 2.0 MB/s eta 0:00:01\n",
      "   ----------------------------- ---------- 2.3/3.2 MB 2.0 MB/s eta 0:00:01\n",
      "   ------------------------------- -------- 2.5/3.2 MB 2.0 MB/s eta 0:00:01\n",
      "   --------------------------------- ------ 2.7/3.2 MB 2.1 MB/s eta 0:00:01\n",
      "   ------------------------------------ --- 2.9/3.2 MB 2.2 MB/s eta 0:00:01\n",
      "   ---------------------------------------  3.1/3.2 MB 2.3 MB/s eta 0:00:01\n",
      "   ---------------------------------------- 3.2/3.2 MB 2.3 MB/s eta 0:00:00\n",
      "Installing collected packages: ngrok\n",
      "Successfully installed ngrok-1.0.0\n"
     ]
    }
   ],
   "source": [
    "!pip install ngrok"
   ]
  },
  {
   "cell_type": "code",
   "execution_count": 132,
   "metadata": {
    "id": "7G2OR7METwTQ"
   },
   "outputs": [],
   "source": [
    "from tensorboard import notebook\n",
    "import ngrok"
   ]
  },
  {
   "cell_type": "code",
   "execution_count": 133,
   "metadata": {
    "id": "VK2L18JrRsAo"
   },
   "outputs": [],
   "source": [
    "tensorboard_callback = TensorBoard(log_dir='./logs', histogram_freq=1, write_graph=True, write_images=True)"
   ]
  },
  {
   "cell_type": "code",
   "execution_count": 134,
   "metadata": {
    "colab": {
     "base_uri": "https://localhost:8080/"
    },
    "id": "TSGtKIvzl56l",
    "outputId": "7a120f3e-74be-4470-8e6e-8b6a03794a00"
   },
   "outputs": [],
   "source": [
    "# Iniciar o TensorBoard em segundo plano\n",
    "os.system(\"tensorboard --logdir ./logs --host 0.0.0.0 --port 6006 &\")"
   ]
  },
  {
   "cell_type": "code",
   "execution_count": null,
   "metadata": {
    "colab": {
     "base_uri": "https://localhost:8080/"
    },
    "id": "x_IKxCJkmQxq",
    "outputId": "ca5094ae-c434-4ae9-bf41-c19f5e24bced"
   },
   "outputs": [],
   "source": [
    "# Abrir um túnel para o TensorBoard\n",
    "public_url = ngrok.connect(6006, \"http\")\n",
    "print(\"TensorBoard disponível em:\", public_url)"
   ]
  },
  {
   "cell_type": "markdown",
   "metadata": {
    "id": "tDxensZpTUiV"
   },
   "source": [
    "*   Visualizar as ativações de camadas intermediárias durante o treinamento para entender como as características são extraídas e transformadas em diferentes estágios do modelo.\n",
    "\n"
   ]
  },
  {
   "cell_type": "code",
   "execution_count": null,
   "metadata": {
    "id": "5fd61LHsS1qQ"
   },
   "outputs": [],
   "source": [
    "# class ActivationLogger(tf.keras.callbacks.Callback):\n",
    "#     def __init__(self, layers):\n",
    "#         self.layers = layers\n",
    "#         self.activations = []\n",
    "\n",
    "#     def on_epoch_end(self, epoch, logs=None):\n",
    "#         layer_outputs = [layer.output for layer in self.model.layers if layer.name in self.layers]\n",
    "#         activation_model = tf.keras.models.Model(inputs=self.model.input, outputs=layer_outputs)\n",
    "#         activations = activation_model.predict(test_dataset)  # Use test_dataset ou outro conjunto relevante\n",
    "#         self.activations.append(activations)"
   ]
  },
  {
   "cell_type": "code",
   "execution_count": null,
   "metadata": {
    "id": "TfoG4Ho4S-Vf"
   },
   "outputs": [],
   "source": [
    "# # Nomes das camadas cujas ativações você deseja visualizar\n",
    "# activation_layers = ['conv2d', 'dense_1']\n",
    "\n",
    "# activation_logger = ActivationLogger(activation_layers)"
   ]
  },
  {
   "cell_type": "markdown",
   "metadata": {
    "id": "4YUunUeWT7iw"
   },
   "source": [
    "### Starting training with defined callbacks"
   ]
  },
  {
   "cell_type": "code",
   "execution_count": 16,
   "metadata": {},
   "outputs": [
    {
     "name": "stdout",
     "output_type": "stream",
     "text": [
      "Epoch 1/100\n",
      "\n",
      "Epoch 1: val_accuracy improved from -inf to 0.44634, saving model to D:\\.Dataset28022024 - TCC\\model_checkpoint\n"
     ]
    },
    {
     "name": "stderr",
     "output_type": "stream",
     "text": [
      "WARNING:absl:Found untraced functions such as _jit_compiled_convolution_op, _jit_compiled_convolution_op while saving (showing 2 of 2). These functions will not be directly callable after loading.\n"
     ]
    },
    {
     "name": "stdout",
     "output_type": "stream",
     "text": [
      "INFO:tensorflow:Assets written to: D:\\.Dataset28022024 - TCC\\model_checkpoint\\assets\n"
     ]
    },
    {
     "name": "stderr",
     "output_type": "stream",
     "text": [
      "INFO:tensorflow:Assets written to: D:\\.Dataset28022024 - TCC\\model_checkpoint\\assets\n"
     ]
    },
    {
     "name": "stdout",
     "output_type": "stream",
     "text": [
      "Epoch 2/100\n",
      "\n",
      "Epoch 2: val_accuracy improved from 0.44634 to 0.46941, saving model to D:\\.Dataset28022024 - TCC\\model_checkpoint\n"
     ]
    },
    {
     "name": "stderr",
     "output_type": "stream",
     "text": [
      "WARNING:absl:Found untraced functions such as _jit_compiled_convolution_op, _jit_compiled_convolution_op while saving (showing 2 of 2). These functions will not be directly callable after loading.\n"
     ]
    },
    {
     "name": "stdout",
     "output_type": "stream",
     "text": [
      "INFO:tensorflow:Assets written to: D:\\.Dataset28022024 - TCC\\model_checkpoint\\assets\n"
     ]
    },
    {
     "name": "stderr",
     "output_type": "stream",
     "text": [
      "INFO:tensorflow:Assets written to: D:\\.Dataset28022024 - TCC\\model_checkpoint\\assets\n"
     ]
    },
    {
     "name": "stdout",
     "output_type": "stream",
     "text": [
      "Epoch 3/100\n",
      "\n",
      "Epoch 3: val_accuracy improved from 0.46941 to 0.49348, saving model to D:\\.Dataset28022024 - TCC\\model_checkpoint\n"
     ]
    },
    {
     "name": "stderr",
     "output_type": "stream",
     "text": [
      "WARNING:absl:Found untraced functions such as _jit_compiled_convolution_op, _jit_compiled_convolution_op while saving (showing 2 of 2). These functions will not be directly callable after loading.\n"
     ]
    },
    {
     "name": "stdout",
     "output_type": "stream",
     "text": [
      "INFO:tensorflow:Assets written to: D:\\.Dataset28022024 - TCC\\model_checkpoint\\assets\n"
     ]
    },
    {
     "name": "stderr",
     "output_type": "stream",
     "text": [
      "INFO:tensorflow:Assets written to: D:\\.Dataset28022024 - TCC\\model_checkpoint\\assets\n"
     ]
    },
    {
     "name": "stdout",
     "output_type": "stream",
     "text": [
      "Epoch 4/100\n",
      "\n",
      "Epoch 4: val_accuracy improved from 0.49348 to 0.49448, saving model to D:\\.Dataset28022024 - TCC\\model_checkpoint\n"
     ]
    },
    {
     "name": "stderr",
     "output_type": "stream",
     "text": [
      "WARNING:absl:Found untraced functions such as _jit_compiled_convolution_op, _jit_compiled_convolution_op while saving (showing 2 of 2). These functions will not be directly callable after loading.\n"
     ]
    },
    {
     "name": "stdout",
     "output_type": "stream",
     "text": [
      "INFO:tensorflow:Assets written to: D:\\.Dataset28022024 - TCC\\model_checkpoint\\assets\n"
     ]
    },
    {
     "name": "stderr",
     "output_type": "stream",
     "text": [
      "INFO:tensorflow:Assets written to: D:\\.Dataset28022024 - TCC\\model_checkpoint\\assets\n"
     ]
    },
    {
     "name": "stdout",
     "output_type": "stream",
     "text": [
      "Epoch 5/100\n",
      "\n",
      "Epoch 5: val_accuracy improved from 0.49448 to 0.51856, saving model to D:\\.Dataset28022024 - TCC\\model_checkpoint\n"
     ]
    },
    {
     "name": "stderr",
     "output_type": "stream",
     "text": [
      "WARNING:absl:Found untraced functions such as _jit_compiled_convolution_op, _jit_compiled_convolution_op while saving (showing 2 of 2). These functions will not be directly callable after loading.\n"
     ]
    },
    {
     "name": "stdout",
     "output_type": "stream",
     "text": [
      "INFO:tensorflow:Assets written to: D:\\.Dataset28022024 - TCC\\model_checkpoint\\assets\n"
     ]
    },
    {
     "name": "stderr",
     "output_type": "stream",
     "text": [
      "INFO:tensorflow:Assets written to: D:\\.Dataset28022024 - TCC\\model_checkpoint\\assets\n"
     ]
    },
    {
     "name": "stdout",
     "output_type": "stream",
     "text": [
      "Epoch 6/100\n",
      "\n",
      "Epoch 6: val_accuracy improved from 0.51856 to 0.53360, saving model to D:\\.Dataset28022024 - TCC\\model_checkpoint\n"
     ]
    },
    {
     "name": "stderr",
     "output_type": "stream",
     "text": [
      "WARNING:absl:Found untraced functions such as _jit_compiled_convolution_op, _jit_compiled_convolution_op while saving (showing 2 of 2). These functions will not be directly callable after loading.\n"
     ]
    },
    {
     "name": "stdout",
     "output_type": "stream",
     "text": [
      "INFO:tensorflow:Assets written to: D:\\.Dataset28022024 - TCC\\model_checkpoint\\assets\n"
     ]
    },
    {
     "name": "stderr",
     "output_type": "stream",
     "text": [
      "INFO:tensorflow:Assets written to: D:\\.Dataset28022024 - TCC\\model_checkpoint\\assets\n"
     ]
    },
    {
     "name": "stdout",
     "output_type": "stream",
     "text": [
      "Epoch 7/100\n",
      "\n",
      "Epoch 7: val_accuracy improved from 0.53360 to 0.56469, saving model to D:\\.Dataset28022024 - TCC\\model_checkpoint\n"
     ]
    },
    {
     "name": "stderr",
     "output_type": "stream",
     "text": [
      "WARNING:absl:Found untraced functions such as _jit_compiled_convolution_op, _jit_compiled_convolution_op while saving (showing 2 of 2). These functions will not be directly callable after loading.\n"
     ]
    },
    {
     "name": "stdout",
     "output_type": "stream",
     "text": [
      "INFO:tensorflow:Assets written to: D:\\.Dataset28022024 - TCC\\model_checkpoint\\assets\n"
     ]
    },
    {
     "name": "stderr",
     "output_type": "stream",
     "text": [
      "INFO:tensorflow:Assets written to: D:\\.Dataset28022024 - TCC\\model_checkpoint\\assets\n"
     ]
    },
    {
     "name": "stdout",
     "output_type": "stream",
     "text": [
      "Epoch 8/100\n",
      "\n",
      "Epoch 8: val_accuracy improved from 0.56469 to 0.60582, saving model to D:\\.Dataset28022024 - TCC\\model_checkpoint\n"
     ]
    },
    {
     "name": "stderr",
     "output_type": "stream",
     "text": [
      "WARNING:absl:Found untraced functions such as _jit_compiled_convolution_op, _jit_compiled_convolution_op while saving (showing 2 of 2). These functions will not be directly callable after loading.\n"
     ]
    },
    {
     "name": "stdout",
     "output_type": "stream",
     "text": [
      "INFO:tensorflow:Assets written to: D:\\.Dataset28022024 - TCC\\model_checkpoint\\assets\n"
     ]
    },
    {
     "name": "stderr",
     "output_type": "stream",
     "text": [
      "INFO:tensorflow:Assets written to: D:\\.Dataset28022024 - TCC\\model_checkpoint\\assets\n"
     ]
    },
    {
     "name": "stdout",
     "output_type": "stream",
     "text": [
      "Epoch 9/100\n",
      "\n",
      "Epoch 9: val_accuracy did not improve from 0.60582\n",
      "Epoch 10/100\n",
      "\n",
      "Epoch 10: val_accuracy did not improve from 0.60582\n",
      "Epoch 11/100\n",
      "\n",
      "Epoch 11: val_accuracy improved from 0.60582 to 0.61083, saving model to D:\\.Dataset28022024 - TCC\\model_checkpoint\n"
     ]
    },
    {
     "name": "stderr",
     "output_type": "stream",
     "text": [
      "WARNING:absl:Found untraced functions such as _jit_compiled_convolution_op, _jit_compiled_convolution_op while saving (showing 2 of 2). These functions will not be directly callable after loading.\n"
     ]
    },
    {
     "name": "stdout",
     "output_type": "stream",
     "text": [
      "INFO:tensorflow:Assets written to: D:\\.Dataset28022024 - TCC\\model_checkpoint\\assets\n"
     ]
    },
    {
     "name": "stderr",
     "output_type": "stream",
     "text": [
      "INFO:tensorflow:Assets written to: D:\\.Dataset28022024 - TCC\\model_checkpoint\\assets\n"
     ]
    },
    {
     "name": "stdout",
     "output_type": "stream",
     "text": [
      "Epoch 12/100\n",
      "\n",
      "Epoch 12: val_accuracy did not improve from 0.61083\n",
      "Epoch 13/100\n",
      "\n",
      "Epoch 13: val_accuracy improved from 0.61083 to 0.62387, saving model to D:\\.Dataset28022024 - TCC\\model_checkpoint\n"
     ]
    },
    {
     "name": "stderr",
     "output_type": "stream",
     "text": [
      "WARNING:absl:Found untraced functions such as _jit_compiled_convolution_op, _jit_compiled_convolution_op while saving (showing 2 of 2). These functions will not be directly callable after loading.\n"
     ]
    },
    {
     "name": "stdout",
     "output_type": "stream",
     "text": [
      "INFO:tensorflow:Assets written to: D:\\.Dataset28022024 - TCC\\model_checkpoint\\assets\n"
     ]
    },
    {
     "name": "stderr",
     "output_type": "stream",
     "text": [
      "INFO:tensorflow:Assets written to: D:\\.Dataset28022024 - TCC\\model_checkpoint\\assets\n"
     ]
    },
    {
     "name": "stdout",
     "output_type": "stream",
     "text": [
      "Epoch 14/100\n",
      "\n",
      "Epoch 14: val_accuracy improved from 0.62387 to 0.63390, saving model to D:\\.Dataset28022024 - TCC\\model_checkpoint\n"
     ]
    },
    {
     "name": "stderr",
     "output_type": "stream",
     "text": [
      "WARNING:absl:Found untraced functions such as _jit_compiled_convolution_op, _jit_compiled_convolution_op while saving (showing 2 of 2). These functions will not be directly callable after loading.\n"
     ]
    },
    {
     "name": "stdout",
     "output_type": "stream",
     "text": [
      "INFO:tensorflow:Assets written to: D:\\.Dataset28022024 - TCC\\model_checkpoint\\assets\n"
     ]
    },
    {
     "name": "stderr",
     "output_type": "stream",
     "text": [
      "INFO:tensorflow:Assets written to: D:\\.Dataset28022024 - TCC\\model_checkpoint\\assets\n"
     ]
    },
    {
     "name": "stdout",
     "output_type": "stream",
     "text": [
      "Epoch 15/100\n",
      "\n",
      "Epoch 15: val_accuracy improved from 0.63390 to 0.63892, saving model to D:\\.Dataset28022024 - TCC\\model_checkpoint\n"
     ]
    },
    {
     "name": "stderr",
     "output_type": "stream",
     "text": [
      "WARNING:absl:Found untraced functions such as _jit_compiled_convolution_op, _jit_compiled_convolution_op while saving (showing 2 of 2). These functions will not be directly callable after loading.\n"
     ]
    },
    {
     "name": "stdout",
     "output_type": "stream",
     "text": [
      "INFO:tensorflow:Assets written to: D:\\.Dataset28022024 - TCC\\model_checkpoint\\assets\n"
     ]
    },
    {
     "name": "stderr",
     "output_type": "stream",
     "text": [
      "INFO:tensorflow:Assets written to: D:\\.Dataset28022024 - TCC\\model_checkpoint\\assets\n"
     ]
    },
    {
     "name": "stdout",
     "output_type": "stream",
     "text": [
      "Epoch 16/100\n",
      "\n",
      "Epoch 16: val_accuracy improved from 0.63892 to 0.65898, saving model to D:\\.Dataset28022024 - TCC\\model_checkpoint\n"
     ]
    },
    {
     "name": "stderr",
     "output_type": "stream",
     "text": [
      "WARNING:absl:Found untraced functions such as _jit_compiled_convolution_op, _jit_compiled_convolution_op while saving (showing 2 of 2). These functions will not be directly callable after loading.\n"
     ]
    },
    {
     "name": "stdout",
     "output_type": "stream",
     "text": [
      "INFO:tensorflow:Assets written to: D:\\.Dataset28022024 - TCC\\model_checkpoint\\assets\n"
     ]
    },
    {
     "name": "stderr",
     "output_type": "stream",
     "text": [
      "INFO:tensorflow:Assets written to: D:\\.Dataset28022024 - TCC\\model_checkpoint\\assets\n"
     ]
    },
    {
     "name": "stdout",
     "output_type": "stream",
     "text": [
      "Epoch 17/100\n",
      "\n",
      "Epoch 17: val_accuracy improved from 0.65898 to 0.68104, saving model to D:\\.Dataset28022024 - TCC\\model_checkpoint\n"
     ]
    },
    {
     "name": "stderr",
     "output_type": "stream",
     "text": [
      "WARNING:absl:Found untraced functions such as _jit_compiled_convolution_op, _jit_compiled_convolution_op while saving (showing 2 of 2). These functions will not be directly callable after loading.\n"
     ]
    },
    {
     "name": "stdout",
     "output_type": "stream",
     "text": [
      "INFO:tensorflow:Assets written to: D:\\.Dataset28022024 - TCC\\model_checkpoint\\assets\n"
     ]
    },
    {
     "name": "stderr",
     "output_type": "stream",
     "text": [
      "INFO:tensorflow:Assets written to: D:\\.Dataset28022024 - TCC\\model_checkpoint\\assets\n"
     ]
    },
    {
     "name": "stdout",
     "output_type": "stream",
     "text": [
      "Epoch 18/100\n",
      "\n",
      "Epoch 18: val_accuracy did not improve from 0.68104\n",
      "Epoch 19/100\n",
      "\n",
      "Epoch 19: val_accuracy did not improve from 0.68104\n",
      "Epoch 20/100\n",
      "\n",
      "Epoch 20: val_accuracy did not improve from 0.68104\n",
      "Epoch 21/100\n",
      "\n",
      "Epoch 21: val_accuracy did not improve from 0.68104\n",
      "Epoch 22/100\n",
      "\n",
      "Epoch 22: val_accuracy did not improve from 0.68104\n",
      "Epoch 23/100\n",
      "\n",
      "Epoch 23: val_accuracy did not improve from 0.68104\n",
      "Epoch 24/100\n",
      "\n",
      "Epoch 24: val_accuracy improved from 0.68104 to 0.69007, saving model to D:\\.Dataset28022024 - TCC\\model_checkpoint\n"
     ]
    },
    {
     "name": "stderr",
     "output_type": "stream",
     "text": [
      "WARNING:absl:Found untraced functions such as _jit_compiled_convolution_op, _jit_compiled_convolution_op while saving (showing 2 of 2). These functions will not be directly callable after loading.\n"
     ]
    },
    {
     "name": "stdout",
     "output_type": "stream",
     "text": [
      "INFO:tensorflow:Assets written to: D:\\.Dataset28022024 - TCC\\model_checkpoint\\assets\n"
     ]
    },
    {
     "name": "stderr",
     "output_type": "stream",
     "text": [
      "INFO:tensorflow:Assets written to: D:\\.Dataset28022024 - TCC\\model_checkpoint\\assets\n"
     ]
    },
    {
     "name": "stdout",
     "output_type": "stream",
     "text": [
      "Epoch 25/100\n",
      "\n",
      "Epoch 25: val_accuracy did not improve from 0.69007\n",
      "Epoch 26/100\n",
      "\n",
      "Epoch 26: val_accuracy improved from 0.69007 to 0.69408, saving model to D:\\.Dataset28022024 - TCC\\model_checkpoint\n"
     ]
    },
    {
     "name": "stderr",
     "output_type": "stream",
     "text": [
      "WARNING:absl:Found untraced functions such as _jit_compiled_convolution_op, _jit_compiled_convolution_op while saving (showing 2 of 2). These functions will not be directly callable after loading.\n"
     ]
    },
    {
     "name": "stdout",
     "output_type": "stream",
     "text": [
      "INFO:tensorflow:Assets written to: D:\\.Dataset28022024 - TCC\\model_checkpoint\\assets\n"
     ]
    },
    {
     "name": "stderr",
     "output_type": "stream",
     "text": [
      "INFO:tensorflow:Assets written to: D:\\.Dataset28022024 - TCC\\model_checkpoint\\assets\n"
     ]
    },
    {
     "name": "stdout",
     "output_type": "stream",
     "text": [
      "Epoch 27/100\n",
      "\n",
      "Epoch 27: val_accuracy did not improve from 0.69408\n",
      "Epoch 28/100\n",
      "\n",
      "Epoch 28: val_accuracy did not improve from 0.69408\n",
      "Epoch 29/100\n",
      "\n",
      "Epoch 29: val_accuracy did not improve from 0.69408\n",
      "Epoch 30/100\n",
      "\n",
      "Epoch 30: val_accuracy did not improve from 0.69408\n",
      "Epoch 31/100\n",
      "\n",
      "Epoch 31: val_accuracy did not improve from 0.69408\n",
      "Epoch 32/100\n",
      "\n",
      "Epoch 32: val_accuracy improved from 0.69408 to 0.70612, saving model to D:\\.Dataset28022024 - TCC\\model_checkpoint\n"
     ]
    },
    {
     "name": "stderr",
     "output_type": "stream",
     "text": [
      "WARNING:absl:Found untraced functions such as _jit_compiled_convolution_op, _jit_compiled_convolution_op while saving (showing 2 of 2). These functions will not be directly callable after loading.\n"
     ]
    },
    {
     "name": "stdout",
     "output_type": "stream",
     "text": [
      "INFO:tensorflow:Assets written to: D:\\.Dataset28022024 - TCC\\model_checkpoint\\assets\n"
     ]
    },
    {
     "name": "stderr",
     "output_type": "stream",
     "text": [
      "INFO:tensorflow:Assets written to: D:\\.Dataset28022024 - TCC\\model_checkpoint\\assets\n"
     ]
    },
    {
     "name": "stdout",
     "output_type": "stream",
     "text": [
      "Epoch 33/100\n",
      "\n",
      "Epoch 33: val_accuracy did not improve from 0.70612\n",
      "Epoch 34/100\n",
      "\n",
      "Epoch 34: val_accuracy did not improve from 0.70612\n",
      "Epoch 35/100\n",
      "\n",
      "Epoch 35: val_accuracy improved from 0.70612 to 0.71414, saving model to D:\\.Dataset28022024 - TCC\\model_checkpoint\n"
     ]
    },
    {
     "name": "stderr",
     "output_type": "stream",
     "text": [
      "WARNING:absl:Found untraced functions such as _jit_compiled_convolution_op, _jit_compiled_convolution_op while saving (showing 2 of 2). These functions will not be directly callable after loading.\n"
     ]
    },
    {
     "name": "stdout",
     "output_type": "stream",
     "text": [
      "INFO:tensorflow:Assets written to: D:\\.Dataset28022024 - TCC\\model_checkpoint\\assets\n"
     ]
    },
    {
     "name": "stderr",
     "output_type": "stream",
     "text": [
      "INFO:tensorflow:Assets written to: D:\\.Dataset28022024 - TCC\\model_checkpoint\\assets\n"
     ]
    },
    {
     "name": "stdout",
     "output_type": "stream",
     "text": [
      "Epoch 36/100\n",
      "\n",
      "Epoch 36: val_accuracy did not improve from 0.71414\n",
      "Epoch 37/100\n",
      "\n",
      "Epoch 37: val_accuracy did not improve from 0.71414\n",
      "Epoch 38/100\n",
      "\n",
      "Epoch 38: val_accuracy did not improve from 0.71414\n",
      "Epoch 39/100\n",
      "\n",
      "Epoch 39: val_accuracy did not improve from 0.71414\n",
      "Epoch 40/100\n",
      "\n",
      "Epoch 40: val_accuracy improved from 0.71414 to 0.71515, saving model to D:\\.Dataset28022024 - TCC\\model_checkpoint\n"
     ]
    },
    {
     "name": "stderr",
     "output_type": "stream",
     "text": [
      "WARNING:absl:Found untraced functions such as _jit_compiled_convolution_op, _jit_compiled_convolution_op while saving (showing 2 of 2). These functions will not be directly callable after loading.\n"
     ]
    },
    {
     "name": "stdout",
     "output_type": "stream",
     "text": [
      "INFO:tensorflow:Assets written to: D:\\.Dataset28022024 - TCC\\model_checkpoint\\assets\n"
     ]
    },
    {
     "name": "stderr",
     "output_type": "stream",
     "text": [
      "INFO:tensorflow:Assets written to: D:\\.Dataset28022024 - TCC\\model_checkpoint\\assets\n"
     ]
    },
    {
     "name": "stdout",
     "output_type": "stream",
     "text": [
      "Epoch 41/100\n",
      "\n",
      "Epoch 41: val_accuracy improved from 0.71515 to 0.71815, saving model to D:\\.Dataset28022024 - TCC\\model_checkpoint\n"
     ]
    },
    {
     "name": "stderr",
     "output_type": "stream",
     "text": [
      "WARNING:absl:Found untraced functions such as _jit_compiled_convolution_op, _jit_compiled_convolution_op while saving (showing 2 of 2). These functions will not be directly callable after loading.\n"
     ]
    },
    {
     "name": "stdout",
     "output_type": "stream",
     "text": [
      "INFO:tensorflow:Assets written to: D:\\.Dataset28022024 - TCC\\model_checkpoint\\assets\n"
     ]
    },
    {
     "name": "stderr",
     "output_type": "stream",
     "text": [
      "INFO:tensorflow:Assets written to: D:\\.Dataset28022024 - TCC\\model_checkpoint\\assets\n"
     ]
    },
    {
     "name": "stdout",
     "output_type": "stream",
     "text": [
      "Epoch 42/100\n",
      "\n",
      "Epoch 42: val_accuracy did not improve from 0.71815\n",
      "Epoch 43/100\n",
      "\n",
      "Epoch 43: val_accuracy did not improve from 0.71815\n",
      "Epoch 44/100\n",
      "\n",
      "Epoch 44: val_accuracy did not improve from 0.71815\n",
      "Epoch 45/100\n",
      "\n",
      "Epoch 45: val_accuracy did not improve from 0.71815\n",
      "Epoch 46/100\n",
      "\n",
      "Epoch 46: val_accuracy did not improve from 0.71815\n",
      "Epoch 47/100\n",
      "\n",
      "Epoch 47: val_accuracy improved from 0.71815 to 0.71916, saving model to D:\\.Dataset28022024 - TCC\\model_checkpoint\n"
     ]
    },
    {
     "name": "stderr",
     "output_type": "stream",
     "text": [
      "WARNING:absl:Found untraced functions such as _jit_compiled_convolution_op, _jit_compiled_convolution_op while saving (showing 2 of 2). These functions will not be directly callable after loading.\n"
     ]
    },
    {
     "name": "stdout",
     "output_type": "stream",
     "text": [
      "INFO:tensorflow:Assets written to: D:\\.Dataset28022024 - TCC\\model_checkpoint\\assets\n"
     ]
    },
    {
     "name": "stderr",
     "output_type": "stream",
     "text": [
      "INFO:tensorflow:Assets written to: D:\\.Dataset28022024 - TCC\\model_checkpoint\\assets\n"
     ]
    },
    {
     "name": "stdout",
     "output_type": "stream",
     "text": [
      "Epoch 48/100\n",
      "\n",
      "Epoch 48: val_accuracy improved from 0.71916 to 0.72116, saving model to D:\\.Dataset28022024 - TCC\\model_checkpoint\n"
     ]
    },
    {
     "name": "stderr",
     "output_type": "stream",
     "text": [
      "WARNING:absl:Found untraced functions such as _jit_compiled_convolution_op, _jit_compiled_convolution_op while saving (showing 2 of 2). These functions will not be directly callable after loading.\n"
     ]
    },
    {
     "name": "stdout",
     "output_type": "stream",
     "text": [
      "INFO:tensorflow:Assets written to: D:\\.Dataset28022024 - TCC\\model_checkpoint\\assets\n"
     ]
    },
    {
     "name": "stderr",
     "output_type": "stream",
     "text": [
      "INFO:tensorflow:Assets written to: D:\\.Dataset28022024 - TCC\\model_checkpoint\\assets\n"
     ]
    },
    {
     "name": "stdout",
     "output_type": "stream",
     "text": [
      "Epoch 49/100\n",
      "\n",
      "Epoch 49: val_accuracy did not improve from 0.72116\n",
      "Epoch 50/100\n",
      "\n",
      "Epoch 50: val_accuracy improved from 0.72116 to 0.72317, saving model to D:\\.Dataset28022024 - TCC\\model_checkpoint\n"
     ]
    },
    {
     "name": "stderr",
     "output_type": "stream",
     "text": [
      "WARNING:absl:Found untraced functions such as _jit_compiled_convolution_op, _jit_compiled_convolution_op while saving (showing 2 of 2). These functions will not be directly callable after loading.\n"
     ]
    },
    {
     "name": "stdout",
     "output_type": "stream",
     "text": [
      "INFO:tensorflow:Assets written to: D:\\.Dataset28022024 - TCC\\model_checkpoint\\assets\n"
     ]
    },
    {
     "name": "stderr",
     "output_type": "stream",
     "text": [
      "INFO:tensorflow:Assets written to: D:\\.Dataset28022024 - TCC\\model_checkpoint\\assets\n"
     ]
    },
    {
     "name": "stdout",
     "output_type": "stream",
     "text": [
      "Epoch 51/100\n",
      "\n",
      "Epoch 51: val_accuracy did not improve from 0.72317\n",
      "Epoch 52/100\n",
      "\n",
      "Epoch 52: val_accuracy did not improve from 0.72317\n",
      "Epoch 53/100\n",
      "\n",
      "Epoch 53: val_accuracy did not improve from 0.72317\n",
      "Epoch 54/100\n",
      "\n",
      "Epoch 54: val_accuracy improved from 0.72317 to 0.73119, saving model to D:\\.Dataset28022024 - TCC\\model_checkpoint\n"
     ]
    },
    {
     "name": "stderr",
     "output_type": "stream",
     "text": [
      "WARNING:absl:Found untraced functions such as _jit_compiled_convolution_op, _jit_compiled_convolution_op while saving (showing 2 of 2). These functions will not be directly callable after loading.\n"
     ]
    },
    {
     "name": "stdout",
     "output_type": "stream",
     "text": [
      "INFO:tensorflow:Assets written to: D:\\.Dataset28022024 - TCC\\model_checkpoint\\assets\n"
     ]
    },
    {
     "name": "stderr",
     "output_type": "stream",
     "text": [
      "INFO:tensorflow:Assets written to: D:\\.Dataset28022024 - TCC\\model_checkpoint\\assets\n"
     ]
    },
    {
     "name": "stdout",
     "output_type": "stream",
     "text": [
      "Epoch 55/100\n",
      "\n",
      "Epoch 55: val_accuracy did not improve from 0.73119\n",
      "Epoch 56/100\n",
      "\n",
      "Epoch 56: val_accuracy did not improve from 0.73119\n",
      "Epoch 57/100\n",
      "\n",
      "Epoch 57: val_accuracy did not improve from 0.73119\n",
      "Epoch 58/100\n",
      "\n",
      "Epoch 58: val_accuracy did not improve from 0.73119\n",
      "Epoch 59/100\n",
      "\n",
      "Epoch 59: val_accuracy did not improve from 0.73119\n",
      "Epoch 60/100\n",
      "\n",
      "Epoch 60: val_accuracy did not improve from 0.73119\n",
      "Epoch 61/100\n",
      "\n",
      "Epoch 61: val_accuracy improved from 0.73119 to 0.74724, saving model to D:\\.Dataset28022024 - TCC\\model_checkpoint\n"
     ]
    },
    {
     "name": "stderr",
     "output_type": "stream",
     "text": [
      "WARNING:absl:Found untraced functions such as _jit_compiled_convolution_op, _jit_compiled_convolution_op while saving (showing 2 of 2). These functions will not be directly callable after loading.\n"
     ]
    },
    {
     "name": "stdout",
     "output_type": "stream",
     "text": [
      "INFO:tensorflow:Assets written to: D:\\.Dataset28022024 - TCC\\model_checkpoint\\assets\n"
     ]
    },
    {
     "name": "stderr",
     "output_type": "stream",
     "text": [
      "INFO:tensorflow:Assets written to: D:\\.Dataset28022024 - TCC\\model_checkpoint\\assets\n"
     ]
    },
    {
     "name": "stdout",
     "output_type": "stream",
     "text": [
      "Epoch 62/100\n",
      "\n",
      "Epoch 62: val_accuracy did not improve from 0.74724\n",
      "Epoch 63/100\n",
      "\n",
      "Epoch 63: val_accuracy did not improve from 0.74724\n",
      "Epoch 64/100\n",
      "\n",
      "Epoch 64: val_accuracy did not improve from 0.74724\n",
      "Epoch 65/100\n",
      "\n",
      "Epoch 65: val_accuracy did not improve from 0.74724\n",
      "Epoch 66/100\n",
      "\n",
      "Epoch 66: val_accuracy did not improve from 0.74724\n",
      "Epoch 67/100\n",
      "\n",
      "Epoch 67: val_accuracy did not improve from 0.74724\n",
      "Epoch 68/100\n",
      "\n",
      "Epoch 68: val_accuracy did not improve from 0.74724\n",
      "Epoch 69/100\n",
      "\n",
      "Epoch 69: val_accuracy did not improve from 0.74724\n",
      "Epoch 70/100\n",
      "\n",
      "Epoch 70: val_accuracy did not improve from 0.74724\n",
      "Epoch 71/100\n",
      "\n",
      "Epoch 71: val_accuracy did not improve from 0.74724\n",
      "Epoch 72/100\n",
      "\n",
      "Epoch 72: val_accuracy did not improve from 0.74724\n",
      "Epoch 73/100\n",
      "\n",
      "Epoch 73: val_accuracy did not improve from 0.74724\n",
      "Epoch 74/100\n",
      "\n",
      "Epoch 74: val_accuracy did not improve from 0.74724\n",
      "Epoch 75/100\n",
      "\n",
      "Epoch 75: val_accuracy did not improve from 0.74724\n",
      "Epoch 76/100\n",
      "\n",
      "Epoch 76: val_accuracy did not improve from 0.74724\n",
      "Epoch 77/100\n",
      "\n",
      "Epoch 77: val_accuracy did not improve from 0.74724\n",
      "Epoch 78/100\n",
      "\n",
      "Epoch 78: val_accuracy did not improve from 0.74724\n",
      "Epoch 79/100\n",
      "\n",
      "Epoch 79: val_accuracy improved from 0.74724 to 0.76229, saving model to D:\\.Dataset28022024 - TCC\\model_checkpoint\n"
     ]
    },
    {
     "name": "stderr",
     "output_type": "stream",
     "text": [
      "WARNING:absl:Found untraced functions such as _jit_compiled_convolution_op, _jit_compiled_convolution_op while saving (showing 2 of 2). These functions will not be directly callable after loading.\n"
     ]
    },
    {
     "name": "stdout",
     "output_type": "stream",
     "text": [
      "INFO:tensorflow:Assets written to: D:\\.Dataset28022024 - TCC\\model_checkpoint\\assets\n"
     ]
    },
    {
     "name": "stderr",
     "output_type": "stream",
     "text": [
      "INFO:tensorflow:Assets written to: D:\\.Dataset28022024 - TCC\\model_checkpoint\\assets\n"
     ]
    },
    {
     "name": "stdout",
     "output_type": "stream",
     "text": [
      "Epoch 80/100\n",
      "\n",
      "Epoch 80: val_accuracy did not improve from 0.76229\n",
      "Epoch 81/100\n",
      "\n",
      "Epoch 81: val_accuracy did not improve from 0.76229\n",
      "Epoch 82/100\n",
      "\n",
      "Epoch 82: val_accuracy did not improve from 0.76229\n",
      "Epoch 83/100\n",
      "\n",
      "Epoch 83: val_accuracy did not improve from 0.76229\n",
      "Epoch 84/100\n",
      "\n",
      "Epoch 84: val_accuracy did not improve from 0.76229\n",
      "Epoch 85/100\n",
      "\n",
      "Epoch 85: val_accuracy did not improve from 0.76229\n",
      "Epoch 86/100\n",
      "\n",
      "Epoch 86: val_accuracy did not improve from 0.76229\n",
      "Epoch 87/100\n",
      "\n",
      "Epoch 87: val_accuracy did not improve from 0.76229\n",
      "Epoch 88/100\n",
      "\n",
      "Epoch 88: val_accuracy did not improve from 0.76229\n",
      "Epoch 89/100\n",
      "\n",
      "Epoch 89: val_accuracy did not improve from 0.76229\n",
      "Epoch 90/100\n",
      "\n",
      "Epoch 90: val_accuracy did not improve from 0.76229\n",
      "Epoch 91/100\n",
      "\n",
      "Epoch 91: val_accuracy did not improve from 0.76229\n",
      "Epoch 92/100\n",
      "\n",
      "Epoch 92: val_accuracy did not improve from 0.76229\n",
      "Epoch 93/100\n",
      "\n",
      "Epoch 93: val_accuracy did not improve from 0.76229\n",
      "Epoch 94/100\n",
      "\n",
      "Epoch 94: val_accuracy did not improve from 0.76229\n",
      "Epoch 95/100\n",
      "\n",
      "Epoch 95: val_accuracy did not improve from 0.76229\n",
      "Epoch 96/100\n",
      "\n",
      "Epoch 96: val_accuracy did not improve from 0.76229\n",
      "Epoch 97/100\n",
      "\n",
      "Epoch 97: val_accuracy did not improve from 0.76229\n",
      "Epoch 98/100\n",
      "\n",
      "Epoch 98: val_accuracy did not improve from 0.76229\n",
      "Epoch 99/100\n",
      "\n",
      "Epoch 99: val_accuracy did not improve from 0.76229\n",
      "Epoch 100/100\n",
      "\n",
      "Epoch 100: val_accuracy did not improve from 0.76229\n"
     ]
    }
   ],
   "source": [
    "import time\n",
    "from tensorflow.keras.callbacks import CSVLogger\n",
    "\n",
    "start_time = time.time()\n",
    "\n",
    "history = 'D:\\\\.Dataset28022024 - TCC\\\\history.csv'\n",
    "csv_logger = CSVLogger(filename=history)\n",
    "\n",
    "history = model.fit(\n",
    "    train_dataset,                          # Conjunto de dados de treinamento\n",
    "    epochs=100,                             # Número de épocas de treinamento\n",
    "    validation_data=validation_dataset,     # Conjunto de dados de validação (separado anteriormente)\n",
    "    callbacks=[csv_logger, checkpoint], # Callback para salvar os melhores pesos #, early_stopping, tensorboard_callback, activation_logger\n",
    "    verbose=3                               # Exibir informações de treinamento\n",
    ")\n",
    "\n",
    "end_time = time.time()\n",
    "\n",
    "# Salvar o modelo treinado\n",
    "model_path_trained = 'D:\\\\.Dataset28022024 - TCC\\\\model_trained.h5'\n",
    "model.save(model_path_trained)"
   ]
  },
  {
   "cell_type": "code",
   "execution_count": 17,
   "metadata": {},
   "outputs": [
    {
     "name": "stdout",
     "output_type": "stream",
     "text": [
      "Tempo de execução: 2 horas, 17 minutos e 2 segundos\n"
     ]
    }
   ],
   "source": [
    "execution_time_seconds = end_time - start_time\n",
    "\n",
    "hours = int(execution_time_seconds) // 3600\n",
    "minutes = int(execution_time_seconds) % 3600 // 60\n",
    "seconds = int(execution_time_seconds) % 60\n",
    "\n",
    "print(f\"Tempo de execução: {hours} horas, {minutes} minutos e {seconds} segundos\")"
   ]
  },
  {
   "cell_type": "markdown",
   "metadata": {
    "id": "36W5a2r43bH-"
   },
   "source": [
    "### Evaluating Model"
   ]
  },
  {
   "cell_type": "markdown",
   "metadata": {
    "id": "EfxbIL1XgmFp"
   },
   "source": [
    "###### Evaluating Model by Loss and Accuracy with the Test Data"
   ]
  },
  {
   "cell_type": "code",
   "execution_count": 18,
   "metadata": {
    "colab": {
     "base_uri": "https://localhost:8080/"
    },
    "id": "9ymFZGG93TVG",
    "outputId": "5decb8b8-718a-4987-c7bb-5cf7b93f3861"
   },
   "outputs": [
    {
     "name": "stdout",
     "output_type": "stream",
     "text": [
      "Teste - Perda: 0.4685470461845398, Acurácia: 0.8672350645065308\n"
     ]
    }
   ],
   "source": [
    "test_loss, test_accuracy = model.evaluate(test_dataset, verbose=0)\n",
    "\n",
    "print(f'Teste - Perda: {test_loss}, Acurácia: {test_accuracy}')"
   ]
  },
  {
   "cell_type": "markdown",
   "metadata": {
    "id": "pSuF8DZC6LhK"
   },
   "source": [
    "###### Plot Graphs to vizualise loss and accuracy through the epochs"
   ]
  },
  {
   "cell_type": "code",
   "execution_count": 1,
   "metadata": {},
   "outputs": [
    {
     "data": {
      "image/png": "[encoded data removed]",
      "text/plain": [
       "<Figure size 1000x400 with 2 Axes>"
      ]
     },
     "metadata": {},
     "output_type": "display_data"
    }
   ],
   "source": [
    "import pandas as pd\n",
    "import matplotlib.pyplot as plt\n",
    "\n",
    "# Read the history data from the CSV file\n",
    "df_history = pd.read_csv('D:\\\\.Dataset28022024 - TCC\\\\history.csv')\n",
    "\n",
    "# Extract the desired metrics (accuracy and loss in this case)\n",
    "accuracy = df_history['accuracy'].to_numpy()\n",
    "val_accuracy = df_history['val_accuracy'].to_numpy()\n",
    "loss = df_history['loss'].to_numpy()\n",
    "val_loss = df_history['val_loss'].to_numpy()\n",
    "\n",
    "# Plot the curves as usual\n",
    "plt.figure(figsize=(10, 4))\n",
    "\n",
    "plt.subplot(1, 2, 1)\n",
    "plt.plot(accuracy, color='teal', label='accuracy')\n",
    "plt.plot(val_accuracy, color='purple', label='val_accuracy')\n",
    "plt.title('Curva de Precisão')\n",
    "plt.xlabel('Época')\n",
    "plt.ylabel('Precisão')\n",
    "plt.legend()\n",
    "\n",
    "plt.subplot(1, 2, 2)\n",
    "plt.plot(loss, color='teal', label='loss')\n",
    "plt.plot(val_loss, color='purple', label='val_loss')\n",
    "plt.title('Curva de Perda')\n",
    "plt.xlabel('Época')\n",
    "plt.ylabel('Perda')\n",
    "plt.legend()\n",
    "\n",
    "plt.show()"
   ]
  },
  {
   "cell_type": "code",
   "execution_count": 1,
   "metadata": {
    "colab": {
     "base_uri": "https://localhost:8080/",
     "height": 412
    },
    "id": "hkg4yB7nHo2t",
    "outputId": "c09664ac-fe96-4926-83b2-55b513d482da"
   },
   "outputs": [
    {
     "ename": "NameError",
     "evalue": "name 'history' is not defined",
     "output_type": "error",
     "traceback": [
      "\u001b[1;31m---------------------------------------------------------------------------\u001b[0m",
      "\u001b[1;31mNameError\u001b[0m                                 Traceback (most recent call last)",
      "Cell \u001b[1;32mIn[1], line 6\u001b[0m\n\u001b[0;32m      3\u001b[0m plt\u001b[38;5;241m.\u001b[39mfigure(figsize\u001b[38;5;241m=\u001b[39m(\u001b[38;5;241m10\u001b[39m, \u001b[38;5;241m4\u001b[39m))\n\u001b[0;32m      5\u001b[0m plt\u001b[38;5;241m.\u001b[39msubplot(\u001b[38;5;241m1\u001b[39m, \u001b[38;5;241m2\u001b[39m, \u001b[38;5;241m1\u001b[39m)\n\u001b[1;32m----> 6\u001b[0m plt\u001b[38;5;241m.\u001b[39mplot(\u001b[43mhistory\u001b[49m\u001b[38;5;241m.\u001b[39mhistory[\u001b[38;5;124m'\u001b[39m\u001b[38;5;124maccuracy\u001b[39m\u001b[38;5;124m'\u001b[39m], color\u001b[38;5;241m=\u001b[39m\u001b[38;5;124m'\u001b[39m\u001b[38;5;124mteal\u001b[39m\u001b[38;5;124m'\u001b[39m, label\u001b[38;5;241m=\u001b[39m\u001b[38;5;124m'\u001b[39m\u001b[38;5;124maccuracy\u001b[39m\u001b[38;5;124m'\u001b[39m)\n\u001b[0;32m      7\u001b[0m plt\u001b[38;5;241m.\u001b[39mplot(history\u001b[38;5;241m.\u001b[39mhistory[\u001b[38;5;124m'\u001b[39m\u001b[38;5;124mval_accuracy\u001b[39m\u001b[38;5;124m'\u001b[39m], color\u001b[38;5;241m=\u001b[39m\u001b[38;5;124m'\u001b[39m\u001b[38;5;124mpurple\u001b[39m\u001b[38;5;124m'\u001b[39m, label\u001b[38;5;241m=\u001b[39m\u001b[38;5;124m'\u001b[39m\u001b[38;5;124mval_accuracy\u001b[39m\u001b[38;5;124m'\u001b[39m)\n\u001b[0;32m      8\u001b[0m plt\u001b[38;5;241m.\u001b[39mtitle(\u001b[38;5;124m'\u001b[39m\u001b[38;5;124mCurva de Precisão\u001b[39m\u001b[38;5;124m'\u001b[39m)\n",
      "\u001b[1;31mNameError\u001b[0m: name 'history' is not defined"
     ]
    },
    {
     "data": {
      "image/png": "[encoded data removed]",
      "text/plain": [
       "<Figure size 1000x400 with 1 Axes>"
      ]
     },
     "metadata": {},
     "output_type": "display_data"
    }
   ],
   "source": [
    "# import matplotlib.pyplot as plt\n",
    "\n",
    "# plt.figure(figsize=(10, 4))\n",
    "\n",
    "# plt.subplot(1, 2, 1)\n",
    "# plt.plot(history.history['accuracy'], color='teal', label='accuracy')\n",
    "# plt.plot(history.history['val_accuracy'], color='purple', label='val_accuracy')\n",
    "# plt.title('Curva de Precisão')\n",
    "# plt.xlabel('Época')\n",
    "# plt.ylabel('Precisão')\n",
    "# plt.legend()\n",
    "\n",
    "# plt.subplot(1, 2, 2)\n",
    "# plt.plot(history.history['loss'], color='teal', label='loss')\n",
    "# plt.plot(history.history['val_loss'], color='purple', label='val_loss')\n",
    "# plt.title('Curva de Perda')\n",
    "# plt.xlabel('Época')\n",
    "# plt.ylabel('Perda')\n",
    "# plt.legend()\n",
    "\n",
    "# plt.show()"
   ]
  },
  {
   "cell_type": "markdown",
   "metadata": {
    "id": "f-W4euBwRQVb"
   },
   "source": [
    "###### Plot Confusion Matrix"
   ]
  },
  {
   "cell_type": "markdown",
   "metadata": {
    "id": "FB8i1P5fYlSo"
   },
   "source": [
    "A matriz de confusão é uma tabela que mostra as contagens de verdadeiros positivos, verdadeiros negativos, falsos positivos e falsos negativos. É especialmente útil em problemas de classificação com várias classes.\n"
   ]
  },
  {
   "cell_type": "code",
   "execution_count": 2,
   "metadata": {
    "colab": {
     "base_uri": "https://localhost:8080/",
     "height": 581
    },
    "id": "Ml2tk8xqRPIq",
    "outputId": "df5998fc-3060-40c9-9945-8bf943e09b1b"
   },
   "outputs": [
    {
     "ename": "NameError",
     "evalue": "name 'model' is not defined",
     "output_type": "error",
     "traceback": [
      "\u001b[1;31m---------------------------------------------------------------------------\u001b[0m",
      "\u001b[1;31mNameError\u001b[0m                                 Traceback (most recent call last)",
      "Cell \u001b[1;32mIn[2], line 5\u001b[0m\n\u001b[0;32m      2\u001b[0m \u001b[38;5;28;01mimport\u001b[39;00m \u001b[38;5;21;01mseaborn\u001b[39;00m \u001b[38;5;28;01mas\u001b[39;00m \u001b[38;5;21;01msns\u001b[39;00m\n\u001b[0;32m      4\u001b[0m \u001b[38;5;66;03m# Obter previsões do conjunto de teste\u001b[39;00m\n\u001b[1;32m----> 5\u001b[0m predictions \u001b[38;5;241m=\u001b[39m \u001b[43mmodel\u001b[49m\u001b[38;5;241m.\u001b[39mpredict(test_dataset)\n\u001b[0;32m      6\u001b[0m predicted_labels \u001b[38;5;241m=\u001b[39m np\u001b[38;5;241m.\u001b[39margmax(predictions, axis\u001b[38;5;241m=\u001b[39m\u001b[38;5;241m1\u001b[39m)  \u001b[38;5;66;03m# Use argmax para obter a classe prevista\u001b[39;00m\n\u001b[0;32m      8\u001b[0m \u001b[38;5;66;03m# Obter rótulos verdadeiros do conjunto de teste\u001b[39;00m\n",
      "\u001b[1;31mNameError\u001b[0m: name 'model' is not defined"
     ]
    }
   ],
   "source": [
    "from sklearn.metrics import confusion_matrix\n",
    "import seaborn as sns\n",
    "\n",
    "# Obter previsões do conjunto de teste\n",
    "predictions = model.predict(test_dataset)\n",
    "predicted_labels = np.argmax(predictions, axis=1)  # Use argmax para obter a classe prevista\n",
    "\n",
    "# Obter rótulos verdadeiros do conjunto de teste\n",
    "true_labels = [label for _, label in test_dataset.unbatch()]\n",
    "\n",
    "# Calcular a matriz de confusão\n",
    "conf_matrix = confusion_matrix(true_labels, predicted_labels)\n",
    "\n",
    "# Definir rótulos das classes\n",
    "class_labels = [\"German\", \"Indian\", \"Japanese\", \"Spanish\"]\n",
    "\n",
    "# Visualizar a matriz de confusão\n",
    "plt.figure(figsize=(8, 6))\n",
    "sns.heatmap(conf_matrix, annot=True, fmt=\"d\", cmap=\"PuRd\", xticklabels=class_labels, yticklabels=class_labels)\n",
    "plt.xlabel(\"Previsões\")\n",
    "plt.ylabel(\"Rótulos Verdadeiros\")\n",
    "plt.title(\"Matriz de Confusão\")\n",
    "plt.show()"
   ]
  },
  {
   "cell_type": "markdown",
   "metadata": {
    "id": "fisksp8oSJ1Y",
    "jp-MarkdownHeadingCollapsed": true
   },
   "source": [
    "###### Plot Heatmap Error"
   ]
  },
  {
   "cell_type": "markdown",
   "metadata": {
    "id": "7UzDwJD2YikN"
   },
   "source": [
    "Criar heatmaps que destacam onde o modelo está cometendo erros pode ajudar a identificar padrões específicos que podem ser melhorados."
   ]
  },
  {
   "cell_type": "code",
   "execution_count": null,
   "metadata": {
    "colab": {
     "base_uri": "https://localhost:8080/"
    },
    "id": "N3v0oVe9SRDm",
    "outputId": "bb000acf-1a01-4cfe-84c7-abfbfb426ab5"
   },
   "outputs": [
    {
     "data": {
      "image/png": "[encoded data removed]",
      "text/plain": [
       "<Figure size 800x600 with 2 Axes>"
      ]
     },
     "metadata": {},
     "output_type": "display_data"
    }
   ],
   "source": [
    "# Obter rótulos verdadeiros do conjunto de teste\n",
    "true_labels = [label for _, label in test_dataset.unbatch()]\n",
    "\n",
    "# Calcular a matriz de confusão\n",
    "conf_matrix = confusion_matrix(true_labels, predicted_labels)\n",
    "\n",
    "# Calcular o heatmap de erros\n",
    "error_matrix = conf_matrix - np.eye(conf_matrix.shape[0], dtype=int)  # Subtrair a diagonal para obter os erros\n",
    "\n",
    "# Definir rótulos das classes\n",
    "class_labels = [\"German\", \"Indian\", \"Japanese\", \"Spanish\"]\n",
    "\n",
    "# Visualizar o heatmap de erros\n",
    "plt.figure(figsize=(8, 6))\n",
    "sns.heatmap(error_matrix, annot=True, fmt=\"d\", cmap=\"PuBu\", xticklabels=class_labels, yticklabels=class_labels)\n",
    "plt.xlabel(\"Previsões\")\n",
    "plt.ylabel(\"Rótulos Verdadeiros\")\n",
    "plt.title(\"Heatmap de Erros\")\n",
    "plt.show()"
   ]
  },
  {
   "cell_type": "markdown",
   "metadata": {
    "id": "sN1Wfz9UUhZ6",
    "jp-MarkdownHeadingCollapsed": true
   },
   "source": [
    "### Evaluating HeatMap"
   ]
  },
  {
   "cell_type": "code",
   "execution_count": null,
   "metadata": {
    "colab": {
     "base_uri": "https://localhost:8080/"
    },
    "id": "4FptD921YZbt",
    "outputId": "93ae4da4-0d9a-45ad-c27a-c6f6244055bf"
   },
   "outputs": [
    {
     "name": "stdout",
     "output_type": "stream",
     "text": [
      "Requirement already satisfied: tf-keras-vis in /usr/local/lib/python3.10/dist-packages (0.8.6)\n",
      "Requirement already satisfied: scipy in /usr/local/lib/python3.10/dist-packages (from tf-keras-vis) (1.11.4)\n",
      "Requirement already satisfied: pillow in /usr/local/lib/python3.10/dist-packages (from tf-keras-vis) (9.4.0)\n",
      "Requirement already satisfied: deprecated in /usr/local/lib/python3.10/dist-packages (from tf-keras-vis) (1.2.14)\n",
      "Requirement already satisfied: imageio in /usr/local/lib/python3.10/dist-packages (from tf-keras-vis) (2.31.6)\n",
      "Requirement already satisfied: packaging in /usr/local/lib/python3.10/dist-packages (from tf-keras-vis) (23.2)\n",
      "Requirement already satisfied: wrapt<2,>=1.10 in /usr/local/lib/python3.10/dist-packages (from deprecated->tf-keras-vis) (1.14.1)\n",
      "Requirement already satisfied: numpy in /usr/local/lib/python3.10/dist-packages (from imageio->tf-keras-vis) (1.23.5)\n"
     ]
    }
   ],
   "source": [
    "pip install tf-keras-vis"
   ]
  },
  {
   "cell_type": "code",
   "execution_count": null,
   "metadata": {
    "id": "gVcqK4zeUtAd"
   },
   "outputs": [],
   "source": [
    "from tensorflow.keras.models import load_model\n",
    "from tensorflow.keras.preprocessing import image\n",
    "from tf_keras_vis.utils import normalize\n",
    "import cv2"
   ]
  },
  {
   "cell_type": "code",
   "execution_count": null,
   "metadata": {
    "colab": {
     "base_uri": "https://localhost:8080/"
    },
    "id": "KG-BukO3H5_4",
    "outputId": "b5757735-1618-4fb5-9cd6-7066c4d90c63"
   },
   "outputs": [
    {
     "data": {
      "image/png": "[encoded data removed]",
      "text/plain": [
       "<Figure size 2000x400 with 5 Axes>"
      ]
     },
     "metadata": {},
     "output_type": "display_data"
    }
   ],
   "source": [
    "# Caminho para o diretório de teste\n",
    "test_dir_german = 'D:\\\\.Dataset28022024 - TCC\\\\result\\\\test\\\\german'\n",
    "\n",
    "# Carregar 5 imagens do diretório de teste\n",
    "image_list = os.listdir(test_dir_german)[:5]\n",
    "\n",
    "# Configurar subplots\n",
    "fig, axs = plt.subplots(1, 5, figsize=(20, 4))\n",
    "fig.subplots_adjust(wspace=0.5)\n",
    "\n",
    "for i, img_name in enumerate(image_list):\n",
    "    # Carregar a imagem\n",
    "    img_path = os.path.join(test_dir_german, img_name)\n",
    "    img = image.load_img(img_path, target_size=(28, 28))\n",
    "    img_array = image.img_to_array(img)\n",
    "    img_array = np.expand_dims(img_array, axis=0)\n",
    "\n",
    "    # Simular o mapa de calor (substitua esta parte pelo seu código real)\n",
    "    heatmap_expanded = np.random.rand(1, 16, 16, 3)\n",
    "\n",
    "    # Redimensionar o mapa de calor para o tamanho original da imagem\n",
    "    heatmap_resized = cv2.resize(heatmap_expanded[0], (img_array.shape[2], img_array.shape[1]))\n",
    "\n",
    "    # Converter para um intervalo de 0 a 255\n",
    "    heatmap_resized *= 255\n",
    "\n",
    "    # Converter para inteiro\n",
    "    heatmap_resized = heatmap_resized.astype(np.uint8)\n",
    "\n",
    "    # Converter a imagem para escala de cinza\n",
    "    gray_img = cv2.cvtColor(img_array[0].astype(np.uint8), cv2.COLOR_BGR2GRAY)\n",
    "\n",
    "    # Sobrepôr o mapa de calor na imagem em escala de cinza\n",
    "    heatmap_colored = cv2.applyColorMap(gray_img, cv2.COLORMAP_JET)\n",
    "    superimposed_img = cv2.addWeighted(heatmap_colored, 0.4, heatmap_resized, 0.6, 0)\n",
    "\n",
    "    # Exibir a imagem e o Grad-CAM no subplot correspondente\n",
    "    axs[i].imshow(superimposed_img)\n",
    "    axs[i].set_title(f'Image {i+1}')\n",
    "    axs[i].axis('off')\n",
    "\n",
    "plt.show()"
   ]
  },
  {
   "cell_type": "code",
   "execution_count": null,
   "metadata": {
    "colab": {
     "base_uri": "https://localhost:8080/"
    },
    "id": "_5TxTpVAIBSe",
    "outputId": "85e0c396-3ca7-47a2-cb25-2dc9a2639d64"
   },
   "outputs": [
    {
     "data": {
      "image/png": "[encoded data removed]",
      "text/plain": [
       "<Figure size 2000x400 with 5 Axes>"
      ]
     },
     "metadata": {},
     "output_type": "display_data"
    }
   ],
   "source": [
    "# Caminho para o diretório de teste\n",
    "test_dir_indian = 'D:\\\\.Dataset28022024 - TCC\\\\result\\\\test\\\\indian'\n",
    "\n",
    "# Carregar 5 imagens do diretório de teste\n",
    "image_list = os.listdir(test_dir_indian)[:5]\n",
    "\n",
    "# Configurar subplots\n",
    "fig, axs = plt.subplots(1, 5, figsize=(20, 4))\n",
    "fig.subplots_adjust(wspace=0.5)\n",
    "\n",
    "for i, img_name in enumerate(image_list):\n",
    "    # Carregar a imagem\n",
    "    img_path = os.path.join(test_dir_indian, img_name)\n",
    "    img = image.load_img(img_path, target_size=(28, 28))\n",
    "    img_array = image.img_to_array(img)\n",
    "    img_array = np.expand_dims(img_array, axis=0)\n",
    "\n",
    "    # Simular o mapa de calor (substitua esta parte pelo seu código real)\n",
    "    heatmap_expanded = np.random.rand(1, 16, 16, 3)\n",
    "\n",
    "    # Redimensionar o mapa de calor para o tamanho original da imagem\n",
    "    heatmap_resized = cv2.resize(heatmap_expanded[0], (img_array.shape[2], img_array.shape[1]))\n",
    "\n",
    "    # Converter para um intervalo de 0 a 255\n",
    "    heatmap_resized *= 255\n",
    "\n",
    "    # Converter para inteiro\n",
    "    heatmap_resized = heatmap_resized.astype(np.uint8)\n",
    "\n",
    "    # Converter a imagem para escala de cinza\n",
    "    gray_img = cv2.cvtColor(img_array[0].astype(np.uint8), cv2.COLOR_BGR2GRAY)\n",
    "\n",
    "    # Sobrepôr o mapa de calor na imagem em escala de cinza\n",
    "    heatmap_colored = cv2.applyColorMap(gray_img, cv2.COLORMAP_JET)\n",
    "    superimposed_img = cv2.addWeighted(heatmap_colored, 0.4, heatmap_resized, 0.6, 0)\n",
    "\n",
    "    # Exibir a imagem e o Grad-CAM no subplot correspondente\n",
    "    axs[i].imshow(superimposed_img)\n",
    "    axs[i].set_title(f'Image {i+1}')\n",
    "    axs[i].axis('off')\n",
    "\n",
    "plt.show()"
   ]
  },
  {
   "cell_type": "code",
   "execution_count": null,
   "metadata": {
    "colab": {
     "base_uri": "https://localhost:8080/"
    },
    "id": "Z8yPEuQhgJhO",
    "outputId": "8c76d07d-fe92-4b56-c06c-24fdb2692cc8"
   },
   "outputs": [
    {
     "data": {
      "image/png": "[encoded data removed]",
      "text/plain": [
       "<Figure size 2000x400 with 5 Axes>"
      ]
     },
     "metadata": {},
     "output_type": "display_data"
    }
   ],
   "source": [
    "# Caminho para o diretório de teste\n",
    "test_dir_japanese = 'D:\\\\.Dataset28022024 - TCC\\\\result\\\\test\\\\japanese'\n",
    "\n",
    "# Carregar 5 imagens do diretório de teste\n",
    "image_list = os.listdir(test_dir_japanese)[:5]\n",
    "\n",
    "# Configurar subplots\n",
    "fig, axs = plt.subplots(1, 5, figsize=(20, 4))\n",
    "fig.subplots_adjust(wspace=0.5)\n",
    "\n",
    "for i, img_name in enumerate(image_list):\n",
    "    # Carregar a imagem\n",
    "    img_path = os.path.join(test_dir_japanese, img_name)\n",
    "    img = image.load_img(img_path, target_size=(28, 28))\n",
    "    img_array = image.img_to_array(img)\n",
    "    img_array = np.expand_dims(img_array, axis=0)\n",
    "\n",
    "    # Simular o mapa de calor (substitua esta parte pelo seu código real)\n",
    "    heatmap_expanded = np.random.rand(1, 16, 16, 3)\n",
    "\n",
    "    # Redimensionar o mapa de calor para o tamanho original da imagem\n",
    "    heatmap_resized = cv2.resize(heatmap_expanded[0], (img_array.shape[2], img_array.shape[1]))\n",
    "\n",
    "    # Converter para um intervalo de 0 a 255\n",
    "    heatmap_resized *= 255\n",
    "\n",
    "    # Converter para inteiro\n",
    "    heatmap_resized = heatmap_resized.astype(np.uint8)\n",
    "\n",
    "    # Converter a imagem para escala de cinza\n",
    "    gray_img = cv2.cvtColor(img_array[0].astype(np.uint8), cv2.COLOR_BGR2GRAY)\n",
    "\n",
    "    # Sobrepôr o mapa de calor na imagem em escala de cinza\n",
    "    heatmap_colored = cv2.applyColorMap(gray_img, cv2.COLORMAP_JET)\n",
    "    superimposed_img = cv2.addWeighted(heatmap_colored, 0.4, heatmap_resized, 0.6, 0)\n",
    "\n",
    "    # Exibir a imagem e o Grad-CAM no subplot correspondente\n",
    "    axs[i].imshow(superimposed_img)\n",
    "    axs[i].set_title(f'Image {i+1}')\n",
    "    axs[i].axis('off')\n",
    "\n",
    "plt.show()"
   ]
  },
  {
   "cell_type": "code",
   "execution_count": null,
   "metadata": {
    "colab": {
     "base_uri": "https://localhost:8080/"
    },
    "id": "uGAiB2wwfYbM",
    "outputId": "4887e269-9114-412f-93ef-cfe93954b4ec"
   },
   "outputs": [
    {
     "data": {
      "image/png": "[encoded data removed]",
      "text/plain": [
       "<Figure size 2000x400 with 5 Axes>"
      ]
     },
     "metadata": {},
     "output_type": "display_data"
    }
   ],
   "source": [
    "# Caminho para o diretório de teste\n",
    "test_dir_spanish = 'D:\\\\.Dataset28022024 - TCC\\\\result\\\\test\\\\spanish'\n",
    "\n",
    "# Carregar 5 imagens do diretório de teste\n",
    "image_list = os.listdir(test_dir_spanish)[:5]\n",
    "\n",
    "# Configurar subplots\n",
    "fig, axs = plt.subplots(1, 5, figsize=(20, 4))\n",
    "fig.subplots_adjust(wspace=0.5)\n",
    "\n",
    "for i, img_name in enumerate(image_list):\n",
    "    # Carregar a imagem\n",
    "    img_path = os.path.join(test_dir_spanish, img_name)\n",
    "    img = image.load_img(img_path, target_size=(28, 28))\n",
    "    img_array = image.img_to_array(img)\n",
    "    img_array = np.expand_dims(img_array, axis=0)\n",
    "\n",
    "    # Simular o mapa de calor (substitua esta parte pelo seu código real)\n",
    "    heatmap_expanded = np.random.rand(1, 16, 16, 3)\n",
    "\n",
    "    # Redimensionar o mapa de calor para o tamanho original da imagem\n",
    "    heatmap_resized = cv2.resize(heatmap_expanded[0], (img_array.shape[2], img_array.shape[1]))\n",
    "\n",
    "    # Converter para um intervalo de 0 a 255\n",
    "    heatmap_resized *= 255\n",
    "\n",
    "    # Converter para inteiro\n",
    "    heatmap_resized = heatmap_resized.astype(np.uint8)\n",
    "\n",
    "    # Converter a imagem para escala de cinza\n",
    "    gray_img = cv2.cvtColor(img_array[0].astype(np.uint8), cv2.COLOR_BGR2GRAY)\n",
    "\n",
    "    # Sobrepôr o mapa de calor na imagem em escala de cinza\n",
    "    heatmap_colored = cv2.applyColorMap(gray_img, cv2.COLORMAP_JET)\n",
    "    superimposed_img = cv2.addWeighted(heatmap_colored, 0.4, heatmap_resized, 0.6, 0)\n",
    "\n",
    "    # Exibir a imagem e o Grad-CAM no subplot correspondente\n",
    "    axs[i].imshow(superimposed_img)\n",
    "    axs[i].set_title(f'Image {i+1}')\n",
    "    axs[i].axis('off')\n",
    "\n",
    "plt.show()"
   ]
  },
  {
   "cell_type": "markdown",
   "metadata": {
    "id": "1iUOm0GQ7yXl",
    "jp-MarkdownHeadingCollapsed": true
   },
   "source": [
    "### Testing Model with other images"
   ]
  },
  {
   "cell_type": "code",
   "execution_count": null,
   "metadata": {
    "id": "ZCIHtvrY8No2"
   },
   "outputs": [],
   "source": [
    "import cv2"
   ]
  },
  {
   "cell_type": "code",
   "execution_count": null,
   "metadata": {
    "id": "8tupf3cT7xlr"
   },
   "outputs": [],
   "source": [
    "german_path = 'C:\\\\Users\\\\Larissa Santana\\\\Documents\\\\UFAL\\\\TCC\\\\test_image_labels\\\\german.jpg'\n",
    "indian_path = 'C:\\\\Users\\\\Larissa Santana\\\\Documents\\\\UFAL\\\\TCC\\\\test_image_labels\\\\indian.jpg'\n",
    "japanese_path = 'C:\\\\Users\\\\Larissa Santana\\\\Documents\\\\UFAL\\\\TCC\\\\test_image_labels\\\\japanese.jpg'\n",
    "spanish_path = 'C:\\\\Users\\\\Larissa Santana\\\\Documents\\\\UFAL\\\\TCC\\\\test_image_labels\\\\spanish.jpg'"
   ]
  },
  {
   "cell_type": "code",
   "execution_count": null,
   "metadata": {
    "colab": {
     "base_uri": "https://localhost:8080/"
    },
    "id": "DnxaWaT373Jp",
    "outputId": "051d61e2-c834-4a31-eda3-a49317ea631e"
   },
   "outputs": [
    {
     "data": {
      "image/png": "[encoded data removed]",
      "text/plain": [
       "<Figure size 600x200 with 4 Axes>"
      ]
     },
     "metadata": {},
     "output_type": "display_data"
    }
   ],
   "source": [
    "german = preprocess_image(german_path)\n",
    "indian = preprocess_image(indian_path)\n",
    "japanese = preprocess_image(japanese_path)\n",
    "spanish = preprocess_image(spanish_path)\n",
    "\n",
    "plt.figure(figsize=(6, 2))\n",
    "\n",
    "plt.subplot(1, 4, 1)\n",
    "plt.imshow(german)\n",
    "plt.axis('off')\n",
    "\n",
    "plt.subplot(1, 4, 2)\n",
    "plt.imshow(indian)\n",
    "plt.axis('off')\n",
    "\n",
    "plt.subplot(1, 4, 3)\n",
    "plt.imshow(japanese)\n",
    "plt.axis('off')\n",
    "\n",
    "plt.subplot(1, 4, 4)\n",
    "plt.imshow(spanish)\n",
    "plt.axis('off')\n",
    "\n",
    "plt.show()"
   ]
  },
  {
   "cell_type": "code",
   "execution_count": null,
   "metadata": {
    "colab": {
     "base_uri": "https://localhost:8080/"
    },
    "id": "ta446RLtJ0P5",
    "outputId": "c67b2a2e-9e6b-4e37-fda0-d5a08fcc44fb"
   },
   "outputs": [
    {
     "name": "stdout",
     "output_type": "stream",
     "text": [
      "1/1 [==============================] - 0s 32ms/step\n",
      "Predicted class for sample 1 is Spanish with confidence 0.515505850315094\n",
      "Predicted class for sample 2 is Spanish with confidence 0.5155078768730164\n",
      "Predicted class for sample 3 is Spanish with confidence 0.5155181288719177\n",
      "Predicted class for sample 4 is Spanish with confidence 0.5155434608459473\n"
     ]
    }
   ],
   "source": [
    "german_normalized = german / 255.0\n",
    "indian_normalized = indian / 255.0\n",
    "japanese_normalized = japanese / 255.0\n",
    "spanish_normalized = spanish / 255.0\n",
    "\n",
    "# Suponha que você tenha um conjunto de dados com todas as imagens\n",
    "all_images = np.array([german_normalized, indian_normalized, japanese_normalized, spanish_normalized])\n",
    "\n",
    "# Use a função predict diretamente no conjunto de dados\n",
    "all_predictions = model.predict(all_images)\n",
    "\n",
    "threshold = 0.5  # Escolha um valor de limiar adequado\n",
    "\n",
    "# Lista de nomes de labels correspondentes aos índices previstos\n",
    "label_names = ['German', 'Indian', 'Japanese', 'Spanish']\n",
    "\n",
    "# Iterar sobre as previsões para cada classe\n",
    "for i, predictions in enumerate(all_predictions):\n",
    "    predicted_class = np.argmax(predictions)\n",
    "    confidence = predictions[predicted_class]\n",
    "    predicted_label = label_names[predicted_class]\n",
    "\n",
    "    if confidence > threshold:\n",
    "        print(f'Predicted class for sample {i + 1} is {predicted_label} with confidence {confidence}')\n",
    "    else:\n",
    "        print(f'Sample {i + 1} is None of the above')"
   ]
  }
 ],
 "metadata": {
  "accelerator": "GPU",
  "colab": {
   "collapsed_sections": [
    "qnrp1Wu3ZFK_",
    "9Zzbt5jzbcBa",
    "xkjWKCKBkVtF",
    "aYHzzr4ijvbK",
    "YkXkUHfVW2hX",
    "hVqlj_J8XEXc",
    "NSs9A3HV7n2O"
   ],
   "gpuType": "T4",
   "provenance": []
  },
  "kernelspec": {
   "display_name": "Python 3 (ipykernel)",
   "language": "python",
   "name": "python3"
  },
  "language_info": {
   "codemirror_mode": {
    "name": "ipython",
    "version": 3
   },
   "file_extension": ".py",
   "mimetype": "text/x-python",
   "name": "python",
   "nbconvert_exporter": "python",
   "pygments_lexer": "ipython3",
   "version": "3.9.18"
  }
 },
 "nbformat": 4,
 "nbformat_minor": 4
}
