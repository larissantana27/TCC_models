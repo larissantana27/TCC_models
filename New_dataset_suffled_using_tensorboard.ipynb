{
 "cells": [
  {
   "cell_type": "markdown",
   "metadata": {},
   "source": [
    "### Code Paramethers"
   ]
  },
  {
   "cell_type": "markdown",
   "metadata": {
    "id": "_MKu1DQSbNw2"
   },
   "source": [
    "* Labels: All\n",
    "* Size: (28,28)\n",
    "* Data augmentation: YES (without generators and chances for caracteristics)\n",
    "* Model Layers: 2 conv2D (64,64), 2 dense layers and relu in all layers\n",
    "* Testing implemented\n",
    "* New Dataset suffled"
   ]
  },
  {
   "cell_type": "markdown",
   "metadata": {
    "id": "xkjWKCKBkVtF"
   },
   "source": [
    "### Defining Dataset Path"
   ]
  },
  {
   "cell_type": "code",
   "execution_count": 9,
   "metadata": {},
   "outputs": [],
   "source": [
    "import os\n",
    "dataset_directory = 'D:\\\\.Dataset05032024 - TCC\\\\labels'\n",
    "os.makedirs(dataset_directory, exist_ok=True)\n",
    "os.chdir(dataset_directory)"
   ]
  },
  {
   "cell_type": "markdown",
   "metadata": {
    "id": "xkjWKCKBkVtF"
   },
   "source": [
    "### Loading Data into train, validation and teste folders"
   ]
  },
  {
   "cell_type": "code",
   "execution_count": 3,
   "metadata": {
    "id": "8wgbY4zSukxW"
   },
   "outputs": [],
   "source": [
    "from shutil import copyfile\n",
    "from sklearn.model_selection import train_test_split"
   ]
  },
  {
   "cell_type": "code",
   "execution_count": 10,
   "metadata": {
    "id": "0K9shcjBumpg"
   },
   "outputs": [],
   "source": [
    "train_directory = 'D:\\\\.Dataset05032024 - TCC\\\\result\\\\train'\n",
    "validation_directory = 'D:\\\\.Dataset05032024 - TCC\\\\result\\\\validate'\n",
    "test_directory = 'D:\\\\.Dataset05032024 - TCC\\\\result\\\\test'"
   ]
  },
  {
   "cell_type": "code",
   "execution_count": 4,
   "metadata": {
    "id": "Z7jhP_-Y7clt"
   },
   "outputs": [],
   "source": [
    "def load_data_into_train_validation_test(dataset_directory, train_directory, validation_directory, test_directory):\n",
    "    \n",
    "    # Lista de pastas de classe (uma pasta para cada classe de roupa)\n",
    "    class_folders = os.listdir(dataset_directory)\n",
    "    \n",
    "    # Porcentagem de imagens para validação e teste (10% para cada)\n",
    "    validation_percent = 0.17\n",
    "    test_percent = 0.14\n",
    "    \n",
    "    # Loop através de cada pasta de classe\n",
    "    for class_folder in class_folders:\n",
    "    \n",
    "        # Diretório completo da pasta de classe original\n",
    "        class_folder_path = os.path.join(dataset_directory, class_folder)\n",
    "    \n",
    "        # Lista de todas as imagens na pasta de classe\n",
    "        images = os.listdir(class_folder_path)\n",
    "    \n",
    "        # Calcule o número de imagens a serem movidas para validação e teste\n",
    "        validation_images_quantity = int(len(images) * validation_percent)\n",
    "        test_images_quantity = int(len(images) * test_percent)\n",
    "    \n",
    "        # Divida as imagens em treinamento, validação e teste\n",
    "        train_images = images[validation_images_quantity + test_images_quantity:]\n",
    "        validation_images = images[:validation_images_quantity]\n",
    "        test_images = images[validation_images_quantity:validation_images_quantity + test_images_quantity]\n",
    "        # print(\"train_images\", train_images)\n",
    "    \n",
    "        # Crie diretórios para treinamento, validação e teste para a classe atual\n",
    "        train_class_directory = os.path.join(train_directory, class_folder)\n",
    "        validation_class_directory = os.path.join(validation_directory, class_folder)\n",
    "        test_class_directory = os.path.join(test_directory, class_folder)\n",
    "    \n",
    "        # print(\"train_class_directory\", train_class_directory)\n",
    "        # print(\"validation_class_directory\", validation_class_directory)\n",
    "        # print(\"test_class_directory\", test_class_directory)\n",
    "\n",
    "        os.makedirs(train_class_directory, exist_ok=True)\n",
    "        os.makedirs(validation_class_directory, exist_ok=True)\n",
    "        os.makedirs(test_class_directory, exist_ok=True)\n",
    "\n",
    "        # Mova as imagens para os diretórios correspondentes\n",
    "        for image in train_images:\n",
    "            # print(\"image\", image)\n",
    "            src = os.path.join(class_folder_path, image)\n",
    "            # print(\"scr\", src)\n",
    "            dst = os.path.join(train_class_directory, image)\n",
    "            # print(\"dst\", dst)\n",
    "            copyfile(src, dst)\n",
    "    \n",
    "        for image in validation_images:\n",
    "            src = os.path.join(class_folder_path, image)\n",
    "            dst = os.path.join(validation_class_directory, image)\n",
    "            copyfile(src, dst)\n",
    "    \n",
    "        for image in test_images:\n",
    "            src = os.path.join(class_folder_path, image)\n",
    "            dst = os.path.join(test_class_directory, image)\n",
    "            copyfile(src, dst)"
   ]
  },
  {
   "cell_type": "code",
   "execution_count": 5,
   "metadata": {},
   "outputs": [],
   "source": [
    "load_data_into_train_validation_test(dataset_directory, train_directory, validation_directory, test_directory)"
   ]
  },
  {
   "cell_type": "markdown",
   "metadata": {
    "id": "xkjWKCKBkVtF"
   },
   "source": [
    "### Defining Pre Processing (Redefinition and Normalization)"
   ]
  },
  {
   "cell_type": "code",
   "execution_count": 5,
   "metadata": {
    "id": "-Z9_lSd-YuxD"
   },
   "outputs": [],
   "source": [
    "target_size = (28, 28) # Tamanho alvo para redimensionamento\n",
    "\n",
    "def preprocess_image(image_path):\n",
    "    \n",
    "    img = load_img(image_path, target_size=target_size)\n",
    "    img_array = img_to_array(img)\n",
    "    img_array /= 255.0  # Normalização dos valores dos pixels para [0, 1]\n",
    "    \n",
    "    return img_array"
   ]
  },
  {
   "cell_type": "markdown",
   "metadata": {
    "id": "aYHzzr4ijvbK"
   },
   "source": [
    "### Saving images with pre-processing definitions"
   ]
  },
  {
   "cell_type": "code",
   "execution_count": 6,
   "metadata": {
    "id": "cNptvomzuqED"
   },
   "outputs": [],
   "source": [
    "import numpy as np\n",
    "import matplotlib.pyplot as plt\n",
    "from tensorflow.keras.preprocessing.image import load_img, img_to_array, array_to_img"
   ]
  },
  {
   "cell_type": "code",
   "execution_count": 7,
   "metadata": {},
   "outputs": [],
   "source": [
    "dataset_directories = [train_directory, validation_directory, test_directory]"
   ]
  },
  {
   "cell_type": "code",
   "execution_count": 9,
   "metadata": {
    "colab": {
     "base_uri": "https://localhost:8080/"
    },
    "id": "LuMWIEwS2N9R",
    "outputId": "e61ac8ac-543c-45f7-d329-2bd1d777b45b"
   },
   "outputs": [],
   "source": [
    "def saving_images_with_preprocessig_definitions(dataset_directories):\n",
    "\n",
    "    for dataset_directory in dataset_directories:\n",
    "    \n",
    "        # Loop através de cada pasta de classe em treinamento\n",
    "        for class_folder in os.listdir(dataset_directory):\n",
    "    \n",
    "            # Crie uma figura com três subplots em uma linha\n",
    "            if (dataset_directory == train_directory): fig, axs = plt.subplots(1, 3, figsize=(6, 2))\n",
    "    \n",
    "            class_folder_path = os.path.join(dataset_directory, class_folder)\n",
    "    \n",
    "            i = 0\n",
    "            # Loop através de cada imagem na pasta de classe\n",
    "            for image_name in os.listdir(class_folder_path):\n",
    "                image_path = os.path.join(class_folder_path, image_name)\n",
    "    \n",
    "                # Pré-processar a imagem\n",
    "                preprocessed_image = preprocess_image(image_path)\n",
    "    \n",
    "                # Salvar a imagem pré-processada de volta ao mesmo local\n",
    "                array_img = array_to_img(preprocessed_image)\n",
    "                array_img.save(image_path)\n",
    "    \n",
    "                if (dataset_directory == train_directory and i < 3):\n",
    "                    axs[i].imshow(preprocessed_image)\n",
    "                    axs[i].axis('off')\n",
    "                    i += 1\n",
    "            \n",
    "    plt.show()"
   ]
  },
  {
   "cell_type": "code",
   "execution_count": 10,
   "metadata": {},
   "outputs": [
    {
     "data": {
      "image/png": "[encoded data removed]",
      "text/plain": [
       "<Figure size 600x200 with 3 Axes>"
      ]
     },
     "metadata": {},
     "output_type": "display_data"
    },
    {
     "data": {
      "image/png": "[encoded data removed]",
      "text/plain": [
       "<Figure size 600x200 with 3 Axes>"
      ]
     },
     "metadata": {},
     "output_type": "display_data"
    },
    {
     "data": {
      "image/png": "[encoded data removed]",
      "text/plain": [
       "<Figure size 600x200 with 3 Axes>"
      ]
     },
     "metadata": {},
     "output_type": "display_data"
    },
    {
     "data": {
      "image/png": "[encoded data removed]",
      "text/plain": [
       "<Figure size 600x200 with 3 Axes>"
      ]
     },
     "metadata": {},
     "output_type": "display_data"
    }
   ],
   "source": [
    "saving_images_with_preprocessig_definitions(dataset_directories)"
   ]
  },
  {
   "cell_type": "markdown",
   "metadata": {
    "id": "YkXkUHfVW2hX"
   },
   "source": [
    "### Including Augmented Images on Train Directory"
   ]
  },
  {
   "cell_type": "code",
   "execution_count": 11,
   "metadata": {},
   "outputs": [],
   "source": [
    "import imgaug as ia\n",
    "from imgaug import augmenters as iaa"
   ]
  },
  {
   "cell_type": "code",
   "execution_count": 12,
   "metadata": {},
   "outputs": [],
   "source": [
    "rotation_range = 10\n",
    "width_shift_range = 0.1\n",
    "height_shift_range = 0.1\n",
    "shear_range = 0.1\n",
    "zoom_range = 0.1\n",
    "horizontal_flip = True"
   ]
  },
  {
   "cell_type": "code",
   "execution_count": 13,
   "metadata": {
    "id": "ZVEqz_a2x6BD"
   },
   "outputs": [],
   "source": [
    "generating_augmented_images = iaa.Sequential([\n",
    "    # Virar Horizontalmente\n",
    "    iaa.Fliplr(p=0.5),\n",
    "    # Rotação Aleatória\n",
    "    iaa.Sometimes(0.4, iaa.Affine(rotate=(-rotation_range, rotation_range))),\n",
    "    # Deslocamento Horizontal e Vertical\n",
    "    iaa.Sometimes(0.3, iaa.Affine(translate_percent={\"x\": (-width_shift_range, width_shift_range),\n",
    "                                                     \"y\": (-height_shift_range, height_shift_range)})),\n",
    "    # Zoom Aleatório\n",
    "    iaa.Sometimes(0.2, iaa.Affine(scale=(1 - zoom_range, 1 + zoom_range))),\n",
    "    # Sem probabilidade, sempre aplicada\n",
    "    iaa.Affine(shear=(-shear_range, shear_range)),\n",
    "], random_order=True)  # Aplica as augmentations em ordem aleatória\n"
   ]
  },
  {
   "cell_type": "code",
   "execution_count": 14,
   "metadata": {},
   "outputs": [],
   "source": [
    "from tensorflow.keras.utils import save_img"
   ]
  },
  {
   "cell_type": "code",
   "execution_count": 15,
   "metadata": {},
   "outputs": [],
   "source": [
    "def including_augmented_images(train_directory):\n",
    "    \n",
    "    for class_folder in os.listdir(train_directory):\n",
    "    \n",
    "        class_folder_path = os.path.join(train_directory, class_folder)\n",
    "        images = os.listdir(class_folder_path)\n",
    "    \n",
    "        fig, axs = plt.subplots(1, 3, figsize=(6, 2))\n",
    "    \n",
    "        for i, image_name in enumerate(images):\n",
    "            image_path = os.path.join(class_folder_path, image_name)\n",
    "    \n",
    "            img = load_img(image_path, target_size=target_size)\n",
    "            img_array = img_to_array(img)\n",
    "    \n",
    "            # Crie uma lista que contenha a mesma imagem original três vezes\n",
    "            image_list = [img_array, img_array, img_array]\n",
    "    \n",
    "            # Aplicar augmentations à lista de imagens\n",
    "            augmented_images = generating_augmented_images(images=image_list)\n",
    "    \n",
    "            k = 0\n",
    "            # Salvar as imagens aumentadas no mesmo diretório\n",
    "            for j, augmented_image in enumerate(augmented_images):\n",
    "    \n",
    "                image_name, image_extension = os.path.splitext(image_path)\n",
    "                new_image_path = f\"{image_name}aug_{j+1}_{total_images_generated}{image_extension}\"\n",
    "    \n",
    "                # Converta a imagem aumentada em um formato válido\n",
    "                augmented_image = np.uint8(augmented_image)\n",
    "                save_img(new_image_path, augmented_image)\n",
    "    \n",
    "                axs[k].imshow(augmented_image)\n",
    "                axs[k].axis('off')\n",
    "                k += 1\n",
    "    \n",
    "        plt.show()"
   ]
  },
  {
   "cell_type": "code",
   "execution_count": 16,
   "metadata": {},
   "outputs": [
    {
     "data": {
      "image/png": "[encoded data removed]",
      "text/plain": [
       "<Figure size 600x200 with 3 Axes>"
      ]
     },
     "metadata": {},
     "output_type": "display_data"
    },
    {
     "data": {
      "image/png": "[encoded data removed]",
      "text/plain": [
       "<Figure size 600x200 with 3 Axes>"
      ]
     },
     "metadata": {},
     "output_type": "display_data"
    },
    {
     "data": {
      "image/png": "[encoded data removed]",
      "text/plain": [
       "<Figure size 600x200 with 3 Axes>"
      ]
     },
     "metadata": {},
     "output_type": "display_data"
    },
    {
     "data": {
      "image/png": "[encoded data removed]",
      "text/plain": [
       "<Figure size 600x200 with 3 Axes>"
      ]
     },
     "metadata": {},
     "output_type": "display_data"
    }
   ],
   "source": [
    "total_images_generated = 3\n",
    "including_augmented_images(train_directory)"
   ]
  },
  {
   "cell_type": "markdown",
   "metadata": {},
   "source": [
    "### Defining this Dataset Model variables from train, validation and test folders"
   ]
  },
  {
   "cell_type": "code",
   "execution_count": 11,
   "metadata": {},
   "outputs": [
    {
     "name": "stdout",
     "output_type": "stream",
     "text": [
      "Found 16244 files belonging to 4 classes.\n",
      "Found 997 files belonging to 4 classes.\n",
      "Found 821 files belonging to 4 classes.\n"
     ]
    }
   ],
   "source": [
    "import tensorflow as tf\n",
    "\n",
    "batch_size = 3\n",
    "target_size = (28, 28)\n",
    "\n",
    "train_dataset = tf.keras.utils.image_dataset_from_directory(\n",
    "    train_directory,\n",
    "    labels='inferred',\n",
    "    image_size=(target_size),\n",
    "    batch_size=batch_size\n",
    ")\n",
    "\n",
    "# print(train_dataset)\n",
    "\n",
    "validation_dataset = tf.keras.utils.image_dataset_from_directory(\n",
    "    validation_directory,\n",
    "    labels='inferred',\n",
    "    image_size=(target_size),\n",
    "    batch_size=batch_size\n",
    ")\n",
    "\n",
    "# print(validation_dataset)\n",
    "\n",
    "test_dataset = tf.keras.utils.image_dataset_from_directory(\n",
    "    test_directory,\n",
    "    labels='inferred',\n",
    "    image_size=(target_size),\n",
    "    batch_size=batch_size\n",
    ")\n",
    "\n",
    "# print(test_dataset)"
   ]
  },
  {
   "cell_type": "markdown",
   "metadata": {
    "id": "9Zzbt5jzbcBa"
   },
   "source": [
    "### Creating Model"
   ]
  },
  {
   "cell_type": "code",
   "execution_count": 12,
   "metadata": {},
   "outputs": [],
   "source": [
    "from tensorflow.keras.models import Sequential\n",
    "from tensorflow.keras.layers import Conv2D, BatchNormalization, PReLU, MaxPooling2D, Flatten, Dense, Dropout"
   ]
  },
  {
   "cell_type": "code",
   "execution_count": 13,
   "metadata": {},
   "outputs": [],
   "source": [
    "model = tf.keras.Sequential([\n",
    "\n",
    "    BatchNormalization(input_shape=(28, 28, 3)),\n",
    "\n",
    "    Conv2D(filters=64, kernel_size=(3,3), padding='same', activation='relu'),\n",
    "    MaxPooling2D(pool_size=(2, 2), strides=2),\n",
    "    Dropout(0.1),\n",
    "\n",
    "    Conv2D(filters=64, kernel_size=(3,3), padding='same', activation='relu'),\n",
    "    MaxPooling2D(pool_size=(2, 2), strides=2),\n",
    "    Dropout(0.2),\n",
    "\n",
    "    Flatten(),\n",
    "\n",
    "    Dense(256, activation='relu'),\n",
    "    Dropout(0.5),\n",
    "\n",
    "    Dense(64, activation='relu'),\n",
    "    BatchNormalization(),\n",
    "\n",
    "    Dense(4, activation=\"softmax\")\n",
    "])"
   ]
  },
  {
   "cell_type": "code",
   "execution_count": 14,
   "metadata": {
    "id": "Y2VqzKvNGdRc"
   },
   "outputs": [],
   "source": [
    "model.build(input_shape=(None, 28, 28, 3))"
   ]
  },
  {
   "cell_type": "code",
   "execution_count": 15,
   "metadata": {
    "colab": {
     "base_uri": "https://localhost:8080/"
    },
    "id": "rwH_nfTXRYVW",
    "outputId": "c42784b1-e0bf-4cd6-a2e2-7d7194ee4073"
   },
   "outputs": [
    {
     "name": "stdout",
     "output_type": "stream",
     "text": [
      "Model: \"sequential\"\n",
      "_________________________________________________________________\n",
      " Layer (type)                Output Shape              Param #   \n",
      "=================================================================\n",
      " batch_normalization (BatchN  (None, 28, 28, 3)        12        \n",
      " ormalization)                                                   \n",
      "                                                                 \n",
      " conv2d (Conv2D)             (None, 28, 28, 64)        1792      \n",
      "                                                                 \n",
      " max_pooling2d (MaxPooling2D  (None, 14, 14, 64)       0         \n",
      " )                                                               \n",
      "                                                                 \n",
      " dropout (Dropout)           (None, 14, 14, 64)        0         \n",
      "                                                                 \n",
      " conv2d_1 (Conv2D)           (None, 14, 14, 64)        36928     \n",
      "                                                                 \n",
      " max_pooling2d_1 (MaxPooling  (None, 7, 7, 64)         0         \n",
      " 2D)                                                             \n",
      "                                                                 \n",
      " dropout_1 (Dropout)         (None, 7, 7, 64)          0         \n",
      "                                                                 \n",
      " flatten (Flatten)           (None, 3136)              0         \n",
      "                                                                 \n",
      " dense (Dense)               (None, 256)               803072    \n",
      "                                                                 \n",
      " dropout_2 (Dropout)         (None, 256)               0         \n",
      "                                                                 \n",
      " dense_1 (Dense)             (None, 64)                16448     \n",
      "                                                                 \n",
      " batch_normalization_1 (Batc  (None, 64)               256       \n",
      " hNormalization)                                                 \n",
      "                                                                 \n",
      " dense_2 (Dense)             (None, 4)                 260       \n",
      "                                                                 \n",
      "=================================================================\n",
      "Total params: 858,768\n",
      "Trainable params: 858,634\n",
      "Non-trainable params: 134\n",
      "_________________________________________________________________\n"
     ]
    }
   ],
   "source": [
    "model.summary()"
   ]
  },
  {
   "cell_type": "markdown",
   "metadata": {
    "id": "NSs9A3HV7n2O"
   },
   "source": [
    "### Compiling Model"
   ]
  },
  {
   "cell_type": "code",
   "execution_count": 16,
   "metadata": {
    "id": "CQWAvYng8TG5"
   },
   "outputs": [],
   "source": [
    "from tensorflow.keras.optimizers import Adam"
   ]
  },
  {
   "cell_type": "code",
   "execution_count": 17,
   "metadata": {
    "id": "_-uzp89Z9qQO"
   },
   "outputs": [],
   "source": [
    "adam = Adam(learning_rate=0.001)"
   ]
  },
  {
   "cell_type": "code",
   "execution_count": 18,
   "metadata": {
    "id": "82BHbJeJTkA-"
   },
   "outputs": [],
   "source": [
    "model.compile(optimizer=adam, loss='sparse_categorical_crossentropy', metrics=['accuracy'])"
   ]
  },
  {
   "cell_type": "markdown",
   "metadata": {
    "id": "NumMvSkB3uNG"
   },
   "source": [
    "### Defining Callback Methods"
   ]
  },
  {
   "cell_type": "code",
   "execution_count": 57,
   "metadata": {
    "id": "B2BSeTFq3kBa"
   },
   "outputs": [],
   "source": [
    "from tensorflow.keras.callbacks import ModelCheckpoint, EarlyStopping, TensorBoard"
   ]
  },
  {
   "cell_type": "markdown",
   "metadata": {
    "id": "i5K7iu5HTC3u"
   },
   "source": [
    "*   Checkpoint to save best model weights\n"
   ]
  },
  {
   "cell_type": "code",
   "execution_count": 58,
   "metadata": {
    "id": "9zXzkxnBGD7c"
   },
   "outputs": [],
   "source": [
    "checkpoint_path = 'D:\\\\.Dataset05032024 - TCC\\\\model_checkpoint2'\n",
    "checkpoint = ModelCheckpoint(checkpoint_path, monitor='val_accuracy', save_best_only=True, verbose=1)"
   ]
  },
  {
   "cell_type": "markdown",
   "metadata": {
    "id": "Gp7yZZ5zTHI5"
   },
   "source": [
    "*   Earlystop to stop the training process when the model stops improving\n",
    "\n"
   ]
  },
  {
   "cell_type": "code",
   "execution_count": 60,
   "metadata": {
    "id": "e4gKPsqb2tf5"
   },
   "outputs": [],
   "source": [
    "early_stopping = EarlyStopping(monitor='accuracy', patience=15)"
   ]
  },
  {
   "cell_type": "markdown",
   "metadata": {
    "id": "m5zsa8MWTHMG"
   },
   "source": [
    "*   TensorBoard to use logs for vizualize whats happening\n",
    "\n"
   ]
  },
  {
   "cell_type": "code",
   "execution_count": 61,
   "metadata": {},
   "outputs": [
    {
     "name": "stdout",
     "output_type": "stream",
     "text": [
      "2.9.0\n"
     ]
    }
   ],
   "source": [
    "import tensorboard \n",
    "\n",
    "print(tensorboard.version.VERSION)"
   ]
  },
  {
   "cell_type": "code",
   "execution_count": 40,
   "metadata": {},
   "outputs": [],
   "source": [
    "# log_dir = 'D:\\\\.Dataset05032024 - TCC\\\\logs2'\n",
    "\n",
    "# custom_summary_writer = CustomSummaryWriter(log_dir)\n",
    "# custom_summary_writer.set_model(model) "
   ]
  },
  {
   "cell_type": "code",
   "execution_count": 41,
   "metadata": {},
   "outputs": [],
   "source": [
    "\n",
    "# from tensorflow.keras.callbacks import TensorBoard\n",
    "\n",
    "# tensorboard_callback = TensorBoard(log_dir=log_dir, histogram_freq=1, write_graph=True, write_images=True)"
   ]
  },
  {
   "cell_type": "code",
   "execution_count": 62,
   "metadata": {},
   "outputs": [
    {
     "name": "stdout",
     "output_type": "stream",
     "text": [
      "The tensorboard extension is already loaded. To reload it, use:\n",
      "  %reload_ext tensorboard\n"
     ]
    }
   ],
   "source": [
    "# Load the TensorBoard notebook extension\n",
    "%load_ext tensorboard\n",
    "\n",
    "import tensorflow as tf\n",
    "import datetime\n",
    "\n",
    "# Clear any logs from previous runs\n",
    "# rm -rf ./logs/\n",
    "\n",
    "log_dir = \"D:\\\\.Dataset05032024 - TCC\\\\logs2\" \n",
    "# + datetime.datetime.now().strftime(\"%Y%m%d-%H%M%S\")\n",
    "tensorboard_callback = tf.keras.callbacks.TensorBoard(log_dir=log_dir, histogram_freq=1)\n"
   ]
  },
  {
   "cell_type": "markdown",
   "metadata": {
    "id": "4YUunUeWT7iw"
   },
   "source": [
    "### Starting training with defined callbacks"
   ]
  },
  {
   "cell_type": "code",
   "execution_count": 63,
   "metadata": {},
   "outputs": [
    {
     "name": "stdout",
     "output_type": "stream",
     "text": [
      "2.9.1\n"
     ]
    }
   ],
   "source": [
    "import tensorflow as tf\n",
    "print(tf.__version__)"
   ]
  },
  {
   "cell_type": "code",
   "execution_count": 64,
   "metadata": {
    "colab": {
     "base_uri": "https://localhost:8080/"
    },
    "id": "hLVzfz5LDDHC",
    "outputId": "98e2a621-09ff-47f5-cc65-e07771f9c266"
   },
   "outputs": [
    {
     "name": "stdout",
     "output_type": "stream",
     "text": [
      "Epoch 1/1000\n",
      "5411/5415 [============================>.] - ETA: 0s - loss: 0.8447 - accuracy: 0.6811\n",
      "Epoch 1: val_accuracy improved from -inf to 0.84754, saving model to D:\\.Dataset05032024 - TCC\\model_checkpoint2\n"
     ]
    },
    {
     "name": "stderr",
     "output_type": "stream",
     "text": [
      "WARNING:absl:Found untraced functions such as _jit_compiled_convolution_op, _jit_compiled_convolution_op while saving (showing 2 of 2). These functions will not be directly callable after loading.\n"
     ]
    },
    {
     "name": "stdout",
     "output_type": "stream",
     "text": [
      "INFO:tensorflow:Assets written to: D:\\.Dataset05032024 - TCC\\model_checkpoint2\\assets\n"
     ]
    },
    {
     "name": "stderr",
     "output_type": "stream",
     "text": [
      "INFO:tensorflow:Assets written to: D:\\.Dataset05032024 - TCC\\model_checkpoint2\\assets\n"
     ]
    },
    {
     "name": "stdout",
     "output_type": "stream",
     "text": [
      "5415/5415 [==============================] - 81s 15ms/step - loss: 0.8445 - accuracy: 0.6812 - val_loss: 0.4452 - val_accuracy: 0.8475\n",
      "Epoch 2/1000\n",
      "5413/5415 [============================>.] - ETA: 0s - loss: 0.8205 - accuracy: 0.6978\n",
      "Epoch 2: val_accuracy did not improve from 0.84754\n",
      "5415/5415 [==============================] - 74s 14ms/step - loss: 0.8206 - accuracy: 0.6978 - val_loss: 0.4373 - val_accuracy: 0.8395\n",
      "Epoch 3/1000\n",
      "5413/5415 [============================>.] - ETA: 0s - loss: 0.8199 - accuracy: 0.6992\n",
      "Epoch 3: val_accuracy improved from 0.84754 to 0.85256, saving model to D:\\.Dataset05032024 - TCC\\model_checkpoint2\n"
     ]
    },
    {
     "name": "stderr",
     "output_type": "stream",
     "text": [
      "WARNING:absl:Found untraced functions such as _jit_compiled_convolution_op, _jit_compiled_convolution_op while saving (showing 2 of 2). These functions will not be directly callable after loading.\n"
     ]
    },
    {
     "name": "stdout",
     "output_type": "stream",
     "text": [
      "INFO:tensorflow:Assets written to: D:\\.Dataset05032024 - TCC\\model_checkpoint2\\assets\n"
     ]
    },
    {
     "name": "stderr",
     "output_type": "stream",
     "text": [
      "INFO:tensorflow:Assets written to: D:\\.Dataset05032024 - TCC\\model_checkpoint2\\assets\n"
     ]
    },
    {
     "name": "stdout",
     "output_type": "stream",
     "text": [
      "5415/5415 [==============================] - 77s 14ms/step - loss: 0.8198 - accuracy: 0.6992 - val_loss: 0.4017 - val_accuracy: 0.8526\n",
      "Epoch 4/1000\n",
      "5412/5415 [============================>.] - ETA: 0s - loss: 0.7788 - accuracy: 0.7204\n",
      "Epoch 4: val_accuracy improved from 0.85256 to 0.86259, saving model to D:\\.Dataset05032024 - TCC\\model_checkpoint2\n"
     ]
    },
    {
     "name": "stderr",
     "output_type": "stream",
     "text": [
      "WARNING:absl:Found untraced functions such as _jit_compiled_convolution_op, _jit_compiled_convolution_op while saving (showing 2 of 2). These functions will not be directly callable after loading.\n"
     ]
    },
    {
     "name": "stdout",
     "output_type": "stream",
     "text": [
      "INFO:tensorflow:Assets written to: D:\\.Dataset05032024 - TCC\\model_checkpoint2\\assets\n"
     ]
    },
    {
     "name": "stderr",
     "output_type": "stream",
     "text": [
      "INFO:tensorflow:Assets written to: D:\\.Dataset05032024 - TCC\\model_checkpoint2\\assets\n"
     ]
    },
    {
     "name": "stdout",
     "output_type": "stream",
     "text": [
      "5415/5415 [==============================] - 77s 14ms/step - loss: 0.7789 - accuracy: 0.7204 - val_loss: 0.3919 - val_accuracy: 0.8626\n",
      "Epoch 5/1000\n",
      "5412/5415 [============================>.] - ETA: 0s - loss: 0.8004 - accuracy: 0.7124\n",
      "Epoch 5: val_accuracy improved from 0.86259 to 0.86660, saving model to D:\\.Dataset05032024 - TCC\\model_checkpoint2\n"
     ]
    },
    {
     "name": "stderr",
     "output_type": "stream",
     "text": [
      "WARNING:absl:Found untraced functions such as _jit_compiled_convolution_op, _jit_compiled_convolution_op while saving (showing 2 of 2). These functions will not be directly callable after loading.\n"
     ]
    },
    {
     "name": "stdout",
     "output_type": "stream",
     "text": [
      "INFO:tensorflow:Assets written to: D:\\.Dataset05032024 - TCC\\model_checkpoint2\\assets\n"
     ]
    },
    {
     "name": "stderr",
     "output_type": "stream",
     "text": [
      "INFO:tensorflow:Assets written to: D:\\.Dataset05032024 - TCC\\model_checkpoint2\\assets\n"
     ]
    },
    {
     "name": "stdout",
     "output_type": "stream",
     "text": [
      "5415/5415 [==============================] - 79s 15ms/step - loss: 0.8007 - accuracy: 0.7124 - val_loss: 0.3701 - val_accuracy: 0.8666\n",
      "Epoch 6/1000\n",
      "5413/5415 [============================>.] - ETA: 0s - loss: 0.7506 - accuracy: 0.7365\n",
      "Epoch 6: val_accuracy did not improve from 0.86660\n",
      "5415/5415 [==============================] - 73s 13ms/step - loss: 0.7506 - accuracy: 0.7365 - val_loss: 0.5040 - val_accuracy: 0.8114\n",
      "Epoch 7/1000\n",
      "5415/5415 [==============================] - ETA: 0s - loss: 0.7770 - accuracy: 0.7254\n",
      "Epoch 7: val_accuracy improved from 0.86660 to 0.87763, saving model to D:\\.Dataset05032024 - TCC\\model_checkpoint2\n"
     ]
    },
    {
     "name": "stderr",
     "output_type": "stream",
     "text": [
      "WARNING:absl:Found untraced functions such as _jit_compiled_convolution_op, _jit_compiled_convolution_op while saving (showing 2 of 2). These functions will not be directly callable after loading.\n"
     ]
    },
    {
     "name": "stdout",
     "output_type": "stream",
     "text": [
      "INFO:tensorflow:Assets written to: D:\\.Dataset05032024 - TCC\\model_checkpoint2\\assets\n"
     ]
    },
    {
     "name": "stderr",
     "output_type": "stream",
     "text": [
      "INFO:tensorflow:Assets written to: D:\\.Dataset05032024 - TCC\\model_checkpoint2\\assets\n"
     ]
    },
    {
     "name": "stdout",
     "output_type": "stream",
     "text": [
      "5415/5415 [==============================] - 77s 14ms/step - loss: 0.7770 - accuracy: 0.7254 - val_loss: 0.3545 - val_accuracy: 0.8776\n",
      "Epoch 8/1000\n",
      "5414/5415 [============================>.] - ETA: 0s - loss: 0.7318 - accuracy: 0.7474\n",
      "Epoch 8: val_accuracy improved from 0.87763 to 0.89067, saving model to D:\\.Dataset05032024 - TCC\\model_checkpoint2\n"
     ]
    },
    {
     "name": "stderr",
     "output_type": "stream",
     "text": [
      "WARNING:absl:Found untraced functions such as _jit_compiled_convolution_op, _jit_compiled_convolution_op while saving (showing 2 of 2). These functions will not be directly callable after loading.\n"
     ]
    },
    {
     "name": "stdout",
     "output_type": "stream",
     "text": [
      "INFO:tensorflow:Assets written to: D:\\.Dataset05032024 - TCC\\model_checkpoint2\\assets\n"
     ]
    },
    {
     "name": "stderr",
     "output_type": "stream",
     "text": [
      "INFO:tensorflow:Assets written to: D:\\.Dataset05032024 - TCC\\model_checkpoint2\\assets\n"
     ]
    },
    {
     "name": "stdout",
     "output_type": "stream",
     "text": [
      "5415/5415 [==============================] - 76s 14ms/step - loss: 0.7318 - accuracy: 0.7474 - val_loss: 0.3501 - val_accuracy: 0.8907\n",
      "Epoch 9/1000\n",
      "5411/5415 [============================>.] - ETA: 0s - loss: 0.7168 - accuracy: 0.7502\n",
      "Epoch 9: val_accuracy did not improve from 0.89067\n",
      "5415/5415 [==============================] - 74s 14ms/step - loss: 0.7167 - accuracy: 0.7502 - val_loss: 0.3762 - val_accuracy: 0.8706\n",
      "Epoch 10/1000\n",
      "5412/5415 [============================>.] - ETA: 0s - loss: 0.7306 - accuracy: 0.7400\n",
      "Epoch 10: val_accuracy improved from 0.89067 to 0.89669, saving model to D:\\.Dataset05032024 - TCC\\model_checkpoint2\n"
     ]
    },
    {
     "name": "stderr",
     "output_type": "stream",
     "text": [
      "WARNING:absl:Found untraced functions such as _jit_compiled_convolution_op, _jit_compiled_convolution_op while saving (showing 2 of 2). These functions will not be directly callable after loading.\n"
     ]
    },
    {
     "name": "stdout",
     "output_type": "stream",
     "text": [
      "INFO:tensorflow:Assets written to: D:\\.Dataset05032024 - TCC\\model_checkpoint2\\assets\n"
     ]
    },
    {
     "name": "stderr",
     "output_type": "stream",
     "text": [
      "INFO:tensorflow:Assets written to: D:\\.Dataset05032024 - TCC\\model_checkpoint2\\assets\n"
     ]
    },
    {
     "name": "stdout",
     "output_type": "stream",
     "text": [
      "5415/5415 [==============================] - 78s 14ms/step - loss: 0.7305 - accuracy: 0.7400 - val_loss: 0.3078 - val_accuracy: 0.8967\n",
      "Epoch 11/1000\n",
      "5411/5415 [============================>.] - ETA: 0s - loss: 0.7160 - accuracy: 0.7554\n",
      "Epoch 11: val_accuracy did not improve from 0.89669\n",
      "5415/5415 [==============================] - 72s 13ms/step - loss: 0.7161 - accuracy: 0.7552 - val_loss: 0.3487 - val_accuracy: 0.8837\n",
      "Epoch 12/1000\n",
      "5413/5415 [============================>.] - ETA: 0s - loss: 0.6981 - accuracy: 0.7555\n",
      "Epoch 12: val_accuracy did not improve from 0.89669\n",
      "5415/5415 [==============================] - 73s 14ms/step - loss: 0.6980 - accuracy: 0.7555 - val_loss: 0.3276 - val_accuracy: 0.8917\n",
      "Epoch 13/1000\n",
      "5412/5415 [============================>.] - ETA: 0s - loss: 0.6905 - accuracy: 0.7637\n",
      "Epoch 13: val_accuracy improved from 0.89669 to 0.89870, saving model to D:\\.Dataset05032024 - TCC\\model_checkpoint2\n"
     ]
    },
    {
     "name": "stderr",
     "output_type": "stream",
     "text": [
      "WARNING:absl:Found untraced functions such as _jit_compiled_convolution_op, _jit_compiled_convolution_op while saving (showing 2 of 2). These functions will not be directly callable after loading.\n"
     ]
    },
    {
     "name": "stdout",
     "output_type": "stream",
     "text": [
      "INFO:tensorflow:Assets written to: D:\\.Dataset05032024 - TCC\\model_checkpoint2\\assets\n"
     ]
    },
    {
     "name": "stderr",
     "output_type": "stream",
     "text": [
      "INFO:tensorflow:Assets written to: D:\\.Dataset05032024 - TCC\\model_checkpoint2\\assets\n"
     ]
    },
    {
     "name": "stdout",
     "output_type": "stream",
     "text": [
      "5415/5415 [==============================] - 78s 14ms/step - loss: 0.6903 - accuracy: 0.7638 - val_loss: 0.3070 - val_accuracy: 0.8987\n",
      "Epoch 14/1000\n",
      "5412/5415 [============================>.] - ETA: 0s - loss: 0.7372 - accuracy: 0.7416\n",
      "Epoch 14: val_accuracy did not improve from 0.89870\n",
      "5415/5415 [==============================] - 73s 14ms/step - loss: 0.7373 - accuracy: 0.7416 - val_loss: 0.3670 - val_accuracy: 0.8766\n",
      "Epoch 15/1000\n",
      "5412/5415 [============================>.] - ETA: 0s - loss: 0.7134 - accuracy: 0.7578\n",
      "Epoch 15: val_accuracy did not improve from 0.89870\n",
      "5415/5415 [==============================] - 73s 13ms/step - loss: 0.7132 - accuracy: 0.7579 - val_loss: 0.3488 - val_accuracy: 0.8917\n",
      "Epoch 16/1000\n",
      "5415/5415 [==============================] - ETA: 0s - loss: 0.6859 - accuracy: 0.7715\n",
      "Epoch 16: val_accuracy did not improve from 0.89870\n",
      "5415/5415 [==============================] - 72s 13ms/step - loss: 0.6859 - accuracy: 0.7715 - val_loss: 0.2979 - val_accuracy: 0.8987\n",
      "Epoch 17/1000\n",
      "5415/5415 [==============================] - ETA: 0s - loss: 0.7176 - accuracy: 0.7536\n",
      "Epoch 17: val_accuracy did not improve from 0.89870\n",
      "5415/5415 [==============================] - 73s 14ms/step - loss: 0.7176 - accuracy: 0.7536 - val_loss: 0.4474 - val_accuracy: 0.8756\n",
      "Epoch 18/1000\n",
      "5414/5415 [============================>.] - ETA: 0s - loss: 0.7103 - accuracy: 0.7530\n",
      "Epoch 18: val_accuracy improved from 0.89870 to 0.90371, saving model to D:\\.Dataset05032024 - TCC\\model_checkpoint2\n"
     ]
    },
    {
     "name": "stderr",
     "output_type": "stream",
     "text": [
      "WARNING:absl:Found untraced functions such as _jit_compiled_convolution_op, _jit_compiled_convolution_op while saving (showing 2 of 2). These functions will not be directly callable after loading.\n"
     ]
    },
    {
     "name": "stdout",
     "output_type": "stream",
     "text": [
      "INFO:tensorflow:Assets written to: D:\\.Dataset05032024 - TCC\\model_checkpoint2\\assets\n"
     ]
    },
    {
     "name": "stderr",
     "output_type": "stream",
     "text": [
      "INFO:tensorflow:Assets written to: D:\\.Dataset05032024 - TCC\\model_checkpoint2\\assets\n"
     ]
    },
    {
     "name": "stdout",
     "output_type": "stream",
     "text": [
      "5415/5415 [==============================] - 78s 14ms/step - loss: 0.7104 - accuracy: 0.7530 - val_loss: 0.3021 - val_accuracy: 0.9037\n",
      "Epoch 19/1000\n",
      "5411/5415 [============================>.] - ETA: 0s - loss: 0.6578 - accuracy: 0.7785\n",
      "Epoch 19: val_accuracy did not improve from 0.90371\n",
      "5415/5415 [==============================] - 73s 14ms/step - loss: 0.6575 - accuracy: 0.7786 - val_loss: 0.3008 - val_accuracy: 0.9037\n",
      "Epoch 20/1000\n",
      "5414/5415 [============================>.] - ETA: 0s - loss: 0.6382 - accuracy: 0.7901\n",
      "Epoch 20: val_accuracy improved from 0.90371 to 0.91474, saving model to D:\\.Dataset05032024 - TCC\\model_checkpoint2\n"
     ]
    },
    {
     "name": "stderr",
     "output_type": "stream",
     "text": [
      "WARNING:absl:Found untraced functions such as _jit_compiled_convolution_op, _jit_compiled_convolution_op while saving (showing 2 of 2). These functions will not be directly callable after loading.\n"
     ]
    },
    {
     "name": "stdout",
     "output_type": "stream",
     "text": [
      "INFO:tensorflow:Assets written to: D:\\.Dataset05032024 - TCC\\model_checkpoint2\\assets\n"
     ]
    },
    {
     "name": "stderr",
     "output_type": "stream",
     "text": [
      "INFO:tensorflow:Assets written to: D:\\.Dataset05032024 - TCC\\model_checkpoint2\\assets\n"
     ]
    },
    {
     "name": "stdout",
     "output_type": "stream",
     "text": [
      "5415/5415 [==============================] - 77s 14ms/step - loss: 0.6383 - accuracy: 0.7901 - val_loss: 0.2733 - val_accuracy: 0.9147\n",
      "Epoch 21/1000\n",
      "5414/5415 [============================>.] - ETA: 0s - loss: 0.6180 - accuracy: 0.7956\n",
      "Epoch 21: val_accuracy improved from 0.91474 to 0.91675, saving model to D:\\.Dataset05032024 - TCC\\model_checkpoint2\n"
     ]
    },
    {
     "name": "stderr",
     "output_type": "stream",
     "text": [
      "WARNING:absl:Found untraced functions such as _jit_compiled_convolution_op, _jit_compiled_convolution_op while saving (showing 2 of 2). These functions will not be directly callable after loading.\n"
     ]
    },
    {
     "name": "stdout",
     "output_type": "stream",
     "text": [
      "INFO:tensorflow:Assets written to: D:\\.Dataset05032024 - TCC\\model_checkpoint2\\assets\n"
     ]
    },
    {
     "name": "stderr",
     "output_type": "stream",
     "text": [
      "INFO:tensorflow:Assets written to: D:\\.Dataset05032024 - TCC\\model_checkpoint2\\assets\n"
     ]
    },
    {
     "name": "stdout",
     "output_type": "stream",
     "text": [
      "5415/5415 [==============================] - 77s 14ms/step - loss: 0.6179 - accuracy: 0.7956 - val_loss: 0.2583 - val_accuracy: 0.9168\n",
      "Epoch 22/1000\n",
      "5411/5415 [============================>.] - ETA: 0s - loss: 0.6130 - accuracy: 0.8016\n",
      "Epoch 22: val_accuracy did not improve from 0.91675\n",
      "5415/5415 [==============================] - 72s 13ms/step - loss: 0.6129 - accuracy: 0.8016 - val_loss: 0.2858 - val_accuracy: 0.9037\n",
      "Epoch 23/1000\n",
      "5411/5415 [============================>.] - ETA: 0s - loss: 0.6235 - accuracy: 0.7939\n",
      "Epoch 23: val_accuracy did not improve from 0.91675\n",
      "5415/5415 [==============================] - 72s 13ms/step - loss: 0.6234 - accuracy: 0.7940 - val_loss: 0.2857 - val_accuracy: 0.9127\n",
      "Epoch 24/1000\n",
      "5414/5415 [============================>.] - ETA: 0s - loss: 0.6288 - accuracy: 0.7915\n",
      "Epoch 24: val_accuracy did not improve from 0.91675\n",
      "5415/5415 [==============================] - 72s 13ms/step - loss: 0.6290 - accuracy: 0.7914 - val_loss: 0.2785 - val_accuracy: 0.9027\n",
      "Epoch 25/1000\n",
      "5415/5415 [==============================] - ETA: 0s - loss: 0.6431 - accuracy: 0.7860\n",
      "Epoch 25: val_accuracy did not improve from 0.91675\n",
      "5415/5415 [==============================] - 73s 13ms/step - loss: 0.6431 - accuracy: 0.7860 - val_loss: 0.2861 - val_accuracy: 0.9117\n",
      "Epoch 26/1000\n",
      "5415/5415 [==============================] - ETA: 0s - loss: 0.6134 - accuracy: 0.7972\n",
      "Epoch 26: val_accuracy did not improve from 0.91675\n",
      "5415/5415 [==============================] - 74s 14ms/step - loss: 0.6134 - accuracy: 0.7972 - val_loss: 0.2739 - val_accuracy: 0.9077\n",
      "Epoch 27/1000\n",
      "5415/5415 [==============================] - ETA: 0s - loss: 0.6281 - accuracy: 0.7936\n",
      "Epoch 27: val_accuracy did not improve from 0.91675\n",
      "5415/5415 [==============================] - 73s 14ms/step - loss: 0.6281 - accuracy: 0.7936 - val_loss: 0.3186 - val_accuracy: 0.8977\n",
      "Epoch 28/1000\n",
      "5413/5415 [============================>.] - ETA: 0s - loss: 0.6198 - accuracy: 0.8007\n",
      "Epoch 28: val_accuracy did not improve from 0.91675\n",
      "5415/5415 [==============================] - 74s 14ms/step - loss: 0.6199 - accuracy: 0.8007 - val_loss: 0.2612 - val_accuracy: 0.9157\n",
      "Epoch 29/1000\n",
      "5412/5415 [============================>.] - ETA: 0s - loss: 0.5873 - accuracy: 0.8073\n",
      "Epoch 29: val_accuracy did not improve from 0.91675\n",
      "5415/5415 [==============================] - 74s 14ms/step - loss: 0.5872 - accuracy: 0.8074 - val_loss: 0.2850 - val_accuracy: 0.9157\n",
      "Epoch 30/1000\n",
      "5412/5415 [============================>.] - ETA: 0s - loss: 0.6153 - accuracy: 0.7975\n",
      "Epoch 30: val_accuracy did not improve from 0.91675\n",
      "5415/5415 [==============================] - 73s 14ms/step - loss: 0.6152 - accuracy: 0.7976 - val_loss: 0.2734 - val_accuracy: 0.9127\n",
      "Epoch 31/1000\n",
      "5412/5415 [============================>.] - ETA: 0s - loss: 0.6045 - accuracy: 0.8012\n",
      "Epoch 31: val_accuracy improved from 0.91675 to 0.92177, saving model to D:\\.Dataset05032024 - TCC\\model_checkpoint2\n"
     ]
    },
    {
     "name": "stderr",
     "output_type": "stream",
     "text": [
      "WARNING:absl:Found untraced functions such as _jit_compiled_convolution_op, _jit_compiled_convolution_op while saving (showing 2 of 2). These functions will not be directly callable after loading.\n"
     ]
    },
    {
     "name": "stdout",
     "output_type": "stream",
     "text": [
      "INFO:tensorflow:Assets written to: D:\\.Dataset05032024 - TCC\\model_checkpoint2\\assets\n"
     ]
    },
    {
     "name": "stderr",
     "output_type": "stream",
     "text": [
      "INFO:tensorflow:Assets written to: D:\\.Dataset05032024 - TCC\\model_checkpoint2\\assets\n"
     ]
    },
    {
     "name": "stdout",
     "output_type": "stream",
     "text": [
      "5415/5415 [==============================] - 77s 14ms/step - loss: 0.6045 - accuracy: 0.8012 - val_loss: 0.2546 - val_accuracy: 0.9218\n",
      "Epoch 32/1000\n",
      "5415/5415 [==============================] - ETA: 0s - loss: 0.6057 - accuracy: 0.8019\n",
      "Epoch 32: val_accuracy did not improve from 0.92177\n",
      "5415/5415 [==============================] - 73s 13ms/step - loss: 0.6057 - accuracy: 0.8019 - val_loss: 0.3109 - val_accuracy: 0.8977\n",
      "Epoch 33/1000\n",
      "5413/5415 [============================>.] - ETA: 0s - loss: 0.6158 - accuracy: 0.7966\n",
      "Epoch 33: val_accuracy did not improve from 0.92177\n",
      "5415/5415 [==============================] - 71s 13ms/step - loss: 0.6157 - accuracy: 0.7966 - val_loss: 0.2575 - val_accuracy: 0.9218\n",
      "Epoch 34/1000\n",
      "5411/5415 [============================>.] - ETA: 0s - loss: 0.6350 - accuracy: 0.7914\n",
      "Epoch 34: val_accuracy improved from 0.92177 to 0.92377, saving model to D:\\.Dataset05032024 - TCC\\model_checkpoint2\n"
     ]
    },
    {
     "name": "stderr",
     "output_type": "stream",
     "text": [
      "WARNING:absl:Found untraced functions such as _jit_compiled_convolution_op, _jit_compiled_convolution_op while saving (showing 2 of 2). These functions will not be directly callable after loading.\n"
     ]
    },
    {
     "name": "stdout",
     "output_type": "stream",
     "text": [
      "INFO:tensorflow:Assets written to: D:\\.Dataset05032024 - TCC\\model_checkpoint2\\assets\n"
     ]
    },
    {
     "name": "stderr",
     "output_type": "stream",
     "text": [
      "INFO:tensorflow:Assets written to: D:\\.Dataset05032024 - TCC\\model_checkpoint2\\assets\n"
     ]
    },
    {
     "name": "stdout",
     "output_type": "stream",
     "text": [
      "5415/5415 [==============================] - 79s 15ms/step - loss: 0.6347 - accuracy: 0.7915 - val_loss: 0.2524 - val_accuracy: 0.9238\n",
      "Epoch 35/1000\n",
      "5415/5415 [==============================] - ETA: 0s - loss: 0.5770 - accuracy: 0.8157\n",
      "Epoch 35: val_accuracy improved from 0.92377 to 0.92578, saving model to D:\\.Dataset05032024 - TCC\\model_checkpoint2\n"
     ]
    },
    {
     "name": "stderr",
     "output_type": "stream",
     "text": [
      "WARNING:absl:Found untraced functions such as _jit_compiled_convolution_op, _jit_compiled_convolution_op while saving (showing 2 of 2). These functions will not be directly callable after loading.\n"
     ]
    },
    {
     "name": "stdout",
     "output_type": "stream",
     "text": [
      "INFO:tensorflow:Assets written to: D:\\.Dataset05032024 - TCC\\model_checkpoint2\\assets\n"
     ]
    },
    {
     "name": "stderr",
     "output_type": "stream",
     "text": [
      "INFO:tensorflow:Assets written to: D:\\.Dataset05032024 - TCC\\model_checkpoint2\\assets\n"
     ]
    },
    {
     "name": "stdout",
     "output_type": "stream",
     "text": [
      "5415/5415 [==============================] - 78s 14ms/step - loss: 0.5770 - accuracy: 0.8157 - val_loss: 0.2580 - val_accuracy: 0.9258\n",
      "Epoch 36/1000\n",
      "5411/5415 [============================>.] - ETA: 0s - loss: 0.5664 - accuracy: 0.8204\n",
      "Epoch 36: val_accuracy improved from 0.92578 to 0.92979, saving model to D:\\.Dataset05032024 - TCC\\model_checkpoint2\n"
     ]
    },
    {
     "name": "stderr",
     "output_type": "stream",
     "text": [
      "WARNING:absl:Found untraced functions such as _jit_compiled_convolution_op, _jit_compiled_convolution_op while saving (showing 2 of 2). These functions will not be directly callable after loading.\n"
     ]
    },
    {
     "name": "stdout",
     "output_type": "stream",
     "text": [
      "INFO:tensorflow:Assets written to: D:\\.Dataset05032024 - TCC\\model_checkpoint2\\assets\n"
     ]
    },
    {
     "name": "stderr",
     "output_type": "stream",
     "text": [
      "INFO:tensorflow:Assets written to: D:\\.Dataset05032024 - TCC\\model_checkpoint2\\assets\n"
     ]
    },
    {
     "name": "stdout",
     "output_type": "stream",
     "text": [
      "5415/5415 [==============================] - 77s 14ms/step - loss: 0.5666 - accuracy: 0.8204 - val_loss: 0.2411 - val_accuracy: 0.9298\n",
      "Epoch 37/1000\n",
      "5412/5415 [============================>.] - ETA: 0s - loss: 0.5751 - accuracy: 0.8183\n",
      "Epoch 37: val_accuracy improved from 0.92979 to 0.93079, saving model to D:\\.Dataset05032024 - TCC\\model_checkpoint2\n"
     ]
    },
    {
     "name": "stderr",
     "output_type": "stream",
     "text": [
      "WARNING:absl:Found untraced functions such as _jit_compiled_convolution_op, _jit_compiled_convolution_op while saving (showing 2 of 2). These functions will not be directly callable after loading.\n"
     ]
    },
    {
     "name": "stdout",
     "output_type": "stream",
     "text": [
      "INFO:tensorflow:Assets written to: D:\\.Dataset05032024 - TCC\\model_checkpoint2\\assets\n"
     ]
    },
    {
     "name": "stderr",
     "output_type": "stream",
     "text": [
      "INFO:tensorflow:Assets written to: D:\\.Dataset05032024 - TCC\\model_checkpoint2\\assets\n"
     ]
    },
    {
     "name": "stdout",
     "output_type": "stream",
     "text": [
      "5415/5415 [==============================] - 77s 14ms/step - loss: 0.5752 - accuracy: 0.8182 - val_loss: 0.2350 - val_accuracy: 0.9308\n",
      "Epoch 38/1000\n",
      "5414/5415 [============================>.] - ETA: 0s - loss: 0.5689 - accuracy: 0.8200\n",
      "Epoch 38: val_accuracy did not improve from 0.93079\n",
      "5415/5415 [==============================] - 73s 14ms/step - loss: 0.5689 - accuracy: 0.8200 - val_loss: 0.2457 - val_accuracy: 0.9258\n",
      "Epoch 39/1000\n",
      "5415/5415 [==============================] - ETA: 0s - loss: 0.5598 - accuracy: 0.8255\n",
      "Epoch 39: val_accuracy improved from 0.93079 to 0.93180, saving model to D:\\.Dataset05032024 - TCC\\model_checkpoint2\n"
     ]
    },
    {
     "name": "stderr",
     "output_type": "stream",
     "text": [
      "WARNING:absl:Found untraced functions such as _jit_compiled_convolution_op, _jit_compiled_convolution_op while saving (showing 2 of 2). These functions will not be directly callable after loading.\n"
     ]
    },
    {
     "name": "stdout",
     "output_type": "stream",
     "text": [
      "INFO:tensorflow:Assets written to: D:\\.Dataset05032024 - TCC\\model_checkpoint2\\assets\n"
     ]
    },
    {
     "name": "stderr",
     "output_type": "stream",
     "text": [
      "INFO:tensorflow:Assets written to: D:\\.Dataset05032024 - TCC\\model_checkpoint2\\assets\n"
     ]
    },
    {
     "name": "stdout",
     "output_type": "stream",
     "text": [
      "5415/5415 [==============================] - 75s 14ms/step - loss: 0.5598 - accuracy: 0.8255 - val_loss: 0.2320 - val_accuracy: 0.9318\n",
      "Epoch 40/1000\n",
      "5415/5415 [==============================] - ETA: 0s - loss: 0.5837 - accuracy: 0.8170\n",
      "Epoch 40: val_accuracy did not improve from 0.93180\n",
      "5415/5415 [==============================] - 71s 13ms/step - loss: 0.5837 - accuracy: 0.8170 - val_loss: 0.2330 - val_accuracy: 0.9238\n",
      "Epoch 41/1000\n",
      "5413/5415 [============================>.] - ETA: 0s - loss: 0.5692 - accuracy: 0.8219\n",
      "Epoch 41: val_accuracy did not improve from 0.93180\n",
      "5415/5415 [==============================] - 73s 14ms/step - loss: 0.5694 - accuracy: 0.8218 - val_loss: 0.2657 - val_accuracy: 0.9218\n",
      "Epoch 42/1000\n",
      "5413/5415 [============================>.] - ETA: 0s - loss: 0.6267 - accuracy: 0.7954\n",
      "Epoch 42: val_accuracy improved from 0.93180 to 0.93480, saving model to D:\\.Dataset05032024 - TCC\\model_checkpoint2\n"
     ]
    },
    {
     "name": "stderr",
     "output_type": "stream",
     "text": [
      "WARNING:absl:Found untraced functions such as _jit_compiled_convolution_op, _jit_compiled_convolution_op while saving (showing 2 of 2). These functions will not be directly callable after loading.\n"
     ]
    },
    {
     "name": "stdout",
     "output_type": "stream",
     "text": [
      "INFO:tensorflow:Assets written to: D:\\.Dataset05032024 - TCC\\model_checkpoint2\\assets\n"
     ]
    },
    {
     "name": "stderr",
     "output_type": "stream",
     "text": [
      "INFO:tensorflow:Assets written to: D:\\.Dataset05032024 - TCC\\model_checkpoint2\\assets\n"
     ]
    },
    {
     "name": "stdout",
     "output_type": "stream",
     "text": [
      "5415/5415 [==============================] - 77s 14ms/step - loss: 0.6266 - accuracy: 0.7954 - val_loss: 0.2397 - val_accuracy: 0.9348\n",
      "Epoch 43/1000\n",
      "5410/5415 [============================>.] - ETA: 0s - loss: 0.5560 - accuracy: 0.8278\n",
      "Epoch 43: val_accuracy improved from 0.93480 to 0.94483, saving model to D:\\.Dataset05032024 - TCC\\model_checkpoint2\n"
     ]
    },
    {
     "name": "stderr",
     "output_type": "stream",
     "text": [
      "WARNING:absl:Found untraced functions such as _jit_compiled_convolution_op, _jit_compiled_convolution_op while saving (showing 2 of 2). These functions will not be directly callable after loading.\n"
     ]
    },
    {
     "name": "stdout",
     "output_type": "stream",
     "text": [
      "INFO:tensorflow:Assets written to: D:\\.Dataset05032024 - TCC\\model_checkpoint2\\assets\n"
     ]
    },
    {
     "name": "stderr",
     "output_type": "stream",
     "text": [
      "INFO:tensorflow:Assets written to: D:\\.Dataset05032024 - TCC\\model_checkpoint2\\assets\n"
     ]
    },
    {
     "name": "stdout",
     "output_type": "stream",
     "text": [
      "5415/5415 [==============================] - 77s 14ms/step - loss: 0.5560 - accuracy: 0.8279 - val_loss: 0.2337 - val_accuracy: 0.9448\n",
      "Epoch 44/1000\n",
      "5410/5415 [============================>.] - ETA: 0s - loss: 0.5588 - accuracy: 0.8241\n",
      "Epoch 44: val_accuracy did not improve from 0.94483\n",
      "5415/5415 [==============================] - 72s 13ms/step - loss: 0.5586 - accuracy: 0.8242 - val_loss: 0.2368 - val_accuracy: 0.9408\n",
      "Epoch 45/1000\n",
      "5414/5415 [============================>.] - ETA: 0s - loss: 0.5291 - accuracy: 0.8350\n",
      "Epoch 45: val_accuracy did not improve from 0.94483\n",
      "5415/5415 [==============================] - 73s 13ms/step - loss: 0.5291 - accuracy: 0.8350 - val_loss: 0.2485 - val_accuracy: 0.9328\n",
      "Epoch 46/1000\n",
      "5415/5415 [==============================] - ETA: 0s - loss: 0.5245 - accuracy: 0.8368\n",
      "Epoch 46: val_accuracy did not improve from 0.94483\n",
      "5415/5415 [==============================] - 76s 14ms/step - loss: 0.5245 - accuracy: 0.8368 - val_loss: 0.2104 - val_accuracy: 0.9438\n",
      "Epoch 47/1000\n",
      "5413/5415 [============================>.] - ETA: 0s - loss: 0.5385 - accuracy: 0.8318\n",
      "Epoch 47: val_accuracy did not improve from 0.94483\n",
      "5415/5415 [==============================] - 74s 14ms/step - loss: 0.5386 - accuracy: 0.8318 - val_loss: 0.2644 - val_accuracy: 0.9238\n",
      "Epoch 48/1000\n",
      "5414/5415 [============================>.] - ETA: 0s - loss: 0.5303 - accuracy: 0.8370\n",
      "Epoch 48: val_accuracy did not improve from 0.94483\n",
      "5415/5415 [==============================] - 75s 14ms/step - loss: 0.5303 - accuracy: 0.8370 - val_loss: 0.2313 - val_accuracy: 0.9368\n",
      "Epoch 49/1000\n",
      "5412/5415 [============================>.] - ETA: 0s - loss: 0.5495 - accuracy: 0.8246\n",
      "Epoch 49: val_accuracy did not improve from 0.94483\n",
      "5415/5415 [==============================] - 74s 14ms/step - loss: 0.5496 - accuracy: 0.8246 - val_loss: 0.2339 - val_accuracy: 0.9328\n",
      "Epoch 50/1000\n",
      "5415/5415 [==============================] - ETA: 0s - loss: 0.5335 - accuracy: 0.8331\n",
      "Epoch 50: val_accuracy did not improve from 0.94483\n",
      "5415/5415 [==============================] - 75s 14ms/step - loss: 0.5335 - accuracy: 0.8331 - val_loss: 0.2596 - val_accuracy: 0.9228\n",
      "Epoch 51/1000\n",
      "5414/5415 [============================>.] - ETA: 0s - loss: 0.5425 - accuracy: 0.8287\n",
      "Epoch 51: val_accuracy did not improve from 0.94483\n",
      "5415/5415 [==============================] - 75s 14ms/step - loss: 0.5424 - accuracy: 0.8287 - val_loss: 0.2504 - val_accuracy: 0.9318\n",
      "Epoch 52/1000\n",
      "5415/5415 [==============================] - ETA: 0s - loss: 0.5185 - accuracy: 0.8380\n",
      "Epoch 52: val_accuracy did not improve from 0.94483\n",
      "5415/5415 [==============================] - 75s 14ms/step - loss: 0.5185 - accuracy: 0.8380 - val_loss: 0.3454 - val_accuracy: 0.8867\n",
      "Epoch 53/1000\n",
      "5415/5415 [==============================] - ETA: 0s - loss: 0.5116 - accuracy: 0.8441\n",
      "Epoch 53: val_accuracy did not improve from 0.94483\n",
      "5415/5415 [==============================] - 75s 14ms/step - loss: 0.5116 - accuracy: 0.8441 - val_loss: 0.2439 - val_accuracy: 0.9338\n",
      "Epoch 54/1000\n",
      "5415/5415 [==============================] - ETA: 0s - loss: 0.5036 - accuracy: 0.8474\n",
      "Epoch 54: val_accuracy did not improve from 0.94483\n",
      "5415/5415 [==============================] - 77s 14ms/step - loss: 0.5036 - accuracy: 0.8474 - val_loss: 0.2212 - val_accuracy: 0.9358\n",
      "Epoch 55/1000\n",
      "5414/5415 [============================>.] - ETA: 0s - loss: 0.5008 - accuracy: 0.8471\n",
      "Epoch 55: val_accuracy did not improve from 0.94483\n",
      "5415/5415 [==============================] - 76s 14ms/step - loss: 0.5008 - accuracy: 0.8471 - val_loss: 0.2358 - val_accuracy: 0.9358\n",
      "Epoch 56/1000\n",
      "5413/5415 [============================>.] - ETA: 0s - loss: 0.4954 - accuracy: 0.8483\n",
      "Epoch 56: val_accuracy did not improve from 0.94483\n",
      "5415/5415 [==============================] - 76s 14ms/step - loss: 0.4955 - accuracy: 0.8481 - val_loss: 0.2298 - val_accuracy: 0.9428\n",
      "Epoch 57/1000\n",
      "5413/5415 [============================>.] - ETA: 0s - loss: 0.5022 - accuracy: 0.8452\n",
      "Epoch 57: val_accuracy did not improve from 0.94483\n",
      "5415/5415 [==============================] - 77s 14ms/step - loss: 0.5020 - accuracy: 0.8452 - val_loss: 0.2184 - val_accuracy: 0.9398\n",
      "Epoch 58/1000\n",
      "5411/5415 [============================>.] - ETA: 0s - loss: 0.5231 - accuracy: 0.8355\n",
      "Epoch 58: val_accuracy did not improve from 0.94483\n",
      "5415/5415 [==============================] - 76s 14ms/step - loss: 0.5231 - accuracy: 0.8356 - val_loss: 0.2113 - val_accuracy: 0.9408\n",
      "Epoch 59/1000\n",
      "5411/5415 [============================>.] - ETA: 0s - loss: 0.5204 - accuracy: 0.8375\n",
      "Epoch 59: val_accuracy did not improve from 0.94483\n",
      "5415/5415 [==============================] - 74s 14ms/step - loss: 0.5205 - accuracy: 0.8374 - val_loss: 0.2294 - val_accuracy: 0.9358\n",
      "Epoch 60/1000\n",
      "5412/5415 [============================>.] - ETA: 0s - loss: 0.5090 - accuracy: 0.8412\n",
      "Epoch 60: val_accuracy did not improve from 0.94483\n",
      "5415/5415 [==============================] - 75s 14ms/step - loss: 0.5089 - accuracy: 0.8413 - val_loss: 0.2251 - val_accuracy: 0.9338\n",
      "Epoch 61/1000\n",
      "5413/5415 [============================>.] - ETA: 0s - loss: 0.4978 - accuracy: 0.8504\n",
      "Epoch 61: val_accuracy did not improve from 0.94483\n",
      "5415/5415 [==============================] - 77s 14ms/step - loss: 0.4982 - accuracy: 0.8503 - val_loss: 0.2327 - val_accuracy: 0.9298\n",
      "Epoch 62/1000\n",
      "5411/5415 [============================>.] - ETA: 0s - loss: 0.4750 - accuracy: 0.8550\n",
      "Epoch 62: val_accuracy did not improve from 0.94483\n",
      "5415/5415 [==============================] - 76s 14ms/step - loss: 0.4752 - accuracy: 0.8550 - val_loss: 0.2313 - val_accuracy: 0.9348\n",
      "Epoch 63/1000\n",
      "5411/5415 [============================>.] - ETA: 0s - loss: 0.4746 - accuracy: 0.8525\n",
      "Epoch 63: val_accuracy did not improve from 0.94483\n",
      "5415/5415 [==============================] - 75s 14ms/step - loss: 0.4746 - accuracy: 0.8525 - val_loss: 0.2433 - val_accuracy: 0.9228\n",
      "Epoch 64/1000\n",
      "5412/5415 [============================>.] - ETA: 0s - loss: 0.4723 - accuracy: 0.8551\n",
      "Epoch 64: val_accuracy did not improve from 0.94483\n",
      "5415/5415 [==============================] - 76s 14ms/step - loss: 0.4724 - accuracy: 0.8550 - val_loss: 0.2292 - val_accuracy: 0.9348\n",
      "Epoch 65/1000\n",
      "5415/5415 [==============================] - ETA: 0s - loss: 0.4724 - accuracy: 0.8598\n",
      "Epoch 65: val_accuracy did not improve from 0.94483\n",
      "5415/5415 [==============================] - 80s 15ms/step - loss: 0.4724 - accuracy: 0.8598 - val_loss: 0.2328 - val_accuracy: 0.9268\n",
      "Epoch 66/1000\n",
      "5414/5415 [============================>.] - ETA: 0s - loss: 0.5155 - accuracy: 0.8425\n",
      "Epoch 66: val_accuracy did not improve from 0.94483\n",
      "5415/5415 [==============================] - 78s 14ms/step - loss: 0.5155 - accuracy: 0.8425 - val_loss: 0.2117 - val_accuracy: 0.9408\n",
      "Epoch 67/1000\n",
      "5411/5415 [============================>.] - ETA: 0s - loss: 0.4736 - accuracy: 0.8552\n",
      "Epoch 67: val_accuracy did not improve from 0.94483\n",
      "5415/5415 [==============================] - 79s 15ms/step - loss: 0.4736 - accuracy: 0.8552 - val_loss: 0.2423 - val_accuracy: 0.9218\n",
      "Epoch 68/1000\n",
      "5413/5415 [============================>.] - ETA: 0s - loss: 0.4674 - accuracy: 0.8587\n",
      "Epoch 68: val_accuracy did not improve from 0.94483\n",
      "5415/5415 [==============================] - 77s 14ms/step - loss: 0.4673 - accuracy: 0.8588 - val_loss: 0.2225 - val_accuracy: 0.9348\n",
      "Epoch 69/1000\n",
      "5415/5415 [==============================] - ETA: 0s - loss: 0.4686 - accuracy: 0.8567\n",
      "Epoch 69: val_accuracy did not improve from 0.94483\n",
      "5415/5415 [==============================] - 81s 15ms/step - loss: 0.4686 - accuracy: 0.8567 - val_loss: 0.2305 - val_accuracy: 0.9408\n",
      "Epoch 70/1000\n",
      "5414/5415 [============================>.] - ETA: 0s - loss: 0.4665 - accuracy: 0.8561\n",
      "Epoch 70: val_accuracy did not improve from 0.94483\n",
      "5415/5415 [==============================] - 95s 17ms/step - loss: 0.4668 - accuracy: 0.8560 - val_loss: 0.2326 - val_accuracy: 0.9438\n",
      "Epoch 71/1000\n",
      "5410/5415 [============================>.] - ETA: 0s - loss: 0.4813 - accuracy: 0.8537\n",
      "Epoch 71: val_accuracy did not improve from 0.94483\n",
      "5415/5415 [==============================] - 103s 19ms/step - loss: 0.4811 - accuracy: 0.8537 - val_loss: 0.2214 - val_accuracy: 0.9418\n",
      "Epoch 72/1000\n",
      "5414/5415 [============================>.] - ETA: 0s - loss: 0.4542 - accuracy: 0.8610\n",
      "Epoch 72: val_accuracy did not improve from 0.94483\n",
      "5415/5415 [==============================] - 79s 15ms/step - loss: 0.4542 - accuracy: 0.8611 - val_loss: 0.2139 - val_accuracy: 0.9378\n",
      "Epoch 73/1000\n",
      "5413/5415 [============================>.] - ETA: 0s - loss: 0.4554 - accuracy: 0.8642\n",
      "Epoch 73: val_accuracy did not improve from 0.94483\n",
      "5415/5415 [==============================] - 77s 14ms/step - loss: 0.4553 - accuracy: 0.8643 - val_loss: 0.2171 - val_accuracy: 0.9388\n",
      "Epoch 74/1000\n",
      "5411/5415 [============================>.] - ETA: 0s - loss: 0.4614 - accuracy: 0.8609\n",
      "Epoch 74: val_accuracy did not improve from 0.94483\n",
      "5415/5415 [==============================] - 76s 14ms/step - loss: 0.4613 - accuracy: 0.8610 - val_loss: 0.2437 - val_accuracy: 0.9328\n",
      "Epoch 75/1000\n",
      "5415/5415 [==============================] - ETA: 0s - loss: 0.4476 - accuracy: 0.8657\n",
      "Epoch 75: val_accuracy did not improve from 0.94483\n",
      "5415/5415 [==============================] - 77s 14ms/step - loss: 0.4476 - accuracy: 0.8657 - val_loss: 0.2148 - val_accuracy: 0.9438\n",
      "Epoch 76/1000\n",
      "5411/5415 [============================>.] - ETA: 0s - loss: 0.4629 - accuracy: 0.8571\n",
      "Epoch 76: val_accuracy improved from 0.94483 to 0.94784, saving model to D:\\.Dataset05032024 - TCC\\model_checkpoint2\n"
     ]
    },
    {
     "name": "stderr",
     "output_type": "stream",
     "text": [
      "WARNING:absl:Found untraced functions such as _jit_compiled_convolution_op, _jit_compiled_convolution_op while saving (showing 2 of 2). These functions will not be directly callable after loading.\n"
     ]
    },
    {
     "name": "stdout",
     "output_type": "stream",
     "text": [
      "INFO:tensorflow:Assets written to: D:\\.Dataset05032024 - TCC\\model_checkpoint2\\assets\n"
     ]
    },
    {
     "name": "stderr",
     "output_type": "stream",
     "text": [
      "INFO:tensorflow:Assets written to: D:\\.Dataset05032024 - TCC\\model_checkpoint2\\assets\n"
     ]
    },
    {
     "name": "stdout",
     "output_type": "stream",
     "text": [
      "5415/5415 [==============================] - 80s 15ms/step - loss: 0.4627 - accuracy: 0.8572 - val_loss: 0.2100 - val_accuracy: 0.9478\n",
      "Epoch 77/1000\n",
      "5415/5415 [==============================] - ETA: 0s - loss: 0.4674 - accuracy: 0.8558\n",
      "Epoch 77: val_accuracy did not improve from 0.94784\n",
      "5415/5415 [==============================] - 72s 13ms/step - loss: 0.4674 - accuracy: 0.8558 - val_loss: 0.2192 - val_accuracy: 0.9358\n",
      "Epoch 78/1000\n",
      "5410/5415 [============================>.] - ETA: 0s - loss: 0.4763 - accuracy: 0.8580\n",
      "Epoch 78: val_accuracy did not improve from 0.94784\n",
      "5415/5415 [==============================] - 72s 13ms/step - loss: 0.4766 - accuracy: 0.8578 - val_loss: 0.2645 - val_accuracy: 0.9198\n",
      "Epoch 79/1000\n",
      "5412/5415 [============================>.] - ETA: 0s - loss: 0.4554 - accuracy: 0.8641\n",
      "Epoch 79: val_accuracy did not improve from 0.94784\n",
      "5415/5415 [==============================] - 71s 13ms/step - loss: 0.4556 - accuracy: 0.8641 - val_loss: 0.2232 - val_accuracy: 0.9398\n",
      "Epoch 80/1000\n",
      "5414/5415 [============================>.] - ETA: 0s - loss: 0.4558 - accuracy: 0.8596\n",
      "Epoch 80: val_accuracy did not improve from 0.94784\n",
      "5415/5415 [==============================] - 71s 13ms/step - loss: 0.4557 - accuracy: 0.8596 - val_loss: 0.2252 - val_accuracy: 0.9348\n",
      "Epoch 81/1000\n",
      "5412/5415 [============================>.] - ETA: 0s - loss: 0.4633 - accuracy: 0.8546\n",
      "Epoch 81: val_accuracy did not improve from 0.94784\n",
      "5415/5415 [==============================] - 73s 14ms/step - loss: 0.4634 - accuracy: 0.8546 - val_loss: 0.2170 - val_accuracy: 0.9358\n",
      "Epoch 82/1000\n",
      "5412/5415 [============================>.] - ETA: 0s - loss: 0.4562 - accuracy: 0.8582\n",
      "Epoch 82: val_accuracy did not improve from 0.94784\n",
      "5415/5415 [==============================] - 73s 14ms/step - loss: 0.4564 - accuracy: 0.8582 - val_loss: 0.2316 - val_accuracy: 0.9308\n",
      "Epoch 83/1000\n",
      "5412/5415 [============================>.] - ETA: 0s - loss: 0.4453 - accuracy: 0.8647\n",
      "Epoch 83: val_accuracy did not improve from 0.94784\n",
      "5415/5415 [==============================] - 74s 14ms/step - loss: 0.4451 - accuracy: 0.8648 - val_loss: 0.2176 - val_accuracy: 0.9398\n",
      "Epoch 84/1000\n",
      "5414/5415 [============================>.] - ETA: 0s - loss: 0.4548 - accuracy: 0.8593\n",
      "Epoch 84: val_accuracy did not improve from 0.94784\n",
      "5415/5415 [==============================] - 73s 13ms/step - loss: 0.4549 - accuracy: 0.8592 - val_loss: 0.2263 - val_accuracy: 0.9318\n",
      "Epoch 85/1000\n",
      "5413/5415 [============================>.] - ETA: 0s - loss: 0.4477 - accuracy: 0.8654\n",
      "Epoch 85: val_accuracy did not improve from 0.94784\n",
      "5415/5415 [==============================] - 75s 14ms/step - loss: 0.4476 - accuracy: 0.8654 - val_loss: 0.2139 - val_accuracy: 0.9408\n",
      "Epoch 86/1000\n",
      "5415/5415 [==============================] - ETA: 0s - loss: 0.4575 - accuracy: 0.8595\n",
      "Epoch 86: val_accuracy did not improve from 0.94784\n",
      "5415/5415 [==============================] - 73s 13ms/step - loss: 0.4575 - accuracy: 0.8595 - val_loss: 0.2111 - val_accuracy: 0.9438\n",
      "Epoch 87/1000\n",
      "5415/5415 [==============================] - ETA: 0s - loss: 0.4304 - accuracy: 0.8705\n",
      "Epoch 87: val_accuracy did not improve from 0.94784\n",
      "5415/5415 [==============================] - 74s 14ms/step - loss: 0.4304 - accuracy: 0.8705 - val_loss: 0.2229 - val_accuracy: 0.9378\n",
      "Epoch 88/1000\n",
      "5414/5415 [============================>.] - ETA: 0s - loss: 0.4584 - accuracy: 0.8600\n",
      "Epoch 88: val_accuracy did not improve from 0.94784\n",
      "5415/5415 [==============================] - 72s 13ms/step - loss: 0.4584 - accuracy: 0.8600 - val_loss: 0.2306 - val_accuracy: 0.9298\n",
      "Epoch 89/1000\n",
      "5415/5415 [==============================] - ETA: 0s - loss: 0.4466 - accuracy: 0.8646\n",
      "Epoch 89: val_accuracy did not improve from 0.94784\n",
      "5415/5415 [==============================] - 74s 14ms/step - loss: 0.4466 - accuracy: 0.8646 - val_loss: 0.2183 - val_accuracy: 0.9318\n",
      "Epoch 90/1000\n",
      "5415/5415 [==============================] - ETA: 0s - loss: 0.4170 - accuracy: 0.8725\n",
      "Epoch 90: val_accuracy did not improve from 0.94784\n",
      "5415/5415 [==============================] - 74s 14ms/step - loss: 0.4170 - accuracy: 0.8725 - val_loss: 0.2019 - val_accuracy: 0.9438\n",
      "Epoch 91/1000\n",
      "5414/5415 [============================>.] - ETA: 0s - loss: 0.4509 - accuracy: 0.8641\n",
      "Epoch 91: val_accuracy did not improve from 0.94784\n",
      "5415/5415 [==============================] - 73s 13ms/step - loss: 0.4509 - accuracy: 0.8641 - val_loss: 0.2201 - val_accuracy: 0.9368\n",
      "Epoch 92/1000\n",
      "5414/5415 [============================>.] - ETA: 0s - loss: 0.4223 - accuracy: 0.8702\n",
      "Epoch 92: val_accuracy did not improve from 0.94784\n",
      "5415/5415 [==============================] - 74s 14ms/step - loss: 0.4223 - accuracy: 0.8702 - val_loss: 0.2060 - val_accuracy: 0.9408\n",
      "Epoch 93/1000\n",
      "5413/5415 [============================>.] - ETA: 0s - loss: 0.4224 - accuracy: 0.8711\n",
      "Epoch 93: val_accuracy did not improve from 0.94784\n",
      "5415/5415 [==============================] - 74s 14ms/step - loss: 0.4223 - accuracy: 0.8711 - val_loss: 0.2065 - val_accuracy: 0.9358\n",
      "Epoch 94/1000\n",
      "5412/5415 [============================>.] - ETA: 0s - loss: 0.4181 - accuracy: 0.8740\n",
      "Epoch 94: val_accuracy did not improve from 0.94784\n",
      "5415/5415 [==============================] - 73s 14ms/step - loss: 0.4182 - accuracy: 0.8740 - val_loss: 0.2096 - val_accuracy: 0.9458\n",
      "Epoch 95/1000\n",
      "5411/5415 [============================>.] - ETA: 0s - loss: 0.4419 - accuracy: 0.8680\n",
      "Epoch 95: val_accuracy did not improve from 0.94784\n",
      "5415/5415 [==============================] - 73s 14ms/step - loss: 0.4418 - accuracy: 0.8681 - val_loss: 0.2693 - val_accuracy: 0.9147\n",
      "Epoch 96/1000\n",
      "5414/5415 [============================>.] - ETA: 0s - loss: 0.4324 - accuracy: 0.8715\n",
      "Epoch 96: val_accuracy did not improve from 0.94784\n",
      "5415/5415 [==============================] - 71s 13ms/step - loss: 0.4324 - accuracy: 0.8715 - val_loss: 0.2034 - val_accuracy: 0.9388\n",
      "Epoch 97/1000\n",
      "5415/5415 [==============================] - ETA: 0s - loss: 0.4342 - accuracy: 0.8633\n",
      "Epoch 97: val_accuracy did not improve from 0.94784\n",
      "5415/5415 [==============================] - 74s 14ms/step - loss: 0.4342 - accuracy: 0.8633 - val_loss: 0.2228 - val_accuracy: 0.9388\n",
      "Epoch 98/1000\n",
      "5412/5415 [============================>.] - ETA: 0s - loss: 0.4270 - accuracy: 0.8716\n",
      "Epoch 98: val_accuracy did not improve from 0.94784\n",
      "5415/5415 [==============================] - 73s 14ms/step - loss: 0.4270 - accuracy: 0.8716 - val_loss: 0.2262 - val_accuracy: 0.9378\n",
      "Epoch 99/1000\n",
      "5412/5415 [============================>.] - ETA: 0s - loss: 0.4329 - accuracy: 0.8684\n",
      "Epoch 99: val_accuracy did not improve from 0.94784\n",
      "5415/5415 [==============================] - 73s 13ms/step - loss: 0.4329 - accuracy: 0.8685 - val_loss: 0.2191 - val_accuracy: 0.9378\n",
      "Epoch 100/1000\n",
      "5415/5415 [==============================] - ETA: 0s - loss: 0.4214 - accuracy: 0.8737\n",
      "Epoch 100: val_accuracy did not improve from 0.94784\n",
      "5415/5415 [==============================] - 73s 14ms/step - loss: 0.4214 - accuracy: 0.8737 - val_loss: 0.2092 - val_accuracy: 0.9448\n",
      "Epoch 101/1000\n",
      "5413/5415 [============================>.] - ETA: 0s - loss: 0.4288 - accuracy: 0.8660\n",
      "Epoch 101: val_accuracy did not improve from 0.94784\n",
      "5415/5415 [==============================] - 74s 14ms/step - loss: 0.4287 - accuracy: 0.8660 - val_loss: 0.2135 - val_accuracy: 0.9418\n",
      "Epoch 102/1000\n",
      "5412/5415 [============================>.] - ETA: 0s - loss: 0.4304 - accuracy: 0.8699\n",
      "Epoch 102: val_accuracy did not improve from 0.94784\n",
      "5415/5415 [==============================] - 73s 14ms/step - loss: 0.4307 - accuracy: 0.8699 - val_loss: 0.2048 - val_accuracy: 0.9458\n",
      "Epoch 103/1000\n",
      "5415/5415 [==============================] - ETA: 0s - loss: 0.4233 - accuracy: 0.8727\n",
      "Epoch 103: val_accuracy did not improve from 0.94784\n",
      "5415/5415 [==============================] - 72s 13ms/step - loss: 0.4233 - accuracy: 0.8727 - val_loss: 0.2130 - val_accuracy: 0.9408\n",
      "Epoch 104/1000\n",
      "5412/5415 [============================>.] - ETA: 0s - loss: 0.4188 - accuracy: 0.8760\n",
      "Epoch 104: val_accuracy did not improve from 0.94784\n",
      "5415/5415 [==============================] - 73s 13ms/step - loss: 0.4187 - accuracy: 0.8760 - val_loss: 0.1966 - val_accuracy: 0.9448\n",
      "Epoch 105/1000\n",
      "5412/5415 [============================>.] - ETA: 0s - loss: 0.4628 - accuracy: 0.8586\n",
      "Epoch 105: val_accuracy did not improve from 0.94784\n",
      "5415/5415 [==============================] - 73s 14ms/step - loss: 0.4627 - accuracy: 0.8586 - val_loss: 0.2658 - val_accuracy: 0.9268\n",
      "Epoch 106/1000\n",
      "5415/5415 [==============================] - ETA: 0s - loss: 0.4926 - accuracy: 0.8467\n",
      "Epoch 106: val_accuracy did not improve from 0.94784\n",
      "5415/5415 [==============================] - 74s 14ms/step - loss: 0.4926 - accuracy: 0.8467 - val_loss: 0.2367 - val_accuracy: 0.9278\n",
      "Epoch 107/1000\n",
      "5411/5415 [============================>.] - ETA: 0s - loss: 0.4534 - accuracy: 0.8624\n",
      "Epoch 107: val_accuracy did not improve from 0.94784\n",
      "5415/5415 [==============================] - 77s 14ms/step - loss: 0.4531 - accuracy: 0.8625 - val_loss: 0.2307 - val_accuracy: 0.9308\n",
      "Epoch 108/1000\n",
      "5413/5415 [============================>.] - ETA: 0s - loss: 0.4732 - accuracy: 0.8584\n",
      "Epoch 108: val_accuracy did not improve from 0.94784\n",
      "5415/5415 [==============================] - 75s 14ms/step - loss: 0.4732 - accuracy: 0.8584 - val_loss: 0.2175 - val_accuracy: 0.9318\n",
      "Epoch 109/1000\n",
      "5413/5415 [============================>.] - ETA: 0s - loss: 0.4267 - accuracy: 0.8734\n",
      "Epoch 109: val_accuracy did not improve from 0.94784\n",
      "5415/5415 [==============================] - 77s 14ms/step - loss: 0.4266 - accuracy: 0.8734 - val_loss: 0.2199 - val_accuracy: 0.9368\n",
      "Epoch 110/1000\n",
      "5412/5415 [============================>.] - ETA: 0s - loss: 0.4282 - accuracy: 0.8712\n",
      "Epoch 110: val_accuracy did not improve from 0.94784\n",
      "5415/5415 [==============================] - 77s 14ms/step - loss: 0.4282 - accuracy: 0.8712 - val_loss: 0.2223 - val_accuracy: 0.9398\n",
      "Epoch 111/1000\n",
      "5412/5415 [============================>.] - ETA: 0s - loss: 0.4293 - accuracy: 0.8696\n",
      "Epoch 111: val_accuracy did not improve from 0.94784\n",
      "5415/5415 [==============================] - 76s 14ms/step - loss: 0.4292 - accuracy: 0.8697 - val_loss: 0.2318 - val_accuracy: 0.9278\n",
      "Epoch 112/1000\n",
      "5411/5415 [============================>.] - ETA: 0s - loss: 0.4292 - accuracy: 0.8705\n",
      "Epoch 112: val_accuracy did not improve from 0.94784\n",
      "5415/5415 [==============================] - 77s 14ms/step - loss: 0.4291 - accuracy: 0.8706 - val_loss: 0.2162 - val_accuracy: 0.9418\n",
      "Epoch 113/1000\n",
      "5415/5415 [==============================] - ETA: 0s - loss: 0.4159 - accuracy: 0.8738\n",
      "Epoch 113: val_accuracy did not improve from 0.94784\n",
      "5415/5415 [==============================] - 77s 14ms/step - loss: 0.4159 - accuracy: 0.8738 - val_loss: 0.2104 - val_accuracy: 0.9378\n",
      "Epoch 114/1000\n",
      "5414/5415 [============================>.] - ETA: 0s - loss: 0.4337 - accuracy: 0.8684\n",
      "Epoch 114: val_accuracy did not improve from 0.94784\n",
      "5415/5415 [==============================] - 80s 15ms/step - loss: 0.4337 - accuracy: 0.8684 - val_loss: 0.2148 - val_accuracy: 0.9368\n",
      "Epoch 115/1000\n",
      "5415/5415 [==============================] - ETA: 0s - loss: 0.4089 - accuracy: 0.8774\n",
      "Epoch 115: val_accuracy did not improve from 0.94784\n",
      "5415/5415 [==============================] - 89s 16ms/step - loss: 0.4089 - accuracy: 0.8774 - val_loss: 0.2199 - val_accuracy: 0.9318\n",
      "Epoch 116/1000\n",
      "5414/5415 [============================>.] - ETA: 0s - loss: 0.4120 - accuracy: 0.8758\n",
      "Epoch 116: val_accuracy did not improve from 0.94784\n",
      "5415/5415 [==============================] - 91s 17ms/step - loss: 0.4119 - accuracy: 0.8758 - val_loss: 0.2205 - val_accuracy: 0.9398\n",
      "Epoch 117/1000\n",
      "5414/5415 [============================>.] - ETA: 0s - loss: 0.3936 - accuracy: 0.8833\n",
      "Epoch 117: val_accuracy did not improve from 0.94784\n",
      "5415/5415 [==============================] - 92s 17ms/step - loss: 0.3935 - accuracy: 0.8833 - val_loss: 0.2418 - val_accuracy: 0.9408\n",
      "Epoch 118/1000\n",
      "5412/5415 [============================>.] - ETA: 0s - loss: 0.3999 - accuracy: 0.8788\n",
      "Epoch 118: val_accuracy did not improve from 0.94784\n",
      "5415/5415 [==============================] - 88s 16ms/step - loss: 0.3999 - accuracy: 0.8788 - val_loss: 0.2259 - val_accuracy: 0.9378\n",
      "Epoch 119/1000\n",
      "5414/5415 [============================>.] - ETA: 0s - loss: 0.4095 - accuracy: 0.8783\n",
      "Epoch 119: val_accuracy did not improve from 0.94784\n",
      "5415/5415 [==============================] - 88s 16ms/step - loss: 0.4095 - accuracy: 0.8783 - val_loss: 0.2188 - val_accuracy: 0.9378\n",
      "Epoch 120/1000\n",
      "5414/5415 [============================>.] - ETA: 0s - loss: 0.3867 - accuracy: 0.8853\n",
      "Epoch 120: val_accuracy did not improve from 0.94784\n",
      "5415/5415 [==============================] - 92s 17ms/step - loss: 0.3867 - accuracy: 0.8853 - val_loss: 0.2034 - val_accuracy: 0.9438\n",
      "Epoch 121/1000\n",
      "5413/5415 [============================>.] - ETA: 0s - loss: 0.3975 - accuracy: 0.8815\n",
      "Epoch 121: val_accuracy did not improve from 0.94784\n",
      "5415/5415 [==============================] - 89s 16ms/step - loss: 0.3974 - accuracy: 0.8816 - val_loss: 0.2195 - val_accuracy: 0.9458\n",
      "Epoch 122/1000\n",
      "5412/5415 [============================>.] - ETA: 0s - loss: 0.4056 - accuracy: 0.8782\n",
      "Epoch 122: val_accuracy improved from 0.94784 to 0.94985, saving model to D:\\.Dataset05032024 - TCC\\model_checkpoint2\n"
     ]
    },
    {
     "name": "stderr",
     "output_type": "stream",
     "text": [
      "WARNING:absl:Found untraced functions such as _jit_compiled_convolution_op, _jit_compiled_convolution_op while saving (showing 2 of 2). These functions will not be directly callable after loading.\n"
     ]
    },
    {
     "name": "stdout",
     "output_type": "stream",
     "text": [
      "INFO:tensorflow:Assets written to: D:\\.Dataset05032024 - TCC\\model_checkpoint2\\assets\n"
     ]
    },
    {
     "name": "stderr",
     "output_type": "stream",
     "text": [
      "INFO:tensorflow:Assets written to: D:\\.Dataset05032024 - TCC\\model_checkpoint2\\assets\n"
     ]
    },
    {
     "name": "stdout",
     "output_type": "stream",
     "text": [
      "5415/5415 [==============================] - 95s 18ms/step - loss: 0.4054 - accuracy: 0.8783 - val_loss: 0.1975 - val_accuracy: 0.9498\n",
      "Epoch 123/1000\n",
      "5415/5415 [==============================] - ETA: 0s - loss: 0.4094 - accuracy: 0.8772\n",
      "Epoch 123: val_accuracy did not improve from 0.94985\n",
      "5415/5415 [==============================] - 86s 16ms/step - loss: 0.4094 - accuracy: 0.8772 - val_loss: 0.2314 - val_accuracy: 0.9398\n",
      "Epoch 124/1000\n",
      "5413/5415 [============================>.] - ETA: 0s - loss: 0.3979 - accuracy: 0.8812\n",
      "Epoch 124: val_accuracy did not improve from 0.94985\n",
      "5415/5415 [==============================] - 85s 16ms/step - loss: 0.3981 - accuracy: 0.8811 - val_loss: 0.2318 - val_accuracy: 0.9328\n",
      "Epoch 125/1000\n",
      "5415/5415 [==============================] - ETA: 0s - loss: 0.4018 - accuracy: 0.8818\n",
      "Epoch 125: val_accuracy improved from 0.94985 to 0.95085, saving model to D:\\.Dataset05032024 - TCC\\model_checkpoint2\n"
     ]
    },
    {
     "name": "stderr",
     "output_type": "stream",
     "text": [
      "WARNING:absl:Found untraced functions such as _jit_compiled_convolution_op, _jit_compiled_convolution_op while saving (showing 2 of 2). These functions will not be directly callable after loading.\n"
     ]
    },
    {
     "name": "stdout",
     "output_type": "stream",
     "text": [
      "INFO:tensorflow:Assets written to: D:\\.Dataset05032024 - TCC\\model_checkpoint2\\assets\n"
     ]
    },
    {
     "name": "stderr",
     "output_type": "stream",
     "text": [
      "INFO:tensorflow:Assets written to: D:\\.Dataset05032024 - TCC\\model_checkpoint2\\assets\n"
     ]
    },
    {
     "name": "stdout",
     "output_type": "stream",
     "text": [
      "5415/5415 [==============================] - 89s 16ms/step - loss: 0.4018 - accuracy: 0.8818 - val_loss: 0.2116 - val_accuracy: 0.9509\n",
      "Epoch 126/1000\n",
      "5415/5415 [==============================] - ETA: 0s - loss: 0.3810 - accuracy: 0.8900\n",
      "Epoch 126: val_accuracy did not improve from 0.95085\n",
      "5415/5415 [==============================] - 82s 15ms/step - loss: 0.3810 - accuracy: 0.8900 - val_loss: 0.2211 - val_accuracy: 0.9388\n",
      "Epoch 127/1000\n",
      "5412/5415 [============================>.] - ETA: 0s - loss: 0.3913 - accuracy: 0.8833\n",
      "Epoch 127: val_accuracy did not improve from 0.95085\n",
      "5415/5415 [==============================] - 84s 15ms/step - loss: 0.3914 - accuracy: 0.8833 - val_loss: 0.2168 - val_accuracy: 0.9458\n",
      "Epoch 128/1000\n",
      "5414/5415 [============================>.] - ETA: 0s - loss: 0.3926 - accuracy: 0.8861\n",
      "Epoch 128: val_accuracy did not improve from 0.95085\n",
      "5415/5415 [==============================] - 85s 16ms/step - loss: 0.3926 - accuracy: 0.8861 - val_loss: 0.2091 - val_accuracy: 0.9448\n",
      "Epoch 129/1000\n",
      "5415/5415 [==============================] - ETA: 0s - loss: 0.3813 - accuracy: 0.8862\n",
      "Epoch 129: val_accuracy did not improve from 0.95085\n",
      "5415/5415 [==============================] - 85s 16ms/step - loss: 0.3813 - accuracy: 0.8862 - val_loss: 0.2174 - val_accuracy: 0.9398\n",
      "Epoch 130/1000\n",
      "5413/5415 [============================>.] - ETA: 0s - loss: 0.3937 - accuracy: 0.8832\n",
      "Epoch 130: val_accuracy did not improve from 0.95085\n",
      "5415/5415 [==============================] - 84s 16ms/step - loss: 0.3938 - accuracy: 0.8831 - val_loss: 0.2296 - val_accuracy: 0.9408\n",
      "Epoch 131/1000\n",
      "5414/5415 [============================>.] - ETA: 0s - loss: 0.3798 - accuracy: 0.8860\n",
      "Epoch 131: val_accuracy did not improve from 0.95085\n",
      "5415/5415 [==============================] - 85s 16ms/step - loss: 0.3799 - accuracy: 0.8859 - val_loss: 0.2333 - val_accuracy: 0.9348\n",
      "Epoch 132/1000\n",
      "5415/5415 [==============================] - ETA: 0s - loss: 0.3997 - accuracy: 0.8796\n",
      "Epoch 132: val_accuracy did not improve from 0.95085\n",
      "5415/5415 [==============================] - 84s 15ms/step - loss: 0.3997 - accuracy: 0.8796 - val_loss: 0.3095 - val_accuracy: 0.9188\n",
      "Epoch 133/1000\n",
      "5412/5415 [============================>.] - ETA: 0s - loss: 0.4082 - accuracy: 0.8753\n",
      "Epoch 133: val_accuracy did not improve from 0.95085\n",
      "5415/5415 [==============================] - 86s 16ms/step - loss: 0.4082 - accuracy: 0.8753 - val_loss: 0.2157 - val_accuracy: 0.9428\n",
      "Epoch 134/1000\n",
      "5413/5415 [============================>.] - ETA: 0s - loss: 0.3905 - accuracy: 0.8859\n",
      "Epoch 134: val_accuracy did not improve from 0.95085\n",
      "5415/5415 [==============================] - 87s 16ms/step - loss: 0.3908 - accuracy: 0.8858 - val_loss: 0.2222 - val_accuracy: 0.9408\n",
      "Epoch 135/1000\n",
      "5411/5415 [============================>.] - ETA: 0s - loss: 0.3910 - accuracy: 0.8826\n",
      "Epoch 135: val_accuracy did not improve from 0.95085\n",
      "5415/5415 [==============================] - 83s 15ms/step - loss: 0.3909 - accuracy: 0.8827 - val_loss: 0.2166 - val_accuracy: 0.9438\n",
      "Epoch 136/1000\n",
      "5412/5415 [============================>.] - ETA: 0s - loss: 0.3761 - accuracy: 0.8860\n",
      "Epoch 136: val_accuracy did not improve from 0.95085\n",
      "5415/5415 [==============================] - 84s 16ms/step - loss: 0.3761 - accuracy: 0.8859 - val_loss: 0.2192 - val_accuracy: 0.9378\n",
      "Epoch 137/1000\n",
      "5415/5415 [==============================] - ETA: 0s - loss: 0.3752 - accuracy: 0.8923\n",
      "Epoch 137: val_accuracy did not improve from 0.95085\n",
      "5415/5415 [==============================] - 87s 16ms/step - loss: 0.3752 - accuracy: 0.8923 - val_loss: 0.2239 - val_accuracy: 0.9468\n",
      "Epoch 138/1000\n",
      "5415/5415 [==============================] - ETA: 0s - loss: 0.3945 - accuracy: 0.8860\n",
      "Epoch 138: val_accuracy did not improve from 0.95085\n",
      "5415/5415 [==============================] - 87s 16ms/step - loss: 0.3945 - accuracy: 0.8860 - val_loss: 0.2402 - val_accuracy: 0.9338\n",
      "Epoch 139/1000\n",
      "5414/5415 [============================>.] - ETA: 0s - loss: 0.3602 - accuracy: 0.8926\n",
      "Epoch 139: val_accuracy did not improve from 0.95085\n",
      "5415/5415 [==============================] - 87s 16ms/step - loss: 0.3602 - accuracy: 0.8926 - val_loss: 0.2411 - val_accuracy: 0.9348\n",
      "Epoch 140/1000\n",
      "5413/5415 [============================>.] - ETA: 0s - loss: 0.3868 - accuracy: 0.8840\n",
      "Epoch 140: val_accuracy did not improve from 0.95085\n",
      "5415/5415 [==============================] - 83s 15ms/step - loss: 0.3871 - accuracy: 0.8840 - val_loss: 0.2280 - val_accuracy: 0.9438\n",
      "Epoch 141/1000\n",
      "5411/5415 [============================>.] - ETA: 0s - loss: 0.3837 - accuracy: 0.8883\n",
      "Epoch 141: val_accuracy did not improve from 0.95085\n",
      "5415/5415 [==============================] - 86s 16ms/step - loss: 0.3835 - accuracy: 0.8883 - val_loss: 0.2530 - val_accuracy: 0.9308\n",
      "Epoch 142/1000\n",
      "5413/5415 [============================>.] - ETA: 0s - loss: 0.3945 - accuracy: 0.8840\n",
      "Epoch 142: val_accuracy did not improve from 0.95085\n",
      "5415/5415 [==============================] - 84s 15ms/step - loss: 0.3944 - accuracy: 0.8840 - val_loss: 0.2158 - val_accuracy: 0.9388\n",
      "Epoch 143/1000\n",
      "5414/5415 [============================>.] - ETA: 0s - loss: 0.3950 - accuracy: 0.8820\n",
      "Epoch 143: val_accuracy did not improve from 0.95085\n",
      "5415/5415 [==============================] - 87s 16ms/step - loss: 0.3955 - accuracy: 0.8820 - val_loss: 0.2106 - val_accuracy: 0.9478\n",
      "Epoch 144/1000\n",
      "5413/5415 [============================>.] - ETA: 0s - loss: 0.3833 - accuracy: 0.8864\n",
      "Epoch 144: val_accuracy did not improve from 0.95085\n",
      "5415/5415 [==============================] - 86s 16ms/step - loss: 0.3834 - accuracy: 0.8864 - val_loss: 0.2112 - val_accuracy: 0.9458\n",
      "Epoch 145/1000\n",
      "5414/5415 [============================>.] - ETA: 0s - loss: 0.3902 - accuracy: 0.8832\n",
      "Epoch 145: val_accuracy did not improve from 0.95085\n",
      "5415/5415 [==============================] - 86s 16ms/step - loss: 0.3902 - accuracy: 0.8832 - val_loss: 0.2779 - val_accuracy: 0.9238\n",
      "Epoch 146/1000\n",
      "5413/5415 [============================>.] - ETA: 0s - loss: 0.4006 - accuracy: 0.8793\n",
      "Epoch 146: val_accuracy did not improve from 0.95085\n",
      "5415/5415 [==============================] - 85s 16ms/step - loss: 0.4005 - accuracy: 0.8793 - val_loss: 0.2335 - val_accuracy: 0.9418\n",
      "Epoch 147/1000\n",
      "5412/5415 [============================>.] - ETA: 0s - loss: 0.3889 - accuracy: 0.8846\n",
      "Epoch 147: val_accuracy did not improve from 0.95085\n",
      "5415/5415 [==============================] - 86s 16ms/step - loss: 0.3891 - accuracy: 0.8846 - val_loss: 0.2157 - val_accuracy: 0.9368\n",
      "Epoch 148/1000\n",
      "5415/5415 [==============================] - ETA: 0s - loss: 0.4235 - accuracy: 0.8735\n",
      "Epoch 148: val_accuracy did not improve from 0.95085\n",
      "5415/5415 [==============================] - 87s 16ms/step - loss: 0.4235 - accuracy: 0.8735 - val_loss: 0.2306 - val_accuracy: 0.9378\n",
      "Epoch 149/1000\n",
      "5413/5415 [============================>.] - ETA: 0s - loss: 0.4361 - accuracy: 0.8683\n",
      "Epoch 149: val_accuracy did not improve from 0.95085\n",
      "5415/5415 [==============================] - 87s 16ms/step - loss: 0.4360 - accuracy: 0.8683 - val_loss: 0.2283 - val_accuracy: 0.9398\n",
      "Epoch 150/1000\n",
      "5415/5415 [==============================] - ETA: 0s - loss: 0.4584 - accuracy: 0.8607\n",
      "Epoch 150: val_accuracy did not improve from 0.95085\n",
      "5415/5415 [==============================] - 85s 16ms/step - loss: 0.4584 - accuracy: 0.8607 - val_loss: 0.2260 - val_accuracy: 0.9448\n",
      "Epoch 151/1000\n",
      "5414/5415 [============================>.] - ETA: 0s - loss: 0.4256 - accuracy: 0.8735\n",
      "Epoch 151: val_accuracy did not improve from 0.95085\n",
      "5415/5415 [==============================] - 87s 16ms/step - loss: 0.4256 - accuracy: 0.8736 - val_loss: 0.2217 - val_accuracy: 0.9398\n",
      "Epoch 152/1000\n",
      "5413/5415 [============================>.] - ETA: 0s - loss: 0.3985 - accuracy: 0.8797\n",
      "Epoch 152: val_accuracy did not improve from 0.95085\n",
      "5415/5415 [==============================] - 86s 16ms/step - loss: 0.3984 - accuracy: 0.8797 - val_loss: 0.2375 - val_accuracy: 0.9318\n",
      "Epoch 153/1000\n",
      "5413/5415 [============================>.] - ETA: 0s - loss: 0.3892 - accuracy: 0.8817\n",
      "Epoch 153: val_accuracy did not improve from 0.95085\n",
      "5415/5415 [==============================] - 85s 16ms/step - loss: 0.3892 - accuracy: 0.8817 - val_loss: 0.2097 - val_accuracy: 0.9428\n",
      "Epoch 154/1000\n",
      "5412/5415 [============================>.] - ETA: 0s - loss: 0.3788 - accuracy: 0.8891\n",
      "Epoch 154: val_accuracy did not improve from 0.95085\n",
      "5415/5415 [==============================] - 86s 16ms/step - loss: 0.3787 - accuracy: 0.8892 - val_loss: 0.1930 - val_accuracy: 0.9458\n"
     ]
    }
   ],
   "source": [
    "import time\n",
    "from tensorflow.keras.callbacks import CSVLogger\n",
    "\n",
    "start_time = time.time()\n",
    "\n",
    "history = 'D:\\\\.Dataset05032024 - TCC\\\\history2.csv'\n",
    "csv_logger = CSVLogger(filename=history)\n",
    "\n",
    "history = model.fit(\n",
    "    train_dataset,                          # Conjunto de dados de treinamento\n",
    "    epochs=1000,                             # Número de épocas de treinamento\n",
    "    validation_data=validation_dataset,     # Conjunto de dados de validação (separado anteriormente)\n",
    "    callbacks=[csv_logger, checkpoint, tensorboard_callback, early_stopping], # Callback para salvar os melhores pesos #, early_stopping, tensorboard_callback, activation_logger\n",
    "    verbose=1                              # Exibir informações de treinamento\n",
    ")\n",
    "\n",
    "end_time = time.time()\n",
    "\n",
    "# Salvar o modelo treinado\n",
    "model_path_trained = 'D:\\\\.Dataset05032024 - TCC\\\\model_trained2.h5'\n",
    "model.save(model_path_trained)"
   ]
  },
  {
   "cell_type": "code",
   "execution_count": 65,
   "metadata": {},
   "outputs": [
    {
     "data": {
      "text/plain": [
       "Reusing TensorBoard on port 6006 (pid 24592), started 3:31:12 ago. (Use '!kill 24592' to kill it.)"
      ]
     },
     "metadata": {},
     "output_type": "display_data"
    },
    {
     "data": {
      "text/html": [
       "\n",
       "      <iframe id=\"tensorboard-frame-5ccb911ac28a0c31\" width=\"100%\" height=\"800\" frameborder=\"0\">\n",
       "      </iframe>\n",
       "      <script>\n",
       "        (function() {\n",
       "          const frame = document.getElementById(\"tensorboard-frame-5ccb911ac28a0c31\");\n",
       "          const url = new URL(\"http://localhost\");\n",
       "          const port = 6006;\n",
       "          if (port) {\n",
       "            url.port = port;\n",
       "          }\n",
       "          frame.src = url;\n",
       "        })();\n",
       "      </script>\n",
       "    "
      ],
      "text/plain": [
       "<IPython.core.display.HTML object>"
      ]
     },
     "metadata": {},
     "output_type": "display_data"
    }
   ],
   "source": [
    "%tensorboard --logdir 'D:\\\\.Dataset05032024 - TCC\\\\logs220240311-202751'\n"
   ]
  },
  {
   "cell_type": "code",
   "execution_count": 66,
   "metadata": {},
   "outputs": [
    {
     "name": "stdout",
     "output_type": "stream",
     "text": [
      "Tempo de execução: 3 horas, 20 minutos e 57 segundos\n"
     ]
    }
   ],
   "source": [
    "execution_time_seconds = end_time - start_time\n",
    "\n",
    "hours = int(execution_time_seconds) // 3600\n",
    "minutes = int(execution_time_seconds) % 3600 // 60\n",
    "seconds = int(execution_time_seconds) % 60\n",
    "\n",
    "print(f\"Tempo de execução: {hours} horas, {minutes} minutos e {seconds} segundos\")"
   ]
  },
  {
   "cell_type": "markdown",
   "metadata": {
    "id": "36W5a2r43bH-"
   },
   "source": [
    "### Evaluating Model"
   ]
  },
  {
   "cell_type": "markdown",
   "metadata": {
    "id": "EfxbIL1XgmFp"
   },
   "source": [
    "###### Evaluating Model by Loss and Accuracy with the Test Data"
   ]
  },
  {
   "cell_type": "code",
   "execution_count": 67,
   "metadata": {
    "colab": {
     "base_uri": "https://localhost:8080/"
    },
    "id": "9ymFZGG93TVG",
    "outputId": "5decb8b8-718a-4987-c7bb-5cf7b93f3861"
   },
   "outputs": [
    {
     "name": "stdout",
     "output_type": "stream",
     "text": [
      "Teste -> Perda: 0.23223944008350372, Acurácia: 0.9293544292449951\n"
     ]
    }
   ],
   "source": [
    "test_loss, test_accuracy = model.evaluate(test_dataset, verbose=0)\n",
    "\n",
    "print(f'Teste -> Perda: {test_loss}, Acurácia: {test_accuracy}')"
   ]
  },
  {
   "cell_type": "markdown",
   "metadata": {
    "id": "pSuF8DZC6LhK"
   },
   "source": [
    "###### Plot Graphs to vizualise loss and accuracy through the epochs"
   ]
  },
  {
   "cell_type": "code",
   "execution_count": 1,
   "metadata": {
    "colab": {
     "base_uri": "https://localhost:8080/",
     "height": 412
    },
    "id": "hkg4yB7nHo2t",
    "outputId": "c09664ac-fe96-4926-83b2-55b513d482da"
   },
   "outputs": [
    {
     "data": {
      "image/png": "[encoded data removed]",
      "text/plain": [
       "<Figure size 1000x400 with 2 Axes>"
      ]
     },
     "metadata": {},
     "output_type": "display_data"
    }
   ],
   "source": [
    "import pandas as pd\n",
    "import matplotlib.pyplot as plt\n",
    "\n",
    "# Read the history data from the CSV file\n",
    "df_history = pd.read_csv('D:\\\\.Dataset05032024 - TCC\\\\history2.csv')\n",
    "\n",
    "# Extract the desired metrics (accuracy and loss in this case)\n",
    "accuracy = df_history['accuracy'].to_numpy()\n",
    "val_accuracy = df_history['val_accuracy'].to_numpy()\n",
    "loss = df_history['loss'].to_numpy()\n",
    "val_loss = df_history['val_loss'].to_numpy()\n",
    "\n",
    "# Plot the curves as usual\n",
    "plt.figure(figsize=(10, 4))\n",
    "\n",
    "plt.subplot(1, 2, 1)\n",
    "plt.plot(accuracy, color='teal', label='accuracy')\n",
    "plt.plot(val_accuracy, color='purple', label='val_accuracy')\n",
    "plt.title('Curva de Precisão')\n",
    "plt.xlabel('Época')\n",
    "plt.ylabel('Precisão')\n",
    "plt.legend()\n",
    "\n",
    "plt.subplot(1, 2, 2)\n",
    "plt.plot(loss, color='teal', label='loss')\n",
    "plt.plot(val_loss, color='purple', label='val_loss')\n",
    "plt.title('Curva de Perda')\n",
    "plt.xlabel('Época')\n",
    "plt.ylabel('Perda')\n",
    "plt.legend()\n",
    "\n",
    "plt.show()"
   ]
  },
  {
   "cell_type": "markdown",
   "metadata": {},
   "source": [
    "### Other Plots to help evaluate the model"
   ]
  },
  {
   "cell_type": "markdown",
   "metadata": {
    "id": "f-W4euBwRQVb"
   },
   "source": [
    "###### Plot Confusion Matrix"
   ]
  },
  {
   "cell_type": "markdown",
   "metadata": {
    "id": "FB8i1P5fYlSo"
   },
   "source": [
    "A matriz de confusão é uma tabela que mostra as contagens de verdadeiros positivos, verdadeiros negativos, falsos positivos e falsos negativos. É especialmente útil em problemas de classificação com várias classes.\n"
   ]
  },
  {
   "cell_type": "code",
   "execution_count": null,
   "metadata": {},
   "outputs": [
    {
     "name": "stdout",
     "output_type": "stream",
     "text": [
      "2.9.0\n"
     ]
    }
   ],
   "source": [
    "import keras\n",
    "\n",
    "print(keras.__version__)"
   ]
  },
  {
   "cell_type": "code",
   "execution_count": null,
   "metadata": {},
   "outputs": [],
   "source": [
    "model_path = 'D:\\\\.Dataset05032024 - TCC\\\\model_trained.h5'\n",
    "model = tf.keras.models.load_model(model_path)"
   ]
  },
  {
   "cell_type": "code",
   "execution_count": null,
   "metadata": {
    "colab": {
     "base_uri": "https://localhost:8080/",
     "height": 581
    },
    "id": "Ml2tk8xqRPIq",
    "outputId": "df5998fc-3060-40c9-9945-8bf943e09b1b"
   },
   "outputs": [
    {
     "name": "stdout",
     "output_type": "stream",
     "text": [
      "274/274 [==============================] - 1s 4ms/step\n"
     ]
    },
    {
     "data": {
      "image/png": "[encoded data removed]",
      "text/plain": [
       "<Figure size 800x600 with 2 Axes>"
      ]
     },
     "metadata": {},
     "output_type": "display_data"
    }
   ],
   "source": [
    "from sklearn.metrics import confusion_matrix\n",
    "import seaborn as sns\n",
    "import numpy as np\n",
    "\n",
    "\n",
    "# Obter previsões do conjunto de teste\n",
    "predictions = model.predict(test_dataset)\n",
    "predicted_labels = np.argmax(predictions, axis=1)  # Use argmax para obter a classe prevista\n",
    "\n",
    "# Obter rótulos verdadeiros do conjunto de teste\n",
    "true_labels = [label for _, label in test_dataset.unbatch()]\n",
    "\n",
    "# Calcular a matriz de confusão\n",
    "conf_matrix = confusion_matrix(true_labels, predicted_labels)\n",
    "\n",
    "# Definir rótulos das classes\n",
    "class_labels = [\"German\", \"Indian\", \"Japanese\", \"Spanish\"]\n",
    "\n",
    "# Visualizar a matriz de confusão\n",
    "plt.figure(figsize=(8, 6))\n",
    "sns.heatmap(conf_matrix, annot=True, fmt=\"d\", cmap=\"PuRd\", xticklabels=class_labels, yticklabels=class_labels)\n",
    "plt.xlabel(\"Previsões\")\n",
    "plt.ylabel(\"Rótulos Verdadeiros\")\n",
    "plt.title(\"Matriz de Confusão\")\n",
    "plt.show()"
   ]
  },
  {
   "cell_type": "markdown",
   "metadata": {
    "id": "fisksp8oSJ1Y",
    "jp-MarkdownHeadingCollapsed": true
   },
   "source": [
    "###### Plot Heatmap Error"
   ]
  },
  {
   "cell_type": "markdown",
   "metadata": {
    "id": "7UzDwJD2YikN"
   },
   "source": [
    "Criar heatmaps que destacam onde o modelo está cometendo erros pode ajudar a identificar padrões específicos que podem ser melhorados."
   ]
  },
  {
   "cell_type": "code",
   "execution_count": null,
   "metadata": {
    "colab": {
     "base_uri": "https://localhost:8080/"
    },
    "id": "N3v0oVe9SRDm",
    "outputId": "bb000acf-1a01-4cfe-84c7-abfbfb426ab5"
   },
   "outputs": [
    {
     "data": {
      "image/png": "[encoded data removed]",
      "text/plain": [
       "<Figure size 800x600 with 2 Axes>"
      ]
     },
     "metadata": {},
     "output_type": "display_data"
    }
   ],
   "source": [
    "# Obter rótulos verdadeiros do conjunto de teste\n",
    "true_labels = [label for _, label in test_dataset.unbatch()]\n",
    "\n",
    "# Calcular a matriz de confusão\n",
    "conf_matrix = confusion_matrix(true_labels, predicted_labels)\n",
    "\n",
    "# Calcular o heatmap de erros\n",
    "error_matrix = conf_matrix - np.eye(conf_matrix.shape[0], dtype=int)  # Subtrair a diagonal para obter os erros\n",
    "\n",
    "# Definir rótulos das classes\n",
    "class_labels = [\"German\", \"Indian\", \"Japanese\", \"Spanish\"]\n",
    "\n",
    "# Visualizar o heatmap de erros\n",
    "plt.figure(figsize=(8, 6))\n",
    "sns.heatmap(error_matrix, annot=True, fmt=\"d\", cmap=\"PuBu\", xticklabels=class_labels, yticklabels=class_labels)\n",
    "plt.xlabel(\"Previsões\")\n",
    "plt.ylabel(\"Rótulos Verdadeiros\")\n",
    "plt.title(\"Heatmap de Erros\")\n",
    "plt.show()"
   ]
  },
  {
   "cell_type": "markdown",
   "metadata": {
    "id": "sN1Wfz9UUhZ6",
    "jp-MarkdownHeadingCollapsed": true
   },
   "source": [
    "### Evaluating HeatMap"
   ]
  },
  {
   "cell_type": "code",
   "execution_count": null,
   "metadata": {
    "colab": {
     "base_uri": "https://localhost:8080/"
    },
    "id": "4FptD921YZbt",
    "outputId": "93ae4da4-0d9a-45ad-c27a-c6f6244055bf"
   },
   "outputs": [
    {
     "name": "stdout",
     "output_type": "stream",
     "text": [
      "Requirement already satisfied: tf-keras-vis in c:\\users\\larissa santana\\anaconda3\\lib\\site-packages (0.8.6)\n",
      "Requirement already satisfied: scipy in c:\\users\\larissa santana\\anaconda3\\lib\\site-packages (from tf-keras-vis) (1.7.3)\n",
      "Requirement already satisfied: pillow in c:\\users\\larissa santana\\anaconda3\\lib\\site-packages (from tf-keras-vis) (10.2.0)\n",
      "Requirement already satisfied: deprecated in c:\\users\\larissa santana\\anaconda3\\lib\\site-packages (from tf-keras-vis) (1.2.14)\n",
      "Requirement already satisfied: imageio in c:\\users\\larissa santana\\anaconda3\\lib\\site-packages (from tf-keras-vis) (2.33.1)\n",
      "Requirement already satisfied: packaging in c:\\users\\larissa santana\\anaconda3\\lib\\site-packages (from tf-keras-vis) (23.1)\n",
      "Requirement already satisfied: wrapt<2,>=1.10 in c:\\users\\larissa santana\\anaconda3\\lib\\site-packages (from deprecated->tf-keras-vis) (1.14.1)\n",
      "Requirement already satisfied: numpy in c:\\users\\larissa santana\\anaconda3\\lib\\site-packages (from imageio->tf-keras-vis) (1.22.3)\n",
      "Note: you may need to restart the kernel to use updated packages.\n"
     ]
    }
   ],
   "source": [
    "pip install tf-keras-vis"
   ]
  },
  {
   "cell_type": "code",
   "execution_count": null,
   "metadata": {
    "id": "gVcqK4zeUtAd"
   },
   "outputs": [],
   "source": [
    "from tensorflow.keras.models import load_model\n",
    "from tensorflow.keras.preprocessing import image\n",
    "from tf_keras_vis.utils import normalize\n",
    "import cv2"
   ]
  },
  {
   "cell_type": "code",
   "execution_count": null,
   "metadata": {
    "colab": {
     "base_uri": "https://localhost:8080/"
    },
    "id": "KG-BukO3H5_4",
    "outputId": "b5757735-1618-4fb5-9cd6-7066c4d90c63"
   },
   "outputs": [
    {
     "data": {
      "image/png": "[encoded data removed]",
      "text/plain": [
       "<Figure size 2000x400 with 5 Axes>"
      ]
     },
     "metadata": {},
     "output_type": "display_data"
    }
   ],
   "source": [
    "# Caminho para o diretório de teste\n",
    "test_dir_german = 'D:\\\\.Dataset28022024 - TCC\\\\result\\\\test\\\\german'\n",
    "\n",
    "# Carregar 5 imagens do diretório de teste\n",
    "image_list = os.listdir(test_dir_german)[:5]\n",
    "\n",
    "# Configurar subplots\n",
    "fig, axs = plt.subplots(1, 5, figsize=(20, 4))\n",
    "fig.subplots_adjust(wspace=0.5)\n",
    "\n",
    "for i, img_name in enumerate(image_list):\n",
    "    # Carregar a imagem\n",
    "    img_path = os.path.join(test_dir_german, img_name)\n",
    "    img = image.load_img(img_path, target_size=(28, 28))\n",
    "    img_array = image.img_to_array(img)\n",
    "    img_array = np.expand_dims(img_array, axis=0)\n",
    "\n",
    "    # Simular o mapa de calor (substitua esta parte pelo seu código real)\n",
    "    heatmap_expanded = np.random.rand(1, 16, 16, 3)\n",
    "\n",
    "    # Redimensionar o mapa de calor para o tamanho original da imagem\n",
    "    heatmap_resized = cv2.resize(heatmap_expanded[0], (img_array.shape[2], img_array.shape[1]))\n",
    "\n",
    "    # Converter para um intervalo de 0 a 255\n",
    "    heatmap_resized *= 255\n",
    "\n",
    "    # Converter para inteiro\n",
    "    heatmap_resized = heatmap_resized.astype(np.uint8)\n",
    "\n",
    "    # Converter a imagem para escala de cinza\n",
    "    gray_img = cv2.cvtColor(img_array[0].astype(np.uint8), cv2.COLOR_BGR2GRAY)\n",
    "\n",
    "    # Sobrepôr o mapa de calor na imagem em escala de cinza\n",
    "    heatmap_colored = cv2.applyColorMap(gray_img, cv2.COLORMAP_JET)\n",
    "    superimposed_img = cv2.addWeighted(heatmap_colored, 0.4, heatmap_resized, 0.6, 0)\n",
    "\n",
    "    # Exibir a imagem e o Grad-CAM no subplot correspondente\n",
    "    axs[i].imshow(superimposed_img)\n",
    "    axs[i].set_title(f'Image {i+1}')\n",
    "    axs[i].axis('off')\n",
    "\n",
    "plt.show()"
   ]
  },
  {
   "cell_type": "code",
   "execution_count": null,
   "metadata": {
    "colab": {
     "base_uri": "https://localhost:8080/"
    },
    "id": "_5TxTpVAIBSe",
    "outputId": "85e0c396-3ca7-47a2-cb25-2dc9a2639d64"
   },
   "outputs": [
    {
     "data": {
      "image/png": "[encoded data removed]",
      "text/plain": [
       "<Figure size 2000x400 with 5 Axes>"
      ]
     },
     "metadata": {},
     "output_type": "display_data"
    }
   ],
   "source": [
    "# Caminho para o diretório de teste\n",
    "test_dir_indian = 'D:\\\\.Dataset28022024 - TCC\\\\result\\\\test\\\\indian'\n",
    "\n",
    "# Carregar 5 imagens do diretório de teste\n",
    "image_list = os.listdir(test_dir_indian)[:5]\n",
    "\n",
    "# Configurar subplots\n",
    "fig, axs = plt.subplots(1, 5, figsize=(20, 4))\n",
    "fig.subplots_adjust(wspace=0.5)\n",
    "\n",
    "for i, img_name in enumerate(image_list):\n",
    "    # Carregar a imagem\n",
    "    img_path = os.path.join(test_dir_indian, img_name)\n",
    "    img = image.load_img(img_path, target_size=(28, 28))\n",
    "    img_array = image.img_to_array(img)\n",
    "    img_array = np.expand_dims(img_array, axis=0)\n",
    "\n",
    "    # Simular o mapa de calor (substitua esta parte pelo seu código real)\n",
    "    heatmap_expanded = np.random.rand(1, 16, 16, 3)\n",
    "\n",
    "    # Redimensionar o mapa de calor para o tamanho original da imagem\n",
    "    heatmap_resized = cv2.resize(heatmap_expanded[0], (img_array.shape[2], img_array.shape[1]))\n",
    "\n",
    "    # Converter para um intervalo de 0 a 255\n",
    "    heatmap_resized *= 255\n",
    "\n",
    "    # Converter para inteiro\n",
    "    heatmap_resized = heatmap_resized.astype(np.uint8)\n",
    "\n",
    "    # Converter a imagem para escala de cinza\n",
    "    gray_img = cv2.cvtColor(img_array[0].astype(np.uint8), cv2.COLOR_BGR2GRAY)\n",
    "\n",
    "    # Sobrepôr o mapa de calor na imagem em escala de cinza\n",
    "    heatmap_colored = cv2.applyColorMap(gray_img, cv2.COLORMAP_JET)\n",
    "    superimposed_img = cv2.addWeighted(heatmap_colored, 0.4, heatmap_resized, 0.6, 0)\n",
    "\n",
    "    # Exibir a imagem e o Grad-CAM no subplot correspondente\n",
    "    axs[i].imshow(superimposed_img)\n",
    "    axs[i].set_title(f'Image {i+1}')\n",
    "    axs[i].axis('off')\n",
    "\n",
    "plt.show()"
   ]
  },
  {
   "cell_type": "code",
   "execution_count": null,
   "metadata": {
    "colab": {
     "base_uri": "https://localhost:8080/"
    },
    "id": "Z8yPEuQhgJhO",
    "outputId": "8c76d07d-fe92-4b56-c06c-24fdb2692cc8"
   },
   "outputs": [
    {
     "data": {
      "image/png": "[encoded data removed]",
      "text/plain": [
       "<Figure size 2000x400 with 5 Axes>"
      ]
     },
     "metadata": {},
     "output_type": "display_data"
    }
   ],
   "source": [
    "# Caminho para o diretório de teste\n",
    "test_dir_japanese = 'D:\\\\.Dataset28022024 - TCC\\\\result\\\\test\\\\japanese'\n",
    "\n",
    "# Carregar 5 imagens do diretório de teste\n",
    "image_list = os.listdir(test_dir_japanese)[:5]\n",
    "\n",
    "# Configurar subplots\n",
    "fig, axs = plt.subplots(1, 5, figsize=(20, 4))\n",
    "fig.subplots_adjust(wspace=0.5)\n",
    "\n",
    "for i, img_name in enumerate(image_list):\n",
    "    # Carregar a imagem\n",
    "    img_path = os.path.join(test_dir_japanese, img_name)\n",
    "    img = image.load_img(img_path, target_size=(28, 28))\n",
    "    img_array = image.img_to_array(img)\n",
    "    img_array = np.expand_dims(img_array, axis=0)\n",
    "\n",
    "    # Simular o mapa de calor (substitua esta parte pelo seu código real)\n",
    "    heatmap_expanded = np.random.rand(1, 16, 16, 3)\n",
    "\n",
    "    # Redimensionar o mapa de calor para o tamanho original da imagem\n",
    "    heatmap_resized = cv2.resize(heatmap_expanded[0], (img_array.shape[2], img_array.shape[1]))\n",
    "\n",
    "    # Converter para um intervalo de 0 a 255\n",
    "    heatmap_resized *= 255\n",
    "\n",
    "    # Converter para inteiro\n",
    "    heatmap_resized = heatmap_resized.astype(np.uint8)\n",
    "\n",
    "    # Converter a imagem para escala de cinza\n",
    "    gray_img = cv2.cvtColor(img_array[0].astype(np.uint8), cv2.COLOR_BGR2GRAY)\n",
    "\n",
    "    # Sobrepôr o mapa de calor na imagem em escala de cinza\n",
    "    heatmap_colored = cv2.applyColorMap(gray_img, cv2.COLORMAP_JET)\n",
    "    superimposed_img = cv2.addWeighted(heatmap_colored, 0.4, heatmap_resized, 0.6, 0)\n",
    "\n",
    "    # Exibir a imagem e o Grad-CAM no subplot correspondente\n",
    "    axs[i].imshow(superimposed_img)\n",
    "    axs[i].set_title(f'Image {i+1}')\n",
    "    axs[i].axis('off')\n",
    "\n",
    "plt.show()"
   ]
  },
  {
   "cell_type": "code",
   "execution_count": null,
   "metadata": {
    "colab": {
     "base_uri": "https://localhost:8080/"
    },
    "id": "uGAiB2wwfYbM",
    "outputId": "4887e269-9114-412f-93ef-cfe93954b4ec"
   },
   "outputs": [
    {
     "data": {
      "image/png": "[encoded data removed]",
      "text/plain": [
       "<Figure size 2000x400 with 5 Axes>"
      ]
     },
     "metadata": {},
     "output_type": "display_data"
    }
   ],
   "source": [
    "# Caminho para o diretório de teste\n",
    "test_dir_spanish = 'D:\\\\.Dataset28022024 - TCC\\\\result\\\\test\\\\spanish'\n",
    "\n",
    "# Carregar 5 imagens do diretório de teste\n",
    "image_list = os.listdir(test_dir_spanish)[:5]\n",
    "\n",
    "# Configurar subplots\n",
    "fig, axs = plt.subplots(1, 5, figsize=(20, 4))\n",
    "fig.subplots_adjust(wspace=0.5)\n",
    "\n",
    "for i, img_name in enumerate(image_list):\n",
    "    # Carregar a imagem\n",
    "    img_path = os.path.join(test_dir_spanish, img_name)\n",
    "    img = image.load_img(img_path, target_size=(28, 28))\n",
    "    img_array = image.img_to_array(img)\n",
    "    img_array = np.expand_dims(img_array, axis=0)\n",
    "\n",
    "    # Simular o mapa de calor (substitua esta parte pelo seu código real)\n",
    "    heatmap_expanded = np.random.rand(1, 16, 16, 3)\n",
    "\n",
    "    # Redimensionar o mapa de calor para o tamanho original da imagem\n",
    "    heatmap_resized = cv2.resize(heatmap_expanded[0], (img_array.shape[2], img_array.shape[1]))\n",
    "\n",
    "    # Converter para um intervalo de 0 a 255\n",
    "    heatmap_resized *= 255\n",
    "\n",
    "    # Converter para inteiro\n",
    "    heatmap_resized = heatmap_resized.astype(np.uint8)\n",
    "\n",
    "    # Converter a imagem para escala de cinza\n",
    "    gray_img = cv2.cvtColor(img_array[0].astype(np.uint8), cv2.COLOR_BGR2GRAY)\n",
    "\n",
    "    # Sobrepôr o mapa de calor na imagem em escala de cinza\n",
    "    heatmap_colored = cv2.applyColorMap(gray_img, cv2.COLORMAP_JET)\n",
    "    superimposed_img = cv2.addWeighted(heatmap_colored, 0.4, heatmap_resized, 0.6, 0)\n",
    "\n",
    "    # Exibir a imagem e o Grad-CAM no subplot correspondente\n",
    "    axs[i].imshow(superimposed_img)\n",
    "    axs[i].set_title(f'Image {i+1}')\n",
    "    axs[i].axis('off')\n",
    "\n",
    "plt.show()"
   ]
  },
  {
   "cell_type": "markdown",
   "metadata": {
    "id": "1iUOm0GQ7yXl",
    "jp-MarkdownHeadingCollapsed": true
   },
   "source": [
    "### Testing Model with other images"
   ]
  },
  {
   "cell_type": "code",
   "execution_count": null,
   "metadata": {
    "id": "ZCIHtvrY8No2"
   },
   "outputs": [],
   "source": [
    "import cv2"
   ]
  },
  {
   "cell_type": "code",
   "execution_count": null,
   "metadata": {
    "id": "8tupf3cT7xlr"
   },
   "outputs": [],
   "source": [
    "german_path = 'C:\\\\Users\\\\Larissa Santana\\\\Documents\\\\UFAL\\\\TCC\\\\Models\\\\test_image_labels\\\\german.jpg'\n",
    "indian_path = 'C:\\\\Users\\\\Larissa Santana\\\\Documents\\\\UFAL\\\\TCC\\\\Models\\\\test_image_labels\\\\indian.jpg'\n",
    "japanese_path = 'C:\\\\Users\\\\Larissa Santana\\\\Documents\\\\UFAL\\\\TCC\\\\Models\\\\test_image_labels\\\\japanese.jpg'\n",
    "spanish_path = 'C:\\\\Users\\\\Larissa Santana\\\\Documents\\\\UFAL\\\\TCC\\\\Models\\\\test_image_labels\\\\spanish.jpg'"
   ]
  },
  {
   "cell_type": "code",
   "execution_count": null,
   "metadata": {
    "colab": {
     "base_uri": "https://localhost:8080/"
    },
    "id": "DnxaWaT373Jp",
    "outputId": "051d61e2-c834-4a31-eda3-a49317ea631e"
   },
   "outputs": [
    {
     "data": {
      "image/png": "[encoded data removed]",
      "text/plain": [
       "<Figure size 600x200 with 4 Axes>"
      ]
     },
     "metadata": {},
     "output_type": "display_data"
    }
   ],
   "source": [
    "german = preprocess_image(german_path)\n",
    "indian = preprocess_image(indian_path)\n",
    "japanese = preprocess_image(japanese_path)\n",
    "spanish = preprocess_image(spanish_path)\n",
    "\n",
    "plt.figure(figsize=(6, 2))\n",
    "\n",
    "plt.subplot(1, 4, 1)\n",
    "plt.imshow(german)\n",
    "plt.axis('off')\n",
    "\n",
    "plt.subplot(1, 4, 2)\n",
    "plt.imshow(indian)\n",
    "plt.axis('off')\n",
    "\n",
    "plt.subplot(1, 4, 3)\n",
    "plt.imshow(japanese)\n",
    "plt.axis('off')\n",
    "\n",
    "plt.subplot(1, 4, 4)\n",
    "plt.imshow(spanish)\n",
    "plt.axis('off')\n",
    "\n",
    "plt.show()"
   ]
  },
  {
   "cell_type": "code",
   "execution_count": null,
   "metadata": {
    "colab": {
     "base_uri": "https://localhost:8080/"
    },
    "id": "ta446RLtJ0P5",
    "outputId": "c67b2a2e-9e6b-4e37-fda0-d5a08fcc44fb"
   },
   "outputs": [
    {
     "name": "stdout",
     "output_type": "stream",
     "text": [
      "1/1 [==============================] - 0s 135ms/step\n",
      "Predicted class for sample 1 is Spanish with confidence 0.9472328424453735\n",
      "Predicted class for sample 2 is Spanish with confidence 0.9472336173057556\n",
      "Predicted class for sample 3 is Spanish with confidence 0.9472370147705078\n",
      "Predicted class for sample 4 is Spanish with confidence 0.9472368359565735\n"
     ]
    }
   ],
   "source": [
    "german_normalized = german / 255.0\n",
    "indian_normalized = indian / 255.0\n",
    "japanese_normalized = japanese / 255.0\n",
    "spanish_normalized = spanish / 255.0\n",
    "\n",
    "# Suponha que você tenha um conjunto de dados com todas as imagens\n",
    "all_images = np.array([german_normalized, indian_normalized, japanese_normalized, spanish_normalized])\n",
    "\n",
    "# Use a função predict diretamente no conjunto de dados\n",
    "all_predictions = model.predict(all_images)\n",
    "\n",
    "threshold = 0.5  # Escolha um valor de limiar adequado\n",
    "\n",
    "# Lista de nomes de labels correspondentes aos índices previstos\n",
    "label_names = ['German', 'Indian', 'Japanese', 'Spanish']\n",
    "\n",
    "# Iterar sobre as previsões para cada classe\n",
    "for i, predictions in enumerate(all_predictions):\n",
    "    predicted_class = np.argmax(predictions)\n",
    "    confidence = predictions[predicted_class]\n",
    "    predicted_label = label_names[predicted_class]\n",
    "\n",
    "    if confidence > threshold:\n",
    "        print(f'Predicted class for sample {i + 1} is {predicted_label} with confidence {confidence}')\n",
    "    else:\n",
    "        print(f'Sample {i + 1} is None of the above')"
   ]
  }
 ],
 "metadata": {
  "accelerator": "GPU",
  "colab": {
   "collapsed_sections": [
    "qnrp1Wu3ZFK_",
    "9Zzbt5jzbcBa",
    "xkjWKCKBkVtF",
    "aYHzzr4ijvbK",
    "YkXkUHfVW2hX",
    "hVqlj_J8XEXc",
    "NSs9A3HV7n2O"
   ],
   "gpuType": "T4",
   "provenance": []
  },
  "kernelspec": {
   "display_name": "Python 3 (ipykernel)",
   "language": "python",
   "name": "python3"
  },
  "language_info": {
   "codemirror_mode": {
    "name": "ipython",
    "version": 3
   },
   "file_extension": ".py",
   "mimetype": "text/x-python",
   "name": "python",
   "nbconvert_exporter": "python",
   "pygments_lexer": "ipython3",
   "version": "3.9.18"
  }
 },
 "nbformat": 4,
 "nbformat_minor": 4
}
