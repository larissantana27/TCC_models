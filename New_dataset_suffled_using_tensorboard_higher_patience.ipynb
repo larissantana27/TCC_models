{
 "cells": [
  {
   "cell_type": "markdown",
   "metadata": {},
   "source": [
    "### Code Paramethers"
   ]
  },
  {
   "cell_type": "markdown",
   "metadata": {
    "id": "_MKu1DQSbNw2"
   },
   "source": [
    "* Labels: All\n",
    "* Size: (28,28)\n",
    "* Data augmentation: YES (without generators and chances for caracteristics)\n",
    "* Model Layers: 2 conv2D (64,64), 2 dense layers and relu in all layers\n",
    "* Testing implemented\n",
    "* New Dataset suffled"
   ]
  },
  {
   "cell_type": "markdown",
   "metadata": {
    "id": "xkjWKCKBkVtF"
   },
   "source": [
    "### Defining Dataset Path"
   ]
  },
  {
   "cell_type": "code",
   "execution_count": 1,
   "metadata": {},
   "outputs": [],
   "source": [
    "import os\n",
    "dataset_directory = 'D:\\\\.Dataset05032024 - TCC\\\\labels'\n",
    "os.makedirs(dataset_directory, exist_ok=True)\n",
    "os.chdir(dataset_directory)"
   ]
  },
  {
   "cell_type": "markdown",
   "metadata": {
    "id": "xkjWKCKBkVtF"
   },
   "source": [
    "### Loading Data into train, validation and teste folders"
   ]
  },
  {
   "cell_type": "code",
   "execution_count": 3,
   "metadata": {
    "id": "8wgbY4zSukxW"
   },
   "outputs": [],
   "source": [
    "from shutil import copyfile\n",
    "from sklearn.model_selection import train_test_split"
   ]
  },
  {
   "cell_type": "code",
   "execution_count": 2,
   "metadata": {
    "id": "0K9shcjBumpg"
   },
   "outputs": [],
   "source": [
    "train_directory = 'D:\\\\.Dataset05032024 - TCC\\\\result\\\\train'\n",
    "validation_directory = 'D:\\\\.Dataset05032024 - TCC\\\\result\\\\validate'\n",
    "test_directory = 'D:\\\\.Dataset05032024 - TCC\\\\result\\\\test'"
   ]
  },
  {
   "cell_type": "code",
   "execution_count": 4,
   "metadata": {
    "id": "Z7jhP_-Y7clt"
   },
   "outputs": [],
   "source": [
    "def load_data_into_train_validation_test(dataset_directory, train_directory, validation_directory, test_directory):\n",
    "    \n",
    "    # Lista de pastas de classe (uma pasta para cada classe de roupa)\n",
    "    class_folders = os.listdir(dataset_directory)\n",
    "    \n",
    "    # Porcentagem de imagens para validação e teste (10% para cada)\n",
    "    validation_percent = 0.17\n",
    "    test_percent = 0.14\n",
    "    \n",
    "    # Loop através de cada pasta de classe\n",
    "    for class_folder in class_folders:\n",
    "    \n",
    "        # Diretório completo da pasta de classe original\n",
    "        class_folder_path = os.path.join(dataset_directory, class_folder)\n",
    "    \n",
    "        # Lista de todas as imagens na pasta de classe\n",
    "        images = os.listdir(class_folder_path)\n",
    "    \n",
    "        # Calcule o número de imagens a serem movidas para validação e teste\n",
    "        validation_images_quantity = int(len(images) * validation_percent)\n",
    "        test_images_quantity = int(len(images) * test_percent)\n",
    "    \n",
    "        # Divida as imagens em treinamento, validação e teste\n",
    "        train_images = images[validation_images_quantity + test_images_quantity:]\n",
    "        validation_images = images[:validation_images_quantity]\n",
    "        test_images = images[validation_images_quantity:validation_images_quantity + test_images_quantity]\n",
    "        # print(\"train_images\", train_images)\n",
    "    \n",
    "        # Crie diretórios para treinamento, validação e teste para a classe atual\n",
    "        train_class_directory = os.path.join(train_directory, class_folder)\n",
    "        validation_class_directory = os.path.join(validation_directory, class_folder)\n",
    "        test_class_directory = os.path.join(test_directory, class_folder)\n",
    "    \n",
    "        # print(\"train_class_directory\", train_class_directory)\n",
    "        # print(\"validation_class_directory\", validation_class_directory)\n",
    "        # print(\"test_class_directory\", test_class_directory)\n",
    "\n",
    "        os.makedirs(train_class_directory, exist_ok=True)\n",
    "        os.makedirs(validation_class_directory, exist_ok=True)\n",
    "        os.makedirs(test_class_directory, exist_ok=True)\n",
    "\n",
    "        # Mova as imagens para os diretórios correspondentes\n",
    "        for image in train_images:\n",
    "            # print(\"image\", image)\n",
    "            src = os.path.join(class_folder_path, image)\n",
    "            # print(\"scr\", src)\n",
    "            dst = os.path.join(train_class_directory, image)\n",
    "            # print(\"dst\", dst)\n",
    "            copyfile(src, dst)\n",
    "    \n",
    "        for image in validation_images:\n",
    "            src = os.path.join(class_folder_path, image)\n",
    "            dst = os.path.join(validation_class_directory, image)\n",
    "            copyfile(src, dst)\n",
    "    \n",
    "        for image in test_images:\n",
    "            src = os.path.join(class_folder_path, image)\n",
    "            dst = os.path.join(test_class_directory, image)\n",
    "            copyfile(src, dst)"
   ]
  },
  {
   "cell_type": "code",
   "execution_count": 5,
   "metadata": {},
   "outputs": [],
   "source": [
    "load_data_into_train_validation_test(dataset_directory, train_directory, validation_directory, test_directory)"
   ]
  },
  {
   "cell_type": "markdown",
   "metadata": {
    "id": "xkjWKCKBkVtF"
   },
   "source": [
    "### Defining Pre Processing (Redefinition and Normalization)"
   ]
  },
  {
   "cell_type": "code",
   "execution_count": 5,
   "metadata": {
    "id": "-Z9_lSd-YuxD"
   },
   "outputs": [],
   "source": [
    "target_size = (28, 28) # Tamanho alvo para redimensionamento\n",
    "\n",
    "def preprocess_image(image_path):\n",
    "    \n",
    "    img = load_img(image_path, target_size=target_size)\n",
    "    img_array = img_to_array(img)\n",
    "    img_array /= 255.0  # Normalização dos valores dos pixels para [0, 1]\n",
    "    \n",
    "    return img_array"
   ]
  },
  {
   "cell_type": "markdown",
   "metadata": {
    "id": "aYHzzr4ijvbK"
   },
   "source": [
    "### Saving images with pre-processing definitions"
   ]
  },
  {
   "cell_type": "code",
   "execution_count": 6,
   "metadata": {
    "id": "cNptvomzuqED"
   },
   "outputs": [],
   "source": [
    "import numpy as np\n",
    "import matplotlib.pyplot as plt\n",
    "from tensorflow.keras.preprocessing.image import load_img, img_to_array, array_to_img"
   ]
  },
  {
   "cell_type": "code",
   "execution_count": 7,
   "metadata": {},
   "outputs": [],
   "source": [
    "dataset_directories = [train_directory, validation_directory, test_directory]"
   ]
  },
  {
   "cell_type": "code",
   "execution_count": 9,
   "metadata": {
    "colab": {
     "base_uri": "https://localhost:8080/"
    },
    "id": "LuMWIEwS2N9R",
    "outputId": "e61ac8ac-543c-45f7-d329-2bd1d777b45b"
   },
   "outputs": [],
   "source": [
    "def saving_images_with_preprocessig_definitions(dataset_directories):\n",
    "\n",
    "    for dataset_directory in dataset_directories:\n",
    "    \n",
    "        # Loop através de cada pasta de classe em treinamento\n",
    "        for class_folder in os.listdir(dataset_directory):\n",
    "    \n",
    "            # Crie uma figura com três subplots em uma linha\n",
    "            if (dataset_directory == train_directory): fig, axs = plt.subplots(1, 3, figsize=(6, 2))\n",
    "    \n",
    "            class_folder_path = os.path.join(dataset_directory, class_folder)\n",
    "    \n",
    "            i = 0\n",
    "            # Loop através de cada imagem na pasta de classe\n",
    "            for image_name in os.listdir(class_folder_path):\n",
    "                image_path = os.path.join(class_folder_path, image_name)\n",
    "    \n",
    "                # Pré-processar a imagem\n",
    "                preprocessed_image = preprocess_image(image_path)\n",
    "    \n",
    "                # Salvar a imagem pré-processada de volta ao mesmo local\n",
    "                array_img = array_to_img(preprocessed_image)\n",
    "                array_img.save(image_path)\n",
    "    \n",
    "                if (dataset_directory == train_directory and i < 3):\n",
    "                    axs[i].imshow(preprocessed_image)\n",
    "                    axs[i].axis('off')\n",
    "                    i += 1\n",
    "            \n",
    "    plt.show()"
   ]
  },
  {
   "cell_type": "code",
   "execution_count": 10,
   "metadata": {},
   "outputs": [
    {
     "data": {
      "image/png": "[encoded data removed]",
      "text/plain": [
       "<Figure size 600x200 with 3 Axes>"
      ]
     },
     "metadata": {},
     "output_type": "display_data"
    },
    {
     "data": {
      "image/png": "[encoded data removed]",
      "text/plain": [
       "<Figure size 600x200 with 3 Axes>"
      ]
     },
     "metadata": {},
     "output_type": "display_data"
    },
    {
     "data": {
      "image/png": "[encoded data removed]",
      "text/plain": [
       "<Figure size 600x200 with 3 Axes>"
      ]
     },
     "metadata": {},
     "output_type": "display_data"
    },
    {
     "data": {
      "image/png": "[encoded data removed]",
      "text/plain": [
       "<Figure size 600x200 with 3 Axes>"
      ]
     },
     "metadata": {},
     "output_type": "display_data"
    }
   ],
   "source": [
    "saving_images_with_preprocessig_definitions(dataset_directories)"
   ]
  },
  {
   "cell_type": "markdown",
   "metadata": {
    "id": "YkXkUHfVW2hX"
   },
   "source": [
    "### Including Augmented Images on Train Directory"
   ]
  },
  {
   "cell_type": "code",
   "execution_count": 11,
   "metadata": {},
   "outputs": [],
   "source": [
    "import imgaug as ia\n",
    "from imgaug import augmenters as iaa"
   ]
  },
  {
   "cell_type": "code",
   "execution_count": 12,
   "metadata": {},
   "outputs": [],
   "source": [
    "rotation_range = 10\n",
    "width_shift_range = 0.1\n",
    "height_shift_range = 0.1\n",
    "shear_range = 0.1\n",
    "zoom_range = 0.1\n",
    "horizontal_flip = True"
   ]
  },
  {
   "cell_type": "code",
   "execution_count": 13,
   "metadata": {
    "id": "ZVEqz_a2x6BD"
   },
   "outputs": [],
   "source": [
    "generating_augmented_images = iaa.Sequential([\n",
    "    # Virar Horizontalmente\n",
    "    iaa.Fliplr(p=0.5),\n",
    "    # Rotação Aleatória\n",
    "    iaa.Sometimes(0.4, iaa.Affine(rotate=(-rotation_range, rotation_range))),\n",
    "    # Deslocamento Horizontal e Vertical\n",
    "    iaa.Sometimes(0.3, iaa.Affine(translate_percent={\"x\": (-width_shift_range, width_shift_range),\n",
    "                                                     \"y\": (-height_shift_range, height_shift_range)})),\n",
    "    # Zoom Aleatório\n",
    "    iaa.Sometimes(0.2, iaa.Affine(scale=(1 - zoom_range, 1 + zoom_range))),\n",
    "    # Sem probabilidade, sempre aplicada\n",
    "    iaa.Affine(shear=(-shear_range, shear_range)),\n",
    "], random_order=True)  # Aplica as augmentations em ordem aleatória\n"
   ]
  },
  {
   "cell_type": "code",
   "execution_count": 14,
   "metadata": {},
   "outputs": [],
   "source": [
    "from tensorflow.keras.utils import save_img"
   ]
  },
  {
   "cell_type": "code",
   "execution_count": 15,
   "metadata": {},
   "outputs": [],
   "source": [
    "def including_augmented_images(train_directory):\n",
    "    \n",
    "    for class_folder in os.listdir(train_directory):\n",
    "    \n",
    "        class_folder_path = os.path.join(train_directory, class_folder)\n",
    "        images = os.listdir(class_folder_path)\n",
    "    \n",
    "        fig, axs = plt.subplots(1, 3, figsize=(6, 2))\n",
    "    \n",
    "        for i, image_name in enumerate(images):\n",
    "            image_path = os.path.join(class_folder_path, image_name)\n",
    "    \n",
    "            img = load_img(image_path, target_size=target_size)\n",
    "            img_array = img_to_array(img)\n",
    "    \n",
    "            # Crie uma lista que contenha a mesma imagem original três vezes\n",
    "            image_list = [img_array, img_array, img_array]\n",
    "    \n",
    "            # Aplicar augmentations à lista de imagens\n",
    "            augmented_images = generating_augmented_images(images=image_list)\n",
    "    \n",
    "            k = 0\n",
    "            # Salvar as imagens aumentadas no mesmo diretório\n",
    "            for j, augmented_image in enumerate(augmented_images):\n",
    "    \n",
    "                image_name, image_extension = os.path.splitext(image_path)\n",
    "                new_image_path = f\"{image_name}aug_{j+1}_{total_images_generated}{image_extension}\"\n",
    "    \n",
    "                # Converta a imagem aumentada em um formato válido\n",
    "                augmented_image = np.uint8(augmented_image)\n",
    "                save_img(new_image_path, augmented_image)\n",
    "    \n",
    "                axs[k].imshow(augmented_image)\n",
    "                axs[k].axis('off')\n",
    "                k += 1\n",
    "    \n",
    "        plt.show()"
   ]
  },
  {
   "cell_type": "code",
   "execution_count": 16,
   "metadata": {},
   "outputs": [
    {
     "data": {
      "image/png": "[encoded data removed]",
      "text/plain": [
       "<Figure size 600x200 with 3 Axes>"
      ]
     },
     "metadata": {},
     "output_type": "display_data"
    },
    {
     "data": {
      "image/png": "[encoded data removed]",
      "text/plain": [
       "<Figure size 600x200 with 3 Axes>"
      ]
     },
     "metadata": {},
     "output_type": "display_data"
    },
    {
     "data": {
      "image/png": "[encoded data removed]",
      "text/plain": [
       "<Figure size 600x200 with 3 Axes>"
      ]
     },
     "metadata": {},
     "output_type": "display_data"
    },
    {
     "data": {
      "image/png": "[encoded data removed]",
      "text/plain": [
       "<Figure size 600x200 with 3 Axes>"
      ]
     },
     "metadata": {},
     "output_type": "display_data"
    }
   ],
   "source": [
    "total_images_generated = 3\n",
    "including_augmented_images(train_directory)"
   ]
  },
  {
   "cell_type": "markdown",
   "metadata": {},
   "source": [
    "### Defining this Dataset Model variables from train, validation and test folders"
   ]
  },
  {
   "cell_type": "code",
   "execution_count": 3,
   "metadata": {},
   "outputs": [
    {
     "name": "stdout",
     "output_type": "stream",
     "text": [
      "Found 16244 files belonging to 4 classes.\n",
      "Found 997 files belonging to 4 classes.\n",
      "Found 821 files belonging to 4 classes.\n"
     ]
    }
   ],
   "source": [
    "import tensorflow as tf\n",
    "\n",
    "batch_size = 3 ### understand\n",
    "target_size = (28, 28)\n",
    "\n",
    "train_dataset = tf.keras.utils.image_dataset_from_directory(\n",
    "    train_directory,\n",
    "    labels='inferred',\n",
    "    image_size=(target_size),\n",
    "    batch_size=batch_size\n",
    ")\n",
    "\n",
    "# print(train_dataset)\n",
    "\n",
    "validation_dataset = tf.keras.utils.image_dataset_from_directory(\n",
    "    validation_directory,\n",
    "    labels='inferred',\n",
    "    image_size=(target_size),\n",
    "    batch_size=batch_size\n",
    ")\n",
    "\n",
    "# print(validation_dataset)\n",
    "\n",
    "test_dataset = tf.keras.utils.image_dataset_from_directory(\n",
    "    test_directory,\n",
    "    labels='inferred',\n",
    "    image_size=(target_size),\n",
    "    batch_size=batch_size\n",
    ")\n",
    "\n",
    "# print(test_dataset)"
   ]
  },
  {
   "cell_type": "markdown",
   "metadata": {
    "id": "9Zzbt5jzbcBa"
   },
   "source": [
    "### Creating Model"
   ]
  },
  {
   "cell_type": "code",
   "execution_count": 4,
   "metadata": {},
   "outputs": [],
   "source": [
    "from tensorflow.keras.models import Sequential\n",
    "from tensorflow.keras.layers import Conv2D, BatchNormalization, PReLU, MaxPooling2D, Flatten, Dense, Dropout"
   ]
  },
  {
   "cell_type": "code",
   "execution_count": 5,
   "metadata": {},
   "outputs": [],
   "source": [
    "model = tf.keras.Sequential([\n",
    "\n",
    "    BatchNormalization(input_shape=(28, 28, 3)),\n",
    "\n",
    "    Conv2D(filters=64, kernel_size=(3,3), padding='same', activation='relu'),\n",
    "    MaxPooling2D(pool_size=(2, 2), strides=2),\n",
    "    Dropout(0.1),\n",
    "\n",
    "    Conv2D(filters=64, kernel_size=(3,3), padding='same', activation='relu'),\n",
    "    MaxPooling2D(pool_size=(2, 2), strides=2),\n",
    "    Dropout(0.2),\n",
    "\n",
    "    Flatten(),\n",
    "\n",
    "    Dense(256, activation='relu'),\n",
    "    Dropout(0.5),\n",
    "\n",
    "    Dense(64, activation='relu'),\n",
    "    BatchNormalization(),\n",
    "\n",
    "    Dense(4, activation=\"softmax\")\n",
    "])"
   ]
  },
  {
   "cell_type": "code",
   "execution_count": 6,
   "metadata": {
    "id": "Y2VqzKvNGdRc"
   },
   "outputs": [],
   "source": [
    "model.build(input_shape=(None, 28, 28, 3))"
   ]
  },
  {
   "cell_type": "code",
   "execution_count": 7,
   "metadata": {
    "colab": {
     "base_uri": "https://localhost:8080/"
    },
    "id": "rwH_nfTXRYVW",
    "outputId": "c42784b1-e0bf-4cd6-a2e2-7d7194ee4073"
   },
   "outputs": [
    {
     "name": "stdout",
     "output_type": "stream",
     "text": [
      "Model: \"sequential\"\n",
      "_________________________________________________________________\n",
      " Layer (type)                Output Shape              Param #   \n",
      "=================================================================\n",
      " batch_normalization (BatchN  (None, 28, 28, 3)        12        \n",
      " ormalization)                                                   \n",
      "                                                                 \n",
      " conv2d (Conv2D)             (None, 28, 28, 64)        1792      \n",
      "                                                                 \n",
      " max_pooling2d (MaxPooling2D  (None, 14, 14, 64)       0         \n",
      " )                                                               \n",
      "                                                                 \n",
      " dropout (Dropout)           (None, 14, 14, 64)        0         \n",
      "                                                                 \n",
      " conv2d_1 (Conv2D)           (None, 14, 14, 64)        36928     \n",
      "                                                                 \n",
      " max_pooling2d_1 (MaxPooling  (None, 7, 7, 64)         0         \n",
      " 2D)                                                             \n",
      "                                                                 \n",
      " dropout_1 (Dropout)         (None, 7, 7, 64)          0         \n",
      "                                                                 \n",
      " flatten (Flatten)           (None, 3136)              0         \n",
      "                                                                 \n",
      " dense (Dense)               (None, 256)               803072    \n",
      "                                                                 \n",
      " dropout_2 (Dropout)         (None, 256)               0         \n",
      "                                                                 \n",
      " dense_1 (Dense)             (None, 64)                16448     \n",
      "                                                                 \n",
      " batch_normalization_1 (Batc  (None, 64)               256       \n",
      " hNormalization)                                                 \n",
      "                                                                 \n",
      " dense_2 (Dense)             (None, 4)                 260       \n",
      "                                                                 \n",
      "=================================================================\n",
      "Total params: 858,768\n",
      "Trainable params: 858,634\n",
      "Non-trainable params: 134\n",
      "_________________________________________________________________\n"
     ]
    }
   ],
   "source": [
    "model.summary()"
   ]
  },
  {
   "cell_type": "markdown",
   "metadata": {
    "id": "NSs9A3HV7n2O"
   },
   "source": [
    "### Compiling Model"
   ]
  },
  {
   "cell_type": "code",
   "execution_count": 8,
   "metadata": {
    "id": "CQWAvYng8TG5"
   },
   "outputs": [],
   "source": [
    "from tensorflow.keras.optimizers import Adam"
   ]
  },
  {
   "cell_type": "code",
   "execution_count": 9,
   "metadata": {
    "id": "_-uzp89Z9qQO"
   },
   "outputs": [],
   "source": [
    "adam = Adam(learning_rate=0.001)"
   ]
  },
  {
   "cell_type": "code",
   "execution_count": 10,
   "metadata": {
    "id": "82BHbJeJTkA-"
   },
   "outputs": [],
   "source": [
    "model.compile(optimizer=adam, loss='sparse_categorical_crossentropy', metrics=['accuracy'])"
   ]
  },
  {
   "cell_type": "markdown",
   "metadata": {
    "id": "NumMvSkB3uNG"
   },
   "source": [
    "### Defining Callback Methods"
   ]
  },
  {
   "cell_type": "code",
   "execution_count": 11,
   "metadata": {
    "id": "B2BSeTFq3kBa"
   },
   "outputs": [],
   "source": [
    "from tensorflow.keras.callbacks import ModelCheckpoint, EarlyStopping, TensorBoard"
   ]
  },
  {
   "cell_type": "markdown",
   "metadata": {
    "id": "i5K7iu5HTC3u"
   },
   "source": [
    "*   Checkpoint to save best model weights\n"
   ]
  },
  {
   "cell_type": "code",
   "execution_count": 12,
   "metadata": {
    "id": "9zXzkxnBGD7c"
   },
   "outputs": [],
   "source": [
    "checkpoint_path = 'D:\\\\.Dataset05032024 - TCC\\\\model_checkpoint_recent'\n",
    "checkpoint = ModelCheckpoint(checkpoint_path, monitor='val_accuracy', save_best_only=True, verbose=1)"
   ]
  },
  {
   "cell_type": "markdown",
   "metadata": {
    "id": "Gp7yZZ5zTHI5"
   },
   "source": [
    "*   Earlystop to stop the training process when the model stops improving\n",
    "\n"
   ]
  },
  {
   "cell_type": "code",
   "execution_count": 13,
   "metadata": {
    "id": "e4gKPsqb2tf5"
   },
   "outputs": [],
   "source": [
    "early_stopping = EarlyStopping(monitor='accuracy', patience=100)"
   ]
  },
  {
   "cell_type": "markdown",
   "metadata": {
    "id": "m5zsa8MWTHMG"
   },
   "source": [
    "*   TensorBoard to use logs for vizualize whats happening\n",
    "\n"
   ]
  },
  {
   "cell_type": "code",
   "execution_count": 4,
   "metadata": {},
   "outputs": [
    {
     "name": "stdout",
     "output_type": "stream",
     "text": [
      "2.9.0\n"
     ]
    }
   ],
   "source": [
    "import tensorboard \n",
    "\n",
    "print(tensorboard.version.VERSION)"
   ]
  },
  {
   "cell_type": "code",
   "execution_count": 40,
   "metadata": {},
   "outputs": [],
   "source": [
    "# log_dir = 'D:\\\\.Dataset05032024 - TCC\\\\logs2'\n",
    "\n",
    "# custom_summary_writer = CustomSummaryWriter(log_dir)\n",
    "# custom_summary_writer.set_model(model) "
   ]
  },
  {
   "cell_type": "code",
   "execution_count": 41,
   "metadata": {},
   "outputs": [],
   "source": [
    "\n",
    "# from tensorflow.keras.callbacks import TensorBoard\n",
    "\n",
    "# tensorboard_callback = TensorBoard(log_dir=log_dir, histogram_freq=1, write_graph=True, write_images=True)"
   ]
  },
  {
   "cell_type": "code",
   "execution_count": 8,
   "metadata": {},
   "outputs": [
    {
     "name": "stdout",
     "output_type": "stream",
     "text": [
      "The tensorboard extension is already loaded. To reload it, use:\n",
      "  %reload_ext tensorboard\n"
     ]
    }
   ],
   "source": [
    "# Load the TensorBoard notebook extension\n",
    "%load_ext tensorboard"
   ]
  },
  {
   "cell_type": "code",
   "execution_count": 9,
   "metadata": {},
   "outputs": [],
   "source": [
    "import tensorflow as tf\n",
    "import datetime\n",
    "\n",
    "# Clear any logs from previous runs\n",
    "# rm -rf ./logs/\n",
    "\n",
    "log_dir = \"D:\\\\.Dataset05032024 - TCC\\\\logs_recent\" \n",
    "# + datetime.datetime.now().strftime(\"%Y%m%d-%H%M%S\")\n",
    "tensorboard_callback = tf.keras.callbacks.TensorBoard(log_dir=log_dir, histogram_freq=1)\n"
   ]
  },
  {
   "cell_type": "markdown",
   "metadata": {
    "id": "4YUunUeWT7iw"
   },
   "source": [
    "### Starting training with defined callbacks"
   ]
  },
  {
   "cell_type": "code",
   "execution_count": 16,
   "metadata": {},
   "outputs": [
    {
     "name": "stdout",
     "output_type": "stream",
     "text": [
      "2.9.1\n"
     ]
    }
   ],
   "source": [
    "import tensorflow as tf\n",
    "print(tf.__version__)"
   ]
  },
  {
   "cell_type": "code",
   "execution_count": 17,
   "metadata": {
    "colab": {
     "base_uri": "https://localhost:8080/"
    },
    "id": "hLVzfz5LDDHC",
    "outputId": "98e2a621-09ff-47f5-cc65-e07771f9c266"
   },
   "outputs": [
    {
     "name": "stdout",
     "output_type": "stream",
     "text": [
      "Epoch 1/1000\n",
      "5412/5415 [============================>.] - ETA: 0s - loss: 1.3224 - accuracy: 0.3867\n",
      "Epoch 1: val_accuracy improved from -inf to 0.45436, saving model to D:\\.Dataset05032024 - TCC\\model_checkpoint3\n"
     ]
    },
    {
     "name": "stderr",
     "output_type": "stream",
     "text": [
      "WARNING:absl:Found untraced functions such as _jit_compiled_convolution_op, _jit_compiled_convolution_op while saving (showing 2 of 2). These functions will not be directly callable after loading.\n"
     ]
    },
    {
     "name": "stdout",
     "output_type": "stream",
     "text": [
      "INFO:tensorflow:Assets written to: D:\\.Dataset05032024 - TCC\\model_checkpoint3\\assets\n"
     ]
    },
    {
     "name": "stderr",
     "output_type": "stream",
     "text": [
      "INFO:tensorflow:Assets written to: D:\\.Dataset05032024 - TCC\\model_checkpoint3\\assets\n"
     ]
    },
    {
     "name": "stdout",
     "output_type": "stream",
     "text": [
      "5415/5415 [==============================] - 102s 18ms/step - loss: 1.3224 - accuracy: 0.3867 - val_loss: 1.1674 - val_accuracy: 0.4544\n",
      "Epoch 2/1000\n",
      "5415/5415 [==============================] - ETA: 0s - loss: 1.2314 - accuracy: 0.4420\n",
      "Epoch 2: val_accuracy improved from 0.45436 to 0.59779, saving model to D:\\.Dataset05032024 - TCC\\model_checkpoint3\n"
     ]
    },
    {
     "name": "stderr",
     "output_type": "stream",
     "text": [
      "WARNING:absl:Found untraced functions such as _jit_compiled_convolution_op, _jit_compiled_convolution_op while saving (showing 2 of 2). These functions will not be directly callable after loading.\n"
     ]
    },
    {
     "name": "stdout",
     "output_type": "stream",
     "text": [
      "INFO:tensorflow:Assets written to: D:\\.Dataset05032024 - TCC\\model_checkpoint3\\assets\n"
     ]
    },
    {
     "name": "stderr",
     "output_type": "stream",
     "text": [
      "INFO:tensorflow:Assets written to: D:\\.Dataset05032024 - TCC\\model_checkpoint3\\assets\n"
     ]
    },
    {
     "name": "stdout",
     "output_type": "stream",
     "text": [
      "5415/5415 [==============================] - 97s 18ms/step - loss: 1.2314 - accuracy: 0.4420 - val_loss: 0.9426 - val_accuracy: 0.5978\n",
      "Epoch 3/1000\n",
      "5413/5415 [============================>.] - ETA: 0s - loss: 1.1182 - accuracy: 0.5219\n",
      "Epoch 3: val_accuracy did not improve from 0.59779\n",
      "5415/5415 [==============================] - 92s 17ms/step - loss: 1.1182 - accuracy: 0.5219 - val_loss: 0.9466 - val_accuracy: 0.5838\n",
      "Epoch 4/1000\n",
      "5415/5415 [==============================] - ETA: 0s - loss: 1.0422 - accuracy: 0.5750\n",
      "Epoch 4: val_accuracy did not improve from 0.59779\n",
      "5415/5415 [==============================] - 91s 17ms/step - loss: 1.0422 - accuracy: 0.5750 - val_loss: 1.4171 - val_accuracy: 0.4152\n",
      "Epoch 5/1000\n",
      "5414/5415 [============================>.] - ETA: 0s - loss: 1.0352 - accuracy: 0.5820\n",
      "Epoch 5: val_accuracy improved from 0.59779 to 0.77934, saving model to D:\\.Dataset05032024 - TCC\\model_checkpoint3\n"
     ]
    },
    {
     "name": "stderr",
     "output_type": "stream",
     "text": [
      "WARNING:absl:Found untraced functions such as _jit_compiled_convolution_op, _jit_compiled_convolution_op while saving (showing 2 of 2). These functions will not be directly callable after loading.\n"
     ]
    },
    {
     "name": "stdout",
     "output_type": "stream",
     "text": [
      "INFO:tensorflow:Assets written to: D:\\.Dataset05032024 - TCC\\model_checkpoint3\\assets\n"
     ]
    },
    {
     "name": "stderr",
     "output_type": "stream",
     "text": [
      "INFO:tensorflow:Assets written to: D:\\.Dataset05032024 - TCC\\model_checkpoint3\\assets\n"
     ]
    },
    {
     "name": "stdout",
     "output_type": "stream",
     "text": [
      "5415/5415 [==============================] - 99s 18ms/step - loss: 1.0352 - accuracy: 0.5820 - val_loss: 0.5813 - val_accuracy: 0.7793\n",
      "Epoch 6/1000\n",
      "5412/5415 [============================>.] - ETA: 0s - loss: 0.9945 - accuracy: 0.6070\n",
      "Epoch 6: val_accuracy did not improve from 0.77934\n",
      "5415/5415 [==============================] - 92s 17ms/step - loss: 0.9947 - accuracy: 0.6069 - val_loss: 0.6317 - val_accuracy: 0.7763\n",
      "Epoch 7/1000\n",
      "5415/5415 [==============================] - ETA: 0s - loss: 0.9770 - accuracy: 0.6180\n",
      "Epoch 7: val_accuracy improved from 0.77934 to 0.81244, saving model to D:\\.Dataset05032024 - TCC\\model_checkpoint3\n"
     ]
    },
    {
     "name": "stderr",
     "output_type": "stream",
     "text": [
      "WARNING:absl:Found untraced functions such as _jit_compiled_convolution_op, _jit_compiled_convolution_op while saving (showing 2 of 2). These functions will not be directly callable after loading.\n"
     ]
    },
    {
     "name": "stdout",
     "output_type": "stream",
     "text": [
      "INFO:tensorflow:Assets written to: D:\\.Dataset05032024 - TCC\\model_checkpoint3\\assets\n"
     ]
    },
    {
     "name": "stderr",
     "output_type": "stream",
     "text": [
      "INFO:tensorflow:Assets written to: D:\\.Dataset05032024 - TCC\\model_checkpoint3\\assets\n"
     ]
    },
    {
     "name": "stdout",
     "output_type": "stream",
     "text": [
      "5415/5415 [==============================] - 131s 24ms/step - loss: 0.9770 - accuracy: 0.6180 - val_loss: 0.5231 - val_accuracy: 0.8124\n",
      "Epoch 8/1000\n",
      "5414/5415 [============================>.] - ETA: 0s - loss: 0.9186 - accuracy: 0.6457\n",
      "Epoch 8: val_accuracy improved from 0.81244 to 0.84353, saving model to D:\\.Dataset05032024 - TCC\\model_checkpoint3\n"
     ]
    },
    {
     "name": "stderr",
     "output_type": "stream",
     "text": [
      "WARNING:absl:Found untraced functions such as _jit_compiled_convolution_op, _jit_compiled_convolution_op while saving (showing 2 of 2). These functions will not be directly callable after loading.\n"
     ]
    },
    {
     "name": "stdout",
     "output_type": "stream",
     "text": [
      "INFO:tensorflow:Assets written to: D:\\.Dataset05032024 - TCC\\model_checkpoint3\\assets\n"
     ]
    },
    {
     "name": "stderr",
     "output_type": "stream",
     "text": [
      "INFO:tensorflow:Assets written to: D:\\.Dataset05032024 - TCC\\model_checkpoint3\\assets\n"
     ]
    },
    {
     "name": "stdout",
     "output_type": "stream",
     "text": [
      "5415/5415 [==============================] - 105s 19ms/step - loss: 0.9185 - accuracy: 0.6458 - val_loss: 0.4791 - val_accuracy: 0.8435\n",
      "Epoch 9/1000\n",
      "5415/5415 [==============================] - ETA: 0s - loss: 0.8896 - accuracy: 0.6607\n",
      "Epoch 9: val_accuracy did not improve from 0.84353\n",
      "5415/5415 [==============================] - 89s 16ms/step - loss: 0.8896 - accuracy: 0.6607 - val_loss: 0.4694 - val_accuracy: 0.8345\n",
      "Epoch 10/1000\n",
      "5414/5415 [============================>.] - ETA: 0s - loss: 0.8868 - accuracy: 0.6721\n",
      "Epoch 10: val_accuracy improved from 0.84353 to 0.84955, saving model to D:\\.Dataset05032024 - TCC\\model_checkpoint3\n"
     ]
    },
    {
     "name": "stderr",
     "output_type": "stream",
     "text": [
      "WARNING:absl:Found untraced functions such as _jit_compiled_convolution_op, _jit_compiled_convolution_op while saving (showing 2 of 2). These functions will not be directly callable after loading.\n"
     ]
    },
    {
     "name": "stdout",
     "output_type": "stream",
     "text": [
      "INFO:tensorflow:Assets written to: D:\\.Dataset05032024 - TCC\\model_checkpoint3\\assets\n"
     ]
    },
    {
     "name": "stderr",
     "output_type": "stream",
     "text": [
      "INFO:tensorflow:Assets written to: D:\\.Dataset05032024 - TCC\\model_checkpoint3\\assets\n"
     ]
    },
    {
     "name": "stdout",
     "output_type": "stream",
     "text": [
      "5415/5415 [==============================] - 93s 17ms/step - loss: 0.8869 - accuracy: 0.6721 - val_loss: 0.4512 - val_accuracy: 0.8495\n",
      "Epoch 11/1000\n",
      "5413/5415 [============================>.] - ETA: 0s - loss: 0.8489 - accuracy: 0.6854\n",
      "Epoch 11: val_accuracy improved from 0.84955 to 0.85155, saving model to D:\\.Dataset05032024 - TCC\\model_checkpoint3\n"
     ]
    },
    {
     "name": "stderr",
     "output_type": "stream",
     "text": [
      "WARNING:absl:Found untraced functions such as _jit_compiled_convolution_op, _jit_compiled_convolution_op while saving (showing 2 of 2). These functions will not be directly callable after loading.\n"
     ]
    },
    {
     "name": "stdout",
     "output_type": "stream",
     "text": [
      "INFO:tensorflow:Assets written to: D:\\.Dataset05032024 - TCC\\model_checkpoint3\\assets\n"
     ]
    },
    {
     "name": "stderr",
     "output_type": "stream",
     "text": [
      "INFO:tensorflow:Assets written to: D:\\.Dataset05032024 - TCC\\model_checkpoint3\\assets\n"
     ]
    },
    {
     "name": "stdout",
     "output_type": "stream",
     "text": [
      "5415/5415 [==============================] - 94s 17ms/step - loss: 0.8490 - accuracy: 0.6854 - val_loss: 0.4311 - val_accuracy: 0.8516\n",
      "Epoch 12/1000\n",
      "5413/5415 [============================>.] - ETA: 0s - loss: 0.8129 - accuracy: 0.7044\n",
      "Epoch 12: val_accuracy improved from 0.85155 to 0.86359, saving model to D:\\.Dataset05032024 - TCC\\model_checkpoint3\n"
     ]
    },
    {
     "name": "stderr",
     "output_type": "stream",
     "text": [
      "WARNING:absl:Found untraced functions such as _jit_compiled_convolution_op, _jit_compiled_convolution_op while saving (showing 2 of 2). These functions will not be directly callable after loading.\n"
     ]
    },
    {
     "name": "stdout",
     "output_type": "stream",
     "text": [
      "INFO:tensorflow:Assets written to: D:\\.Dataset05032024 - TCC\\model_checkpoint3\\assets\n"
     ]
    },
    {
     "name": "stderr",
     "output_type": "stream",
     "text": [
      "INFO:tensorflow:Assets written to: D:\\.Dataset05032024 - TCC\\model_checkpoint3\\assets\n"
     ]
    },
    {
     "name": "stdout",
     "output_type": "stream",
     "text": [
      "5415/5415 [==============================] - 92s 17ms/step - loss: 0.8129 - accuracy: 0.7043 - val_loss: 0.3966 - val_accuracy: 0.8636\n",
      "Epoch 13/1000\n",
      "5414/5415 [============================>.] - ETA: 0s - loss: 0.7936 - accuracy: 0.7096\n",
      "Epoch 13: val_accuracy did not improve from 0.86359\n",
      "5415/5415 [==============================] - 89s 16ms/step - loss: 0.7935 - accuracy: 0.7096 - val_loss: 0.4131 - val_accuracy: 0.8616\n",
      "Epoch 14/1000\n",
      "5412/5415 [============================>.] - ETA: 0s - loss: 0.7842 - accuracy: 0.7134\n",
      "Epoch 14: val_accuracy improved from 0.86359 to 0.87362, saving model to D:\\.Dataset05032024 - TCC\\model_checkpoint3\n"
     ]
    },
    {
     "name": "stderr",
     "output_type": "stream",
     "text": [
      "WARNING:absl:Found untraced functions such as _jit_compiled_convolution_op, _jit_compiled_convolution_op while saving (showing 2 of 2). These functions will not be directly callable after loading.\n"
     ]
    },
    {
     "name": "stdout",
     "output_type": "stream",
     "text": [
      "INFO:tensorflow:Assets written to: D:\\.Dataset05032024 - TCC\\model_checkpoint3\\assets\n"
     ]
    },
    {
     "name": "stderr",
     "output_type": "stream",
     "text": [
      "INFO:tensorflow:Assets written to: D:\\.Dataset05032024 - TCC\\model_checkpoint3\\assets\n"
     ]
    },
    {
     "name": "stdout",
     "output_type": "stream",
     "text": [
      "5415/5415 [==============================] - 93s 17ms/step - loss: 0.7843 - accuracy: 0.7134 - val_loss: 0.3935 - val_accuracy: 0.8736\n",
      "Epoch 15/1000\n",
      "5413/5415 [============================>.] - ETA: 0s - loss: 0.8139 - accuracy: 0.7023\n",
      "Epoch 15: val_accuracy did not improve from 0.87362\n",
      "5415/5415 [==============================] - 93s 17ms/step - loss: 0.8138 - accuracy: 0.7024 - val_loss: 0.4115 - val_accuracy: 0.8626\n",
      "Epoch 16/1000\n",
      "5413/5415 [============================>.] - ETA: 0s - loss: 0.7954 - accuracy: 0.7060\n",
      "Epoch 16: val_accuracy improved from 0.87362 to 0.88064, saving model to D:\\.Dataset05032024 - TCC\\model_checkpoint3\n"
     ]
    },
    {
     "name": "stderr",
     "output_type": "stream",
     "text": [
      "WARNING:absl:Found untraced functions such as _jit_compiled_convolution_op, _jit_compiled_convolution_op while saving (showing 2 of 2). These functions will not be directly callable after loading.\n"
     ]
    },
    {
     "name": "stdout",
     "output_type": "stream",
     "text": [
      "INFO:tensorflow:Assets written to: D:\\.Dataset05032024 - TCC\\model_checkpoint3\\assets\n"
     ]
    },
    {
     "name": "stderr",
     "output_type": "stream",
     "text": [
      "INFO:tensorflow:Assets written to: D:\\.Dataset05032024 - TCC\\model_checkpoint3\\assets\n"
     ]
    },
    {
     "name": "stdout",
     "output_type": "stream",
     "text": [
      "5415/5415 [==============================] - 92s 17ms/step - loss: 0.7957 - accuracy: 0.7059 - val_loss: 0.3675 - val_accuracy: 0.8806\n",
      "Epoch 17/1000\n",
      "5414/5415 [============================>.] - ETA: 0s - loss: 0.7737 - accuracy: 0.7213\n",
      "Epoch 17: val_accuracy did not improve from 0.88064\n",
      "5415/5415 [==============================] - 89s 16ms/step - loss: 0.7739 - accuracy: 0.7213 - val_loss: 0.3613 - val_accuracy: 0.8806\n",
      "Epoch 18/1000\n",
      "5414/5415 [============================>.] - ETA: 0s - loss: 0.7235 - accuracy: 0.7471\n",
      "Epoch 18: val_accuracy improved from 0.88064 to 0.88365, saving model to D:\\.Dataset05032024 - TCC\\model_checkpoint3\n"
     ]
    },
    {
     "name": "stderr",
     "output_type": "stream",
     "text": [
      "WARNING:absl:Found untraced functions such as _jit_compiled_convolution_op, _jit_compiled_convolution_op while saving (showing 2 of 2). These functions will not be directly callable after loading.\n"
     ]
    },
    {
     "name": "stdout",
     "output_type": "stream",
     "text": [
      "INFO:tensorflow:Assets written to: D:\\.Dataset05032024 - TCC\\model_checkpoint3\\assets\n"
     ]
    },
    {
     "name": "stderr",
     "output_type": "stream",
     "text": [
      "INFO:tensorflow:Assets written to: D:\\.Dataset05032024 - TCC\\model_checkpoint3\\assets\n"
     ]
    },
    {
     "name": "stdout",
     "output_type": "stream",
     "text": [
      "5415/5415 [==============================] - 95s 17ms/step - loss: 0.7234 - accuracy: 0.7471 - val_loss: 0.3445 - val_accuracy: 0.8837\n",
      "Epoch 19/1000\n",
      "5414/5415 [============================>.] - ETA: 0s - loss: 0.7167 - accuracy: 0.7474\n",
      "Epoch 19: val_accuracy improved from 0.88365 to 0.89970, saving model to D:\\.Dataset05032024 - TCC\\model_checkpoint3\n"
     ]
    },
    {
     "name": "stderr",
     "output_type": "stream",
     "text": [
      "WARNING:absl:Found untraced functions such as _jit_compiled_convolution_op, _jit_compiled_convolution_op while saving (showing 2 of 2). These functions will not be directly callable after loading.\n"
     ]
    },
    {
     "name": "stdout",
     "output_type": "stream",
     "text": [
      "INFO:tensorflow:Assets written to: D:\\.Dataset05032024 - TCC\\model_checkpoint3\\assets\n"
     ]
    },
    {
     "name": "stderr",
     "output_type": "stream",
     "text": [
      "INFO:tensorflow:Assets written to: D:\\.Dataset05032024 - TCC\\model_checkpoint3\\assets\n"
     ]
    },
    {
     "name": "stdout",
     "output_type": "stream",
     "text": [
      "5415/5415 [==============================] - 93s 17ms/step - loss: 0.7167 - accuracy: 0.7474 - val_loss: 0.3174 - val_accuracy: 0.8997\n",
      "Epoch 20/1000\n",
      "5415/5415 [==============================] - ETA: 0s - loss: 0.7253 - accuracy: 0.7481\n",
      "Epoch 20: val_accuracy improved from 0.89970 to 0.91474, saving model to D:\\.Dataset05032024 - TCC\\model_checkpoint3\n"
     ]
    },
    {
     "name": "stderr",
     "output_type": "stream",
     "text": [
      "WARNING:absl:Found untraced functions such as _jit_compiled_convolution_op, _jit_compiled_convolution_op while saving (showing 2 of 2). These functions will not be directly callable after loading.\n"
     ]
    },
    {
     "name": "stdout",
     "output_type": "stream",
     "text": [
      "INFO:tensorflow:Assets written to: D:\\.Dataset05032024 - TCC\\model_checkpoint3\\assets\n"
     ]
    },
    {
     "name": "stderr",
     "output_type": "stream",
     "text": [
      "INFO:tensorflow:Assets written to: D:\\.Dataset05032024 - TCC\\model_checkpoint3\\assets\n"
     ]
    },
    {
     "name": "stdout",
     "output_type": "stream",
     "text": [
      "5415/5415 [==============================] - 94s 17ms/step - loss: 0.7253 - accuracy: 0.7481 - val_loss: 0.2879 - val_accuracy: 0.9147\n",
      "Epoch 21/1000\n",
      "5411/5415 [============================>.] - ETA: 0s - loss: 0.6807 - accuracy: 0.7677\n",
      "Epoch 21: val_accuracy did not improve from 0.91474\n",
      "5415/5415 [==============================] - 92s 17ms/step - loss: 0.6808 - accuracy: 0.7677 - val_loss: 0.3059 - val_accuracy: 0.8987\n",
      "Epoch 22/1000\n",
      "5413/5415 [============================>.] - ETA: 0s - loss: 0.6824 - accuracy: 0.7694\n",
      "Epoch 22: val_accuracy did not improve from 0.91474\n",
      "5415/5415 [==============================] - 89s 17ms/step - loss: 0.6825 - accuracy: 0.7693 - val_loss: 0.2983 - val_accuracy: 0.9057\n",
      "Epoch 23/1000\n",
      "5413/5415 [============================>.] - ETA: 0s - loss: 0.6720 - accuracy: 0.7733\n",
      "Epoch 23: val_accuracy did not improve from 0.91474\n",
      "5415/5415 [==============================] - 91s 17ms/step - loss: 0.6718 - accuracy: 0.7734 - val_loss: 0.3671 - val_accuracy: 0.8837\n",
      "Epoch 24/1000\n",
      "5411/5415 [============================>.] - ETA: 0s - loss: 0.6708 - accuracy: 0.7738\n",
      "Epoch 24: val_accuracy did not improve from 0.91474\n",
      "5415/5415 [==============================] - 89s 17ms/step - loss: 0.6710 - accuracy: 0.7737 - val_loss: 0.4703 - val_accuracy: 0.8395\n",
      "Epoch 25/1000\n",
      "5415/5415 [==============================] - ETA: 0s - loss: 0.7011 - accuracy: 0.7597\n",
      "Epoch 25: val_accuracy did not improve from 0.91474\n",
      "5415/5415 [==============================] - 92s 17ms/step - loss: 0.7011 - accuracy: 0.7597 - val_loss: 0.2886 - val_accuracy: 0.9147\n",
      "Epoch 26/1000\n",
      "5415/5415 [==============================] - ETA: 0s - loss: 0.6671 - accuracy: 0.7743\n",
      "Epoch 26: val_accuracy did not improve from 0.91474\n",
      "5415/5415 [==============================] - 89s 16ms/step - loss: 0.6671 - accuracy: 0.7743 - val_loss: 0.2894 - val_accuracy: 0.9047\n",
      "Epoch 27/1000\n",
      "5414/5415 [============================>.] - ETA: 0s - loss: 0.6181 - accuracy: 0.7951\n",
      "Epoch 27: val_accuracy improved from 0.91474 to 0.91575, saving model to D:\\.Dataset05032024 - TCC\\model_checkpoint3\n"
     ]
    },
    {
     "name": "stderr",
     "output_type": "stream",
     "text": [
      "WARNING:absl:Found untraced functions such as _jit_compiled_convolution_op, _jit_compiled_convolution_op while saving (showing 2 of 2). These functions will not be directly callable after loading.\n"
     ]
    },
    {
     "name": "stdout",
     "output_type": "stream",
     "text": [
      "INFO:tensorflow:Assets written to: D:\\.Dataset05032024 - TCC\\model_checkpoint3\\assets\n"
     ]
    },
    {
     "name": "stderr",
     "output_type": "stream",
     "text": [
      "INFO:tensorflow:Assets written to: D:\\.Dataset05032024 - TCC\\model_checkpoint3\\assets\n"
     ]
    },
    {
     "name": "stdout",
     "output_type": "stream",
     "text": [
      "5415/5415 [==============================] - 93s 17ms/step - loss: 0.6180 - accuracy: 0.7951 - val_loss: 0.2552 - val_accuracy: 0.9157\n",
      "Epoch 28/1000\n",
      "5415/5415 [==============================] - ETA: 0s - loss: 0.6989 - accuracy: 0.7635\n",
      "Epoch 28: val_accuracy did not improve from 0.91575\n",
      "5415/5415 [==============================] - 91s 17ms/step - loss: 0.6989 - accuracy: 0.7635 - val_loss: 0.3065 - val_accuracy: 0.8967\n",
      "Epoch 29/1000\n",
      "5415/5415 [==============================] - ETA: 0s - loss: 0.6406 - accuracy: 0.7841\n",
      "Epoch 29: val_accuracy did not improve from 0.91575\n",
      "5415/5415 [==============================] - 92s 17ms/step - loss: 0.6406 - accuracy: 0.7841 - val_loss: 0.2663 - val_accuracy: 0.9097\n",
      "Epoch 30/1000\n",
      "5415/5415 [==============================] - ETA: 0s - loss: 0.6085 - accuracy: 0.8014\n",
      "Epoch 30: val_accuracy did not improve from 0.91575\n",
      "5415/5415 [==============================] - 93s 17ms/step - loss: 0.6085 - accuracy: 0.8014 - val_loss: 0.3151 - val_accuracy: 0.9017\n",
      "Epoch 31/1000\n",
      "5415/5415 [==============================] - ETA: 0s - loss: 0.5977 - accuracy: 0.8078\n",
      "Epoch 31: val_accuracy did not improve from 0.91575\n",
      "5415/5415 [==============================] - 91s 17ms/step - loss: 0.5977 - accuracy: 0.8078 - val_loss: 0.2723 - val_accuracy: 0.9127\n",
      "Epoch 32/1000\n",
      "5415/5415 [==============================] - ETA: 0s - loss: 0.6060 - accuracy: 0.8007\n",
      "Epoch 32: val_accuracy improved from 0.91575 to 0.92578, saving model to D:\\.Dataset05032024 - TCC\\model_checkpoint3\n"
     ]
    },
    {
     "name": "stderr",
     "output_type": "stream",
     "text": [
      "WARNING:absl:Found untraced functions such as _jit_compiled_convolution_op, _jit_compiled_convolution_op while saving (showing 2 of 2). These functions will not be directly callable after loading.\n"
     ]
    },
    {
     "name": "stdout",
     "output_type": "stream",
     "text": [
      "INFO:tensorflow:Assets written to: D:\\.Dataset05032024 - TCC\\model_checkpoint3\\assets\n"
     ]
    },
    {
     "name": "stderr",
     "output_type": "stream",
     "text": [
      "INFO:tensorflow:Assets written to: D:\\.Dataset05032024 - TCC\\model_checkpoint3\\assets\n"
     ]
    },
    {
     "name": "stdout",
     "output_type": "stream",
     "text": [
      "5415/5415 [==============================] - 96s 18ms/step - loss: 0.6060 - accuracy: 0.8007 - val_loss: 0.2514 - val_accuracy: 0.9258\n",
      "Epoch 33/1000\n",
      "5412/5415 [============================>.] - ETA: 0s - loss: 0.6278 - accuracy: 0.7924\n",
      "Epoch 33: val_accuracy did not improve from 0.92578\n",
      "5415/5415 [==============================] - 93s 17ms/step - loss: 0.6277 - accuracy: 0.7924 - val_loss: 0.2401 - val_accuracy: 0.9258\n",
      "Epoch 34/1000\n",
      "5415/5415 [==============================] - ETA: 0s - loss: 0.5874 - accuracy: 0.8084\n",
      "Epoch 34: val_accuracy did not improve from 0.92578\n",
      "5415/5415 [==============================] - 93s 17ms/step - loss: 0.5874 - accuracy: 0.8084 - val_loss: 0.2699 - val_accuracy: 0.9147\n",
      "Epoch 35/1000\n",
      "5412/5415 [============================>.] - ETA: 0s - loss: 0.6088 - accuracy: 0.7986\n",
      "Epoch 35: val_accuracy did not improve from 0.92578\n",
      "5415/5415 [==============================] - 92s 17ms/step - loss: 0.6089 - accuracy: 0.7986 - val_loss: 0.3270 - val_accuracy: 0.9017\n",
      "Epoch 36/1000\n",
      "5414/5415 [============================>.] - ETA: 0s - loss: 0.6672 - accuracy: 0.7773\n",
      "Epoch 36: val_accuracy did not improve from 0.92578\n",
      "5415/5415 [==============================] - 91s 17ms/step - loss: 0.6671 - accuracy: 0.7773 - val_loss: 0.2955 - val_accuracy: 0.9057\n",
      "Epoch 37/1000\n",
      "5415/5415 [==============================] - ETA: 0s - loss: 0.6137 - accuracy: 0.7966\n",
      "Epoch 37: val_accuracy did not improve from 0.92578\n",
      "5415/5415 [==============================] - 91s 17ms/step - loss: 0.6137 - accuracy: 0.7966 - val_loss: 0.2635 - val_accuracy: 0.9198\n",
      "Epoch 38/1000\n",
      "5413/5415 [============================>.] - ETA: 0s - loss: 0.5620 - accuracy: 0.8164\n",
      "Epoch 38: val_accuracy improved from 0.92578 to 0.92778, saving model to D:\\.Dataset05032024 - TCC\\model_checkpoint3\n"
     ]
    },
    {
     "name": "stderr",
     "output_type": "stream",
     "text": [
      "WARNING:absl:Found untraced functions such as _jit_compiled_convolution_op, _jit_compiled_convolution_op while saving (showing 2 of 2). These functions will not be directly callable after loading.\n"
     ]
    },
    {
     "name": "stdout",
     "output_type": "stream",
     "text": [
      "INFO:tensorflow:Assets written to: D:\\.Dataset05032024 - TCC\\model_checkpoint3\\assets\n"
     ]
    },
    {
     "name": "stderr",
     "output_type": "stream",
     "text": [
      "INFO:tensorflow:Assets written to: D:\\.Dataset05032024 - TCC\\model_checkpoint3\\assets\n"
     ]
    },
    {
     "name": "stdout",
     "output_type": "stream",
     "text": [
      "5415/5415 [==============================] - 95s 18ms/step - loss: 0.5619 - accuracy: 0.8164 - val_loss: 0.2398 - val_accuracy: 0.9278\n",
      "Epoch 39/1000\n",
      "5412/5415 [============================>.] - ETA: 0s - loss: 0.5641 - accuracy: 0.8203\n",
      "Epoch 39: val_accuracy improved from 0.92778 to 0.93079, saving model to D:\\.Dataset05032024 - TCC\\model_checkpoint3\n"
     ]
    },
    {
     "name": "stderr",
     "output_type": "stream",
     "text": [
      "WARNING:absl:Found untraced functions such as _jit_compiled_convolution_op, _jit_compiled_convolution_op while saving (showing 2 of 2). These functions will not be directly callable after loading.\n"
     ]
    },
    {
     "name": "stdout",
     "output_type": "stream",
     "text": [
      "INFO:tensorflow:Assets written to: D:\\.Dataset05032024 - TCC\\model_checkpoint3\\assets\n"
     ]
    },
    {
     "name": "stderr",
     "output_type": "stream",
     "text": [
      "INFO:tensorflow:Assets written to: D:\\.Dataset05032024 - TCC\\model_checkpoint3\\assets\n"
     ]
    },
    {
     "name": "stdout",
     "output_type": "stream",
     "text": [
      "5415/5415 [==============================] - 93s 17ms/step - loss: 0.5640 - accuracy: 0.8204 - val_loss: 0.2472 - val_accuracy: 0.9308\n",
      "Epoch 40/1000\n",
      "5411/5415 [============================>.] - ETA: 0s - loss: 0.5518 - accuracy: 0.8236\n",
      "Epoch 40: val_accuracy did not improve from 0.93079\n",
      "5415/5415 [==============================] - 90s 17ms/step - loss: 0.5518 - accuracy: 0.8235 - val_loss: 0.2379 - val_accuracy: 0.9268\n",
      "Epoch 41/1000\n",
      "5412/5415 [============================>.] - ETA: 0s - loss: 0.5645 - accuracy: 0.8183\n",
      "Epoch 41: val_accuracy did not improve from 0.93079\n",
      "5415/5415 [==============================] - 90s 17ms/step - loss: 0.5645 - accuracy: 0.8183 - val_loss: 0.2437 - val_accuracy: 0.9228\n",
      "Epoch 42/1000\n",
      "5411/5415 [============================>.] - ETA: 0s - loss: 0.5540 - accuracy: 0.8245\n",
      "Epoch 42: val_accuracy did not improve from 0.93079\n",
      "5415/5415 [==============================] - 89s 16ms/step - loss: 0.5541 - accuracy: 0.8244 - val_loss: 0.2386 - val_accuracy: 0.9258\n",
      "Epoch 43/1000\n",
      "5412/5415 [============================>.] - ETA: 0s - loss: 0.5296 - accuracy: 0.8376\n",
      "Epoch 43: val_accuracy improved from 0.93079 to 0.93280, saving model to D:\\.Dataset05032024 - TCC\\model_checkpoint3\n"
     ]
    },
    {
     "name": "stderr",
     "output_type": "stream",
     "text": [
      "WARNING:absl:Found untraced functions such as _jit_compiled_convolution_op, _jit_compiled_convolution_op while saving (showing 2 of 2). These functions will not be directly callable after loading.\n"
     ]
    },
    {
     "name": "stdout",
     "output_type": "stream",
     "text": [
      "INFO:tensorflow:Assets written to: D:\\.Dataset05032024 - TCC\\model_checkpoint3\\assets\n"
     ]
    },
    {
     "name": "stderr",
     "output_type": "stream",
     "text": [
      "INFO:tensorflow:Assets written to: D:\\.Dataset05032024 - TCC\\model_checkpoint3\\assets\n"
     ]
    },
    {
     "name": "stdout",
     "output_type": "stream",
     "text": [
      "5415/5415 [==============================] - 92s 17ms/step - loss: 0.5294 - accuracy: 0.8377 - val_loss: 0.2292 - val_accuracy: 0.9328\n",
      "Epoch 44/1000\n",
      "5412/5415 [============================>.] - ETA: 0s - loss: 0.5705 - accuracy: 0.8177\n",
      "Epoch 44: val_accuracy did not improve from 0.93280\n",
      "5415/5415 [==============================] - 90s 17ms/step - loss: 0.5707 - accuracy: 0.8176 - val_loss: 0.2394 - val_accuracy: 0.9328\n",
      "Epoch 45/1000\n",
      "5412/5415 [============================>.] - ETA: 0s - loss: 0.5316 - accuracy: 0.8301\n",
      "Epoch 45: val_accuracy did not improve from 0.93280\n",
      "5415/5415 [==============================] - 89s 16ms/step - loss: 0.5314 - accuracy: 0.8302 - val_loss: 0.2356 - val_accuracy: 0.9288\n",
      "Epoch 46/1000\n",
      "5413/5415 [============================>.] - ETA: 0s - loss: 0.5472 - accuracy: 0.8267\n",
      "Epoch 46: val_accuracy improved from 0.93280 to 0.93581, saving model to D:\\.Dataset05032024 - TCC\\model_checkpoint3\n"
     ]
    },
    {
     "name": "stderr",
     "output_type": "stream",
     "text": [
      "WARNING:absl:Found untraced functions such as _jit_compiled_convolution_op, _jit_compiled_convolution_op while saving (showing 2 of 2). These functions will not be directly callable after loading.\n"
     ]
    },
    {
     "name": "stdout",
     "output_type": "stream",
     "text": [
      "INFO:tensorflow:Assets written to: D:\\.Dataset05032024 - TCC\\model_checkpoint3\\assets\n"
     ]
    },
    {
     "name": "stderr",
     "output_type": "stream",
     "text": [
      "INFO:tensorflow:Assets written to: D:\\.Dataset05032024 - TCC\\model_checkpoint3\\assets\n"
     ]
    },
    {
     "name": "stdout",
     "output_type": "stream",
     "text": [
      "5415/5415 [==============================] - 94s 17ms/step - loss: 0.5471 - accuracy: 0.8267 - val_loss: 0.2171 - val_accuracy: 0.9358\n",
      "Epoch 47/1000\n",
      "5413/5415 [============================>.] - ETA: 0s - loss: 0.5470 - accuracy: 0.8248\n",
      "Epoch 47: val_accuracy did not improve from 0.93581\n",
      "5415/5415 [==============================] - 91s 17ms/step - loss: 0.5473 - accuracy: 0.8247 - val_loss: 0.2412 - val_accuracy: 0.9258\n",
      "Epoch 48/1000\n",
      "5414/5415 [============================>.] - ETA: 0s - loss: 0.5309 - accuracy: 0.8313\n",
      "Epoch 48: val_accuracy did not improve from 0.93581\n",
      "5415/5415 [==============================] - 91s 17ms/step - loss: 0.5310 - accuracy: 0.8313 - val_loss: 0.3628 - val_accuracy: 0.8867\n",
      "Epoch 49/1000\n",
      "5414/5415 [============================>.] - ETA: 0s - loss: 0.5181 - accuracy: 0.8439\n",
      "Epoch 49: val_accuracy improved from 0.93581 to 0.93681, saving model to D:\\.Dataset05032024 - TCC\\model_checkpoint3\n"
     ]
    },
    {
     "name": "stderr",
     "output_type": "stream",
     "text": [
      "WARNING:absl:Found untraced functions such as _jit_compiled_convolution_op, _jit_compiled_convolution_op while saving (showing 2 of 2). These functions will not be directly callable after loading.\n"
     ]
    },
    {
     "name": "stdout",
     "output_type": "stream",
     "text": [
      "INFO:tensorflow:Assets written to: D:\\.Dataset05032024 - TCC\\model_checkpoint3\\assets\n"
     ]
    },
    {
     "name": "stderr",
     "output_type": "stream",
     "text": [
      "INFO:tensorflow:Assets written to: D:\\.Dataset05032024 - TCC\\model_checkpoint3\\assets\n"
     ]
    },
    {
     "name": "stdout",
     "output_type": "stream",
     "text": [
      "5415/5415 [==============================] - 94s 17ms/step - loss: 0.5181 - accuracy: 0.8439 - val_loss: 0.2289 - val_accuracy: 0.9368\n",
      "Epoch 50/1000\n",
      "5412/5415 [============================>.] - ETA: 0s - loss: 0.5132 - accuracy: 0.8402\n",
      "Epoch 50: val_accuracy did not improve from 0.93681\n",
      "5415/5415 [==============================] - 90s 17ms/step - loss: 0.5129 - accuracy: 0.8403 - val_loss: 0.2301 - val_accuracy: 0.9298\n",
      "Epoch 51/1000\n",
      "5415/5415 [==============================] - ETA: 0s - loss: 0.5199 - accuracy: 0.8372\n",
      "Epoch 51: val_accuracy did not improve from 0.93681\n",
      "5415/5415 [==============================] - 92s 17ms/step - loss: 0.5199 - accuracy: 0.8372 - val_loss: 0.2449 - val_accuracy: 0.9288\n",
      "Epoch 52/1000\n",
      "5412/5415 [============================>.] - ETA: 0s - loss: 0.5314 - accuracy: 0.8325\n",
      "Epoch 52: val_accuracy improved from 0.93681 to 0.93781, saving model to D:\\.Dataset05032024 - TCC\\model_checkpoint3\n"
     ]
    },
    {
     "name": "stderr",
     "output_type": "stream",
     "text": [
      "WARNING:absl:Found untraced functions such as _jit_compiled_convolution_op, _jit_compiled_convolution_op while saving (showing 2 of 2). These functions will not be directly callable after loading.\n"
     ]
    },
    {
     "name": "stdout",
     "output_type": "stream",
     "text": [
      "INFO:tensorflow:Assets written to: D:\\.Dataset05032024 - TCC\\model_checkpoint3\\assets\n"
     ]
    },
    {
     "name": "stderr",
     "output_type": "stream",
     "text": [
      "INFO:tensorflow:Assets written to: D:\\.Dataset05032024 - TCC\\model_checkpoint3\\assets\n"
     ]
    },
    {
     "name": "stdout",
     "output_type": "stream",
     "text": [
      "5415/5415 [==============================] - 93s 17ms/step - loss: 0.5312 - accuracy: 0.8326 - val_loss: 0.2145 - val_accuracy: 0.9378\n",
      "Epoch 53/1000\n",
      "5415/5415 [==============================] - ETA: 0s - loss: 0.5157 - accuracy: 0.8379\n",
      "Epoch 53: val_accuracy improved from 0.93781 to 0.94483, saving model to D:\\.Dataset05032024 - TCC\\model_checkpoint3\n"
     ]
    },
    {
     "name": "stderr",
     "output_type": "stream",
     "text": [
      "WARNING:absl:Found untraced functions such as _jit_compiled_convolution_op, _jit_compiled_convolution_op while saving (showing 2 of 2). These functions will not be directly callable after loading.\n"
     ]
    },
    {
     "name": "stdout",
     "output_type": "stream",
     "text": [
      "INFO:tensorflow:Assets written to: D:\\.Dataset05032024 - TCC\\model_checkpoint3\\assets\n"
     ]
    },
    {
     "name": "stderr",
     "output_type": "stream",
     "text": [
      "INFO:tensorflow:Assets written to: D:\\.Dataset05032024 - TCC\\model_checkpoint3\\assets\n"
     ]
    },
    {
     "name": "stdout",
     "output_type": "stream",
     "text": [
      "5415/5415 [==============================] - 94s 17ms/step - loss: 0.5157 - accuracy: 0.8379 - val_loss: 0.2086 - val_accuracy: 0.9448\n",
      "Epoch 54/1000\n",
      "5413/5415 [============================>.] - ETA: 0s - loss: 0.5081 - accuracy: 0.8416\n",
      "Epoch 54: val_accuracy did not improve from 0.94483\n",
      "5415/5415 [==============================] - 93s 17ms/step - loss: 0.5084 - accuracy: 0.8416 - val_loss: 0.2390 - val_accuracy: 0.9328\n",
      "Epoch 55/1000\n",
      "5413/5415 [============================>.] - ETA: 0s - loss: 0.4891 - accuracy: 0.8478\n",
      "Epoch 55: val_accuracy did not improve from 0.94483\n",
      "5415/5415 [==============================] - 90s 17ms/step - loss: 0.4890 - accuracy: 0.8478 - val_loss: 0.2288 - val_accuracy: 0.9348\n",
      "Epoch 56/1000\n",
      "5413/5415 [============================>.] - ETA: 0s - loss: 0.4938 - accuracy: 0.8464\n",
      "Epoch 56: val_accuracy did not improve from 0.94483\n",
      "5415/5415 [==============================] - 90s 17ms/step - loss: 0.4939 - accuracy: 0.8463 - val_loss: 0.2634 - val_accuracy: 0.9228\n",
      "Epoch 57/1000\n",
      "5412/5415 [============================>.] - ETA: 0s - loss: 0.4684 - accuracy: 0.8556\n",
      "Epoch 57: val_accuracy did not improve from 0.94483\n",
      "5415/5415 [==============================] - 92s 17ms/step - loss: 0.4688 - accuracy: 0.8555 - val_loss: 0.2246 - val_accuracy: 0.9318\n",
      "Epoch 58/1000\n",
      "5414/5415 [============================>.] - ETA: 0s - loss: 0.4775 - accuracy: 0.8524\n",
      "Epoch 58: val_accuracy did not improve from 0.94483\n",
      "5415/5415 [==============================] - 92s 17ms/step - loss: 0.4776 - accuracy: 0.8524 - val_loss: 0.2407 - val_accuracy: 0.9228\n",
      "Epoch 59/1000\n",
      "5415/5415 [==============================] - ETA: 0s - loss: 0.4994 - accuracy: 0.8459\n",
      "Epoch 59: val_accuracy did not improve from 0.94483\n",
      "5415/5415 [==============================] - 90s 17ms/step - loss: 0.4994 - accuracy: 0.8459 - val_loss: 0.2300 - val_accuracy: 0.9338\n",
      "Epoch 60/1000\n",
      "5414/5415 [============================>.] - ETA: 0s - loss: 0.4633 - accuracy: 0.8558\n",
      "Epoch 60: val_accuracy did not improve from 0.94483\n",
      "5415/5415 [==============================] - 91s 17ms/step - loss: 0.4633 - accuracy: 0.8558 - val_loss: 0.2185 - val_accuracy: 0.9388\n",
      "Epoch 61/1000\n",
      "5413/5415 [============================>.] - ETA: 0s - loss: 0.5005 - accuracy: 0.8472\n",
      "Epoch 61: val_accuracy did not improve from 0.94483\n",
      "5415/5415 [==============================] - 94s 17ms/step - loss: 0.5007 - accuracy: 0.8471 - val_loss: 0.2249 - val_accuracy: 0.9348\n",
      "Epoch 62/1000\n",
      "5414/5415 [============================>.] - ETA: 0s - loss: 0.4615 - accuracy: 0.8597\n",
      "Epoch 62: val_accuracy did not improve from 0.94483\n",
      "5415/5415 [==============================] - 92s 17ms/step - loss: 0.4614 - accuracy: 0.8597 - val_loss: 0.2406 - val_accuracy: 0.9278\n",
      "Epoch 63/1000\n",
      "5412/5415 [============================>.] - ETA: 0s - loss: 0.4593 - accuracy: 0.8611\n",
      "Epoch 63: val_accuracy did not improve from 0.94483\n",
      "5415/5415 [==============================] - 95s 18ms/step - loss: 0.4594 - accuracy: 0.8611 - val_loss: 0.2158 - val_accuracy: 0.9388\n",
      "Epoch 64/1000\n",
      "5414/5415 [============================>.] - ETA: 0s - loss: 0.4513 - accuracy: 0.8656\n",
      "Epoch 64: val_accuracy did not improve from 0.94483\n",
      "5415/5415 [==============================] - 93s 17ms/step - loss: 0.4513 - accuracy: 0.8656 - val_loss: 0.2219 - val_accuracy: 0.9348\n",
      "Epoch 65/1000\n",
      "5414/5415 [============================>.] - ETA: 0s - loss: 0.4709 - accuracy: 0.8559\n",
      "Epoch 65: val_accuracy did not improve from 0.94483\n",
      "5415/5415 [==============================] - 92s 17ms/step - loss: 0.4708 - accuracy: 0.8559 - val_loss: 0.2407 - val_accuracy: 0.9328\n",
      "Epoch 66/1000\n",
      "5415/5415 [==============================] - ETA: 0s - loss: 0.5004 - accuracy: 0.8467\n",
      "Epoch 66: val_accuracy did not improve from 0.94483\n",
      "5415/5415 [==============================] - 92s 17ms/step - loss: 0.5004 - accuracy: 0.8467 - val_loss: 0.2915 - val_accuracy: 0.9097\n",
      "Epoch 67/1000\n",
      "5411/5415 [============================>.] - ETA: 0s - loss: 0.5264 - accuracy: 0.8326\n",
      "Epoch 67: val_accuracy did not improve from 0.94483\n",
      "5415/5415 [==============================] - 93s 17ms/step - loss: 0.5263 - accuracy: 0.8327 - val_loss: 0.2229 - val_accuracy: 0.9398\n",
      "Epoch 68/1000\n",
      "5414/5415 [============================>.] - ETA: 0s - loss: 0.4942 - accuracy: 0.8503\n",
      "Epoch 68: val_accuracy did not improve from 0.94483\n",
      "5415/5415 [==============================] - 93s 17ms/step - loss: 0.4943 - accuracy: 0.8503 - val_loss: 0.2217 - val_accuracy: 0.9298\n",
      "Epoch 69/1000\n",
      "5414/5415 [============================>.] - ETA: 0s - loss: 0.4634 - accuracy: 0.8631\n",
      "Epoch 69: val_accuracy did not improve from 0.94483\n",
      "5415/5415 [==============================] - 92s 17ms/step - loss: 0.4635 - accuracy: 0.8630 - val_loss: 0.2302 - val_accuracy: 0.9328\n",
      "Epoch 70/1000\n",
      "5412/5415 [============================>.] - ETA: 0s - loss: 0.4557 - accuracy: 0.8615\n",
      "Epoch 70: val_accuracy did not improve from 0.94483\n",
      "5415/5415 [==============================] - 94s 17ms/step - loss: 0.4555 - accuracy: 0.8615 - val_loss: 0.2322 - val_accuracy: 0.9328\n",
      "Epoch 71/1000\n",
      "5415/5415 [==============================] - ETA: 0s - loss: 0.4631 - accuracy: 0.8601\n",
      "Epoch 71: val_accuracy did not improve from 0.94483\n",
      "5415/5415 [==============================] - 92s 17ms/step - loss: 0.4631 - accuracy: 0.8601 - val_loss: 0.2170 - val_accuracy: 0.9378\n",
      "Epoch 72/1000\n",
      "5415/5415 [==============================] - ETA: 0s - loss: 0.4518 - accuracy: 0.8630\n",
      "Epoch 72: val_accuracy did not improve from 0.94483\n",
      "5415/5415 [==============================] - 93s 17ms/step - loss: 0.4518 - accuracy: 0.8630 - val_loss: 0.1991 - val_accuracy: 0.9368\n",
      "Epoch 73/1000\n",
      "5412/5415 [============================>.] - ETA: 0s - loss: 0.4404 - accuracy: 0.8665\n",
      "Epoch 73: val_accuracy did not improve from 0.94483\n",
      "5415/5415 [==============================] - 94s 17ms/step - loss: 0.4405 - accuracy: 0.8664 - val_loss: 0.2201 - val_accuracy: 0.9388\n",
      "Epoch 74/1000\n",
      "5412/5415 [============================>.] - ETA: 0s - loss: 0.4556 - accuracy: 0.8622\n",
      "Epoch 74: val_accuracy did not improve from 0.94483\n",
      "5415/5415 [==============================] - 93s 17ms/step - loss: 0.4555 - accuracy: 0.8622 - val_loss: 0.2259 - val_accuracy: 0.9258\n",
      "Epoch 75/1000\n",
      "5411/5415 [============================>.] - ETA: 0s - loss: 0.4362 - accuracy: 0.8651\n",
      "Epoch 75: val_accuracy improved from 0.94483 to 0.94885, saving model to D:\\.Dataset05032024 - TCC\\model_checkpoint3\n"
     ]
    },
    {
     "name": "stderr",
     "output_type": "stream",
     "text": [
      "WARNING:absl:Found untraced functions such as _jit_compiled_convolution_op, _jit_compiled_convolution_op while saving (showing 2 of 2). These functions will not be directly callable after loading.\n"
     ]
    },
    {
     "name": "stdout",
     "output_type": "stream",
     "text": [
      "INFO:tensorflow:Assets written to: D:\\.Dataset05032024 - TCC\\model_checkpoint3\\assets\n"
     ]
    },
    {
     "name": "stderr",
     "output_type": "stream",
     "text": [
      "INFO:tensorflow:Assets written to: D:\\.Dataset05032024 - TCC\\model_checkpoint3\\assets\n"
     ]
    },
    {
     "name": "stdout",
     "output_type": "stream",
     "text": [
      "5415/5415 [==============================] - 97s 18ms/step - loss: 0.4360 - accuracy: 0.8651 - val_loss: 0.1907 - val_accuracy: 0.9488\n",
      "Epoch 76/1000\n",
      "5413/5415 [============================>.] - ETA: 0s - loss: 0.4413 - accuracy: 0.8634\n",
      "Epoch 76: val_accuracy did not improve from 0.94885\n",
      "5415/5415 [==============================] - 90s 17ms/step - loss: 0.4413 - accuracy: 0.8633 - val_loss: 0.2149 - val_accuracy: 0.9388\n",
      "Epoch 77/1000\n",
      "5412/5415 [============================>.] - ETA: 0s - loss: 0.4756 - accuracy: 0.8530\n",
      "Epoch 77: val_accuracy did not improve from 0.94885\n",
      "5415/5415 [==============================] - 91s 17ms/step - loss: 0.4756 - accuracy: 0.8530 - val_loss: 0.1912 - val_accuracy: 0.9468\n",
      "Epoch 78/1000\n",
      "5411/5415 [============================>.] - ETA: 0s - loss: 0.4373 - accuracy: 0.8681\n",
      "Epoch 78: val_accuracy did not improve from 0.94885\n",
      "5415/5415 [==============================] - 89s 17ms/step - loss: 0.4375 - accuracy: 0.8681 - val_loss: 0.2054 - val_accuracy: 0.9398\n",
      "Epoch 79/1000\n",
      "5413/5415 [============================>.] - ETA: 0s - loss: 0.4277 - accuracy: 0.8703\n",
      "Epoch 79: val_accuracy did not improve from 0.94885\n",
      "5415/5415 [==============================] - 89s 17ms/step - loss: 0.4279 - accuracy: 0.8702 - val_loss: 0.1869 - val_accuracy: 0.9468\n",
      "Epoch 80/1000\n",
      "5412/5415 [============================>.] - ETA: 0s - loss: 0.4199 - accuracy: 0.8721\n",
      "Epoch 80: val_accuracy did not improve from 0.94885\n",
      "5415/5415 [==============================] - 93s 17ms/step - loss: 0.4197 - accuracy: 0.8722 - val_loss: 0.2050 - val_accuracy: 0.9398\n",
      "Epoch 81/1000\n",
      "5414/5415 [============================>.] - ETA: 0s - loss: 0.4238 - accuracy: 0.8714\n",
      "Epoch 81: val_accuracy did not improve from 0.94885\n",
      "5415/5415 [==============================] - 91s 17ms/step - loss: 0.4240 - accuracy: 0.8714 - val_loss: 0.1894 - val_accuracy: 0.9478\n",
      "Epoch 82/1000\n",
      "5413/5415 [============================>.] - ETA: 0s - loss: 0.4181 - accuracy: 0.8708\n",
      "Epoch 82: val_accuracy did not improve from 0.94885\n",
      "5415/5415 [==============================] - 87s 16ms/step - loss: 0.4182 - accuracy: 0.8707 - val_loss: 0.2105 - val_accuracy: 0.9418\n",
      "Epoch 83/1000\n",
      "5413/5415 [============================>.] - ETA: 0s - loss: 0.4652 - accuracy: 0.8573\n",
      "Epoch 83: val_accuracy did not improve from 0.94885\n",
      "5415/5415 [==============================] - 94s 17ms/step - loss: 0.4651 - accuracy: 0.8574 - val_loss: 0.1988 - val_accuracy: 0.9438\n",
      "Epoch 84/1000\n",
      "5414/5415 [============================>.] - ETA: 0s - loss: 0.4172 - accuracy: 0.8726\n",
      "Epoch 84: val_accuracy did not improve from 0.94885\n",
      "5415/5415 [==============================] - 91s 17ms/step - loss: 0.4172 - accuracy: 0.8726 - val_loss: 0.2153 - val_accuracy: 0.9378\n",
      "Epoch 85/1000\n",
      "5415/5415 [==============================] - ETA: 0s - loss: 0.4075 - accuracy: 0.8790\n",
      "Epoch 85: val_accuracy did not improve from 0.94885\n",
      "5415/5415 [==============================] - 92s 17ms/step - loss: 0.4075 - accuracy: 0.8790 - val_loss: 0.2094 - val_accuracy: 0.9398\n",
      "Epoch 86/1000\n",
      "5413/5415 [============================>.] - ETA: 0s - loss: 0.4560 - accuracy: 0.8633\n",
      "Epoch 86: val_accuracy did not improve from 0.94885\n",
      "5415/5415 [==============================] - 92s 17ms/step - loss: 0.4562 - accuracy: 0.8632 - val_loss: 0.2275 - val_accuracy: 0.9308\n",
      "Epoch 87/1000\n",
      "5414/5415 [============================>.] - ETA: 0s - loss: 0.4304 - accuracy: 0.8674\n",
      "Epoch 87: val_accuracy did not improve from 0.94885\n",
      "5415/5415 [==============================] - 92s 17ms/step - loss: 0.4306 - accuracy: 0.8673 - val_loss: 0.2116 - val_accuracy: 0.9378\n",
      "Epoch 88/1000\n",
      "5412/5415 [============================>.] - ETA: 0s - loss: 0.4168 - accuracy: 0.8760\n",
      "Epoch 88: val_accuracy did not improve from 0.94885\n",
      "5415/5415 [==============================] - 92s 17ms/step - loss: 0.4168 - accuracy: 0.8760 - val_loss: 0.2060 - val_accuracy: 0.9408\n",
      "Epoch 89/1000\n",
      "5413/5415 [============================>.] - ETA: 0s - loss: 0.4076 - accuracy: 0.8769\n",
      "Epoch 89: val_accuracy did not improve from 0.94885\n",
      "5415/5415 [==============================] - 91s 17ms/step - loss: 0.4077 - accuracy: 0.8769 - val_loss: 0.2003 - val_accuracy: 0.9478\n",
      "Epoch 90/1000\n",
      "5413/5415 [============================>.] - ETA: 0s - loss: 0.4116 - accuracy: 0.8767\n",
      "Epoch 90: val_accuracy did not improve from 0.94885\n",
      "5415/5415 [==============================] - 94s 17ms/step - loss: 0.4115 - accuracy: 0.8768 - val_loss: 0.2046 - val_accuracy: 0.9408\n",
      "Epoch 91/1000\n",
      "5415/5415 [==============================] - ETA: 0s - loss: 0.4226 - accuracy: 0.8732\n",
      "Epoch 91: val_accuracy did not improve from 0.94885\n",
      "5415/5415 [==============================] - 93s 17ms/step - loss: 0.4226 - accuracy: 0.8732 - val_loss: 0.2156 - val_accuracy: 0.9418\n",
      "Epoch 92/1000\n",
      "5414/5415 [============================>.] - ETA: 0s - loss: 0.4289 - accuracy: 0.8695\n",
      "Epoch 92: val_accuracy did not improve from 0.94885\n",
      "5415/5415 [==============================] - 92s 17ms/step - loss: 0.4289 - accuracy: 0.8696 - val_loss: 0.2097 - val_accuracy: 0.9408\n",
      "Epoch 93/1000\n",
      "5413/5415 [============================>.] - ETA: 0s - loss: 0.4065 - accuracy: 0.8757\n",
      "Epoch 93: val_accuracy did not improve from 0.94885\n",
      "5415/5415 [==============================] - 95s 18ms/step - loss: 0.4065 - accuracy: 0.8756 - val_loss: 0.2093 - val_accuracy: 0.9408\n",
      "Epoch 94/1000\n",
      "5413/5415 [============================>.] - ETA: 0s - loss: 0.4042 - accuracy: 0.8815\n",
      "Epoch 94: val_accuracy did not improve from 0.94885\n",
      "5415/5415 [==============================] - 92s 17ms/step - loss: 0.4041 - accuracy: 0.8815 - val_loss: 0.2021 - val_accuracy: 0.9468\n",
      "Epoch 95/1000\n",
      "5411/5415 [============================>.] - ETA: 0s - loss: 0.3999 - accuracy: 0.8791\n",
      "Epoch 95: val_accuracy did not improve from 0.94885\n",
      "5415/5415 [==============================] - 92s 17ms/step - loss: 0.4001 - accuracy: 0.8790 - val_loss: 0.1982 - val_accuracy: 0.9458\n",
      "Epoch 96/1000\n",
      "5413/5415 [============================>.] - ETA: 0s - loss: 0.4055 - accuracy: 0.8799\n",
      "Epoch 96: val_accuracy did not improve from 0.94885\n",
      "5415/5415 [==============================] - 94s 17ms/step - loss: 0.4054 - accuracy: 0.8800 - val_loss: 0.2087 - val_accuracy: 0.9468\n",
      "Epoch 97/1000\n",
      "5415/5415 [==============================] - ETA: 0s - loss: 0.3999 - accuracy: 0.8822\n",
      "Epoch 97: val_accuracy did not improve from 0.94885\n",
      "5415/5415 [==============================] - 92s 17ms/step - loss: 0.3999 - accuracy: 0.8822 - val_loss: 0.2020 - val_accuracy: 0.9448\n",
      "Epoch 98/1000\n",
      "5413/5415 [============================>.] - ETA: 0s - loss: 0.4070 - accuracy: 0.8794\n",
      "Epoch 98: val_accuracy did not improve from 0.94885\n",
      "5415/5415 [==============================] - 94s 17ms/step - loss: 0.4072 - accuracy: 0.8793 - val_loss: 0.1991 - val_accuracy: 0.9488\n",
      "Epoch 99/1000\n",
      "5413/5415 [============================>.] - ETA: 0s - loss: 0.4332 - accuracy: 0.8684\n",
      "Epoch 99: val_accuracy did not improve from 0.94885\n",
      "5415/5415 [==============================] - 93s 17ms/step - loss: 0.4336 - accuracy: 0.8684 - val_loss: 0.2059 - val_accuracy: 0.9378\n",
      "Epoch 100/1000\n",
      "5415/5415 [==============================] - ETA: 0s - loss: 0.4306 - accuracy: 0.8680\n",
      "Epoch 100: val_accuracy did not improve from 0.94885\n",
      "5415/5415 [==============================] - 95s 18ms/step - loss: 0.4306 - accuracy: 0.8680 - val_loss: 0.2223 - val_accuracy: 0.9398\n",
      "Epoch 101/1000\n",
      "5413/5415 [============================>.] - ETA: 0s - loss: 0.3932 - accuracy: 0.8823\n",
      "Epoch 101: val_accuracy did not improve from 0.94885\n",
      "5415/5415 [==============================] - 94s 17ms/step - loss: 0.3933 - accuracy: 0.8822 - val_loss: 0.1979 - val_accuracy: 0.9448\n",
      "Epoch 102/1000\n",
      "5415/5415 [==============================] - ETA: 0s - loss: 0.4086 - accuracy: 0.8776\n",
      "Epoch 102: val_accuracy did not improve from 0.94885\n",
      "5415/5415 [==============================] - 94s 17ms/step - loss: 0.4086 - accuracy: 0.8776 - val_loss: 0.2137 - val_accuracy: 0.9388\n",
      "Epoch 103/1000\n",
      "5413/5415 [============================>.] - ETA: 0s - loss: 0.4022 - accuracy: 0.8792\n",
      "Epoch 103: val_accuracy did not improve from 0.94885\n",
      "5415/5415 [==============================] - 94s 17ms/step - loss: 0.4021 - accuracy: 0.8793 - val_loss: 0.2153 - val_accuracy: 0.9388\n",
      "Epoch 104/1000\n",
      "5412/5415 [============================>.] - ETA: 0s - loss: 0.3901 - accuracy: 0.8802\n",
      "Epoch 104: val_accuracy did not improve from 0.94885\n",
      "5415/5415 [==============================] - 92s 17ms/step - loss: 0.3901 - accuracy: 0.8802 - val_loss: 0.2071 - val_accuracy: 0.9458\n",
      "Epoch 105/1000\n",
      "5413/5415 [============================>.] - ETA: 0s - loss: 0.4005 - accuracy: 0.8784\n",
      "Epoch 105: val_accuracy did not improve from 0.94885\n",
      "5415/5415 [==============================] - 93s 17ms/step - loss: 0.4004 - accuracy: 0.8784 - val_loss: 0.1924 - val_accuracy: 0.9448\n",
      "Epoch 106/1000\n",
      "5413/5415 [============================>.] - ETA: 0s - loss: 0.3839 - accuracy: 0.8858\n",
      "Epoch 106: val_accuracy did not improve from 0.94885\n",
      "5415/5415 [==============================] - 93s 17ms/step - loss: 0.3838 - accuracy: 0.8858 - val_loss: 0.2186 - val_accuracy: 0.9438\n",
      "Epoch 107/1000\n",
      "5415/5415 [==============================] - ETA: 0s - loss: 0.3935 - accuracy: 0.8813\n",
      "Epoch 107: val_accuracy did not improve from 0.94885\n",
      "5415/5415 [==============================] - 93s 17ms/step - loss: 0.3935 - accuracy: 0.8813 - val_loss: 0.1932 - val_accuracy: 0.9428\n",
      "Epoch 108/1000\n",
      "5414/5415 [============================>.] - ETA: 0s - loss: 0.3982 - accuracy: 0.8802\n",
      "Epoch 108: val_accuracy did not improve from 0.94885\n",
      "5415/5415 [==============================] - 92s 17ms/step - loss: 0.3983 - accuracy: 0.8801 - val_loss: 0.2059 - val_accuracy: 0.9428\n",
      "Epoch 109/1000\n",
      "5414/5415 [============================>.] - ETA: 0s - loss: 0.3766 - accuracy: 0.8868\n",
      "Epoch 109: val_accuracy did not improve from 0.94885\n",
      "5415/5415 [==============================] - 96s 18ms/step - loss: 0.3765 - accuracy: 0.8869 - val_loss: 0.2084 - val_accuracy: 0.9428\n",
      "Epoch 110/1000\n",
      "5411/5415 [============================>.] - ETA: 0s - loss: 0.3843 - accuracy: 0.8839\n",
      "Epoch 110: val_accuracy did not improve from 0.94885\n",
      "5415/5415 [==============================] - 93s 17ms/step - loss: 0.3845 - accuracy: 0.8838 - val_loss: 0.1992 - val_accuracy: 0.9418\n",
      "Epoch 111/1000\n",
      "5413/5415 [============================>.] - ETA: 0s - loss: 0.3980 - accuracy: 0.8830\n",
      "Epoch 111: val_accuracy did not improve from 0.94885\n",
      "5415/5415 [==============================] - 92s 17ms/step - loss: 0.3979 - accuracy: 0.8830 - val_loss: 0.2243 - val_accuracy: 0.9368\n",
      "Epoch 112/1000\n",
      "5415/5415 [==============================] - ETA: 0s - loss: 0.3977 - accuracy: 0.8805\n",
      "Epoch 112: val_accuracy did not improve from 0.94885\n",
      "5415/5415 [==============================] - 95s 18ms/step - loss: 0.3977 - accuracy: 0.8805 - val_loss: 0.2049 - val_accuracy: 0.9398\n",
      "Epoch 113/1000\n",
      "5415/5415 [==============================] - ETA: 0s - loss: 0.3882 - accuracy: 0.8816\n",
      "Epoch 113: val_accuracy did not improve from 0.94885\n",
      "5415/5415 [==============================] - 93s 17ms/step - loss: 0.3882 - accuracy: 0.8816 - val_loss: 0.2246 - val_accuracy: 0.9398\n",
      "Epoch 114/1000\n",
      "5415/5415 [==============================] - ETA: 0s - loss: 0.3912 - accuracy: 0.8827\n",
      "Epoch 114: val_accuracy did not improve from 0.94885\n",
      "5415/5415 [==============================] - 94s 17ms/step - loss: 0.3912 - accuracy: 0.8827 - val_loss: 0.1856 - val_accuracy: 0.9438\n",
      "Epoch 115/1000\n",
      "5412/5415 [============================>.] - ETA: 0s - loss: 0.3848 - accuracy: 0.8872\n",
      "Epoch 115: val_accuracy did not improve from 0.94885\n",
      "5415/5415 [==============================] - 93s 17ms/step - loss: 0.3847 - accuracy: 0.8873 - val_loss: 0.2021 - val_accuracy: 0.9398\n",
      "Epoch 116/1000\n",
      "5411/5415 [============================>.] - ETA: 0s - loss: 0.3786 - accuracy: 0.8879\n",
      "Epoch 116: val_accuracy did not improve from 0.94885\n",
      "5415/5415 [==============================] - 93s 17ms/step - loss: 0.3787 - accuracy: 0.8878 - val_loss: 0.2146 - val_accuracy: 0.9398\n",
      "Epoch 117/1000\n",
      "5412/5415 [============================>.] - ETA: 0s - loss: 0.4079 - accuracy: 0.8782\n",
      "Epoch 117: val_accuracy did not improve from 0.94885\n",
      "5415/5415 [==============================] - 93s 17ms/step - loss: 0.4080 - accuracy: 0.8782 - val_loss: 0.1984 - val_accuracy: 0.9438\n",
      "Epoch 118/1000\n",
      "5415/5415 [==============================] - ETA: 0s - loss: 0.3781 - accuracy: 0.8877 \n",
      "Epoch 118: val_accuracy did not improve from 0.94885\n",
      "5415/5415 [==============================] - 19655s 4s/step - loss: 0.3781 - accuracy: 0.8877 - val_loss: 0.2036 - val_accuracy: 0.9428\n",
      "Epoch 119/1000\n",
      "5415/5415 [==============================] - ETA: 0s - loss: 0.3636 - accuracy: 0.8919\n",
      "Epoch 119: val_accuracy improved from 0.94885 to 0.94985, saving model to D:\\.Dataset05032024 - TCC\\model_checkpoint3\n"
     ]
    },
    {
     "name": "stderr",
     "output_type": "stream",
     "text": [
      "WARNING:absl:Found untraced functions such as _jit_compiled_convolution_op, _jit_compiled_convolution_op while saving (showing 2 of 2). These functions will not be directly callable after loading.\n"
     ]
    },
    {
     "name": "stdout",
     "output_type": "stream",
     "text": [
      "INFO:tensorflow:Assets written to: D:\\.Dataset05032024 - TCC\\model_checkpoint3\\assets\n"
     ]
    },
    {
     "name": "stderr",
     "output_type": "stream",
     "text": [
      "INFO:tensorflow:Assets written to: D:\\.Dataset05032024 - TCC\\model_checkpoint3\\assets\n"
     ]
    },
    {
     "name": "stdout",
     "output_type": "stream",
     "text": [
      "5415/5415 [==============================] - 103s 19ms/step - loss: 0.3636 - accuracy: 0.8919 - val_loss: 0.1825 - val_accuracy: 0.9498\n",
      "Epoch 120/1000\n",
      "5412/5415 [============================>.] - ETA: 0s - loss: 0.3920 - accuracy: 0.8835\n",
      "Epoch 120: val_accuracy did not improve from 0.94985\n",
      "5415/5415 [==============================] - 95s 17ms/step - loss: 0.3919 - accuracy: 0.8836 - val_loss: 0.2008 - val_accuracy: 0.9438\n",
      "Epoch 121/1000\n",
      "5414/5415 [============================>.] - ETA: 0s - loss: 0.3724 - accuracy: 0.8900\n",
      "Epoch 121: val_accuracy did not improve from 0.94985\n",
      "5415/5415 [==============================] - 89s 16ms/step - loss: 0.3724 - accuracy: 0.8900 - val_loss: 0.1855 - val_accuracy: 0.9478\n",
      "Epoch 122/1000\n",
      "5413/5415 [============================>.] - ETA: 0s - loss: 0.3686 - accuracy: 0.8875\n",
      "Epoch 122: val_accuracy did not improve from 0.94985\n",
      "5415/5415 [==============================] - 97s 18ms/step - loss: 0.3687 - accuracy: 0.8875 - val_loss: 0.2029 - val_accuracy: 0.9458\n",
      "Epoch 123/1000\n",
      "5412/5415 [============================>.] - ETA: 0s - loss: 0.3558 - accuracy: 0.8942\n",
      "Epoch 123: val_accuracy did not improve from 0.94985\n",
      "5415/5415 [==============================] - 90s 17ms/step - loss: 0.3557 - accuracy: 0.8943 - val_loss: 0.2038 - val_accuracy: 0.9478\n",
      "Epoch 124/1000\n",
      "5412/5415 [============================>.] - ETA: 0s - loss: 0.3679 - accuracy: 0.8905\n",
      "Epoch 124: val_accuracy improved from 0.94985 to 0.95386, saving model to D:\\.Dataset05032024 - TCC\\model_checkpoint3\n"
     ]
    },
    {
     "name": "stderr",
     "output_type": "stream",
     "text": [
      "WARNING:absl:Found untraced functions such as _jit_compiled_convolution_op, _jit_compiled_convolution_op while saving (showing 2 of 2). These functions will not be directly callable after loading.\n"
     ]
    },
    {
     "name": "stdout",
     "output_type": "stream",
     "text": [
      "INFO:tensorflow:Assets written to: D:\\.Dataset05032024 - TCC\\model_checkpoint3\\assets\n"
     ]
    },
    {
     "name": "stderr",
     "output_type": "stream",
     "text": [
      "INFO:tensorflow:Assets written to: D:\\.Dataset05032024 - TCC\\model_checkpoint3\\assets\n"
     ]
    },
    {
     "name": "stdout",
     "output_type": "stream",
     "text": [
      "5415/5415 [==============================] - 98s 18ms/step - loss: 0.3677 - accuracy: 0.8905 - val_loss: 0.1819 - val_accuracy: 0.9539\n",
      "Epoch 125/1000\n",
      "5415/5415 [==============================] - ETA: 0s - loss: 0.3837 - accuracy: 0.8856\n",
      "Epoch 125: val_accuracy did not improve from 0.95386\n",
      "5415/5415 [==============================] - 89s 16ms/step - loss: 0.3837 - accuracy: 0.8856 - val_loss: 0.1966 - val_accuracy: 0.9468\n",
      "Epoch 126/1000\n",
      "5414/5415 [============================>.] - ETA: 0s - loss: 0.3942 - accuracy: 0.8847\n",
      "Epoch 126: val_accuracy did not improve from 0.95386\n",
      "5415/5415 [==============================] - 89s 16ms/step - loss: 0.3942 - accuracy: 0.8847 - val_loss: 0.1911 - val_accuracy: 0.9428\n",
      "Epoch 127/1000\n",
      "5415/5415 [==============================] - ETA: 0s - loss: 0.3781 - accuracy: 0.8880\n",
      "Epoch 127: val_accuracy did not improve from 0.95386\n",
      "5415/5415 [==============================] - 95s 17ms/step - loss: 0.3781 - accuracy: 0.8880 - val_loss: 0.2067 - val_accuracy: 0.9408\n",
      "Epoch 128/1000\n",
      "5412/5415 [============================>.] - ETA: 0s - loss: 0.3888 - accuracy: 0.8834\n",
      "Epoch 128: val_accuracy did not improve from 0.95386\n",
      "5415/5415 [==============================] - 91s 17ms/step - loss: 0.3886 - accuracy: 0.8835 - val_loss: 0.1819 - val_accuracy: 0.9458\n",
      "Epoch 129/1000\n",
      "5413/5415 [============================>.] - ETA: 0s - loss: 0.3912 - accuracy: 0.8836\n",
      "Epoch 129: val_accuracy did not improve from 0.95386\n",
      "5415/5415 [==============================] - 91s 17ms/step - loss: 0.3913 - accuracy: 0.8836 - val_loss: 0.2102 - val_accuracy: 0.9438\n",
      "Epoch 130/1000\n",
      "5415/5415 [==============================] - ETA: 0s - loss: 0.3751 - accuracy: 0.8880\n",
      "Epoch 130: val_accuracy did not improve from 0.95386\n",
      "5415/5415 [==============================] - 94s 17ms/step - loss: 0.3751 - accuracy: 0.8880 - val_loss: 0.2222 - val_accuracy: 0.9388\n",
      "Epoch 131/1000\n",
      "5411/5415 [============================>.] - ETA: 0s - loss: 0.3718 - accuracy: 0.8887\n",
      "Epoch 131: val_accuracy did not improve from 0.95386\n",
      "5415/5415 [==============================] - 92s 17ms/step - loss: 0.3721 - accuracy: 0.8885 - val_loss: 0.1974 - val_accuracy: 0.9458\n",
      "Epoch 132/1000\n",
      "5414/5415 [============================>.] - ETA: 0s - loss: 0.3595 - accuracy: 0.8937\n",
      "Epoch 132: val_accuracy did not improve from 0.95386\n",
      "5415/5415 [==============================] - 92s 17ms/step - loss: 0.3595 - accuracy: 0.8936 - val_loss: 0.2029 - val_accuracy: 0.9418\n",
      "Epoch 133/1000\n",
      "5414/5415 [============================>.] - ETA: 0s - loss: 0.3665 - accuracy: 0.8903\n",
      "Epoch 133: val_accuracy did not improve from 0.95386\n",
      "5415/5415 [==============================] - 92s 17ms/step - loss: 0.3664 - accuracy: 0.8903 - val_loss: 0.1873 - val_accuracy: 0.9478\n",
      "Epoch 134/1000\n",
      "5415/5415 [==============================] - ETA: 0s - loss: 0.3532 - accuracy: 0.8936\n",
      "Epoch 134: val_accuracy did not improve from 0.95386\n",
      "5415/5415 [==============================] - 93s 17ms/step - loss: 0.3532 - accuracy: 0.8936 - val_loss: 0.2101 - val_accuracy: 0.9458\n",
      "Epoch 135/1000\n",
      "5412/5415 [============================>.] - ETA: 0s - loss: 0.3591 - accuracy: 0.8946\n",
      "Epoch 135: val_accuracy did not improve from 0.95386\n",
      "5415/5415 [==============================] - 97s 18ms/step - loss: 0.3590 - accuracy: 0.8946 - val_loss: 0.2110 - val_accuracy: 0.9509\n",
      "Epoch 136/1000\n",
      "5413/5415 [============================>.] - ETA: 0s - loss: 0.3558 - accuracy: 0.8961\n",
      "Epoch 136: val_accuracy did not improve from 0.95386\n",
      "5415/5415 [==============================] - 96s 18ms/step - loss: 0.3559 - accuracy: 0.8961 - val_loss: 0.2119 - val_accuracy: 0.9458\n",
      "Epoch 137/1000\n",
      "5414/5415 [============================>.] - ETA: 0s - loss: 0.3705 - accuracy: 0.8900\n",
      "Epoch 137: val_accuracy did not improve from 0.95386\n",
      "5415/5415 [==============================] - 92s 17ms/step - loss: 0.3707 - accuracy: 0.8899 - val_loss: 0.1927 - val_accuracy: 0.9498\n",
      "Epoch 138/1000\n",
      "5415/5415 [==============================] - ETA: 0s - loss: 0.3437 - accuracy: 0.8984\n",
      "Epoch 138: val_accuracy did not improve from 0.95386\n",
      "5415/5415 [==============================] - 97s 18ms/step - loss: 0.3437 - accuracy: 0.8984 - val_loss: 0.1999 - val_accuracy: 0.9509\n",
      "Epoch 139/1000\n",
      "5413/5415 [============================>.] - ETA: 0s - loss: 0.3693 - accuracy: 0.8900\n",
      "Epoch 139: val_accuracy did not improve from 0.95386\n",
      "5415/5415 [==============================] - 95s 18ms/step - loss: 0.3693 - accuracy: 0.8901 - val_loss: 0.1989 - val_accuracy: 0.9408\n",
      "Epoch 140/1000\n",
      "5412/5415 [============================>.] - ETA: 0s - loss: 0.3639 - accuracy: 0.8907\n",
      "Epoch 140: val_accuracy did not improve from 0.95386\n",
      "5415/5415 [==============================] - 95s 17ms/step - loss: 0.3638 - accuracy: 0.8907 - val_loss: 0.2044 - val_accuracy: 0.9468\n",
      "Epoch 141/1000\n",
      "5412/5415 [============================>.] - ETA: 0s - loss: 0.3395 - accuracy: 0.8995\n",
      "Epoch 141: val_accuracy did not improve from 0.95386\n",
      "5415/5415 [==============================] - 96s 18ms/step - loss: 0.3399 - accuracy: 0.8994 - val_loss: 0.1797 - val_accuracy: 0.9498\n",
      "Epoch 142/1000\n",
      "5413/5415 [============================>.] - ETA: 0s - loss: 0.3483 - accuracy: 0.8952\n",
      "Epoch 142: val_accuracy did not improve from 0.95386\n",
      "5415/5415 [==============================] - 93s 17ms/step - loss: 0.3482 - accuracy: 0.8952 - val_loss: 0.2118 - val_accuracy: 0.9468\n",
      "Epoch 143/1000\n",
      "5413/5415 [============================>.] - ETA: 0s - loss: 0.3503 - accuracy: 0.8965\n",
      "Epoch 143: val_accuracy did not improve from 0.95386\n",
      "5415/5415 [==============================] - 96s 18ms/step - loss: 0.3506 - accuracy: 0.8965 - val_loss: 0.1867 - val_accuracy: 0.9519\n",
      "Epoch 144/1000\n",
      "5414/5415 [============================>.] - ETA: 0s - loss: 0.3496 - accuracy: 0.8977\n",
      "Epoch 144: val_accuracy did not improve from 0.95386\n",
      "5415/5415 [==============================] - 96s 18ms/step - loss: 0.3496 - accuracy: 0.8977 - val_loss: 0.2371 - val_accuracy: 0.9228\n",
      "Epoch 145/1000\n",
      "5414/5415 [============================>.] - ETA: 0s - loss: 0.3468 - accuracy: 0.8978\n",
      "Epoch 145: val_accuracy did not improve from 0.95386\n",
      "5415/5415 [==============================] - 95s 17ms/step - loss: 0.3468 - accuracy: 0.8978 - val_loss: 0.2297 - val_accuracy: 0.9388\n",
      "Epoch 146/1000\n",
      "5413/5415 [============================>.] - ETA: 0s - loss: 0.3672 - accuracy: 0.8933\n",
      "Epoch 146: val_accuracy did not improve from 0.95386\n",
      "5415/5415 [==============================] - 94s 17ms/step - loss: 0.3672 - accuracy: 0.8934 - val_loss: 0.1939 - val_accuracy: 0.9458\n",
      "Epoch 147/1000\n",
      "5415/5415 [==============================] - ETA: 0s - loss: 0.3467 - accuracy: 0.8986\n",
      "Epoch 147: val_accuracy did not improve from 0.95386\n",
      "5415/5415 [==============================] - 121s 22ms/step - loss: 0.3467 - accuracy: 0.8986 - val_loss: 0.1776 - val_accuracy: 0.9529\n",
      "Epoch 148/1000\n",
      "5415/5415 [==============================] - ETA: 0s - loss: 0.3489 - accuracy: 0.8977\n",
      "Epoch 148: val_accuracy did not improve from 0.95386\n",
      "5415/5415 [==============================] - 134s 25ms/step - loss: 0.3489 - accuracy: 0.8977 - val_loss: 0.2077 - val_accuracy: 0.9448\n",
      "Epoch 149/1000\n",
      "5413/5415 [============================>.] - ETA: 0s - loss: 0.3481 - accuracy: 0.8970\n",
      "Epoch 149: val_accuracy did not improve from 0.95386\n",
      "5415/5415 [==============================] - 136s 25ms/step - loss: 0.3481 - accuracy: 0.8971 - val_loss: 0.1816 - val_accuracy: 0.9478\n",
      "Epoch 150/1000\n",
      "5415/5415 [==============================] - ETA: 0s - loss: 0.3453 - accuracy: 0.8965\n",
      "Epoch 150: val_accuracy did not improve from 0.95386\n",
      "5415/5415 [==============================] - 132s 24ms/step - loss: 0.3453 - accuracy: 0.8965 - val_loss: 0.2104 - val_accuracy: 0.9408\n",
      "Epoch 151/1000\n",
      "5415/5415 [==============================] - ETA: 0s - loss: 0.3473 - accuracy: 0.8962\n",
      "Epoch 151: val_accuracy did not improve from 0.95386\n",
      "5415/5415 [==============================] - 136s 25ms/step - loss: 0.3473 - accuracy: 0.8962 - val_loss: 0.1942 - val_accuracy: 0.9488\n",
      "Epoch 152/1000\n",
      "5414/5415 [============================>.] - ETA: 0s - loss: 0.3317 - accuracy: 0.8991\n",
      "Epoch 152: val_accuracy did not improve from 0.95386\n",
      "5415/5415 [==============================] - 133s 25ms/step - loss: 0.3317 - accuracy: 0.8991 - val_loss: 0.2112 - val_accuracy: 0.9438\n",
      "Epoch 153/1000\n",
      "5415/5415 [==============================] - ETA: 0s - loss: 0.3622 - accuracy: 0.8936\n",
      "Epoch 153: val_accuracy did not improve from 0.95386\n",
      "5415/5415 [==============================] - 134s 25ms/step - loss: 0.3622 - accuracy: 0.8936 - val_loss: 0.2159 - val_accuracy: 0.9428\n",
      "Epoch 154/1000\n",
      "5413/5415 [============================>.] - ETA: 0s - loss: 0.3490 - accuracy: 0.8958\n",
      "Epoch 154: val_accuracy did not improve from 0.95386\n",
      "5415/5415 [==============================] - 138s 25ms/step - loss: 0.3489 - accuracy: 0.8958 - val_loss: 0.1928 - val_accuracy: 0.9529\n",
      "Epoch 155/1000\n",
      "5413/5415 [============================>.] - ETA: 0s - loss: 0.3436 - accuracy: 0.8977\n",
      "Epoch 155: val_accuracy did not improve from 0.95386\n",
      "5415/5415 [==============================] - 141s 26ms/step - loss: 0.3435 - accuracy: 0.8977 - val_loss: 0.2155 - val_accuracy: 0.9438\n",
      "Epoch 156/1000\n",
      "5414/5415 [============================>.] - ETA: 0s - loss: 0.3508 - accuracy: 0.9007\n",
      "Epoch 156: val_accuracy did not improve from 0.95386\n",
      "5415/5415 [==============================] - 162s 30ms/step - loss: 0.3508 - accuracy: 0.9007 - val_loss: 0.2127 - val_accuracy: 0.9478\n",
      "Epoch 157/1000\n",
      "5414/5415 [============================>.] - ETA: 0s - loss: 0.3743 - accuracy: 0.8905\n",
      "Epoch 157: val_accuracy did not improve from 0.95386\n",
      "5415/5415 [==============================] - 178s 33ms/step - loss: 0.3742 - accuracy: 0.8905 - val_loss: 0.2008 - val_accuracy: 0.9509\n",
      "Epoch 158/1000\n",
      "5415/5415 [==============================] - ETA: 0s - loss: 0.3535 - accuracy: 0.8944\n",
      "Epoch 158: val_accuracy did not improve from 0.95386\n",
      "5415/5415 [==============================] - 178s 33ms/step - loss: 0.3535 - accuracy: 0.8944 - val_loss: 0.1992 - val_accuracy: 0.9458\n",
      "Epoch 159/1000\n",
      "5415/5415 [==============================] - ETA: 0s - loss: 0.3467 - accuracy: 0.9007\n",
      "Epoch 159: val_accuracy did not improve from 0.95386\n",
      "5415/5415 [==============================] - 181s 33ms/step - loss: 0.3467 - accuracy: 0.9007 - val_loss: 0.1902 - val_accuracy: 0.9519\n",
      "Epoch 160/1000\n",
      "5415/5415 [==============================] - ETA: 0s - loss: 0.3536 - accuracy: 0.8989\n",
      "Epoch 160: val_accuracy did not improve from 0.95386\n",
      "5415/5415 [==============================] - 177s 33ms/step - loss: 0.3536 - accuracy: 0.8989 - val_loss: 0.1948 - val_accuracy: 0.9468\n",
      "Epoch 161/1000\n",
      "5413/5415 [============================>.] - ETA: 0s - loss: 0.3561 - accuracy: 0.8973\n",
      "Epoch 161: val_accuracy did not improve from 0.95386\n",
      "5415/5415 [==============================] - 152s 28ms/step - loss: 0.3563 - accuracy: 0.8973 - val_loss: 0.1927 - val_accuracy: 0.9458\n",
      "Epoch 162/1000\n",
      "5414/5415 [============================>.] - ETA: 0s - loss: 0.3571 - accuracy: 0.8943\n",
      "Epoch 162: val_accuracy did not improve from 0.95386\n",
      "5415/5415 [==============================] - 155s 29ms/step - loss: 0.3572 - accuracy: 0.8942 - val_loss: 0.1982 - val_accuracy: 0.9478\n",
      "Epoch 163/1000\n",
      "5415/5415 [==============================] - ETA: 0s - loss: 0.3430 - accuracy: 0.8969\n",
      "Epoch 163: val_accuracy did not improve from 0.95386\n",
      "5415/5415 [==============================] - 162s 30ms/step - loss: 0.3430 - accuracy: 0.8969 - val_loss: 0.2092 - val_accuracy: 0.9428\n",
      "Epoch 164/1000\n",
      "5414/5415 [============================>.] - ETA: 0s - loss: 0.3501 - accuracy: 0.8966\n",
      "Epoch 164: val_accuracy did not improve from 0.95386\n",
      "5415/5415 [==============================] - 138s 25ms/step - loss: 0.3502 - accuracy: 0.8966 - val_loss: 0.2462 - val_accuracy: 0.9328\n",
      "Epoch 165/1000\n",
      "5415/5415 [==============================] - ETA: 0s - loss: 0.3459 - accuracy: 0.9011\n",
      "Epoch 165: val_accuracy did not improve from 0.95386\n",
      "5415/5415 [==============================] - 138s 25ms/step - loss: 0.3459 - accuracy: 0.9011 - val_loss: 0.2012 - val_accuracy: 0.9509\n",
      "Epoch 166/1000\n",
      "5414/5415 [============================>.] - ETA: 0s - loss: 0.3522 - accuracy: 0.8942\n",
      "Epoch 166: val_accuracy did not improve from 0.95386\n",
      "5415/5415 [==============================] - 134s 25ms/step - loss: 0.3521 - accuracy: 0.8942 - val_loss: 0.2006 - val_accuracy: 0.9529\n",
      "Epoch 167/1000\n",
      "5415/5415 [==============================] - ETA: 0s - loss: 0.3458 - accuracy: 0.9003\n",
      "Epoch 167: val_accuracy did not improve from 0.95386\n",
      "5415/5415 [==============================] - 138s 25ms/step - loss: 0.3458 - accuracy: 0.9003 - val_loss: 0.1858 - val_accuracy: 0.9519\n",
      "Epoch 168/1000\n",
      "5415/5415 [==============================] - ETA: 0s - loss: 0.3430 - accuracy: 0.8990\n",
      "Epoch 168: val_accuracy did not improve from 0.95386\n",
      "5415/5415 [==============================] - 136s 25ms/step - loss: 0.3430 - accuracy: 0.8990 - val_loss: 0.2058 - val_accuracy: 0.9448\n",
      "Epoch 169/1000\n",
      "5415/5415 [==============================] - ETA: 0s - loss: 0.3533 - accuracy: 0.8978\n",
      "Epoch 169: val_accuracy did not improve from 0.95386\n",
      "5415/5415 [==============================] - 141s 26ms/step - loss: 0.3533 - accuracy: 0.8978 - val_loss: 0.1894 - val_accuracy: 0.9509\n",
      "Epoch 170/1000\n",
      "5414/5415 [============================>.] - ETA: 0s - loss: 0.3693 - accuracy: 0.8915\n",
      "Epoch 170: val_accuracy did not improve from 0.95386\n",
      "5415/5415 [==============================] - 135s 25ms/step - loss: 0.3692 - accuracy: 0.8915 - val_loss: 0.1946 - val_accuracy: 0.9468\n",
      "Epoch 171/1000\n",
      "5413/5415 [============================>.] - ETA: 0s - loss: 0.3932 - accuracy: 0.8826\n",
      "Epoch 171: val_accuracy did not improve from 0.95386\n",
      "5415/5415 [==============================] - 138s 25ms/step - loss: 0.3932 - accuracy: 0.8825 - val_loss: 0.2092 - val_accuracy: 0.9438\n",
      "Epoch 172/1000\n",
      "5413/5415 [============================>.] - ETA: 0s - loss: 0.3663 - accuracy: 0.8914\n",
      "Epoch 172: val_accuracy did not improve from 0.95386\n",
      "5415/5415 [==============================] - 137s 25ms/step - loss: 0.3666 - accuracy: 0.8913 - val_loss: 0.1938 - val_accuracy: 0.9509\n",
      "Epoch 173/1000\n",
      "5414/5415 [============================>.] - ETA: 0s - loss: 0.3556 - accuracy: 0.8926\n",
      "Epoch 173: val_accuracy did not improve from 0.95386\n",
      "5415/5415 [==============================] - 137s 25ms/step - loss: 0.3556 - accuracy: 0.8926 - val_loss: 0.2029 - val_accuracy: 0.9488\n",
      "Epoch 174/1000\n",
      "5414/5415 [============================>.] - ETA: 0s - loss: 0.3615 - accuracy: 0.8906\n",
      "Epoch 174: val_accuracy did not improve from 0.95386\n",
      "5415/5415 [==============================] - 140s 26ms/step - loss: 0.3615 - accuracy: 0.8905 - val_loss: 0.2122 - val_accuracy: 0.9458\n",
      "Epoch 175/1000\n",
      "5413/5415 [============================>.] - ETA: 0s - loss: 0.3565 - accuracy: 0.8952\n",
      "Epoch 175: val_accuracy did not improve from 0.95386\n",
      "5415/5415 [==============================] - 139s 26ms/step - loss: 0.3564 - accuracy: 0.8952 - val_loss: 0.2144 - val_accuracy: 0.9438\n",
      "Epoch 176/1000\n",
      "5412/5415 [============================>.] - ETA: 0s - loss: 0.3553 - accuracy: 0.8968\n",
      "Epoch 176: val_accuracy improved from 0.95386 to 0.95687, saving model to D:\\.Dataset05032024 - TCC\\model_checkpoint3\n"
     ]
    },
    {
     "name": "stderr",
     "output_type": "stream",
     "text": [
      "WARNING:absl:Found untraced functions such as _jit_compiled_convolution_op, _jit_compiled_convolution_op while saving (showing 2 of 2). These functions will not be directly callable after loading.\n"
     ]
    },
    {
     "name": "stdout",
     "output_type": "stream",
     "text": [
      "INFO:tensorflow:Assets written to: D:\\.Dataset05032024 - TCC\\model_checkpoint3\\assets\n"
     ]
    },
    {
     "name": "stderr",
     "output_type": "stream",
     "text": [
      "INFO:tensorflow:Assets written to: D:\\.Dataset05032024 - TCC\\model_checkpoint3\\assets\n"
     ]
    },
    {
     "name": "stdout",
     "output_type": "stream",
     "text": [
      "5415/5415 [==============================] - 146s 27ms/step - loss: 0.3557 - accuracy: 0.8965 - val_loss: 0.1699 - val_accuracy: 0.9569\n",
      "Epoch 177/1000\n",
      "5412/5415 [============================>.] - ETA: 0s - loss: 0.3680 - accuracy: 0.8934\n",
      "Epoch 177: val_accuracy did not improve from 0.95687\n",
      "5415/5415 [==============================] - 130s 24ms/step - loss: 0.3687 - accuracy: 0.8933 - val_loss: 0.1762 - val_accuracy: 0.9539\n",
      "Epoch 178/1000\n",
      "5414/5415 [============================>.] - ETA: 0s - loss: 0.3382 - accuracy: 0.8995\n",
      "Epoch 178: val_accuracy did not improve from 0.95687\n",
      "5415/5415 [==============================] - 133s 25ms/step - loss: 0.3381 - accuracy: 0.8995 - val_loss: 0.1859 - val_accuracy: 0.9539\n",
      "Epoch 179/1000\n",
      "5414/5415 [============================>.] - ETA: 0s - loss: 0.3577 - accuracy: 0.8933\n",
      "Epoch 179: val_accuracy did not improve from 0.95687\n",
      "5415/5415 [==============================] - 133s 25ms/step - loss: 0.3578 - accuracy: 0.8933 - val_loss: 0.1982 - val_accuracy: 0.9488\n",
      "Epoch 180/1000\n",
      "5413/5415 [============================>.] - ETA: 0s - loss: 0.3530 - accuracy: 0.8941\n",
      "Epoch 180: val_accuracy did not improve from 0.95687\n",
      "5415/5415 [==============================] - 136s 25ms/step - loss: 0.3532 - accuracy: 0.8941 - val_loss: 0.2018 - val_accuracy: 0.9468\n",
      "Epoch 181/1000\n",
      "5415/5415 [==============================] - ETA: 0s - loss: 0.3429 - accuracy: 0.8992\n",
      "Epoch 181: val_accuracy did not improve from 0.95687\n",
      "5415/5415 [==============================] - 132s 24ms/step - loss: 0.3429 - accuracy: 0.8992 - val_loss: 0.2234 - val_accuracy: 0.9438\n",
      "Epoch 182/1000\n",
      "5414/5415 [============================>.] - ETA: 0s - loss: 0.3382 - accuracy: 0.8990\n",
      "Epoch 182: val_accuracy did not improve from 0.95687\n",
      "5415/5415 [==============================] - 132s 24ms/step - loss: 0.3383 - accuracy: 0.8989 - val_loss: 0.1945 - val_accuracy: 0.9529\n",
      "Epoch 183/1000\n",
      "5413/5415 [============================>.] - ETA: 0s - loss: 0.3508 - accuracy: 0.8946\n",
      "Epoch 183: val_accuracy did not improve from 0.95687\n",
      "5415/5415 [==============================] - 133s 25ms/step - loss: 0.3507 - accuracy: 0.8946 - val_loss: 0.2088 - val_accuracy: 0.9428\n",
      "Epoch 184/1000\n",
      "5414/5415 [============================>.] - ETA: 0s - loss: 0.3458 - accuracy: 0.8951\n",
      "Epoch 184: val_accuracy did not improve from 0.95687\n",
      "5415/5415 [==============================] - 133s 25ms/step - loss: 0.3458 - accuracy: 0.8952 - val_loss: 0.1987 - val_accuracy: 0.9488\n",
      "Epoch 185/1000\n",
      "5412/5415 [============================>.] - ETA: 0s - loss: 0.3630 - accuracy: 0.8906\n",
      "Epoch 185: val_accuracy did not improve from 0.95687\n",
      "5415/5415 [==============================] - 139s 26ms/step - loss: 0.3630 - accuracy: 0.8905 - val_loss: 0.1764 - val_accuracy: 0.9509\n",
      "Epoch 186/1000\n",
      "5415/5415 [==============================] - ETA: 0s - loss: 0.3519 - accuracy: 0.8959\n",
      "Epoch 186: val_accuracy did not improve from 0.95687\n",
      "5415/5415 [==============================] - 140s 26ms/step - loss: 0.3519 - accuracy: 0.8959 - val_loss: 0.2149 - val_accuracy: 0.9418\n",
      "Epoch 187/1000\n",
      "5413/5415 [============================>.] - ETA: 0s - loss: 0.3456 - accuracy: 0.8993\n",
      "Epoch 187: val_accuracy did not improve from 0.95687\n",
      "5415/5415 [==============================] - 146s 27ms/step - loss: 0.3455 - accuracy: 0.8993 - val_loss: 0.2137 - val_accuracy: 0.9428\n",
      "Epoch 188/1000\n",
      "5415/5415 [==============================] - ETA: 0s - loss: 0.3426 - accuracy: 0.8997\n",
      "Epoch 188: val_accuracy did not improve from 0.95687\n",
      "5415/5415 [==============================] - 146s 27ms/step - loss: 0.3426 - accuracy: 0.8997 - val_loss: 0.2136 - val_accuracy: 0.9428\n",
      "Epoch 189/1000\n",
      "5414/5415 [============================>.] - ETA: 0s - loss: 0.3560 - accuracy: 0.8944\n",
      "Epoch 189: val_accuracy did not improve from 0.95687\n",
      "5415/5415 [==============================] - 157s 29ms/step - loss: 0.3561 - accuracy: 0.8944 - val_loss: 0.1960 - val_accuracy: 0.9458\n",
      "Epoch 190/1000\n",
      "5415/5415 [==============================] - ETA: 0s - loss: 0.3274 - accuracy: 0.9038\n",
      "Epoch 190: val_accuracy did not improve from 0.95687\n",
      "5415/5415 [==============================] - 145s 27ms/step - loss: 0.3274 - accuracy: 0.9038 - val_loss: 0.2075 - val_accuracy: 0.9478\n",
      "Epoch 191/1000\n",
      "5414/5415 [============================>.] - ETA: 0s - loss: 0.3385 - accuracy: 0.9024\n",
      "Epoch 191: val_accuracy did not improve from 0.95687\n",
      "5415/5415 [==============================] - 133s 25ms/step - loss: 0.3386 - accuracy: 0.9024 - val_loss: 0.2100 - val_accuracy: 0.9458\n",
      "Epoch 192/1000\n",
      "5414/5415 [============================>.] - ETA: 0s - loss: 0.3235 - accuracy: 0.9033\n",
      "Epoch 192: val_accuracy did not improve from 0.95687\n",
      "5415/5415 [==============================] - 162s 30ms/step - loss: 0.3234 - accuracy: 0.9033 - val_loss: 0.1933 - val_accuracy: 0.9458\n",
      "Epoch 193/1000\n",
      "5413/5415 [============================>.] - ETA: 0s - loss: 0.3351 - accuracy: 0.8993\n",
      "Epoch 193: val_accuracy did not improve from 0.95687\n",
      "5415/5415 [==============================] - 165s 30ms/step - loss: 0.3351 - accuracy: 0.8992 - val_loss: 0.1959 - val_accuracy: 0.9458\n",
      "Epoch 194/1000\n",
      "5414/5415 [============================>.] - ETA: 0s - loss: 0.3351 - accuracy: 0.9030\n",
      "Epoch 194: val_accuracy did not improve from 0.95687\n",
      "5415/5415 [==============================] - 221s 41ms/step - loss: 0.3350 - accuracy: 0.9030 - val_loss: 0.2001 - val_accuracy: 0.9448\n",
      "Epoch 195/1000\n",
      "5415/5415 [==============================] - ETA: 0s - loss: 0.3335 - accuracy: 0.9027\n",
      "Epoch 195: val_accuracy did not improve from 0.95687\n",
      "5415/5415 [==============================] - 319s 59ms/step - loss: 0.3335 - accuracy: 0.9027 - val_loss: 0.1797 - val_accuracy: 0.9509\n",
      "Epoch 196/1000\n",
      "5414/5415 [============================>.] - ETA: 0s - loss: 0.3484 - accuracy: 0.8981\n",
      "Epoch 196: val_accuracy did not improve from 0.95687\n",
      "5415/5415 [==============================] - 262s 48ms/step - loss: 0.3484 - accuracy: 0.8981 - val_loss: 0.1897 - val_accuracy: 0.9509\n",
      "Epoch 197/1000\n",
      "5414/5415 [============================>.] - ETA: 0s - loss: 0.3383 - accuracy: 0.9001\n",
      "Epoch 197: val_accuracy did not improve from 0.95687\n",
      "5415/5415 [==============================] - 231s 43ms/step - loss: 0.3384 - accuracy: 0.9000 - val_loss: 0.1742 - val_accuracy: 0.9468\n",
      "Epoch 198/1000\n",
      "5415/5415 [==============================] - ETA: 0s - loss: 0.3287 - accuracy: 0.9075\n",
      "Epoch 198: val_accuracy did not improve from 0.95687\n",
      "5415/5415 [==============================] - 239s 44ms/step - loss: 0.3287 - accuracy: 0.9075 - val_loss: 0.1924 - val_accuracy: 0.9418\n",
      "Epoch 199/1000\n",
      "5413/5415 [============================>.] - ETA: 0s - loss: 0.3377 - accuracy: 0.9024\n",
      "Epoch 199: val_accuracy did not improve from 0.95687\n",
      "5415/5415 [==============================] - 226s 42ms/step - loss: 0.3377 - accuracy: 0.9024 - val_loss: 0.2063 - val_accuracy: 0.9428\n",
      "Epoch 200/1000\n",
      "5415/5415 [==============================] - ETA: 0s - loss: 0.3211 - accuracy: 0.9061\n",
      "Epoch 200: val_accuracy did not improve from 0.95687\n",
      "5415/5415 [==============================] - 222s 41ms/step - loss: 0.3211 - accuracy: 0.9061 - val_loss: 0.2027 - val_accuracy: 0.9468\n",
      "Epoch 201/1000\n",
      "5415/5415 [==============================] - ETA: 0s - loss: 0.3451 - accuracy: 0.8984\n",
      "Epoch 201: val_accuracy did not improve from 0.95687\n",
      "5415/5415 [==============================] - 225s 42ms/step - loss: 0.3451 - accuracy: 0.8984 - val_loss: 0.2142 - val_accuracy: 0.9398\n",
      "Epoch 202/1000\n",
      "5415/5415 [==============================] - ETA: 0s - loss: 0.3710 - accuracy: 0.8911\n",
      "Epoch 202: val_accuracy did not improve from 0.95687\n",
      "5415/5415 [==============================] - 230s 43ms/step - loss: 0.3710 - accuracy: 0.8911 - val_loss: 0.1921 - val_accuracy: 0.9498\n",
      "Epoch 203/1000\n",
      "5412/5415 [============================>.] - ETA: 0s - loss: 0.3360 - accuracy: 0.9008\n",
      "Epoch 203: val_accuracy did not improve from 0.95687\n",
      "5415/5415 [==============================] - 225s 42ms/step - loss: 0.3359 - accuracy: 0.9008 - val_loss: 0.1999 - val_accuracy: 0.9488\n",
      "Epoch 204/1000\n",
      "5412/5415 [============================>.] - ETA: 0s - loss: 0.3188 - accuracy: 0.9029\n",
      "Epoch 204: val_accuracy did not improve from 0.95687\n",
      "5415/5415 [==============================] - 228s 42ms/step - loss: 0.3187 - accuracy: 0.9029 - val_loss: 0.1899 - val_accuracy: 0.9478\n",
      "Epoch 205/1000\n",
      "5412/5415 [============================>.] - ETA: 0s - loss: 0.3397 - accuracy: 0.8989\n",
      "Epoch 205: val_accuracy did not improve from 0.95687\n",
      "5415/5415 [==============================] - 174s 32ms/step - loss: 0.3395 - accuracy: 0.8990 - val_loss: 0.2096 - val_accuracy: 0.9438\n",
      "Epoch 206/1000\n",
      "5414/5415 [============================>.] - ETA: 0s - loss: 0.3297 - accuracy: 0.9022\n",
      "Epoch 206: val_accuracy did not improve from 0.95687\n",
      "5415/5415 [==============================] - 308s 57ms/step - loss: 0.3296 - accuracy: 0.9022 - val_loss: 0.1867 - val_accuracy: 0.9458\n",
      "Epoch 207/1000\n",
      "5415/5415 [==============================] - ETA: 0s - loss: 0.3392 - accuracy: 0.9018\n",
      "Epoch 207: val_accuracy did not improve from 0.95687\n",
      "5415/5415 [==============================] - 307s 57ms/step - loss: 0.3392 - accuracy: 0.9018 - val_loss: 0.1863 - val_accuracy: 0.9458\n",
      "Epoch 208/1000\n",
      "5414/5415 [============================>.] - ETA: 0s - loss: 0.3435 - accuracy: 0.8971\n",
      "Epoch 208: val_accuracy did not improve from 0.95687\n",
      "5415/5415 [==============================] - 302s 56ms/step - loss: 0.3437 - accuracy: 0.8969 - val_loss: 0.1940 - val_accuracy: 0.9458\n",
      "Epoch 209/1000\n",
      "5413/5415 [============================>.] - ETA: 0s - loss: 0.3453 - accuracy: 0.8965\n",
      "Epoch 209: val_accuracy did not improve from 0.95687\n",
      "5415/5415 [==============================] - 311s 57ms/step - loss: 0.3452 - accuracy: 0.8966 - val_loss: 0.1958 - val_accuracy: 0.9418\n",
      "Epoch 210/1000\n",
      "5414/5415 [============================>.] - ETA: 0s - loss: 0.3204 - accuracy: 0.9055\n",
      "Epoch 210: val_accuracy did not improve from 0.95687\n",
      "5415/5415 [==============================] - 310s 57ms/step - loss: 0.3204 - accuracy: 0.9055 - val_loss: 0.2130 - val_accuracy: 0.9428\n",
      "Epoch 211/1000\n",
      "5414/5415 [============================>.] - ETA: 0s - loss: 0.3452 - accuracy: 0.9021\n",
      "Epoch 211: val_accuracy did not improve from 0.95687\n",
      "5415/5415 [==============================] - 302s 56ms/step - loss: 0.3452 - accuracy: 0.9021 - val_loss: 0.1844 - val_accuracy: 0.9468\n",
      "Epoch 212/1000\n",
      "5414/5415 [============================>.] - ETA: 0s - loss: 0.3126 - accuracy: 0.9112\n",
      "Epoch 212: val_accuracy did not improve from 0.95687\n",
      "5415/5415 [==============================] - 297s 55ms/step - loss: 0.3126 - accuracy: 0.9112 - val_loss: 0.1814 - val_accuracy: 0.9488\n",
      "Epoch 213/1000\n",
      "5414/5415 [============================>.] - ETA: 0s - loss: 0.3271 - accuracy: 0.9054\n",
      "Epoch 213: val_accuracy did not improve from 0.95687\n",
      "5415/5415 [==============================] - 314s 58ms/step - loss: 0.3271 - accuracy: 0.9054 - val_loss: 0.1892 - val_accuracy: 0.9468\n",
      "Epoch 214/1000\n",
      "5415/5415 [==============================] - ETA: 0s - loss: 0.3236 - accuracy: 0.9040\n",
      "Epoch 214: val_accuracy did not improve from 0.95687\n",
      "5415/5415 [==============================] - 304s 56ms/step - loss: 0.3236 - accuracy: 0.9040 - val_loss: 0.1797 - val_accuracy: 0.9498\n",
      "Epoch 215/1000\n",
      "5414/5415 [============================>.] - ETA: 0s - loss: 0.3241 - accuracy: 0.9071\n",
      "Epoch 215: val_accuracy did not improve from 0.95687\n",
      "5415/5415 [==============================] - 292s 54ms/step - loss: 0.3240 - accuracy: 0.9071 - val_loss: 0.1950 - val_accuracy: 0.9388\n",
      "Epoch 216/1000\n",
      "5414/5415 [============================>.] - ETA: 0s - loss: 0.3143 - accuracy: 0.9080\n",
      "Epoch 216: val_accuracy did not improve from 0.95687\n",
      "5415/5415 [==============================] - 310s 57ms/step - loss: 0.3148 - accuracy: 0.9080 - val_loss: 0.1973 - val_accuracy: 0.9448\n",
      "Epoch 217/1000\n",
      "5415/5415 [==============================] - ETA: 0s - loss: 0.3171 - accuracy: 0.9083\n",
      "Epoch 217: val_accuracy did not improve from 0.95687\n",
      "5415/5415 [==============================] - 305s 56ms/step - loss: 0.3171 - accuracy: 0.9083 - val_loss: 0.1826 - val_accuracy: 0.9519\n",
      "Epoch 218/1000\n",
      "5414/5415 [============================>.] - ETA: 0s - loss: 0.3155 - accuracy: 0.9075\n",
      "Epoch 218: val_accuracy did not improve from 0.95687\n",
      "5415/5415 [==============================] - 312s 58ms/step - loss: 0.3155 - accuracy: 0.9075 - val_loss: 0.1816 - val_accuracy: 0.9478\n",
      "Epoch 219/1000\n",
      "5414/5415 [============================>.] - ETA: 0s - loss: 0.3250 - accuracy: 0.9046\n",
      "Epoch 219: val_accuracy did not improve from 0.95687\n",
      "5415/5415 [==============================] - 305s 56ms/step - loss: 0.3250 - accuracy: 0.9046 - val_loss: 0.1946 - val_accuracy: 0.9428\n",
      "Epoch 220/1000\n",
      "5414/5415 [============================>.] - ETA: 0s - loss: 0.3177 - accuracy: 0.9054\n",
      "Epoch 220: val_accuracy did not improve from 0.95687\n",
      "5415/5415 [==============================] - 307s 57ms/step - loss: 0.3177 - accuracy: 0.9054 - val_loss: 0.2020 - val_accuracy: 0.9418\n",
      "Epoch 221/1000\n",
      "5413/5415 [============================>.] - ETA: 0s - loss: 0.3488 - accuracy: 0.9015\n",
      "Epoch 221: val_accuracy did not improve from 0.95687\n",
      "5415/5415 [==============================] - 312s 58ms/step - loss: 0.3487 - accuracy: 0.9015 - val_loss: 0.2107 - val_accuracy: 0.9418\n",
      "Epoch 222/1000\n",
      "5413/5415 [============================>.] - ETA: 0s - loss: 0.3454 - accuracy: 0.8988\n",
      "Epoch 222: val_accuracy did not improve from 0.95687\n",
      "5415/5415 [==============================] - 270s 50ms/step - loss: 0.3459 - accuracy: 0.8987 - val_loss: 0.1893 - val_accuracy: 0.9448\n",
      "Epoch 223/1000\n",
      "5414/5415 [============================>.] - ETA: 0s - loss: 0.3249 - accuracy: 0.9021\n",
      "Epoch 223: val_accuracy did not improve from 0.95687\n",
      "5415/5415 [==============================] - 205s 38ms/step - loss: 0.3249 - accuracy: 0.9021 - val_loss: 0.1979 - val_accuracy: 0.9458\n",
      "Epoch 224/1000\n",
      "5415/5415 [==============================] - ETA: 0s - loss: 0.3139 - accuracy: 0.9052\n",
      "Epoch 224: val_accuracy did not improve from 0.95687\n",
      "5415/5415 [==============================] - 203s 37ms/step - loss: 0.3139 - accuracy: 0.9052 - val_loss: 0.1972 - val_accuracy: 0.9448\n",
      "Epoch 225/1000\n",
      "5415/5415 [==============================] - ETA: 0s - loss: 0.3223 - accuracy: 0.9056\n",
      "Epoch 225: val_accuracy did not improve from 0.95687\n",
      "5415/5415 [==============================] - 210s 39ms/step - loss: 0.3223 - accuracy: 0.9056 - val_loss: 0.2122 - val_accuracy: 0.9458\n",
      "Epoch 226/1000\n",
      "5415/5415 [==============================] - ETA: 0s - loss: 0.3369 - accuracy: 0.9008\n",
      "Epoch 226: val_accuracy did not improve from 0.95687\n",
      "5415/5415 [==============================] - 210s 39ms/step - loss: 0.3369 - accuracy: 0.9008 - val_loss: 0.1782 - val_accuracy: 0.9509\n",
      "Epoch 227/1000\n",
      "5414/5415 [============================>.] - ETA: 0s - loss: 0.3161 - accuracy: 0.9073\n",
      "Epoch 227: val_accuracy did not improve from 0.95687\n",
      "5415/5415 [==============================] - 213s 39ms/step - loss: 0.3161 - accuracy: 0.9072 - val_loss: 0.1915 - val_accuracy: 0.9448\n",
      "Epoch 228/1000\n",
      "5415/5415 [==============================] - ETA: 0s - loss: 0.3136 - accuracy: 0.9075\n",
      "Epoch 228: val_accuracy did not improve from 0.95687\n",
      "5415/5415 [==============================] - 206s 38ms/step - loss: 0.3136 - accuracy: 0.9075 - val_loss: 0.1960 - val_accuracy: 0.9408\n",
      "Epoch 229/1000\n",
      "5414/5415 [============================>.] - ETA: 0s - loss: 0.3166 - accuracy: 0.9070\n",
      "Epoch 229: val_accuracy did not improve from 0.95687\n",
      "5415/5415 [==============================] - 205s 38ms/step - loss: 0.3168 - accuracy: 0.9069 - val_loss: 0.1878 - val_accuracy: 0.9438\n",
      "Epoch 230/1000\n",
      "5414/5415 [============================>.] - ETA: 0s - loss: 0.3228 - accuracy: 0.9043\n",
      "Epoch 230: val_accuracy did not improve from 0.95687\n",
      "5415/5415 [==============================] - 205s 38ms/step - loss: 0.3230 - accuracy: 0.9043 - val_loss: 0.1822 - val_accuracy: 0.9418\n",
      "Epoch 231/1000\n",
      "5413/5415 [============================>.] - ETA: 0s - loss: 0.3159 - accuracy: 0.9046\n",
      "Epoch 231: val_accuracy did not improve from 0.95687\n",
      "5415/5415 [==============================] - 204s 38ms/step - loss: 0.3158 - accuracy: 0.9046 - val_loss: 0.1829 - val_accuracy: 0.9478\n",
      "Epoch 232/1000\n",
      "5414/5415 [============================>.] - ETA: 0s - loss: 0.3307 - accuracy: 0.9029\n",
      "Epoch 232: val_accuracy did not improve from 0.95687\n",
      "5415/5415 [==============================] - 203s 38ms/step - loss: 0.3306 - accuracy: 0.9029 - val_loss: 0.2298 - val_accuracy: 0.9468\n",
      "Epoch 233/1000\n",
      "5415/5415 [==============================] - ETA: 0s - loss: 0.3142 - accuracy: 0.9091\n",
      "Epoch 233: val_accuracy did not improve from 0.95687\n",
      "5415/5415 [==============================] - 204s 38ms/step - loss: 0.3142 - accuracy: 0.9091 - val_loss: 0.1972 - val_accuracy: 0.9408\n",
      "Epoch 234/1000\n",
      "5414/5415 [============================>.] - ETA: 0s - loss: 0.3182 - accuracy: 0.9047\n",
      "Epoch 234: val_accuracy did not improve from 0.95687\n",
      "5415/5415 [==============================] - 205s 38ms/step - loss: 0.3182 - accuracy: 0.9047 - val_loss: 0.1934 - val_accuracy: 0.9408\n",
      "Epoch 235/1000\n",
      "5414/5415 [============================>.] - ETA: 0s - loss: 0.3312 - accuracy: 0.9009\n",
      "Epoch 235: val_accuracy did not improve from 0.95687\n",
      "5415/5415 [==============================] - 204s 38ms/step - loss: 0.3312 - accuracy: 0.9009 - val_loss: 0.1913 - val_accuracy: 0.9418\n",
      "Epoch 236/1000\n",
      "5414/5415 [============================>.] - ETA: 0s - loss: 0.3303 - accuracy: 0.9009\n",
      "Epoch 236: val_accuracy did not improve from 0.95687\n",
      "5415/5415 [==============================] - 206s 38ms/step - loss: 0.3303 - accuracy: 0.9009 - val_loss: 0.2026 - val_accuracy: 0.9368\n",
      "Epoch 237/1000\n",
      "5415/5415 [==============================] - ETA: 0s - loss: 0.3340 - accuracy: 0.9000\n",
      "Epoch 237: val_accuracy did not improve from 0.95687\n",
      "5415/5415 [==============================] - 203s 38ms/step - loss: 0.3340 - accuracy: 0.9000 - val_loss: 0.1780 - val_accuracy: 0.9468\n",
      "Epoch 238/1000\n",
      "5414/5415 [============================>.] - ETA: 0s - loss: 0.3037 - accuracy: 0.9113\n",
      "Epoch 238: val_accuracy did not improve from 0.95687\n",
      "5415/5415 [==============================] - 206s 38ms/step - loss: 0.3040 - accuracy: 0.9112 - val_loss: 0.1782 - val_accuracy: 0.9498\n",
      "Epoch 239/1000\n",
      "5414/5415 [============================>.] - ETA: 0s - loss: 0.3171 - accuracy: 0.9057\n",
      "Epoch 239: val_accuracy did not improve from 0.95687\n",
      "5415/5415 [==============================] - 211s 39ms/step - loss: 0.3171 - accuracy: 0.9057 - val_loss: 0.1924 - val_accuracy: 0.9458\n",
      "Epoch 240/1000\n",
      "5415/5415 [==============================] - ETA: 0s - loss: 0.3127 - accuracy: 0.9057\n",
      "Epoch 240: val_accuracy did not improve from 0.95687\n",
      "5415/5415 [==============================] - 244s 45ms/step - loss: 0.3127 - accuracy: 0.9057 - val_loss: 0.1735 - val_accuracy: 0.9529\n",
      "Epoch 241/1000\n",
      "5414/5415 [============================>.] - ETA: 0s - loss: 0.3170 - accuracy: 0.9066\n",
      "Epoch 241: val_accuracy did not improve from 0.95687\n",
      "5415/5415 [==============================] - 264s 49ms/step - loss: 0.3169 - accuracy: 0.9066 - val_loss: 0.1861 - val_accuracy: 0.9448\n",
      "Epoch 242/1000\n",
      "5415/5415 [==============================] - ETA: 0s - loss: 0.3322 - accuracy: 0.9000\n",
      "Epoch 242: val_accuracy did not improve from 0.95687\n",
      "5415/5415 [==============================] - 221s 41ms/step - loss: 0.3322 - accuracy: 0.9000 - val_loss: 0.1885 - val_accuracy: 0.9468\n",
      "Epoch 243/1000\n",
      "5413/5415 [============================>.] - ETA: 0s - loss: 0.2943 - accuracy: 0.9137\n",
      "Epoch 243: val_accuracy did not improve from 0.95687\n",
      "5415/5415 [==============================] - 217s 40ms/step - loss: 0.2943 - accuracy: 0.9137 - val_loss: 0.1913 - val_accuracy: 0.9428\n",
      "Epoch 244/1000\n",
      "5415/5415 [==============================] - ETA: 0s - loss: 0.3209 - accuracy: 0.9054\n",
      "Epoch 244: val_accuracy did not improve from 0.95687\n",
      "5415/5415 [==============================] - 226s 42ms/step - loss: 0.3209 - accuracy: 0.9054 - val_loss: 0.1844 - val_accuracy: 0.9529\n",
      "Epoch 245/1000\n",
      "5415/5415 [==============================] - ETA: 0s - loss: 0.3109 - accuracy: 0.9070\n",
      "Epoch 245: val_accuracy did not improve from 0.95687\n",
      "5415/5415 [==============================] - 238s 44ms/step - loss: 0.3109 - accuracy: 0.9070 - val_loss: 0.2031 - val_accuracy: 0.9398\n",
      "Epoch 246/1000\n",
      "5414/5415 [============================>.] - ETA: 0s - loss: 0.3242 - accuracy: 0.9042\n",
      "Epoch 246: val_accuracy did not improve from 0.95687\n",
      "5415/5415 [==============================] - 247s 46ms/step - loss: 0.3241 - accuracy: 0.9042 - val_loss: 0.1900 - val_accuracy: 0.9509\n",
      "Epoch 247/1000\n",
      "5414/5415 [============================>.] - ETA: 0s - loss: 0.3183 - accuracy: 0.9064\n",
      "Epoch 247: val_accuracy did not improve from 0.95687\n",
      "5415/5415 [==============================] - 224s 41ms/step - loss: 0.3183 - accuracy: 0.9064 - val_loss: 0.1887 - val_accuracy: 0.9498\n",
      "Epoch 248/1000\n",
      "5415/5415 [==============================] - ETA: 0s - loss: 0.3251 - accuracy: 0.9025\n",
      "Epoch 248: val_accuracy did not improve from 0.95687\n",
      "5415/5415 [==============================] - 227s 42ms/step - loss: 0.3251 - accuracy: 0.9025 - val_loss: 0.2062 - val_accuracy: 0.9428\n",
      "Epoch 249/1000\n",
      "5414/5415 [============================>.] - ETA: 0s - loss: 0.3249 - accuracy: 0.9062\n",
      "Epoch 249: val_accuracy did not improve from 0.95687\n",
      "5415/5415 [==============================] - 221s 41ms/step - loss: 0.3249 - accuracy: 0.9062 - val_loss: 0.1828 - val_accuracy: 0.9438\n",
      "Epoch 250/1000\n",
      "5414/5415 [============================>.] - ETA: 0s - loss: 0.3042 - accuracy: 0.9105\n",
      "Epoch 250: val_accuracy did not improve from 0.95687\n",
      "5415/5415 [==============================] - 215s 40ms/step - loss: 0.3042 - accuracy: 0.9105 - val_loss: 0.2036 - val_accuracy: 0.9418\n",
      "Epoch 251/1000\n",
      "5414/5415 [============================>.] - ETA: 0s - loss: 0.3209 - accuracy: 0.9019\n",
      "Epoch 251: val_accuracy did not improve from 0.95687\n",
      "5415/5415 [==============================] - 239s 44ms/step - loss: 0.3209 - accuracy: 0.9019 - val_loss: 0.1816 - val_accuracy: 0.9438\n",
      "Epoch 252/1000\n",
      "5415/5415 [==============================] - ETA: 0s - loss: 0.3113 - accuracy: 0.9093\n",
      "Epoch 252: val_accuracy did not improve from 0.95687\n",
      "5415/5415 [==============================] - 232s 43ms/step - loss: 0.3113 - accuracy: 0.9093 - val_loss: 0.1871 - val_accuracy: 0.9448\n",
      "Epoch 253/1000\n",
      "5415/5415 [==============================] - ETA: 0s - loss: 0.3269 - accuracy: 0.9058\n",
      "Epoch 253: val_accuracy did not improve from 0.95687\n",
      "5415/5415 [==============================] - 222s 41ms/step - loss: 0.3269 - accuracy: 0.9058 - val_loss: 0.1880 - val_accuracy: 0.9468\n",
      "Epoch 254/1000\n",
      "5415/5415 [==============================] - ETA: 0s - loss: 0.3078 - accuracy: 0.9117\n",
      "Epoch 254: val_accuracy did not improve from 0.95687\n",
      "5415/5415 [==============================] - 251s 46ms/step - loss: 0.3078 - accuracy: 0.9117 - val_loss: 0.1982 - val_accuracy: 0.9468\n",
      "Epoch 255/1000\n",
      "5415/5415 [==============================] - ETA: 0s - loss: 0.3197 - accuracy: 0.9056\n",
      "Epoch 255: val_accuracy did not improve from 0.95687\n",
      "5415/5415 [==============================] - 280s 52ms/step - loss: 0.3197 - accuracy: 0.9056 - val_loss: 0.1836 - val_accuracy: 0.9468\n",
      "Epoch 256/1000\n",
      "5415/5415 [==============================] - ETA: 0s - loss: 0.3265 - accuracy: 0.9073\n",
      "Epoch 256: val_accuracy did not improve from 0.95687\n",
      "5415/5415 [==============================] - 289s 53ms/step - loss: 0.3265 - accuracy: 0.9073 - val_loss: 0.2050 - val_accuracy: 0.9428\n",
      "Epoch 257/1000\n",
      "5414/5415 [============================>.] - ETA: 0s - loss: 0.3191 - accuracy: 0.9081\n",
      "Epoch 257: val_accuracy did not improve from 0.95687\n",
      "5415/5415 [==============================] - 265s 49ms/step - loss: 0.3192 - accuracy: 0.9080 - val_loss: 0.2012 - val_accuracy: 0.9488\n",
      "Epoch 258/1000\n",
      "5414/5415 [============================>.] - ETA: 0s - loss: 0.3207 - accuracy: 0.9083\n",
      "Epoch 258: val_accuracy did not improve from 0.95687\n",
      "5415/5415 [==============================] - 249s 46ms/step - loss: 0.3207 - accuracy: 0.9083 - val_loss: 0.1724 - val_accuracy: 0.9529\n",
      "Epoch 259/1000\n",
      "5414/5415 [============================>.] - ETA: 0s - loss: 0.3196 - accuracy: 0.9085\n",
      "Epoch 259: val_accuracy did not improve from 0.95687\n",
      "5415/5415 [==============================] - 298s 55ms/step - loss: 0.3196 - accuracy: 0.9085 - val_loss: 0.1859 - val_accuracy: 0.9458\n",
      "Epoch 260/1000\n",
      "5415/5415 [==============================] - ETA: 0s - loss: 0.3301 - accuracy: 0.9031\n",
      "Epoch 260: val_accuracy did not improve from 0.95687\n",
      "5415/5415 [==============================] - 206s 38ms/step - loss: 0.3301 - accuracy: 0.9031 - val_loss: 0.1988 - val_accuracy: 0.9438\n",
      "Epoch 261/1000\n",
      "5414/5415 [============================>.] - ETA: 0s - loss: 0.3324 - accuracy: 0.9025\n",
      "Epoch 261: val_accuracy did not improve from 0.95687\n",
      "5415/5415 [==============================] - 211s 39ms/step - loss: 0.3326 - accuracy: 0.9025 - val_loss: 0.1793 - val_accuracy: 0.9428\n",
      "Epoch 262/1000\n",
      "5413/5415 [============================>.] - ETA: 0s - loss: 0.3361 - accuracy: 0.9047\n",
      "Epoch 262: val_accuracy did not improve from 0.95687\n",
      "5415/5415 [==============================] - 200s 37ms/step - loss: 0.3362 - accuracy: 0.9046 - val_loss: 0.1873 - val_accuracy: 0.9408\n",
      "Epoch 263/1000\n",
      "5415/5415 [==============================] - ETA: 0s - loss: 0.2997 - accuracy: 0.9131\n",
      "Epoch 263: val_accuracy did not improve from 0.95687\n",
      "5415/5415 [==============================] - 206s 38ms/step - loss: 0.2997 - accuracy: 0.9131 - val_loss: 0.1942 - val_accuracy: 0.9418\n",
      "Epoch 264/1000\n",
      "5414/5415 [============================>.] - ETA: 0s - loss: 0.3074 - accuracy: 0.9089\n",
      "Epoch 264: val_accuracy did not improve from 0.95687\n",
      "5415/5415 [==============================] - 203s 37ms/step - loss: 0.3074 - accuracy: 0.9088 - val_loss: 0.2032 - val_accuracy: 0.9498\n",
      "Epoch 265/1000\n",
      "5415/5415 [==============================] - ETA: 0s - loss: 0.3144 - accuracy: 0.9102\n",
      "Epoch 265: val_accuracy did not improve from 0.95687\n",
      "5415/5415 [==============================] - 207s 38ms/step - loss: 0.3144 - accuracy: 0.9102 - val_loss: 0.1691 - val_accuracy: 0.9529\n",
      "Epoch 266/1000\n",
      "5415/5415 [==============================] - ETA: 0s - loss: 0.3072 - accuracy: 0.9123\n",
      "Epoch 266: val_accuracy did not improve from 0.95687\n",
      "5415/5415 [==============================] - 207s 38ms/step - loss: 0.3072 - accuracy: 0.9123 - val_loss: 0.1978 - val_accuracy: 0.9418\n",
      "Epoch 267/1000\n",
      "5415/5415 [==============================] - ETA: 0s - loss: 0.3210 - accuracy: 0.9052\n",
      "Epoch 267: val_accuracy did not improve from 0.95687\n",
      "5415/5415 [==============================] - 204s 38ms/step - loss: 0.3210 - accuracy: 0.9052 - val_loss: 0.1733 - val_accuracy: 0.9488\n",
      "Epoch 268/1000\n",
      "5415/5415 [==============================] - ETA: 0s - loss: 0.3141 - accuracy: 0.9082\n",
      "Epoch 268: val_accuracy did not improve from 0.95687\n",
      "5415/5415 [==============================] - 202s 37ms/step - loss: 0.3141 - accuracy: 0.9082 - val_loss: 0.1986 - val_accuracy: 0.9398\n",
      "Epoch 269/1000\n",
      "5414/5415 [============================>.] - ETA: 0s - loss: 0.2886 - accuracy: 0.9166\n",
      "Epoch 269: val_accuracy did not improve from 0.95687\n",
      "5415/5415 [==============================] - 206s 38ms/step - loss: 0.2886 - accuracy: 0.9166 - val_loss: 0.1967 - val_accuracy: 0.9488\n",
      "Epoch 270/1000\n",
      "5414/5415 [============================>.] - ETA: 0s - loss: 0.3391 - accuracy: 0.9008\n",
      "Epoch 270: val_accuracy did not improve from 0.95687\n",
      "5415/5415 [==============================] - 209s 39ms/step - loss: 0.3392 - accuracy: 0.9006 - val_loss: 0.2121 - val_accuracy: 0.9398\n",
      "Epoch 271/1000\n",
      "5415/5415 [==============================] - ETA: 0s - loss: 0.3102 - accuracy: 0.9085\n",
      "Epoch 271: val_accuracy did not improve from 0.95687\n",
      "5415/5415 [==============================] - 217s 40ms/step - loss: 0.3102 - accuracy: 0.9085 - val_loss: 0.2170 - val_accuracy: 0.9428\n",
      "Epoch 272/1000\n",
      "5414/5415 [============================>.] - ETA: 0s - loss: 0.3360 - accuracy: 0.9016\n",
      "Epoch 272: val_accuracy did not improve from 0.95687\n",
      "5415/5415 [==============================] - 209s 39ms/step - loss: 0.3362 - accuracy: 0.9014 - val_loss: 0.1960 - val_accuracy: 0.9488\n",
      "Epoch 273/1000\n",
      "5415/5415 [==============================] - ETA: 0s - loss: 0.3383 - accuracy: 0.9043\n",
      "Epoch 273: val_accuracy did not improve from 0.95687\n",
      "5415/5415 [==============================] - 205s 38ms/step - loss: 0.3383 - accuracy: 0.9043 - val_loss: 0.1990 - val_accuracy: 0.9468\n",
      "Epoch 274/1000\n",
      "5414/5415 [============================>.] - ETA: 0s - loss: 0.3111 - accuracy: 0.9103\n",
      "Epoch 274: val_accuracy did not improve from 0.95687\n",
      "5415/5415 [==============================] - 214s 40ms/step - loss: 0.3110 - accuracy: 0.9103 - val_loss: 0.1808 - val_accuracy: 0.9509\n",
      "Epoch 275/1000\n",
      "5415/5415 [==============================] - ETA: 0s - loss: 0.3192 - accuracy: 0.9082\n",
      "Epoch 275: val_accuracy did not improve from 0.95687\n",
      "5415/5415 [==============================] - 224s 41ms/step - loss: 0.3192 - accuracy: 0.9082 - val_loss: 0.1819 - val_accuracy: 0.9529\n",
      "Epoch 276/1000\n",
      "5414/5415 [============================>.] - ETA: 0s - loss: 0.3172 - accuracy: 0.9077\n",
      "Epoch 276: val_accuracy did not improve from 0.95687\n",
      "5415/5415 [==============================] - 237s 44ms/step - loss: 0.3172 - accuracy: 0.9077 - val_loss: 0.1834 - val_accuracy: 0.9488\n",
      "Epoch 277/1000\n",
      "5414/5415 [============================>.] - ETA: 0s - loss: 0.3185 - accuracy: 0.9104\n",
      "Epoch 277: val_accuracy did not improve from 0.95687\n",
      "5415/5415 [==============================] - 230s 42ms/step - loss: 0.3185 - accuracy: 0.9104 - val_loss: 0.1816 - val_accuracy: 0.9498\n",
      "Epoch 278/1000\n",
      "5413/5415 [============================>.] - ETA: 0s - loss: 0.3071 - accuracy: 0.9102\n",
      "Epoch 278: val_accuracy did not improve from 0.95687\n",
      "5415/5415 [==============================] - 200s 37ms/step - loss: 0.3073 - accuracy: 0.9101 - val_loss: 0.1829 - val_accuracy: 0.9569\n",
      "Epoch 279/1000\n",
      "5415/5415 [==============================] - ETA: 0s - loss: 0.3129 - accuracy: 0.9107\n",
      "Epoch 279: val_accuracy did not improve from 0.95687\n",
      "5415/5415 [==============================] - 195s 36ms/step - loss: 0.3129 - accuracy: 0.9107 - val_loss: 0.1770 - val_accuracy: 0.9488\n",
      "Epoch 280/1000\n",
      "5415/5415 [==============================] - ETA: 0s - loss: 0.3257 - accuracy: 0.9070\n",
      "Epoch 280: val_accuracy did not improve from 0.95687\n",
      "5415/5415 [==============================] - 601s 111ms/step - loss: 0.3257 - accuracy: 0.9070 - val_loss: 0.1887 - val_accuracy: 0.9529\n",
      "Epoch 281/1000\n",
      "5413/5415 [============================>.] - ETA: 0s - loss: 0.3033 - accuracy: 0.9089\n",
      "Epoch 281: val_accuracy did not improve from 0.95687\n",
      "5415/5415 [==============================] - 449s 83ms/step - loss: 0.3032 - accuracy: 0.9090 - val_loss: 0.2010 - val_accuracy: 0.9448\n",
      "Epoch 282/1000\n",
      "5414/5415 [============================>.] - ETA: 0s - loss: 0.3038 - accuracy: 0.9113\n",
      "Epoch 282: val_accuracy did not improve from 0.95687\n",
      "5415/5415 [==============================] - 184s 34ms/step - loss: 0.3038 - accuracy: 0.9113 - val_loss: 0.1872 - val_accuracy: 0.9529\n",
      "Epoch 283/1000\n",
      "5414/5415 [============================>.] - ETA: 0s - loss: 0.3076 - accuracy: 0.9112\n",
      "Epoch 283: val_accuracy did not improve from 0.95687\n",
      "5415/5415 [==============================] - 188s 35ms/step - loss: 0.3076 - accuracy: 0.9112 - val_loss: 0.2136 - val_accuracy: 0.9398\n",
      "Epoch 284/1000\n",
      "5414/5415 [============================>.] - ETA: 0s - loss: 0.3094 - accuracy: 0.9105\n",
      "Epoch 284: val_accuracy did not improve from 0.95687\n",
      "5415/5415 [==============================] - 131s 24ms/step - loss: 0.3093 - accuracy: 0.9106 - val_loss: 0.1890 - val_accuracy: 0.9509\n",
      "Epoch 285/1000\n",
      "5414/5415 [============================>.] - ETA: 0s - loss: 0.3052 - accuracy: 0.9086\n",
      "Epoch 285: val_accuracy did not improve from 0.95687\n",
      "5415/5415 [==============================] - 196s 36ms/step - loss: 0.3051 - accuracy: 0.9086 - val_loss: 0.1941 - val_accuracy: 0.9529\n",
      "Epoch 286/1000\n",
      "5415/5415 [==============================] - ETA: 0s - loss: 0.3266 - accuracy: 0.9049\n",
      "Epoch 286: val_accuracy did not improve from 0.95687\n",
      "5415/5415 [==============================] - 162s 30ms/step - loss: 0.3266 - accuracy: 0.9049 - val_loss: 0.1847 - val_accuracy: 0.9529\n",
      "Epoch 287/1000\n",
      "5415/5415 [==============================] - ETA: 0s - loss: 0.3493 - accuracy: 0.8951\n",
      "Epoch 287: val_accuracy did not improve from 0.95687\n",
      "5415/5415 [==============================] - 192s 35ms/step - loss: 0.3493 - accuracy: 0.8951 - val_loss: 0.1847 - val_accuracy: 0.9408\n",
      "Epoch 288/1000\n",
      "5415/5415 [==============================] - ETA: 0s - loss: 0.3495 - accuracy: 0.8992\n",
      "Epoch 288: val_accuracy did not improve from 0.95687\n",
      "5415/5415 [==============================] - 123s 23ms/step - loss: 0.3495 - accuracy: 0.8992 - val_loss: 0.1721 - val_accuracy: 0.9478\n",
      "Epoch 289/1000\n",
      "5411/5415 [============================>.] - ETA: 0s - loss: 0.3346 - accuracy: 0.9024\n",
      "Epoch 289: val_accuracy improved from 0.95687 to 0.95988, saving model to D:\\.Dataset05032024 - TCC\\model_checkpoint3\n"
     ]
    },
    {
     "name": "stderr",
     "output_type": "stream",
     "text": [
      "WARNING:absl:Found untraced functions such as _jit_compiled_convolution_op, _jit_compiled_convolution_op while saving (showing 2 of 2). These functions will not be directly callable after loading.\n"
     ]
    },
    {
     "name": "stdout",
     "output_type": "stream",
     "text": [
      "INFO:tensorflow:Assets written to: D:\\.Dataset05032024 - TCC\\model_checkpoint3\\assets\n"
     ]
    },
    {
     "name": "stderr",
     "output_type": "stream",
     "text": [
      "INFO:tensorflow:Assets written to: D:\\.Dataset05032024 - TCC\\model_checkpoint3\\assets\n"
     ]
    },
    {
     "name": "stdout",
     "output_type": "stream",
     "text": [
      "5415/5415 [==============================] - 124s 23ms/step - loss: 0.3345 - accuracy: 0.9024 - val_loss: 0.1497 - val_accuracy: 0.9599\n",
      "Epoch 290/1000\n",
      "5415/5415 [==============================] - ETA: 0s - loss: 0.3257 - accuracy: 0.9051\n",
      "Epoch 290: val_accuracy did not improve from 0.95988\n",
      "5415/5415 [==============================] - 137s 25ms/step - loss: 0.3257 - accuracy: 0.9051 - val_loss: 0.1886 - val_accuracy: 0.9438\n",
      "Epoch 291/1000\n",
      "5412/5415 [============================>.] - ETA: 0s - loss: 0.3232 - accuracy: 0.9043\n",
      "Epoch 291: val_accuracy did not improve from 0.95988\n",
      "5415/5415 [==============================] - 105s 19ms/step - loss: 0.3234 - accuracy: 0.9041 - val_loss: 0.1846 - val_accuracy: 0.9448\n",
      "Epoch 292/1000\n",
      "5413/5415 [============================>.] - ETA: 0s - loss: 0.3130 - accuracy: 0.9121\n",
      "Epoch 292: val_accuracy did not improve from 0.95988\n",
      "5415/5415 [==============================] - 107s 20ms/step - loss: 0.3130 - accuracy: 0.9120 - val_loss: 0.1733 - val_accuracy: 0.9488\n",
      "Epoch 293/1000\n",
      "5414/5415 [============================>.] - ETA: 0s - loss: 0.3194 - accuracy: 0.9063\n",
      "Epoch 293: val_accuracy did not improve from 0.95988\n",
      "5415/5415 [==============================] - 95s 17ms/step - loss: 0.3194 - accuracy: 0.9062 - val_loss: 0.1980 - val_accuracy: 0.9398\n",
      "Epoch 294/1000\n",
      "5413/5415 [============================>.] - ETA: 0s - loss: 0.3289 - accuracy: 0.9039\n",
      "Epoch 294: val_accuracy did not improve from 0.95988\n",
      "5415/5415 [==============================] - 114s 21ms/step - loss: 0.3293 - accuracy: 0.9038 - val_loss: 0.1752 - val_accuracy: 0.9498\n",
      "Epoch 295/1000\n",
      "5414/5415 [============================>.] - ETA: 0s - loss: 0.3128 - accuracy: 0.9095\n",
      "Epoch 295: val_accuracy did not improve from 0.95988\n",
      "5415/5415 [==============================] - 99s 18ms/step - loss: 0.3130 - accuracy: 0.9094 - val_loss: 0.1710 - val_accuracy: 0.9589\n",
      "Epoch 296/1000\n",
      "5415/5415 [==============================] - ETA: 0s - loss: 0.3150 - accuracy: 0.9093\n",
      "Epoch 296: val_accuracy did not improve from 0.95988\n",
      "5415/5415 [==============================] - 93s 17ms/step - loss: 0.3150 - accuracy: 0.9093 - val_loss: 0.1761 - val_accuracy: 0.9498\n",
      "Epoch 297/1000\n",
      "5414/5415 [============================>.] - ETA: 0s - loss: 0.3042 - accuracy: 0.9076\n",
      "Epoch 297: val_accuracy did not improve from 0.95988\n",
      "5415/5415 [==============================] - 95s 18ms/step - loss: 0.3042 - accuracy: 0.9077 - val_loss: 0.1823 - val_accuracy: 0.9498\n",
      "Epoch 298/1000\n",
      "5413/5415 [============================>.] - ETA: 0s - loss: 0.3113 - accuracy: 0.9084\n",
      "Epoch 298: val_accuracy did not improve from 0.95988\n",
      "5415/5415 [==============================] - 105s 19ms/step - loss: 0.3114 - accuracy: 0.9083 - val_loss: 0.1832 - val_accuracy: 0.9478\n",
      "Epoch 299/1000\n",
      "5413/5415 [============================>.] - ETA: 0s - loss: 0.3047 - accuracy: 0.9094\n",
      "Epoch 299: val_accuracy did not improve from 0.95988\n",
      "5415/5415 [==============================] - 105s 19ms/step - loss: 0.3047 - accuracy: 0.9094 - val_loss: 0.1844 - val_accuracy: 0.9549\n",
      "Epoch 300/1000\n",
      "5412/5415 [============================>.] - ETA: 0s - loss: 0.3235 - accuracy: 0.9046\n",
      "Epoch 300: val_accuracy did not improve from 0.95988\n",
      "5415/5415 [==============================] - 101s 19ms/step - loss: 0.3234 - accuracy: 0.9046 - val_loss: 0.1777 - val_accuracy: 0.9438\n",
      "Epoch 301/1000\n",
      "5415/5415 [==============================] - ETA: 0s - loss: 0.3177 - accuracy: 0.9051\n",
      "Epoch 301: val_accuracy did not improve from 0.95988\n",
      "5415/5415 [==============================] - 101s 19ms/step - loss: 0.3177 - accuracy: 0.9051 - val_loss: 0.1839 - val_accuracy: 0.9509\n",
      "Epoch 302/1000\n",
      "5415/5415 [==============================] - ETA: 0s - loss: 0.3178 - accuracy: 0.9037\n",
      "Epoch 302: val_accuracy did not improve from 0.95988\n",
      "5415/5415 [==============================] - 105s 19ms/step - loss: 0.3178 - accuracy: 0.9037 - val_loss: 0.1733 - val_accuracy: 0.9529\n",
      "Epoch 303/1000\n",
      "5415/5415 [==============================] - ETA: 0s - loss: 0.3117 - accuracy: 0.9085\n",
      "Epoch 303: val_accuracy did not improve from 0.95988\n",
      "5415/5415 [==============================] - 100s 18ms/step - loss: 0.3117 - accuracy: 0.9085 - val_loss: 0.1891 - val_accuracy: 0.9519\n",
      "Epoch 304/1000\n",
      "5413/5415 [============================>.] - ETA: 0s - loss: 0.3204 - accuracy: 0.9071\n",
      "Epoch 304: val_accuracy did not improve from 0.95988\n",
      "5415/5415 [==============================] - 92s 17ms/step - loss: 0.3205 - accuracy: 0.9071 - val_loss: 0.1772 - val_accuracy: 0.9498\n",
      "Epoch 305/1000\n",
      "5414/5415 [============================>.] - ETA: 0s - loss: 0.3153 - accuracy: 0.9075\n",
      "Epoch 305: val_accuracy did not improve from 0.95988\n",
      "5415/5415 [==============================] - 94s 17ms/step - loss: 0.3153 - accuracy: 0.9075 - val_loss: 0.1808 - val_accuracy: 0.9458\n",
      "Epoch 306/1000\n",
      "5412/5415 [============================>.] - ETA: 0s - loss: 0.3095 - accuracy: 0.9080\n",
      "Epoch 306: val_accuracy did not improve from 0.95988\n",
      "5415/5415 [==============================] - 94s 17ms/step - loss: 0.3095 - accuracy: 0.9080 - val_loss: 0.1802 - val_accuracy: 0.9509\n",
      "Epoch 307/1000\n",
      "5413/5415 [============================>.] - ETA: 0s - loss: 0.3034 - accuracy: 0.9097\n",
      "Epoch 307: val_accuracy did not improve from 0.95988\n",
      "5415/5415 [==============================] - 130s 24ms/step - loss: 0.3036 - accuracy: 0.9096 - val_loss: 0.1702 - val_accuracy: 0.9559\n",
      "Epoch 308/1000\n",
      "5411/5415 [============================>.] - ETA: 0s - loss: 0.3016 - accuracy: 0.9106\n",
      "Epoch 308: val_accuracy did not improve from 0.95988\n",
      "5415/5415 [==============================] - 99s 18ms/step - loss: 0.3015 - accuracy: 0.9107 - val_loss: 0.1672 - val_accuracy: 0.9448\n",
      "Epoch 309/1000\n",
      "5413/5415 [============================>.] - ETA: 0s - loss: 0.3193 - accuracy: 0.9088\n",
      "Epoch 309: val_accuracy did not improve from 0.95988\n",
      "5415/5415 [==============================] - 105s 19ms/step - loss: 0.3193 - accuracy: 0.9088 - val_loss: 0.1698 - val_accuracy: 0.9509\n",
      "Epoch 310/1000\n",
      "5413/5415 [============================>.] - ETA: 0s - loss: 0.3241 - accuracy: 0.9054\n",
      "Epoch 310: val_accuracy did not improve from 0.95988\n",
      "5415/5415 [==============================] - 112s 21ms/step - loss: 0.3241 - accuracy: 0.9053 - val_loss: 0.1817 - val_accuracy: 0.9509\n",
      "Epoch 311/1000\n",
      "5411/5415 [============================>.] - ETA: 0s - loss: 0.3418 - accuracy: 0.8993\n",
      "Epoch 311: val_accuracy did not improve from 0.95988\n",
      "5415/5415 [==============================] - 113s 21ms/step - loss: 0.3417 - accuracy: 0.8993 - val_loss: 0.1848 - val_accuracy: 0.9468\n",
      "Epoch 312/1000\n",
      "5412/5415 [============================>.] - ETA: 0s - loss: 0.3212 - accuracy: 0.9032\n",
      "Epoch 312: val_accuracy did not improve from 0.95988\n",
      "5415/5415 [==============================] - 110s 20ms/step - loss: 0.3214 - accuracy: 0.9032 - val_loss: 0.1892 - val_accuracy: 0.9438\n",
      "Epoch 313/1000\n",
      "5415/5415 [==============================] - ETA: 0s - loss: 0.3382 - accuracy: 0.9014\n",
      "Epoch 313: val_accuracy did not improve from 0.95988\n",
      "5415/5415 [==============================] - 123s 23ms/step - loss: 0.3382 - accuracy: 0.9014 - val_loss: 0.1900 - val_accuracy: 0.9458\n",
      "Epoch 314/1000\n",
      "5412/5415 [============================>.] - ETA: 0s - loss: 0.3224 - accuracy: 0.9024\n",
      "Epoch 314: val_accuracy did not improve from 0.95988\n",
      "5415/5415 [==============================] - 117s 22ms/step - loss: 0.3223 - accuracy: 0.9024 - val_loss: 0.1760 - val_accuracy: 0.9529\n",
      "Epoch 315/1000\n",
      "5415/5415 [==============================] - ETA: 0s - loss: 0.3136 - accuracy: 0.9077\n",
      "Epoch 315: val_accuracy did not improve from 0.95988\n",
      "5415/5415 [==============================] - 108s 20ms/step - loss: 0.3136 - accuracy: 0.9077 - val_loss: 0.1725 - val_accuracy: 0.9569\n",
      "Epoch 316/1000\n",
      "5412/5415 [============================>.] - ETA: 0s - loss: 0.3235 - accuracy: 0.9051\n",
      "Epoch 316: val_accuracy did not improve from 0.95988\n",
      "5415/5415 [==============================] - 88s 16ms/step - loss: 0.3240 - accuracy: 0.9050 - val_loss: 0.1831 - val_accuracy: 0.9549\n",
      "Epoch 317/1000\n",
      "5412/5415 [============================>.] - ETA: 0s - loss: 0.3073 - accuracy: 0.9090\n",
      "Epoch 317: val_accuracy did not improve from 0.95988\n",
      "5415/5415 [==============================] - 92s 17ms/step - loss: 0.3074 - accuracy: 0.9089 - val_loss: 0.1695 - val_accuracy: 0.9539\n",
      "Epoch 318/1000\n",
      "5414/5415 [============================>.] - ETA: 0s - loss: 0.3094 - accuracy: 0.9132\n",
      "Epoch 318: val_accuracy did not improve from 0.95988\n",
      "5415/5415 [==============================] - 92s 17ms/step - loss: 0.3095 - accuracy: 0.9131 - val_loss: 0.1675 - val_accuracy: 0.9579\n",
      "Epoch 319/1000\n",
      "5412/5415 [============================>.] - ETA: 0s - loss: 0.3116 - accuracy: 0.9103\n",
      "Epoch 319: val_accuracy did not improve from 0.95988\n",
      "5415/5415 [==============================] - 86s 16ms/step - loss: 0.3114 - accuracy: 0.9103 - val_loss: 0.1834 - val_accuracy: 0.9468\n",
      "Epoch 320/1000\n",
      "5414/5415 [============================>.] - ETA: 0s - loss: 0.3065 - accuracy: 0.9120\n",
      "Epoch 320: val_accuracy did not improve from 0.95988\n",
      "5415/5415 [==============================] - 78s 14ms/step - loss: 0.3065 - accuracy: 0.9120 - val_loss: 0.1745 - val_accuracy: 0.9488\n",
      "Epoch 321/1000\n",
      "5414/5415 [============================>.] - ETA: 0s - loss: 0.3146 - accuracy: 0.9072\n",
      "Epoch 321: val_accuracy did not improve from 0.95988\n",
      "5415/5415 [==============================] - 80s 15ms/step - loss: 0.3146 - accuracy: 0.9072 - val_loss: 0.1876 - val_accuracy: 0.9569\n",
      "Epoch 322/1000\n",
      "5415/5415 [==============================] - ETA: 0s - loss: 0.3122 - accuracy: 0.9102\n",
      "Epoch 322: val_accuracy did not improve from 0.95988\n",
      "5415/5415 [==============================] - 90s 17ms/step - loss: 0.3122 - accuracy: 0.9102 - val_loss: 0.1786 - val_accuracy: 0.9498\n",
      "Epoch 323/1000\n",
      "5415/5415 [==============================] - ETA: 0s - loss: 0.3077 - accuracy: 0.9105\n",
      "Epoch 323: val_accuracy did not improve from 0.95988\n",
      "5415/5415 [==============================] - 91s 17ms/step - loss: 0.3077 - accuracy: 0.9105 - val_loss: 0.1932 - val_accuracy: 0.9488\n",
      "Epoch 324/1000\n",
      "5414/5415 [============================>.] - ETA: 0s - loss: 0.3063 - accuracy: 0.9104\n",
      "Epoch 324: val_accuracy did not improve from 0.95988\n",
      "5415/5415 [==============================] - 94s 17ms/step - loss: 0.3062 - accuracy: 0.9104 - val_loss: 0.1865 - val_accuracy: 0.9509\n",
      "Epoch 325/1000\n",
      "5412/5415 [============================>.] - ETA: 0s - loss: 0.2994 - accuracy: 0.9142\n",
      "Epoch 325: val_accuracy did not improve from 0.95988\n",
      "5415/5415 [==============================] - 92s 17ms/step - loss: 0.2994 - accuracy: 0.9142 - val_loss: 0.2081 - val_accuracy: 0.9388\n",
      "Epoch 326/1000\n",
      "5414/5415 [============================>.] - ETA: 0s - loss: 0.3088 - accuracy: 0.9115\n",
      "Epoch 326: val_accuracy did not improve from 0.95988\n",
      "5415/5415 [==============================] - 91s 17ms/step - loss: 0.3089 - accuracy: 0.9115 - val_loss: 0.1769 - val_accuracy: 0.9488\n",
      "Epoch 327/1000\n",
      "5415/5415 [==============================] - ETA: 0s - loss: 0.3171 - accuracy: 0.9072\n",
      "Epoch 327: val_accuracy did not improve from 0.95988\n",
      "5415/5415 [==============================] - 92s 17ms/step - loss: 0.3171 - accuracy: 0.9072 - val_loss: 0.1635 - val_accuracy: 0.9529\n",
      "Epoch 328/1000\n",
      "5411/5415 [============================>.] - ETA: 0s - loss: 0.3149 - accuracy: 0.9054\n",
      "Epoch 328: val_accuracy did not improve from 0.95988\n",
      "5415/5415 [==============================] - 91s 17ms/step - loss: 0.3149 - accuracy: 0.9054 - val_loss: 0.1691 - val_accuracy: 0.9539\n",
      "Epoch 329/1000\n",
      "5413/5415 [============================>.] - ETA: 0s - loss: 0.2961 - accuracy: 0.9143\n",
      "Epoch 329: val_accuracy did not improve from 0.95988\n",
      "5415/5415 [==============================] - 91s 17ms/step - loss: 0.2962 - accuracy: 0.9142 - val_loss: 0.1758 - val_accuracy: 0.9519\n",
      "Epoch 330/1000\n",
      "5414/5415 [============================>.] - ETA: 0s - loss: 0.3110 - accuracy: 0.9112\n",
      "Epoch 330: val_accuracy did not improve from 0.95988\n",
      "5415/5415 [==============================] - 93s 17ms/step - loss: 0.3109 - accuracy: 0.9112 - val_loss: 0.1776 - val_accuracy: 0.9519\n",
      "Epoch 331/1000\n",
      "5411/5415 [============================>.] - ETA: 0s - loss: 0.3056 - accuracy: 0.9111\n",
      "Epoch 331: val_accuracy did not improve from 0.95988\n",
      "5415/5415 [==============================] - 92s 17ms/step - loss: 0.3057 - accuracy: 0.9110 - val_loss: 0.1762 - val_accuracy: 0.9569\n",
      "Epoch 332/1000\n",
      "5411/5415 [============================>.] - ETA: 0s - loss: 0.2913 - accuracy: 0.9138\n",
      "Epoch 332: val_accuracy did not improve from 0.95988\n",
      "5415/5415 [==============================] - 91s 17ms/step - loss: 0.2915 - accuracy: 0.9136 - val_loss: 0.1599 - val_accuracy: 0.9579\n",
      "Epoch 333/1000\n",
      "5412/5415 [============================>.] - ETA: 0s - loss: 0.3484 - accuracy: 0.8950\n",
      "Epoch 333: val_accuracy did not improve from 0.95988\n",
      "5415/5415 [==============================] - 92s 17ms/step - loss: 0.3483 - accuracy: 0.8950 - val_loss: 0.1986 - val_accuracy: 0.9448\n",
      "Epoch 334/1000\n",
      "5415/5415 [==============================] - ETA: 0s - loss: 0.3266 - accuracy: 0.9030\n",
      "Epoch 334: val_accuracy did not improve from 0.95988\n",
      "5415/5415 [==============================] - 91s 17ms/step - loss: 0.3266 - accuracy: 0.9030 - val_loss: 0.1751 - val_accuracy: 0.9519\n",
      "Epoch 335/1000\n",
      "5414/5415 [============================>.] - ETA: 0s - loss: 0.2939 - accuracy: 0.9141\n",
      "Epoch 335: val_accuracy did not improve from 0.95988\n",
      "5415/5415 [==============================] - 90s 17ms/step - loss: 0.2939 - accuracy: 0.9141 - val_loss: 0.2169 - val_accuracy: 0.9388\n",
      "Epoch 336/1000\n",
      "5414/5415 [============================>.] - ETA: 0s - loss: 0.3054 - accuracy: 0.9126\n",
      "Epoch 336: val_accuracy did not improve from 0.95988\n",
      "5415/5415 [==============================] - 90s 17ms/step - loss: 0.3054 - accuracy: 0.9126 - val_loss: 0.2007 - val_accuracy: 0.9428\n",
      "Epoch 337/1000\n",
      "5413/5415 [============================>.] - ETA: 0s - loss: 0.3132 - accuracy: 0.9088\n",
      "Epoch 337: val_accuracy did not improve from 0.95988\n",
      "5415/5415 [==============================] - 91s 17ms/step - loss: 0.3131 - accuracy: 0.9088 - val_loss: 0.1743 - val_accuracy: 0.9549\n",
      "Epoch 338/1000\n",
      "5412/5415 [============================>.] - ETA: 0s - loss: 0.3081 - accuracy: 0.9108\n",
      "Epoch 338: val_accuracy did not improve from 0.95988\n",
      "5415/5415 [==============================] - 90s 17ms/step - loss: 0.3080 - accuracy: 0.9108 - val_loss: 0.1883 - val_accuracy: 0.9529\n",
      "Epoch 339/1000\n",
      "5412/5415 [============================>.] - ETA: 0s - loss: 0.2990 - accuracy: 0.9131\n",
      "Epoch 339: val_accuracy did not improve from 0.95988\n",
      "5415/5415 [==============================] - 91s 17ms/step - loss: 0.2988 - accuracy: 0.9131 - val_loss: 0.2064 - val_accuracy: 0.9509\n",
      "Epoch 340/1000\n",
      "5413/5415 [============================>.] - ETA: 0s - loss: 0.3215 - accuracy: 0.9039\n",
      "Epoch 340: val_accuracy did not improve from 0.95988\n",
      "5415/5415 [==============================] - 91s 17ms/step - loss: 0.3215 - accuracy: 0.9040 - val_loss: 0.1807 - val_accuracy: 0.9468\n",
      "Epoch 341/1000\n",
      "5414/5415 [============================>.] - ETA: 0s - loss: 0.3088 - accuracy: 0.9084\n",
      "Epoch 341: val_accuracy did not improve from 0.95988\n",
      "5415/5415 [==============================] - 90s 17ms/step - loss: 0.3087 - accuracy: 0.9084 - val_loss: 0.2124 - val_accuracy: 0.9448\n",
      "Epoch 342/1000\n",
      "5412/5415 [============================>.] - ETA: 0s - loss: 0.3117 - accuracy: 0.9087\n",
      "Epoch 342: val_accuracy did not improve from 0.95988\n",
      "5415/5415 [==============================] - 90s 17ms/step - loss: 0.3118 - accuracy: 0.9086 - val_loss: 0.1848 - val_accuracy: 0.9468\n",
      "Epoch 343/1000\n",
      "5413/5415 [============================>.] - ETA: 0s - loss: 0.3069 - accuracy: 0.9077\n",
      "Epoch 343: val_accuracy did not improve from 0.95988\n",
      "5415/5415 [==============================] - 189s 35ms/step - loss: 0.3074 - accuracy: 0.9076 - val_loss: 0.2157 - val_accuracy: 0.9388\n",
      "Epoch 344/1000\n",
      "5415/5415 [==============================] - ETA: 0s - loss: 0.3125 - accuracy: 0.9111\n",
      "Epoch 344: val_accuracy did not improve from 0.95988\n",
      "5415/5415 [==============================] - 94s 17ms/step - loss: 0.3125 - accuracy: 0.9111 - val_loss: 0.1929 - val_accuracy: 0.9529\n",
      "Epoch 345/1000\n",
      "5413/5415 [============================>.] - ETA: 0s - loss: 0.3056 - accuracy: 0.9120\n",
      "Epoch 345: val_accuracy did not improve from 0.95988\n",
      "5415/5415 [==============================] - 145s 27ms/step - loss: 0.3055 - accuracy: 0.9120 - val_loss: 0.1776 - val_accuracy: 0.9509\n",
      "Epoch 346/1000\n",
      "5414/5415 [============================>.] - ETA: 0s - loss: 0.3062 - accuracy: 0.9086\n",
      "Epoch 346: val_accuracy did not improve from 0.95988\n",
      "5415/5415 [==============================] - 115s 21ms/step - loss: 0.3061 - accuracy: 0.9086 - val_loss: 0.2195 - val_accuracy: 0.9398\n",
      "Epoch 347/1000\n",
      "5415/5415 [==============================] - ETA: 0s - loss: 0.3046 - accuracy: 0.9084\n",
      "Epoch 347: val_accuracy did not improve from 0.95988\n",
      "5415/5415 [==============================] - 126s 23ms/step - loss: 0.3046 - accuracy: 0.9084 - val_loss: 0.1930 - val_accuracy: 0.9509\n",
      "Epoch 348/1000\n",
      "5412/5415 [============================>.] - ETA: 0s - loss: 0.2989 - accuracy: 0.9119\n",
      "Epoch 348: val_accuracy did not improve from 0.95988\n",
      "5415/5415 [==============================] - 117s 22ms/step - loss: 0.2987 - accuracy: 0.9120 - val_loss: 0.2053 - val_accuracy: 0.9368\n",
      "Epoch 349/1000\n",
      "5415/5415 [==============================] - ETA: 0s - loss: 0.3154 - accuracy: 0.9083\n",
      "Epoch 349: val_accuracy did not improve from 0.95988\n",
      "5415/5415 [==============================] - 110s 20ms/step - loss: 0.3154 - accuracy: 0.9083 - val_loss: 0.1677 - val_accuracy: 0.9519\n",
      "Epoch 350/1000\n",
      "5413/5415 [============================>.] - ETA: 0s - loss: 0.2950 - accuracy: 0.9153\n",
      "Epoch 350: val_accuracy did not improve from 0.95988\n",
      "5415/5415 [==============================] - 120s 22ms/step - loss: 0.2950 - accuracy: 0.9154 - val_loss: 0.1879 - val_accuracy: 0.9468\n",
      "Epoch 351/1000\n",
      "5414/5415 [============================>.] - ETA: 0s - loss: 0.3022 - accuracy: 0.9131\n",
      "Epoch 351: val_accuracy did not improve from 0.95988\n",
      "5415/5415 [==============================] - 113s 21ms/step - loss: 0.3022 - accuracy: 0.9131 - val_loss: 0.2037 - val_accuracy: 0.9539\n",
      "Epoch 352/1000\n",
      "5413/5415 [============================>.] - ETA: 0s - loss: 0.3424 - accuracy: 0.9020\n",
      "Epoch 352: val_accuracy did not improve from 0.95988\n",
      "5415/5415 [==============================] - 108s 20ms/step - loss: 0.3426 - accuracy: 0.9019 - val_loss: 0.1816 - val_accuracy: 0.9539\n",
      "Epoch 353/1000\n",
      "5414/5415 [============================>.] - ETA: 0s - loss: 0.3161 - accuracy: 0.9089\n",
      "Epoch 353: val_accuracy did not improve from 0.95988\n",
      "5415/5415 [==============================] - 109s 20ms/step - loss: 0.3162 - accuracy: 0.9088 - val_loss: 0.1778 - val_accuracy: 0.9529\n",
      "Epoch 354/1000\n",
      "5415/5415 [==============================] - ETA: 0s - loss: 0.2987 - accuracy: 0.9147\n",
      "Epoch 354: val_accuracy did not improve from 0.95988\n",
      "5415/5415 [==============================] - 104s 19ms/step - loss: 0.2987 - accuracy: 0.9147 - val_loss: 0.1780 - val_accuracy: 0.9549\n",
      "Epoch 355/1000\n",
      "5415/5415 [==============================] - ETA: 0s - loss: 0.3077 - accuracy: 0.9090\n",
      "Epoch 355: val_accuracy did not improve from 0.95988\n",
      "5415/5415 [==============================] - 106s 20ms/step - loss: 0.3077 - accuracy: 0.9090 - val_loss: 0.2109 - val_accuracy: 0.9509\n",
      "Epoch 356/1000\n",
      "5413/5415 [============================>.] - ETA: 0s - loss: 0.3005 - accuracy: 0.9120\n",
      "Epoch 356: val_accuracy did not improve from 0.95988\n",
      "5415/5415 [==============================] - 104s 19ms/step - loss: 0.3004 - accuracy: 0.9120 - val_loss: 0.2078 - val_accuracy: 0.9428\n",
      "Epoch 357/1000\n",
      "5414/5415 [============================>.] - ETA: 0s - loss: 0.3126 - accuracy: 0.9092\n",
      "Epoch 357: val_accuracy did not improve from 0.95988\n",
      "5415/5415 [==============================] - 110s 20ms/step - loss: 0.3125 - accuracy: 0.9093 - val_loss: 0.1793 - val_accuracy: 0.9438\n",
      "Epoch 358/1000\n",
      "5414/5415 [============================>.] - ETA: 0s - loss: 0.2790 - accuracy: 0.9157\n",
      "Epoch 358: val_accuracy did not improve from 0.95988\n",
      "5415/5415 [==============================] - 125s 23ms/step - loss: 0.2790 - accuracy: 0.9157 - val_loss: 0.1757 - val_accuracy: 0.9458\n",
      "Epoch 359/1000\n",
      "5413/5415 [============================>.] - ETA: 0s - loss: 0.3268 - accuracy: 0.9041\n",
      "Epoch 359: val_accuracy did not improve from 0.95988\n",
      "5415/5415 [==============================] - 119s 22ms/step - loss: 0.3267 - accuracy: 0.9041 - val_loss: 0.2153 - val_accuracy: 0.9368\n",
      "Epoch 360/1000\n",
      "5415/5415 [==============================] - ETA: 0s - loss: 0.3293 - accuracy: 0.8993\n",
      "Epoch 360: val_accuracy did not improve from 0.95988\n",
      "5415/5415 [==============================] - 122s 23ms/step - loss: 0.3293 - accuracy: 0.8993 - val_loss: 0.1779 - val_accuracy: 0.9438\n",
      "Epoch 361/1000\n",
      "5414/5415 [============================>.] - ETA: 0s - loss: 0.3135 - accuracy: 0.9070\n",
      "Epoch 361: val_accuracy did not improve from 0.95988\n",
      "5415/5415 [==============================] - 155s 29ms/step - loss: 0.3135 - accuracy: 0.9070 - val_loss: 0.2092 - val_accuracy: 0.9468\n",
      "Epoch 362/1000\n",
      "5415/5415 [==============================] - ETA: 0s - loss: 0.2958 - accuracy: 0.9139\n",
      "Epoch 362: val_accuracy did not improve from 0.95988\n",
      "5415/5415 [==============================] - 134s 25ms/step - loss: 0.2958 - accuracy: 0.9139 - val_loss: 0.1856 - val_accuracy: 0.9498\n",
      "Epoch 363/1000\n",
      "5413/5415 [============================>.] - ETA: 0s - loss: 0.2927 - accuracy: 0.9122\n",
      "Epoch 363: val_accuracy did not improve from 0.95988\n",
      "5415/5415 [==============================] - 155s 29ms/step - loss: 0.2926 - accuracy: 0.9122 - val_loss: 0.1936 - val_accuracy: 0.9488\n",
      "Epoch 364/1000\n",
      "5413/5415 [============================>.] - ETA: 0s - loss: 0.3211 - accuracy: 0.9024\n",
      "Epoch 364: val_accuracy did not improve from 0.95988\n",
      "5415/5415 [==============================] - 168s 31ms/step - loss: 0.3211 - accuracy: 0.9024 - val_loss: 0.2165 - val_accuracy: 0.9408\n",
      "Epoch 365/1000\n",
      "5413/5415 [============================>.] - ETA: 0s - loss: 0.3108 - accuracy: 0.9106\n",
      "Epoch 365: val_accuracy did not improve from 0.95988\n",
      "5415/5415 [==============================] - 153s 28ms/step - loss: 0.3108 - accuracy: 0.9106 - val_loss: 0.1941 - val_accuracy: 0.9498\n",
      "Epoch 366/1000\n",
      "5415/5415 [==============================] - ETA: 0s - loss: 0.3135 - accuracy: 0.9084\n",
      "Epoch 366: val_accuracy did not improve from 0.95988\n",
      "5415/5415 [==============================] - 172s 32ms/step - loss: 0.3135 - accuracy: 0.9084 - val_loss: 0.1671 - val_accuracy: 0.9559\n",
      "Epoch 367/1000\n",
      "5415/5415 [==============================] - ETA: 0s - loss: 0.3285 - accuracy: 0.9014\n",
      "Epoch 367: val_accuracy did not improve from 0.95988\n",
      "5415/5415 [==============================] - 173s 32ms/step - loss: 0.3285 - accuracy: 0.9014 - val_loss: 0.1983 - val_accuracy: 0.9438\n",
      "Epoch 368/1000\n",
      "5414/5415 [============================>.] - ETA: 0s - loss: 0.3017 - accuracy: 0.9137\n",
      "Epoch 368: val_accuracy did not improve from 0.95988\n",
      "5415/5415 [==============================] - 179s 33ms/step - loss: 0.3016 - accuracy: 0.9137 - val_loss: 0.2099 - val_accuracy: 0.9458\n",
      "Epoch 369/1000\n",
      "5412/5415 [============================>.] - ETA: 0s - loss: 0.2929 - accuracy: 0.9156\n",
      "Epoch 369: val_accuracy did not improve from 0.95988\n",
      "5415/5415 [==============================] - 147s 27ms/step - loss: 0.2929 - accuracy: 0.9155 - val_loss: 0.1994 - val_accuracy: 0.9478\n"
     ]
    }
   ],
   "source": [
    "import time\n",
    "from tensorflow.keras.callbacks import CSVLogger\n",
    "\n",
    "start_time = time.time()\n",
    "\n",
    "history = 'D:\\\\.Dataset05032024 - TCC\\\\history_recent.csv'\n",
    "csv_logger = CSVLogger(filename=history)\n",
    "\n",
    "history = model.fit(\n",
    "    train_dataset,                          # Conjunto de dados de treinamento\n",
    "    epochs=1000,                             # Número de épocas de treinamento\n",
    "    validation_data=validation_dataset,     # Conjunto de dados de validação (separado anteriormente)\n",
    "    callbacks=[csv_logger, checkpoint, tensorboard_callback, early_stopping], # Callback para salvar os melhores pesos #, early_stopping, tensorboard_callback, activation_logger\n",
    "    verbose=1                              # Exibir informações de treinamento\n",
    ")\n",
    "\n",
    "end_time = time.time()\n",
    "\n",
    "# Salvar o modelo treinado\n",
    "model_path_trained = 'D:\\\\.Dataset05032024 - TCC\\\\model_trained_recent.h5'\n",
    "model.save(model_path_trained)"
   ]
  },
  {
   "cell_type": "code",
   "execution_count": 11,
   "metadata": {},
   "outputs": [
    {
     "data": {
      "text/plain": [
       "Reusing TensorBoard on port 6006 (pid 26080), started 0:11:22 ago. (Use '!kill 26080' to kill it.)"
      ]
     },
     "metadata": {},
     "output_type": "display_data"
    },
    {
     "data": {
      "text/html": [
       "\n",
       "      <iframe id=\"tensorboard-frame-33885d0dd96eec9f\" width=\"100%\" height=\"800\" frameborder=\"0\">\n",
       "      </iframe>\n",
       "      <script>\n",
       "        (function() {\n",
       "          const frame = document.getElementById(\"tensorboard-frame-33885d0dd96eec9f\");\n",
       "          const url = new URL(\"http://localhost\");\n",
       "          const port = 6006;\n",
       "          if (port) {\n",
       "            url.port = port;\n",
       "          }\n",
       "          frame.src = url;\n",
       "        })();\n",
       "      </script>\n",
       "    "
      ],
      "text/plain": [
       "<IPython.core.display.HTML object>"
      ]
     },
     "metadata": {},
     "output_type": "display_data"
    }
   ],
   "source": [
    "%tensorboard --logdir 'D:\\\\.Dataset05032024 - TCC\\\\logs_recent'\n"
   ]
  },
  {
   "cell_type": "code",
   "execution_count": 1,
   "metadata": {},
   "outputs": [
    {
     "ename": "NameError",
     "evalue": "name 'end_time' is not defined",
     "output_type": "error",
     "traceback": [
      "\u001b[1;31m---------------------------------------------------------------------------\u001b[0m",
      "\u001b[1;31mNameError\u001b[0m                                 Traceback (most recent call last)",
      "Cell \u001b[1;32mIn[1], line 1\u001b[0m\n\u001b[1;32m----> 1\u001b[0m execution_time_seconds \u001b[38;5;241m=\u001b[39m \u001b[43mend_time\u001b[49m \u001b[38;5;241m-\u001b[39m start_time\n\u001b[0;32m      3\u001b[0m hours \u001b[38;5;241m=\u001b[39m \u001b[38;5;28mint\u001b[39m(execution_time_seconds) \u001b[38;5;241m/\u001b[39m\u001b[38;5;241m/\u001b[39m \u001b[38;5;241m3600\u001b[39m\n\u001b[0;32m      4\u001b[0m minutes \u001b[38;5;241m=\u001b[39m \u001b[38;5;28mint\u001b[39m(execution_time_seconds) \u001b[38;5;241m%\u001b[39m \u001b[38;5;241m3600\u001b[39m \u001b[38;5;241m/\u001b[39m\u001b[38;5;241m/\u001b[39m \u001b[38;5;241m60\u001b[39m\n",
      "\u001b[1;31mNameError\u001b[0m: name 'end_time' is not defined"
     ]
    }
   ],
   "source": [
    "execution_time_seconds = end_time - start_time\n",
    "\n",
    "hours = int(execution_time_seconds) // 3600\n",
    "minutes = int(execution_time_seconds) % 3600 // 60\n",
    "seconds = int(execution_time_seconds) % 60\n",
    "\n",
    "print(f\"Tempo de execução: {hours} horas, {minutes} minutos e {seconds} segundos\")\n",
    "\n",
    "### More than 19 hours"
   ]
  },
  {
   "cell_type": "markdown",
   "metadata": {
    "id": "36W5a2r43bH-"
   },
   "source": [
    "### Evaluating Model"
   ]
  },
  {
   "cell_type": "markdown",
   "metadata": {
    "id": "EfxbIL1XgmFp"
   },
   "source": [
    "###### Evaluating Model by Loss and Accuracy with the Test Data"
   ]
  },
  {
   "cell_type": "code",
   "execution_count": 20,
   "metadata": {
    "colab": {
     "base_uri": "https://localhost:8080/"
    },
    "id": "9ymFZGG93TVG",
    "outputId": "5decb8b8-718a-4987-c7bb-5cf7b93f3861"
   },
   "outputs": [
    {
     "name": "stdout",
     "output_type": "stream",
     "text": [
      "Teste -> Perda: 0.21722690761089325, Acurácia: 0.941534698009491\n"
     ]
    }
   ],
   "source": [
    "test_loss, test_accuracy = model.evaluate(test_dataset, verbose=0)\n",
    "\n",
    "print(f'Teste -> Perda: {test_loss}, Acurácia: {test_accuracy}')"
   ]
  },
  {
   "cell_type": "markdown",
   "metadata": {
    "id": "pSuF8DZC6LhK"
   },
   "source": [
    "###### Plot Graphs to vizualise loss and accuracy through the epochs"
   ]
  },
  {
   "cell_type": "code",
   "execution_count": 2,
   "metadata": {
    "colab": {
     "base_uri": "https://localhost:8080/",
     "height": 412
    },
    "id": "hkg4yB7nHo2t",
    "outputId": "c09664ac-fe96-4926-83b2-55b513d482da"
   },
   "outputs": [
    {
     "data": {
      "image/png": "[encoded data removed]",
      "text/plain": [
       "<Figure size 1000x400 with 2 Axes>"
      ]
     },
     "metadata": {},
     "output_type": "display_data"
    }
   ],
   "source": [
    "import pandas as pd\n",
    "import matplotlib.pyplot as plt\n",
    "\n",
    "# Read the history data from the CSV file\n",
    "df_history = pd.read_csv('D:\\\\.Dataset05032024 - TCC\\\\history_recent.csv')\n",
    "\n",
    "# Extract the desired metrics (accuracy and loss in this case)\n",
    "accuracy = df_history['accuracy'].to_numpy()\n",
    "val_accuracy = df_history['val_accuracy'].to_numpy()\n",
    "loss = df_history['loss'].to_numpy()\n",
    "val_loss = df_history['val_loss'].to_numpy()\n",
    "\n",
    "# Plot the curves as usual\n",
    "plt.figure(figsize=(10, 4))\n",
    "\n",
    "plt.subplot(1, 2, 1)\n",
    "plt.plot(accuracy, color='teal', label='accuracy')\n",
    "plt.plot(val_accuracy, color='purple', label='val_accuracy')\n",
    "plt.title('Curva de Precisão')\n",
    "plt.xlabel('Época')\n",
    "plt.ylabel('Precisão')\n",
    "plt.legend()\n",
    "\n",
    "plt.subplot(1, 2, 2)\n",
    "plt.plot(loss, color='teal', label='loss')\n",
    "plt.plot(val_loss, color='purple', label='val_loss')\n",
    "plt.title('Curva de Perda')\n",
    "plt.xlabel('Época')\n",
    "plt.ylabel('Perda')\n",
    "plt.legend()\n",
    "\n",
    "plt.show()"
   ]
  },
  {
   "cell_type": "markdown",
   "metadata": {},
   "source": [
    "### Other Plots to help evaluate the model"
   ]
  },
  {
   "cell_type": "markdown",
   "metadata": {
    "id": "f-W4euBwRQVb"
   },
   "source": [
    "###### Plot Confusion Matrix"
   ]
  },
  {
   "cell_type": "markdown",
   "metadata": {
    "id": "FB8i1P5fYlSo"
   },
   "source": [
    "A matriz de confusão é uma tabela que mostra as contagens de verdadeiros positivos, verdadeiros negativos, falsos positivos e falsos negativos. É especialmente útil em problemas de classificação com várias classes.\n"
   ]
  },
  {
   "cell_type": "code",
   "execution_count": null,
   "metadata": {},
   "outputs": [
    {
     "name": "stdout",
     "output_type": "stream",
     "text": [
      "2.9.0\n"
     ]
    }
   ],
   "source": [
    "import keras\n",
    "\n",
    "print(keras.__version__)"
   ]
  },
  {
   "cell_type": "code",
   "execution_count": null,
   "metadata": {},
   "outputs": [],
   "source": [
    "model_path = 'D:\\\\.Dataset05032024 - TCC\\\\model_trained_recent.h5'\n",
    "model = tf.keras.models.load_model(model_path)"
   ]
  },
  {
   "cell_type": "code",
   "execution_count": null,
   "metadata": {
    "colab": {
     "base_uri": "https://localhost:8080/",
     "height": 581
    },
    "id": "Ml2tk8xqRPIq",
    "outputId": "df5998fc-3060-40c9-9945-8bf943e09b1b"
   },
   "outputs": [
    {
     "name": "stdout",
     "output_type": "stream",
     "text": [
      "274/274 [==============================] - 1s 4ms/step\n"
     ]
    },
    {
     "data": {
      "image/png": "[encoded data removed]",
      "text/plain": [
       "<Figure size 800x600 with 2 Axes>"
      ]
     },
     "metadata": {},
     "output_type": "display_data"
    }
   ],
   "source": [
    "from sklearn.metrics import confusion_matrix\n",
    "import seaborn as sns\n",
    "import numpy as np\n",
    "\n",
    "\n",
    "# Obter previsões do conjunto de teste\n",
    "predictions = model.predict(test_dataset)\n",
    "predicted_labels = np.argmax(predictions, axis=1)  # Use argmax para obter a classe prevista\n",
    "\n",
    "# Obter rótulos verdadeiros do conjunto de teste\n",
    "true_labels = [label for _, label in test_dataset.unbatch()]\n",
    "\n",
    "# Calcular a matriz de confusão\n",
    "conf_matrix = confusion_matrix(true_labels, predicted_labels)\n",
    "\n",
    "# Definir rótulos das classes\n",
    "class_labels = [\"German\", \"Indian\", \"Japanese\", \"Spanish\"]\n",
    "\n",
    "# Visualizar a matriz de confusão\n",
    "plt.figure(figsize=(8, 6))\n",
    "sns.heatmap(conf_matrix, annot=True, fmt=\"d\", cmap=\"PuRd\", xticklabels=class_labels, yticklabels=class_labels)\n",
    "plt.xlabel(\"Previsões\")\n",
    "plt.ylabel(\"Rótulos Verdadeiros\")\n",
    "plt.title(\"Matriz de Confusão\")\n",
    "plt.show()"
   ]
  },
  {
   "cell_type": "markdown",
   "metadata": {
    "id": "fisksp8oSJ1Y",
    "jp-MarkdownHeadingCollapsed": true
   },
   "source": [
    "###### Plot Heatmap Error"
   ]
  },
  {
   "cell_type": "markdown",
   "metadata": {
    "id": "7UzDwJD2YikN"
   },
   "source": [
    "Criar heatmaps que destacam onde o modelo está cometendo erros pode ajudar a identificar padrões específicos que podem ser melhorados."
   ]
  },
  {
   "cell_type": "code",
   "execution_count": null,
   "metadata": {
    "colab": {
     "base_uri": "https://localhost:8080/"
    },
    "id": "N3v0oVe9SRDm",
    "outputId": "bb000acf-1a01-4cfe-84c7-abfbfb426ab5"
   },
   "outputs": [
    {
     "data": {
      "image/png": "[encoded data removed]",
      "text/plain": [
       "<Figure size 800x600 with 2 Axes>"
      ]
     },
     "metadata": {},
     "output_type": "display_data"
    }
   ],
   "source": [
    "# Obter rótulos verdadeiros do conjunto de teste\n",
    "true_labels = [label for _, label in test_dataset.unbatch()]\n",
    "\n",
    "# Calcular a matriz de confusão\n",
    "conf_matrix = confusion_matrix(true_labels, predicted_labels)\n",
    "\n",
    "# Calcular o heatmap de erros\n",
    "error_matrix = conf_matrix - np.eye(conf_matrix.shape[0], dtype=int)  # Subtrair a diagonal para obter os erros\n",
    "\n",
    "# Definir rótulos das classes\n",
    "class_labels = [\"German\", \"Indian\", \"Japanese\", \"Spanish\"]\n",
    "\n",
    "# Visualizar o heatmap de erros\n",
    "plt.figure(figsize=(8, 6))\n",
    "sns.heatmap(error_matrix, annot=True, fmt=\"d\", cmap=\"PuBu\", xticklabels=class_labels, yticklabels=class_labels)\n",
    "plt.xlabel(\"Previsões\")\n",
    "plt.ylabel(\"Rótulos Verdadeiros\")\n",
    "plt.title(\"Heatmap de Erros\")\n",
    "plt.show()"
   ]
  },
  {
   "cell_type": "markdown",
   "metadata": {
    "id": "sN1Wfz9UUhZ6",
    "jp-MarkdownHeadingCollapsed": true
   },
   "source": [
    "### Evaluating HeatMap"
   ]
  },
  {
   "cell_type": "code",
   "execution_count": null,
   "metadata": {
    "colab": {
     "base_uri": "https://localhost:8080/"
    },
    "id": "4FptD921YZbt",
    "outputId": "93ae4da4-0d9a-45ad-c27a-c6f6244055bf"
   },
   "outputs": [
    {
     "name": "stdout",
     "output_type": "stream",
     "text": [
      "Requirement already satisfied: tf-keras-vis in c:\\users\\larissa santana\\anaconda3\\lib\\site-packages (0.8.6)\n",
      "Requirement already satisfied: scipy in c:\\users\\larissa santana\\anaconda3\\lib\\site-packages (from tf-keras-vis) (1.7.3)\n",
      "Requirement already satisfied: pillow in c:\\users\\larissa santana\\anaconda3\\lib\\site-packages (from tf-keras-vis) (10.2.0)\n",
      "Requirement already satisfied: deprecated in c:\\users\\larissa santana\\anaconda3\\lib\\site-packages (from tf-keras-vis) (1.2.14)\n",
      "Requirement already satisfied: imageio in c:\\users\\larissa santana\\anaconda3\\lib\\site-packages (from tf-keras-vis) (2.33.1)\n",
      "Requirement already satisfied: packaging in c:\\users\\larissa santana\\anaconda3\\lib\\site-packages (from tf-keras-vis) (23.1)\n",
      "Requirement already satisfied: wrapt<2,>=1.10 in c:\\users\\larissa santana\\anaconda3\\lib\\site-packages (from deprecated->tf-keras-vis) (1.14.1)\n",
      "Requirement already satisfied: numpy in c:\\users\\larissa santana\\anaconda3\\lib\\site-packages (from imageio->tf-keras-vis) (1.22.3)\n",
      "Note: you may need to restart the kernel to use updated packages.\n"
     ]
    }
   ],
   "source": [
    "pip install tf-keras-vis"
   ]
  },
  {
   "cell_type": "code",
   "execution_count": null,
   "metadata": {
    "id": "gVcqK4zeUtAd"
   },
   "outputs": [],
   "source": [
    "from tensorflow.keras.models import load_model\n",
    "from tensorflow.keras.preprocessing import image\n",
    "from tf_keras_vis.utils import normalize\n",
    "import cv2"
   ]
  },
  {
   "cell_type": "code",
   "execution_count": null,
   "metadata": {
    "colab": {
     "base_uri": "https://localhost:8080/"
    },
    "id": "KG-BukO3H5_4",
    "outputId": "b5757735-1618-4fb5-9cd6-7066c4d90c63"
   },
   "outputs": [
    {
     "data": {
      "image/png": "[encoded data removed]",
      "text/plain": [
       "<Figure size 2000x400 with 5 Axes>"
      ]
     },
     "metadata": {},
     "output_type": "display_data"
    }
   ],
   "source": [
    "# Caminho para o diretório de teste\n",
    "test_dir_german = 'D:\\\\.Dataset28022024 - TCC\\\\result\\\\test\\\\german'\n",
    "\n",
    "# Carregar 5 imagens do diretório de teste\n",
    "image_list = os.listdir(test_dir_german)[:5]\n",
    "\n",
    "# Configurar subplots\n",
    "fig, axs = plt.subplots(1, 5, figsize=(20, 4))\n",
    "fig.subplots_adjust(wspace=0.5)\n",
    "\n",
    "for i, img_name in enumerate(image_list):\n",
    "    # Carregar a imagem\n",
    "    img_path = os.path.join(test_dir_german, img_name)\n",
    "    img = image.load_img(img_path, target_size=(28, 28))\n",
    "    img_array = image.img_to_array(img)\n",
    "    img_array = np.expand_dims(img_array, axis=0)\n",
    "\n",
    "    # Simular o mapa de calor (substitua esta parte pelo seu código real)\n",
    "    heatmap_expanded = np.random.rand(1, 16, 16, 3)\n",
    "\n",
    "    # Redimensionar o mapa de calor para o tamanho original da imagem\n",
    "    heatmap_resized = cv2.resize(heatmap_expanded[0], (img_array.shape[2], img_array.shape[1]))\n",
    "\n",
    "    # Converter para um intervalo de 0 a 255\n",
    "    heatmap_resized *= 255\n",
    "\n",
    "    # Converter para inteiro\n",
    "    heatmap_resized = heatmap_resized.astype(np.uint8)\n",
    "\n",
    "    # Converter a imagem para escala de cinza\n",
    "    gray_img = cv2.cvtColor(img_array[0].astype(np.uint8), cv2.COLOR_BGR2GRAY)\n",
    "\n",
    "    # Sobrepôr o mapa de calor na imagem em escala de cinza\n",
    "    heatmap_colored = cv2.applyColorMap(gray_img, cv2.COLORMAP_JET)\n",
    "    superimposed_img = cv2.addWeighted(heatmap_colored, 0.4, heatmap_resized, 0.6, 0)\n",
    "\n",
    "    # Exibir a imagem e o Grad-CAM no subplot correspondente\n",
    "    axs[i].imshow(superimposed_img)\n",
    "    axs[i].set_title(f'Image {i+1}')\n",
    "    axs[i].axis('off')\n",
    "\n",
    "plt.show()"
   ]
  },
  {
   "cell_type": "code",
   "execution_count": null,
   "metadata": {
    "colab": {
     "base_uri": "https://localhost:8080/"
    },
    "id": "_5TxTpVAIBSe",
    "outputId": "85e0c396-3ca7-47a2-cb25-2dc9a2639d64"
   },
   "outputs": [
    {
     "data": {
      "image/png": "[encoded data removed]",
      "text/plain": [
       "<Figure size 2000x400 with 5 Axes>"
      ]
     },
     "metadata": {},
     "output_type": "display_data"
    }
   ],
   "source": [
    "# Caminho para o diretório de teste\n",
    "test_dir_indian = 'D:\\\\.Dataset28022024 - TCC\\\\result\\\\test\\\\indian'\n",
    "\n",
    "# Carregar 5 imagens do diretório de teste\n",
    "image_list = os.listdir(test_dir_indian)[:5]\n",
    "\n",
    "# Configurar subplots\n",
    "fig, axs = plt.subplots(1, 5, figsize=(20, 4))\n",
    "fig.subplots_adjust(wspace=0.5)\n",
    "\n",
    "for i, img_name in enumerate(image_list):\n",
    "    # Carregar a imagem\n",
    "    img_path = os.path.join(test_dir_indian, img_name)\n",
    "    img = image.load_img(img_path, target_size=(28, 28))\n",
    "    img_array = image.img_to_array(img)\n",
    "    img_array = np.expand_dims(img_array, axis=0)\n",
    "\n",
    "    # Simular o mapa de calor (substitua esta parte pelo seu código real)\n",
    "    heatmap_expanded = np.random.rand(1, 16, 16, 3)\n",
    "\n",
    "    # Redimensionar o mapa de calor para o tamanho original da imagem\n",
    "    heatmap_resized = cv2.resize(heatmap_expanded[0], (img_array.shape[2], img_array.shape[1]))\n",
    "\n",
    "    # Converter para um intervalo de 0 a 255\n",
    "    heatmap_resized *= 255\n",
    "\n",
    "    # Converter para inteiro\n",
    "    heatmap_resized = heatmap_resized.astype(np.uint8)\n",
    "\n",
    "    # Converter a imagem para escala de cinza\n",
    "    gray_img = cv2.cvtColor(img_array[0].astype(np.uint8), cv2.COLOR_BGR2GRAY)\n",
    "\n",
    "    # Sobrepôr o mapa de calor na imagem em escala de cinza\n",
    "    heatmap_colored = cv2.applyColorMap(gray_img, cv2.COLORMAP_JET)\n",
    "    superimposed_img = cv2.addWeighted(heatmap_colored, 0.4, heatmap_resized, 0.6, 0)\n",
    "\n",
    "    # Exibir a imagem e o Grad-CAM no subplot correspondente\n",
    "    axs[i].imshow(superimposed_img)\n",
    "    axs[i].set_title(f'Image {i+1}')\n",
    "    axs[i].axis('off')\n",
    "\n",
    "plt.show()"
   ]
  },
  {
   "cell_type": "code",
   "execution_count": null,
   "metadata": {
    "colab": {
     "base_uri": "https://localhost:8080/"
    },
    "id": "Z8yPEuQhgJhO",
    "outputId": "8c76d07d-fe92-4b56-c06c-24fdb2692cc8"
   },
   "outputs": [
    {
     "data": {
      "image/png": "[encoded data removed]",
      "text/plain": [
       "<Figure size 2000x400 with 5 Axes>"
      ]
     },
     "metadata": {},
     "output_type": "display_data"
    }
   ],
   "source": [
    "# Caminho para o diretório de teste\n",
    "test_dir_japanese = 'D:\\\\.Dataset28022024 - TCC\\\\result\\\\test\\\\japanese'\n",
    "\n",
    "# Carregar 5 imagens do diretório de teste\n",
    "image_list = os.listdir(test_dir_japanese)[:5]\n",
    "\n",
    "# Configurar subplots\n",
    "fig, axs = plt.subplots(1, 5, figsize=(20, 4))\n",
    "fig.subplots_adjust(wspace=0.5)\n",
    "\n",
    "for i, img_name in enumerate(image_list):\n",
    "    # Carregar a imagem\n",
    "    img_path = os.path.join(test_dir_japanese, img_name)\n",
    "    img = image.load_img(img_path, target_size=(28, 28))\n",
    "    img_array = image.img_to_array(img)\n",
    "    img_array = np.expand_dims(img_array, axis=0)\n",
    "\n",
    "    # Simular o mapa de calor (substitua esta parte pelo seu código real)\n",
    "    heatmap_expanded = np.random.rand(1, 16, 16, 3)\n",
    "\n",
    "    # Redimensionar o mapa de calor para o tamanho original da imagem\n",
    "    heatmap_resized = cv2.resize(heatmap_expanded[0], (img_array.shape[2], img_array.shape[1]))\n",
    "\n",
    "    # Converter para um intervalo de 0 a 255\n",
    "    heatmap_resized *= 255\n",
    "\n",
    "    # Converter para inteiro\n",
    "    heatmap_resized = heatmap_resized.astype(np.uint8)\n",
    "\n",
    "    # Converter a imagem para escala de cinza\n",
    "    gray_img = cv2.cvtColor(img_array[0].astype(np.uint8), cv2.COLOR_BGR2GRAY)\n",
    "\n",
    "    # Sobrepôr o mapa de calor na imagem em escala de cinza\n",
    "    heatmap_colored = cv2.applyColorMap(gray_img, cv2.COLORMAP_JET)\n",
    "    superimposed_img = cv2.addWeighted(heatmap_colored, 0.4, heatmap_resized, 0.6, 0)\n",
    "\n",
    "    # Exibir a imagem e o Grad-CAM no subplot correspondente\n",
    "    axs[i].imshow(superimposed_img)\n",
    "    axs[i].set_title(f'Image {i+1}')\n",
    "    axs[i].axis('off')\n",
    "\n",
    "plt.show()"
   ]
  },
  {
   "cell_type": "code",
   "execution_count": null,
   "metadata": {
    "colab": {
     "base_uri": "https://localhost:8080/"
    },
    "id": "uGAiB2wwfYbM",
    "outputId": "4887e269-9114-412f-93ef-cfe93954b4ec"
   },
   "outputs": [
    {
     "data": {
      "image/png": "[encoded data removed]",
      "text/plain": [
       "<Figure size 2000x400 with 5 Axes>"
      ]
     },
     "metadata": {},
     "output_type": "display_data"
    }
   ],
   "source": [
    "# Caminho para o diretório de teste\n",
    "test_dir_spanish = 'D:\\\\.Dataset28022024 - TCC\\\\result\\\\test\\\\spanish'\n",
    "\n",
    "# Carregar 5 imagens do diretório de teste\n",
    "image_list = os.listdir(test_dir_spanish)[:5]\n",
    "\n",
    "# Configurar subplots\n",
    "fig, axs = plt.subplots(1, 5, figsize=(20, 4))\n",
    "fig.subplots_adjust(wspace=0.5)\n",
    "\n",
    "for i, img_name in enumerate(image_list):\n",
    "    # Carregar a imagem\n",
    "    img_path = os.path.join(test_dir_spanish, img_name)\n",
    "    img = image.load_img(img_path, target_size=(28, 28))\n",
    "    img_array = image.img_to_array(img)\n",
    "    img_array = np.expand_dims(img_array, axis=0)\n",
    "\n",
    "    # Simular o mapa de calor (substitua esta parte pelo seu código real)\n",
    "    heatmap_expanded = np.random.rand(1, 16, 16, 3)\n",
    "\n",
    "    # Redimensionar o mapa de calor para o tamanho original da imagem\n",
    "    heatmap_resized = cv2.resize(heatmap_expanded[0], (img_array.shape[2], img_array.shape[1]))\n",
    "\n",
    "    # Converter para um intervalo de 0 a 255\n",
    "    heatmap_resized *= 255\n",
    "\n",
    "    # Converter para inteiro\n",
    "    heatmap_resized = heatmap_resized.astype(np.uint8)\n",
    "\n",
    "    # Converter a imagem para escala de cinza\n",
    "    gray_img = cv2.cvtColor(img_array[0].astype(np.uint8), cv2.COLOR_BGR2GRAY)\n",
    "\n",
    "    # Sobrepôr o mapa de calor na imagem em escala de cinza\n",
    "    heatmap_colored = cv2.applyColorMap(gray_img, cv2.COLORMAP_JET)\n",
    "    superimposed_img = cv2.addWeighted(heatmap_colored, 0.4, heatmap_resized, 0.6, 0)\n",
    "\n",
    "    # Exibir a imagem e o Grad-CAM no subplot correspondente\n",
    "    axs[i].imshow(superimposed_img)\n",
    "    axs[i].set_title(f'Image {i+1}')\n",
    "    axs[i].axis('off')\n",
    "\n",
    "plt.show()"
   ]
  },
  {
   "cell_type": "markdown",
   "metadata": {
    "id": "1iUOm0GQ7yXl",
    "jp-MarkdownHeadingCollapsed": true
   },
   "source": [
    "### Testing Model with other images"
   ]
  },
  {
   "cell_type": "code",
   "execution_count": null,
   "metadata": {
    "id": "ZCIHtvrY8No2"
   },
   "outputs": [],
   "source": [
    "import cv2"
   ]
  },
  {
   "cell_type": "code",
   "execution_count": null,
   "metadata": {
    "id": "8tupf3cT7xlr"
   },
   "outputs": [],
   "source": [
    "german_path = 'C:\\\\Users\\\\Larissa Santana\\\\Documents\\\\UFAL\\\\TCC\\\\Models\\\\test_image_labels\\\\german.jpg'\n",
    "indian_path = 'C:\\\\Users\\\\Larissa Santana\\\\Documents\\\\UFAL\\\\TCC\\\\Models\\\\test_image_labels\\\\indian.jpg'\n",
    "japanese_path = 'C:\\\\Users\\\\Larissa Santana\\\\Documents\\\\UFAL\\\\TCC\\\\Models\\\\test_image_labels\\\\japanese.jpg'\n",
    "spanish_path = 'C:\\\\Users\\\\Larissa Santana\\\\Documents\\\\UFAL\\\\TCC\\\\Models\\\\test_image_labels\\\\spanish.jpg'"
   ]
  },
  {
   "cell_type": "code",
   "execution_count": null,
   "metadata": {
    "colab": {
     "base_uri": "https://localhost:8080/"
    },
    "id": "DnxaWaT373Jp",
    "outputId": "051d61e2-c834-4a31-eda3-a49317ea631e"
   },
   "outputs": [
    {
     "data": {
      "image/png": "[encoded data removed]",
      "text/plain": [
       "<Figure size 600x200 with 4 Axes>"
      ]
     },
     "metadata": {},
     "output_type": "display_data"
    }
   ],
   "source": [
    "german = preprocess_image(german_path)\n",
    "indian = preprocess_image(indian_path)\n",
    "japanese = preprocess_image(japanese_path)\n",
    "spanish = preprocess_image(spanish_path)\n",
    "\n",
    "plt.figure(figsize=(6, 2))\n",
    "\n",
    "plt.subplot(1, 4, 1)\n",
    "plt.imshow(german)\n",
    "plt.axis('off')\n",
    "\n",
    "plt.subplot(1, 4, 2)\n",
    "plt.imshow(indian)\n",
    "plt.axis('off')\n",
    "\n",
    "plt.subplot(1, 4, 3)\n",
    "plt.imshow(japanese)\n",
    "plt.axis('off')\n",
    "\n",
    "plt.subplot(1, 4, 4)\n",
    "plt.imshow(spanish)\n",
    "plt.axis('off')\n",
    "\n",
    "plt.show()"
   ]
  },
  {
   "cell_type": "code",
   "execution_count": null,
   "metadata": {
    "colab": {
     "base_uri": "https://localhost:8080/"
    },
    "id": "ta446RLtJ0P5",
    "outputId": "c67b2a2e-9e6b-4e37-fda0-d5a08fcc44fb"
   },
   "outputs": [
    {
     "name": "stdout",
     "output_type": "stream",
     "text": [
      "1/1 [==============================] - 0s 135ms/step\n",
      "Predicted class for sample 1 is Spanish with confidence 0.9472328424453735\n",
      "Predicted class for sample 2 is Spanish with confidence 0.9472336173057556\n",
      "Predicted class for sample 3 is Spanish with confidence 0.9472370147705078\n",
      "Predicted class for sample 4 is Spanish with confidence 0.9472368359565735\n"
     ]
    }
   ],
   "source": [
    "german_normalized = german / 255.0\n",
    "indian_normalized = indian / 255.0\n",
    "japanese_normalized = japanese / 255.0\n",
    "spanish_normalized = spanish / 255.0\n",
    "\n",
    "# Suponha que você tenha um conjunto de dados com todas as imagens\n",
    "all_images = np.array([german_normalized, indian_normalized, japanese_normalized, spanish_normalized])\n",
    "\n",
    "# Use a função predict diretamente no conjunto de dados\n",
    "all_predictions = model.predict(all_images)\n",
    "\n",
    "threshold = 0.5  # Escolha um valor de limiar adequado\n",
    "\n",
    "# Lista de nomes de labels correspondentes aos índices previstos\n",
    "label_names = ['German', 'Indian', 'Japanese', 'Spanish']\n",
    "\n",
    "# Iterar sobre as previsões para cada classe\n",
    "for i, predictions in enumerate(all_predictions):\n",
    "    predicted_class = np.argmax(predictions)\n",
    "    confidence = predictions[predicted_class]\n",
    "    predicted_label = label_names[predicted_class]\n",
    "\n",
    "    if confidence > threshold:\n",
    "        print(f'Predicted class for sample {i + 1} is {predicted_label} with confidence {confidence}')\n",
    "    else:\n",
    "        print(f'Sample {i + 1} is None of the above')"
   ]
  }
 ],
 "metadata": {
  "accelerator": "GPU",
  "colab": {
   "collapsed_sections": [
    "qnrp1Wu3ZFK_",
    "9Zzbt5jzbcBa",
    "xkjWKCKBkVtF",
    "aYHzzr4ijvbK",
    "YkXkUHfVW2hX",
    "hVqlj_J8XEXc",
    "NSs9A3HV7n2O"
   ],
   "gpuType": "T4",
   "provenance": []
  },
  "kernelspec": {
   "display_name": "Python 3 (ipykernel)",
   "language": "python",
   "name": "python3"
  },
  "language_info": {
   "codemirror_mode": {
    "name": "ipython",
    "version": 3
   },
   "file_extension": ".py",
   "mimetype": "text/x-python",
   "name": "python",
   "nbconvert_exporter": "python",
   "pygments_lexer": "ipython3",
   "version": "3.9.18"
  }
 },
 "nbformat": 4,
 "nbformat_minor": 4
}
